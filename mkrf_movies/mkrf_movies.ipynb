{
 "cells": [
  {
   "cell_type": "markdown",
   "metadata": {},
   "source": [
    "<div class=\"alert alert-info\">\n",
    "    \n",
    "**Заказчик этого исследования — Министерство культуры Российской Федерации**.\n",
    "    \n",
    "Нам необходимо изучить рынок российского кинопроката и выявить текущие тренды. Уделить особое внимание фильмам, которые получили государственную поддержку. Попробывать ответить на вопрос, насколько такие фильмы интересны зрителю.\n",
    "    \n",
    "Мы будете работать с данными, опубликованными на портале открытых данных **Министерства культуры**. Набор данных содержит информацию о прокатных удостоверениях, сборах и государственной поддержке фильмов, а также информацию с сайта **КиноПоиск**. \n",
    "\n",
    "</div>"
   ]
  },
  {
   "cell_type": "markdown",
   "metadata": {
    "id": "sIfNaMOxgFyK"
   },
   "source": [
    "## Исследование данных о российском кинопрокате\n",
    "\n"
   ]
  },
  {
   "cell_type": "markdown",
   "metadata": {
    "id": "3bSlkCsbgFyL"
   },
   "source": [
    "### Шаг 1. Откроем файлы с данными и объединим их в один датафрейм. "
   ]
  },
  {
   "cell_type": "code",
   "execution_count": 1,
   "metadata": {
    "id": "dw87FlzMgFyM"
   },
   "outputs": [
    {
     "data": {
      "text/html": [
       "<div>\n",
       "<style scoped>\n",
       "    .dataframe tbody tr th:only-of-type {\n",
       "        vertical-align: middle;\n",
       "    }\n",
       "\n",
       "    .dataframe tbody tr th {\n",
       "        vertical-align: top;\n",
       "    }\n",
       "\n",
       "    .dataframe thead th {\n",
       "        text-align: right;\n",
       "    }\n",
       "</style>\n",
       "<table border=\"1\" class=\"dataframe\">\n",
       "  <thead>\n",
       "    <tr style=\"text-align: right;\">\n",
       "      <th></th>\n",
       "      <th>title</th>\n",
       "      <th>puNumber</th>\n",
       "      <th>show_start_date</th>\n",
       "      <th>type</th>\n",
       "      <th>film_studio</th>\n",
       "      <th>production_country</th>\n",
       "      <th>director</th>\n",
       "      <th>producer</th>\n",
       "      <th>age_restriction</th>\n",
       "      <th>refundable_support</th>\n",
       "      <th>nonrefundable_support</th>\n",
       "      <th>budget</th>\n",
       "      <th>financing_source</th>\n",
       "      <th>ratings</th>\n",
       "      <th>genres</th>\n",
       "    </tr>\n",
       "  </thead>\n",
       "  <tbody>\n",
       "    <tr>\n",
       "      <th>0</th>\n",
       "      <td>Открытый простор</td>\n",
       "      <td>221048915</td>\n",
       "      <td>2015-11-27T12:00:00.000Z</td>\n",
       "      <td>Художественный</td>\n",
       "      <td>Тачстоун Пикчерз, Кобальт Пикчерз, Бикон Пикче...</td>\n",
       "      <td>США</td>\n",
       "      <td>Кевин Костнер</td>\n",
       "      <td>Дэвид Валдес, Кевин Костнер, Джейк Эбертс</td>\n",
       "      <td>«18+» - запрещено для детей</td>\n",
       "      <td>NaN</td>\n",
       "      <td>NaN</td>\n",
       "      <td>NaN</td>\n",
       "      <td>NaN</td>\n",
       "      <td>7.2</td>\n",
       "      <td>боевик,драма,мелодрама</td>\n",
       "    </tr>\n",
       "    <tr>\n",
       "      <th>1</th>\n",
       "      <td>Особо важное задание</td>\n",
       "      <td>111013716</td>\n",
       "      <td>2016-09-13T12:00:00.000Z</td>\n",
       "      <td>Художественный</td>\n",
       "      <td>Киностудия \"Мосфильм\"</td>\n",
       "      <td>СССР</td>\n",
       "      <td>Е.Матвеев</td>\n",
       "      <td>NaN</td>\n",
       "      <td>«6+» - для детей старше 6 лет</td>\n",
       "      <td>NaN</td>\n",
       "      <td>NaN</td>\n",
       "      <td>NaN</td>\n",
       "      <td>NaN</td>\n",
       "      <td>6.6</td>\n",
       "      <td>драма,военный</td>\n",
       "    </tr>\n",
       "    <tr>\n",
       "      <th>2</th>\n",
       "      <td>Особо опасен</td>\n",
       "      <td>221038416</td>\n",
       "      <td>2016-10-10T12:00:00.000Z</td>\n",
       "      <td>Художественный</td>\n",
       "      <td>Юниверсал Пикчерз, Кикстарт Продакшнз, Марк Пл...</td>\n",
       "      <td>США</td>\n",
       "      <td>Тимур Бекмамбетов</td>\n",
       "      <td>Джим Лемли, Джейсон Нетер, Марк Е.Платт, Яйн Смит</td>\n",
       "      <td>«18+» - запрещено для детей</td>\n",
       "      <td>NaN</td>\n",
       "      <td>NaN</td>\n",
       "      <td>NaN</td>\n",
       "      <td>NaN</td>\n",
       "      <td>6.8</td>\n",
       "      <td>фантастика,боевик,триллер</td>\n",
       "    </tr>\n",
       "    <tr>\n",
       "      <th>3</th>\n",
       "      <td>Особо опасен</td>\n",
       "      <td>221026916</td>\n",
       "      <td>2016-06-10T12:00:00.000Z</td>\n",
       "      <td>Художественный</td>\n",
       "      <td>Юниверсал Пикчерз, Кикстарт Продакшнз, Марк Пл...</td>\n",
       "      <td>США</td>\n",
       "      <td>Тимур Бекмамбетов</td>\n",
       "      <td>Джим Лемли, Джейсон Нетер, Марк Е.Платт, Яйн Смит</td>\n",
       "      <td>«18+» - запрещено для детей</td>\n",
       "      <td>NaN</td>\n",
       "      <td>NaN</td>\n",
       "      <td>NaN</td>\n",
       "      <td>NaN</td>\n",
       "      <td>6.8</td>\n",
       "      <td>фантастика,боевик,триллер</td>\n",
       "    </tr>\n",
       "    <tr>\n",
       "      <th>4</th>\n",
       "      <td>Особо опасен</td>\n",
       "      <td>221030815</td>\n",
       "      <td>2015-07-29T12:00:00.000Z</td>\n",
       "      <td>Художественный</td>\n",
       "      <td>Юниверсал Пикчерз, Кикстарт Продакшнз, Марк Пл...</td>\n",
       "      <td>США</td>\n",
       "      <td>Тимур Бекмамбетов</td>\n",
       "      <td>Джим Лемли, Джейсон Нетер, Марк Е.Платт, Яйн Смит</td>\n",
       "      <td>«18+» - запрещено для детей</td>\n",
       "      <td>NaN</td>\n",
       "      <td>NaN</td>\n",
       "      <td>NaN</td>\n",
       "      <td>NaN</td>\n",
       "      <td>6.8</td>\n",
       "      <td>фантастика,боевик,триллер</td>\n",
       "    </tr>\n",
       "  </tbody>\n",
       "</table>\n",
       "</div>"
      ],
      "text/plain": [
       "                  title   puNumber           show_start_date            type  \\\n",
       "0      Открытый простор  221048915  2015-11-27T12:00:00.000Z  Художественный   \n",
       "1  Особо важное задание  111013716  2016-09-13T12:00:00.000Z  Художественный   \n",
       "2          Особо опасен  221038416  2016-10-10T12:00:00.000Z  Художественный   \n",
       "3          Особо опасен  221026916  2016-06-10T12:00:00.000Z  Художественный   \n",
       "4          Особо опасен  221030815  2015-07-29T12:00:00.000Z  Художественный   \n",
       "\n",
       "                                         film_studio production_country  \\\n",
       "0  Тачстоун Пикчерз, Кобальт Пикчерз, Бикон Пикче...                США   \n",
       "1                              Киностудия \"Мосфильм\"               СССР   \n",
       "2  Юниверсал Пикчерз, Кикстарт Продакшнз, Марк Пл...                США   \n",
       "3  Юниверсал Пикчерз, Кикстарт Продакшнз, Марк Пл...                США   \n",
       "4  Юниверсал Пикчерз, Кикстарт Продакшнз, Марк Пл...                США   \n",
       "\n",
       "            director                                           producer  \\\n",
       "0      Кевин Костнер          Дэвид Валдес, Кевин Костнер, Джейк Эбертс   \n",
       "1          Е.Матвеев                                                NaN   \n",
       "2  Тимур Бекмамбетов  Джим Лемли, Джейсон Нетер, Марк Е.Платт, Яйн Смит   \n",
       "3  Тимур Бекмамбетов  Джим Лемли, Джейсон Нетер, Марк Е.Платт, Яйн Смит   \n",
       "4  Тимур Бекмамбетов  Джим Лемли, Джейсон Нетер, Марк Е.Платт, Яйн Смит   \n",
       "\n",
       "                 age_restriction  refundable_support  nonrefundable_support  \\\n",
       "0    «18+» - запрещено для детей                 NaN                    NaN   \n",
       "1  «6+» - для детей старше 6 лет                 NaN                    NaN   \n",
       "2    «18+» - запрещено для детей                 NaN                    NaN   \n",
       "3    «18+» - запрещено для детей                 NaN                    NaN   \n",
       "4    «18+» - запрещено для детей                 NaN                    NaN   \n",
       "\n",
       "   budget financing_source ratings                     genres  \n",
       "0     NaN              NaN     7.2     боевик,драма,мелодрама  \n",
       "1     NaN              NaN     6.6              драма,военный  \n",
       "2     NaN              NaN     6.8  фантастика,боевик,триллер  \n",
       "3     NaN              NaN     6.8  фантастика,боевик,триллер  \n",
       "4     NaN              NaN     6.8  фантастика,боевик,триллер  "
      ]
     },
     "metadata": {},
     "output_type": "display_data"
    }
   ],
   "source": [
    "import matplotlib.pyplot as plt # импортируем библиотеку matplotlib для будущих графиков\n",
    "import pandas as pd # импортируем библиотеку pandas \n",
    "import numpy as np # импортируем библиотеку numpy\n",
    "import seaborn as sns # импортируем библиотеку seaborn\n",
    "from IPython.display import display # импортируем библиотеку display для вывода таблиц\n",
    "pd.set_option('display.float_format', '{:.1f}'.format)\n",
    "mkrf_movies = pd.read_csv('/datasets/mkrf_movies.csv') # создадим переменную по имени файла\n",
    "display(mkrf_movies.head(5))"
   ]
  },
  {
   "cell_type": "markdown",
   "metadata": {},
   "source": [
    "<div class=\"alert alert-info\">\n",
    "    \n",
    "Импортировали библиотеки `matplotlib.pyplot`, `pandas`, `numpy` и `IPython.display`. Далее создадим переменную `mkrf_movies` по имени файла и выведем первые **5** строк датафрейма. Данные распределены по **15** колонкам:\n",
    "- `title` - *название фильма*\n",
    "- `puNumber` - *номер прокатного удостоверения* \n",
    "- `show_start_date` - *дата премьеры фильма*\n",
    "- `type` - *тип фильма*\n",
    "- `film_studio` - *студия-производитель*\n",
    "- `production_country` - *страна-производитель*\n",
    "- `director` - *режиссёр*\n",
    "- `producer` - *продюсер*\n",
    "- `age_restriction` - *возрастная категория*\n",
    "- `refundable_support` - *объём возвратных средств государственной поддержки*\n",
    "- `nonrefundable_support` - *объём невозвратных средств государственной поддержки*\n",
    "- `budget` - *общий бюджет фильма*\n",
    "- `financing_source` - *источник государственного финансирования*\n",
    "- `ratings` - *рейтинг фильма на КиноПоиске*\n",
    "- `genres` - *жанр фильма*\n",
    "\n",
    "</div>"
   ]
  },
  {
   "cell_type": "code",
   "execution_count": 2,
   "metadata": {},
   "outputs": [
    {
     "name": "stdout",
     "output_type": "stream",
     "text": [
      "<class 'pandas.core.frame.DataFrame'>\n",
      "RangeIndex: 7486 entries, 0 to 7485\n",
      "Data columns (total 15 columns):\n",
      " #   Column                 Non-Null Count  Dtype  \n",
      "---  ------                 --------------  -----  \n",
      " 0   title                  7486 non-null   object \n",
      " 1   puNumber               7486 non-null   object \n",
      " 2   show_start_date        7486 non-null   object \n",
      " 3   type                   7486 non-null   object \n",
      " 4   film_studio            7468 non-null   object \n",
      " 5   production_country     7484 non-null   object \n",
      " 6   director               7477 non-null   object \n",
      " 7   producer               6918 non-null   object \n",
      " 8   age_restriction        7486 non-null   object \n",
      " 9   refundable_support     332 non-null    float64\n",
      " 10  nonrefundable_support  332 non-null    float64\n",
      " 11  budget                 332 non-null    float64\n",
      " 12  financing_source       332 non-null    object \n",
      " 13  ratings                6519 non-null   object \n",
      " 14  genres                 6510 non-null   object \n",
      "dtypes: float64(3), object(12)\n",
      "memory usage: 877.4+ KB\n"
     ]
    }
   ],
   "source": [
    "mkrf_movies.info()"
   ]
  },
  {
   "cell_type": "markdown",
   "metadata": {},
   "source": [
    "<div class=\"alert alert-info\">\n",
    "    \n",
    "Выведем информацию о датафрейме. Количество строк **7486**. Тип данных в основном `object`, в дальнейшем по каждой колонке разберемся отдельно.\n",
    "\n",
    "</div>"
   ]
  },
  {
   "cell_type": "code",
   "execution_count": 3,
   "metadata": {},
   "outputs": [
    {
     "data": {
      "text/html": [
       "<div>\n",
       "<style scoped>\n",
       "    .dataframe tbody tr th:only-of-type {\n",
       "        vertical-align: middle;\n",
       "    }\n",
       "\n",
       "    .dataframe tbody tr th {\n",
       "        vertical-align: top;\n",
       "    }\n",
       "\n",
       "    .dataframe thead th {\n",
       "        text-align: right;\n",
       "    }\n",
       "</style>\n",
       "<table border=\"1\" class=\"dataframe\">\n",
       "  <thead>\n",
       "    <tr style=\"text-align: right;\">\n",
       "      <th></th>\n",
       "      <th>puNumber</th>\n",
       "      <th>box_office</th>\n",
       "    </tr>\n",
       "  </thead>\n",
       "  <tbody>\n",
       "    <tr>\n",
       "      <th>0</th>\n",
       "      <td>111000113</td>\n",
       "      <td>2450.0</td>\n",
       "    </tr>\n",
       "    <tr>\n",
       "      <th>1</th>\n",
       "      <td>111000115</td>\n",
       "      <td>61040.0</td>\n",
       "    </tr>\n",
       "    <tr>\n",
       "      <th>2</th>\n",
       "      <td>111000116</td>\n",
       "      <td>153030013.4</td>\n",
       "    </tr>\n",
       "    <tr>\n",
       "      <th>3</th>\n",
       "      <td>111000117</td>\n",
       "      <td>12260956.0</td>\n",
       "    </tr>\n",
       "    <tr>\n",
       "      <th>4</th>\n",
       "      <td>111000118</td>\n",
       "      <td>163684057.8</td>\n",
       "    </tr>\n",
       "    <tr>\n",
       "      <th>5</th>\n",
       "      <td>111000119</td>\n",
       "      <td>4293649.5</td>\n",
       "    </tr>\n",
       "    <tr>\n",
       "      <th>6</th>\n",
       "      <td>111000212</td>\n",
       "      <td>200.0</td>\n",
       "    </tr>\n",
       "    <tr>\n",
       "      <th>7</th>\n",
       "      <td>111000216</td>\n",
       "      <td>355567.0</td>\n",
       "    </tr>\n",
       "    <tr>\n",
       "      <th>8</th>\n",
       "      <td>111000313</td>\n",
       "      <td>710.0</td>\n",
       "    </tr>\n",
       "    <tr>\n",
       "      <th>9</th>\n",
       "      <td>111000314</td>\n",
       "      <td>1607970.0</td>\n",
       "    </tr>\n",
       "  </tbody>\n",
       "</table>\n",
       "</div>"
      ],
      "text/plain": [
       "    puNumber  box_office\n",
       "0  111000113      2450.0\n",
       "1  111000115     61040.0\n",
       "2  111000116 153030013.4\n",
       "3  111000117  12260956.0\n",
       "4  111000118 163684057.8\n",
       "5  111000119   4293649.5\n",
       "6  111000212       200.0\n",
       "7  111000216    355567.0\n",
       "8  111000313       710.0\n",
       "9  111000314   1607970.0"
      ]
     },
     "metadata": {},
     "output_type": "display_data"
    }
   ],
   "source": [
    "mkrf_shows = pd.read_csv('/datasets/mkrf_shows.csv')\n",
    "display(mkrf_shows.head(10))"
   ]
  },
  {
   "cell_type": "markdown",
   "metadata": {},
   "source": [
    "<div class=\"alert alert-info\">\n",
    "    \n",
    "Создадим переменную `mkrf_shows` по имени файла и выведем первые **10** строк датафрейма. Данные распределены по **2** колонкам:\n",
    "- `puNumber` - *номер прокатного удостоверения*\n",
    "- `box_office` - *сборы в рублях*\n",
    "\n",
    "</div>"
   ]
  },
  {
   "cell_type": "code",
   "execution_count": 4,
   "metadata": {},
   "outputs": [
    {
     "name": "stdout",
     "output_type": "stream",
     "text": [
      "<class 'pandas.core.frame.DataFrame'>\n",
      "RangeIndex: 3158 entries, 0 to 3157\n",
      "Data columns (total 2 columns):\n",
      " #   Column      Non-Null Count  Dtype  \n",
      "---  ------      --------------  -----  \n",
      " 0   puNumber    3158 non-null   int64  \n",
      " 1   box_office  3158 non-null   float64\n",
      "dtypes: float64(1), int64(1)\n",
      "memory usage: 49.5 KB\n"
     ]
    }
   ],
   "source": [
    "mkrf_shows.info()"
   ]
  },
  {
   "cell_type": "markdown",
   "metadata": {},
   "source": [
    "<div class=\"alert alert-info\">\n",
    "    \n",
    "Выведем информацию о датафрейме. Количество строк **3158**. Тип данных `int64` и `float64`.\n",
    "\n",
    "</div>"
   ]
  },
  {
   "cell_type": "code",
   "execution_count": 5,
   "metadata": {
    "scrolled": true
   },
   "outputs": [
    {
     "data": {
      "text/html": [
       "<div>\n",
       "<style scoped>\n",
       "    .dataframe tbody tr th:only-of-type {\n",
       "        vertical-align: middle;\n",
       "    }\n",
       "\n",
       "    .dataframe tbody tr th {\n",
       "        vertical-align: top;\n",
       "    }\n",
       "\n",
       "    .dataframe thead th {\n",
       "        text-align: right;\n",
       "    }\n",
       "</style>\n",
       "<table border=\"1\" class=\"dataframe\">\n",
       "  <thead>\n",
       "    <tr style=\"text-align: right;\">\n",
       "      <th></th>\n",
       "      <th>title</th>\n",
       "      <th>puNumber</th>\n",
       "      <th>show_start_date</th>\n",
       "      <th>type</th>\n",
       "      <th>film_studio</th>\n",
       "      <th>production_country</th>\n",
       "      <th>director</th>\n",
       "      <th>producer</th>\n",
       "      <th>age_restriction</th>\n",
       "      <th>refundable_support</th>\n",
       "      <th>nonrefundable_support</th>\n",
       "      <th>budget</th>\n",
       "      <th>financing_source</th>\n",
       "      <th>ratings</th>\n",
       "      <th>genres</th>\n",
       "    </tr>\n",
       "  </thead>\n",
       "  <tbody>\n",
       "    <tr>\n",
       "      <th>1797</th>\n",
       "      <td>Курбан-роман. (История с жертвой)</td>\n",
       "      <td>нет</td>\n",
       "      <td>2014-05-15T12:00:00.000Z</td>\n",
       "      <td>Художественный</td>\n",
       "      <td>ФОНД \"ИННОВАЦИЯ\"</td>\n",
       "      <td>Россия</td>\n",
       "      <td>С.Юзеев</td>\n",
       "      <td>М.Галицкая</td>\n",
       "      <td>«12+» - для детей старше 12 лет</td>\n",
       "      <td>NaN</td>\n",
       "      <td>NaN</td>\n",
       "      <td>NaN</td>\n",
       "      <td>NaN</td>\n",
       "      <td>NaN</td>\n",
       "      <td>NaN</td>\n",
       "    </tr>\n",
       "  </tbody>\n",
       "</table>\n",
       "</div>"
      ],
      "text/plain": [
       "                                  title puNumber           show_start_date  \\\n",
       "1797  Курбан-роман. (История с жертвой)      нет  2014-05-15T12:00:00.000Z   \n",
       "\n",
       "                type       film_studio production_country director  \\\n",
       "1797  Художественный  ФОНД \"ИННОВАЦИЯ\"             Россия  С.Юзеев   \n",
       "\n",
       "        producer                  age_restriction  refundable_support  \\\n",
       "1797  М.Галицкая  «12+» - для детей старше 12 лет                 NaN   \n",
       "\n",
       "      nonrefundable_support  budget financing_source ratings genres  \n",
       "1797                    NaN     NaN              NaN     NaN    NaN  "
      ]
     },
     "metadata": {},
     "output_type": "display_data"
    }
   ],
   "source": [
    "display(mkrf_movies[mkrf_movies['puNumber']=='нет'])"
   ]
  },
  {
   "cell_type": "markdown",
   "metadata": {},
   "source": [
    "<div class=\"alert alert-info\">\n",
    "    \n",
    "При попытке поменять тип колонки `puNumber` выдало ошибку в которой было указано наличие строки с именем `\"нет\"`. Найдем ее и выведем для анализа. Она одна, поэтому проще от нее избавится.\n",
    "\n",
    "</div>"
   ]
  },
  {
   "cell_type": "code",
   "execution_count": 6,
   "metadata": {},
   "outputs": [],
   "source": [
    "mkrf_movies.drop(labels= 1797, axis = 0, inplace = True)"
   ]
  },
  {
   "cell_type": "markdown",
   "metadata": {},
   "source": [
    "<div class=\"alert alert-info\">\n",
    "    \n",
    "Удалили строку **1797** и выровнили индексы.\n",
    "\n",
    "</div>"
   ]
  },
  {
   "cell_type": "code",
   "execution_count": 7,
   "metadata": {},
   "outputs": [],
   "source": [
    "mkrf_movies['puNumber'] = mkrf_movies['puNumber'].astype('int')"
   ]
  },
  {
   "cell_type": "markdown",
   "metadata": {},
   "source": [
    "<div class=\"alert alert-info\">\n",
    "    \n",
    "В колонке `puNumber` указаны значения номера прокатного удостоверения. Поэтому можно поменять тип колонки на `int`.\n",
    "\n",
    "</div>"
   ]
  },
  {
   "cell_type": "code",
   "execution_count": 8,
   "metadata": {},
   "outputs": [
    {
     "data": {
      "text/html": [
       "<div>\n",
       "<style scoped>\n",
       "    .dataframe tbody tr th:only-of-type {\n",
       "        vertical-align: middle;\n",
       "    }\n",
       "\n",
       "    .dataframe tbody tr th {\n",
       "        vertical-align: top;\n",
       "    }\n",
       "\n",
       "    .dataframe thead th {\n",
       "        text-align: right;\n",
       "    }\n",
       "</style>\n",
       "<table border=\"1\" class=\"dataframe\">\n",
       "  <thead>\n",
       "    <tr style=\"text-align: right;\">\n",
       "      <th></th>\n",
       "      <th>title</th>\n",
       "      <th>puNumber</th>\n",
       "      <th>show_start_date</th>\n",
       "      <th>type</th>\n",
       "      <th>film_studio</th>\n",
       "      <th>production_country</th>\n",
       "      <th>director</th>\n",
       "      <th>producer</th>\n",
       "      <th>age_restriction</th>\n",
       "      <th>refundable_support</th>\n",
       "      <th>nonrefundable_support</th>\n",
       "      <th>budget</th>\n",
       "      <th>financing_source</th>\n",
       "      <th>ratings</th>\n",
       "      <th>genres</th>\n",
       "      <th>box_office</th>\n",
       "    </tr>\n",
       "  </thead>\n",
       "  <tbody>\n",
       "    <tr>\n",
       "      <th>0</th>\n",
       "      <td>Открытый простор</td>\n",
       "      <td>221048915</td>\n",
       "      <td>2015-11-27T12:00:00.000Z</td>\n",
       "      <td>Художественный</td>\n",
       "      <td>Тачстоун Пикчерз, Кобальт Пикчерз, Бикон Пикче...</td>\n",
       "      <td>США</td>\n",
       "      <td>Кевин Костнер</td>\n",
       "      <td>Дэвид Валдес, Кевин Костнер, Джейк Эбертс</td>\n",
       "      <td>«18+» - запрещено для детей</td>\n",
       "      <td>NaN</td>\n",
       "      <td>NaN</td>\n",
       "      <td>NaN</td>\n",
       "      <td>NaN</td>\n",
       "      <td>7.2</td>\n",
       "      <td>боевик,драма,мелодрама</td>\n",
       "      <td>NaN</td>\n",
       "    </tr>\n",
       "    <tr>\n",
       "      <th>1</th>\n",
       "      <td>Особо важное задание</td>\n",
       "      <td>111013716</td>\n",
       "      <td>2016-09-13T12:00:00.000Z</td>\n",
       "      <td>Художественный</td>\n",
       "      <td>Киностудия \"Мосфильм\"</td>\n",
       "      <td>СССР</td>\n",
       "      <td>Е.Матвеев</td>\n",
       "      <td>NaN</td>\n",
       "      <td>«6+» - для детей старше 6 лет</td>\n",
       "      <td>NaN</td>\n",
       "      <td>NaN</td>\n",
       "      <td>NaN</td>\n",
       "      <td>NaN</td>\n",
       "      <td>6.6</td>\n",
       "      <td>драма,военный</td>\n",
       "      <td>NaN</td>\n",
       "    </tr>\n",
       "    <tr>\n",
       "      <th>2</th>\n",
       "      <td>Особо опасен</td>\n",
       "      <td>221038416</td>\n",
       "      <td>2016-10-10T12:00:00.000Z</td>\n",
       "      <td>Художественный</td>\n",
       "      <td>Юниверсал Пикчерз, Кикстарт Продакшнз, Марк Пл...</td>\n",
       "      <td>США</td>\n",
       "      <td>Тимур Бекмамбетов</td>\n",
       "      <td>Джим Лемли, Джейсон Нетер, Марк Е.Платт, Яйн Смит</td>\n",
       "      <td>«18+» - запрещено для детей</td>\n",
       "      <td>NaN</td>\n",
       "      <td>NaN</td>\n",
       "      <td>NaN</td>\n",
       "      <td>NaN</td>\n",
       "      <td>6.8</td>\n",
       "      <td>фантастика,боевик,триллер</td>\n",
       "      <td>NaN</td>\n",
       "    </tr>\n",
       "    <tr>\n",
       "      <th>3</th>\n",
       "      <td>Особо опасен</td>\n",
       "      <td>221026916</td>\n",
       "      <td>2016-06-10T12:00:00.000Z</td>\n",
       "      <td>Художественный</td>\n",
       "      <td>Юниверсал Пикчерз, Кикстарт Продакшнз, Марк Пл...</td>\n",
       "      <td>США</td>\n",
       "      <td>Тимур Бекмамбетов</td>\n",
       "      <td>Джим Лемли, Джейсон Нетер, Марк Е.Платт, Яйн Смит</td>\n",
       "      <td>«18+» - запрещено для детей</td>\n",
       "      <td>NaN</td>\n",
       "      <td>NaN</td>\n",
       "      <td>NaN</td>\n",
       "      <td>NaN</td>\n",
       "      <td>6.8</td>\n",
       "      <td>фантастика,боевик,триллер</td>\n",
       "      <td>NaN</td>\n",
       "    </tr>\n",
       "    <tr>\n",
       "      <th>4</th>\n",
       "      <td>Особо опасен</td>\n",
       "      <td>221030815</td>\n",
       "      <td>2015-07-29T12:00:00.000Z</td>\n",
       "      <td>Художественный</td>\n",
       "      <td>Юниверсал Пикчерз, Кикстарт Продакшнз, Марк Пл...</td>\n",
       "      <td>США</td>\n",
       "      <td>Тимур Бекмамбетов</td>\n",
       "      <td>Джим Лемли, Джейсон Нетер, Марк Е.Платт, Яйн Смит</td>\n",
       "      <td>«18+» - запрещено для детей</td>\n",
       "      <td>NaN</td>\n",
       "      <td>NaN</td>\n",
       "      <td>NaN</td>\n",
       "      <td>NaN</td>\n",
       "      <td>6.8</td>\n",
       "      <td>фантастика,боевик,триллер</td>\n",
       "      <td>NaN</td>\n",
       "    </tr>\n",
       "  </tbody>\n",
       "</table>\n",
       "</div>"
      ],
      "text/plain": [
       "                  title   puNumber           show_start_date            type  \\\n",
       "0      Открытый простор  221048915  2015-11-27T12:00:00.000Z  Художественный   \n",
       "1  Особо важное задание  111013716  2016-09-13T12:00:00.000Z  Художественный   \n",
       "2          Особо опасен  221038416  2016-10-10T12:00:00.000Z  Художественный   \n",
       "3          Особо опасен  221026916  2016-06-10T12:00:00.000Z  Художественный   \n",
       "4          Особо опасен  221030815  2015-07-29T12:00:00.000Z  Художественный   \n",
       "\n",
       "                                         film_studio production_country  \\\n",
       "0  Тачстоун Пикчерз, Кобальт Пикчерз, Бикон Пикче...                США   \n",
       "1                              Киностудия \"Мосфильм\"               СССР   \n",
       "2  Юниверсал Пикчерз, Кикстарт Продакшнз, Марк Пл...                США   \n",
       "3  Юниверсал Пикчерз, Кикстарт Продакшнз, Марк Пл...                США   \n",
       "4  Юниверсал Пикчерз, Кикстарт Продакшнз, Марк Пл...                США   \n",
       "\n",
       "            director                                           producer  \\\n",
       "0      Кевин Костнер          Дэвид Валдес, Кевин Костнер, Джейк Эбертс   \n",
       "1          Е.Матвеев                                                NaN   \n",
       "2  Тимур Бекмамбетов  Джим Лемли, Джейсон Нетер, Марк Е.Платт, Яйн Смит   \n",
       "3  Тимур Бекмамбетов  Джим Лемли, Джейсон Нетер, Марк Е.Платт, Яйн Смит   \n",
       "4  Тимур Бекмамбетов  Джим Лемли, Джейсон Нетер, Марк Е.Платт, Яйн Смит   \n",
       "\n",
       "                 age_restriction  refundable_support  nonrefundable_support  \\\n",
       "0    «18+» - запрещено для детей                 NaN                    NaN   \n",
       "1  «6+» - для детей старше 6 лет                 NaN                    NaN   \n",
       "2    «18+» - запрещено для детей                 NaN                    NaN   \n",
       "3    «18+» - запрещено для детей                 NaN                    NaN   \n",
       "4    «18+» - запрещено для детей                 NaN                    NaN   \n",
       "\n",
       "   budget financing_source ratings                     genres  box_office  \n",
       "0     NaN              NaN     7.2     боевик,драма,мелодрама         NaN  \n",
       "1     NaN              NaN     6.6              драма,военный         NaN  \n",
       "2     NaN              NaN     6.8  фантастика,боевик,триллер         NaN  \n",
       "3     NaN              NaN     6.8  фантастика,боевик,триллер         NaN  \n",
       "4     NaN              NaN     6.8  фантастика,боевик,триллер         NaN  "
      ]
     },
     "metadata": {},
     "output_type": "display_data"
    }
   ],
   "source": [
    "# data = mkrf_movies.merge(mkrf_shows, on= 'puNumber', how='outer')\n",
    "data = mkrf_movies.merge(mkrf_shows, on= 'puNumber', how='left')\n",
    "display(data.head(5))"
   ]
  },
  {
   "cell_type": "markdown",
   "metadata": {},
   "source": [
    "<div class=\"alert alert-info\">\n",
    "    \n",
    "Методом `merge` объеденяем два датафрейма по колонке `puNumber` и записываем в новый датафрейм `data`. При объединении двух датафреймов, в первую очередь приследуем цель добавления параметра к исследуемым данным, поэтому применяем параметр `how=left`.  \n",
    "\n",
    "</div>"
   ]
  },
  {
   "cell_type": "code",
   "execution_count": 9,
   "metadata": {},
   "outputs": [
    {
     "name": "stdout",
     "output_type": "stream",
     "text": [
      "<class 'pandas.core.frame.DataFrame'>\n",
      "Int64Index: 7485 entries, 0 to 7484\n",
      "Data columns (total 16 columns):\n",
      " #   Column                 Non-Null Count  Dtype  \n",
      "---  ------                 --------------  -----  \n",
      " 0   title                  7485 non-null   object \n",
      " 1   puNumber               7485 non-null   int64  \n",
      " 2   show_start_date        7485 non-null   object \n",
      " 3   type                   7485 non-null   object \n",
      " 4   film_studio            7467 non-null   object \n",
      " 5   production_country     7483 non-null   object \n",
      " 6   director               7476 non-null   object \n",
      " 7   producer               6917 non-null   object \n",
      " 8   age_restriction        7485 non-null   object \n",
      " 9   refundable_support     332 non-null    float64\n",
      " 10  nonrefundable_support  332 non-null    float64\n",
      " 11  budget                 332 non-null    float64\n",
      " 12  financing_source       332 non-null    object \n",
      " 13  ratings                6519 non-null   object \n",
      " 14  genres                 6510 non-null   object \n",
      " 15  box_office             3158 non-null   float64\n",
      "dtypes: float64(4), int64(1), object(11)\n",
      "memory usage: 994.1+ KB\n"
     ]
    }
   ],
   "source": [
    "data.info()"
   ]
  },
  {
   "cell_type": "markdown",
   "metadata": {},
   "source": [
    "<div class=\"alert alert-info\">\n",
    "    \n",
    "Еще раз выводим информацию по датафрейму. Строк стало на одну меньше, а колонок на одну больше.\n",
    "\n",
    "</div>"
   ]
  },
  {
   "cell_type": "markdown",
   "metadata": {
    "id": "KLDGpPG0gFyM"
   },
   "source": [
    "### Шаг 2. Предобработка данных"
   ]
  },
  {
   "cell_type": "code",
   "execution_count": 10,
   "metadata": {},
   "outputs": [],
   "source": [
    "data = data.rename(columns={'puNumber': 'punumber',})"
   ]
  },
  {
   "cell_type": "markdown",
   "metadata": {},
   "source": [
    "<div class=\"alert alert-info\">\n",
    "    \n",
    "Заменяем название колонки `puNumber`, приводим его к нижнему регистру.\n",
    "\n",
    "</div>"
   ]
  },
  {
   "cell_type": "markdown",
   "metadata": {
    "id": "ssWwKXsxgFyO"
   },
   "source": [
    "#### Шаг 2.1. Проверим типы данных"
   ]
  },
  {
   "cell_type": "code",
   "execution_count": 11,
   "metadata": {},
   "outputs": [
    {
     "data": {
      "text/plain": [
       "0   2015-11-27 12:00:00+00:00\n",
       "1   2016-09-13 12:00:00+00:00\n",
       "2   2016-10-10 12:00:00+00:00\n",
       "3   2016-06-10 12:00:00+00:00\n",
       "4   2015-07-29 12:00:00+00:00\n",
       "Name: show_start_date, dtype: datetime64[ns, UTC]"
      ]
     },
     "execution_count": 11,
     "metadata": {},
     "output_type": "execute_result"
    }
   ],
   "source": [
    "data['show_start_date'] = \\\n",
    "pd.to_datetime(data['show_start_date'], format='%Y-%m-%dT%H:%M:%S')\n",
    "data['show_start_date'].head(5)"
   ]
  },
  {
   "cell_type": "markdown",
   "metadata": {},
   "source": [
    "<div class=\"alert alert-info\">\n",
    "    \n",
    "В колонке `show_start_date` указана дата примьеры, поэтому можем заменяем тип с `object` на `datetime64`.\n",
    "\n",
    "</div>"
   ]
  },
  {
   "cell_type": "code",
   "execution_count": 12,
   "metadata": {},
   "outputs": [
    {
     "data": {
      "text/plain": [
       "array(['7.2', '6.6', '6.8', '7.7', '8.3', '8.0', '7.8', '8.1', '7.1',\n",
       "       '6.0', '7.4', '5.8', '8.7', '6.3', '6.9', '5.0', '4.3', '7.3',\n",
       "       '7.0', '6.4', nan, '8.2', '7.5', '6.7', '7.9', '5.9', '6.2', '5.6',\n",
       "       '6.5', '2.4', '7.6', '6.1', '8.6', '8.5', '8.8', '5.5', '5.1',\n",
       "       '5.7', '5.4', '99%', '4.4', '4.5', '5.3', '4.1', '8.4', '2.6',\n",
       "       '3.8', '4.6', '4.8', '4.0', '3.0', '1.6', '4.2', '5.2', '4.7',\n",
       "       '4.9', '3.9', '2.7', '3.3', '2.9', '28%', '3.7', '1.4', '3.1',\n",
       "       '97%', '3.5', '3.2', '2.8', '1.5', '2.1', '2.5', '9.2', '3.4',\n",
       "       '1.1', '3.6', '83%', '64%', '91%', '94%', '62%', '79%', '90%',\n",
       "       '19%', '88%', '1.0', '89%', '1.3', '1.9', '1.8', '1.2', '1.7',\n",
       "       '9.0', '98%', '8.9', '9.1'], dtype=object)"
      ]
     },
     "execution_count": 12,
     "metadata": {},
     "output_type": "execute_result"
    }
   ],
   "source": [
    "data['ratings'].unique()"
   ]
  },
  {
   "cell_type": "markdown",
   "metadata": {},
   "source": [
    "<div class=\"alert alert-info\">\n",
    "    \n",
    "В колонке `ratings` присутствуют значения со знаком **\"%\"**. Их переименуем приведем все значение к единому типу.\n",
    "\n",
    "</div>"
   ]
  },
  {
   "cell_type": "code",
   "execution_count": 13,
   "metadata": {},
   "outputs": [],
   "source": [
    "data['ratings'] = data['ratings'].replace('97%', '9.7')\n",
    "data['ratings'] = data['ratings'].replace('19%', '1.9')\n",
    "data['ratings'] = data['ratings'].replace('88%', '8.8')\n",
    "data['ratings'] = data['ratings'].replace('98%', '9.8')\n",
    "data['ratings'] = data['ratings'].replace('99%', '9.9')\n",
    "data['ratings'] = data['ratings'].replace('83%', '8.3')\n",
    "data['ratings'] = data['ratings'].replace('64%', '6.4')\n",
    "data['ratings'] = data['ratings'].replace('89%', '8.9')\n",
    "data['ratings'] = data['ratings'].replace('91%', '9.1')\n",
    "data['ratings'] = data['ratings'].replace('28%', '2.8')\n",
    "data['ratings'] = data['ratings'].replace('94%', '9.4')\n",
    "data['ratings'] = data['ratings'].replace('62%', '6.2')\n",
    "data['ratings'] = data['ratings'].replace('79%', '7.9')\n",
    "data['ratings'] = data['ratings'].replace('90%', '9.0')\n",
    "data['ratings'] = data['ratings'].astype('float')"
   ]
  },
  {
   "cell_type": "markdown",
   "metadata": {},
   "source": [
    "<div class=\"alert alert-info\">\n",
    "    \n",
    "Заменим значения с процентами, на значения в формате `float`.\n",
    "\n",
    "</div>"
   ]
  },
  {
   "cell_type": "code",
   "execution_count": 14,
   "metadata": {},
   "outputs": [
    {
     "data": {
      "text/plain": [
       "array([7.2, 6.6, 6.8, 7.7, 8.3, 8. , 7.8, 8.1, 7.1, 6. , 7.4, 5.8, 8.7,\n",
       "       6.3, 6.9, 5. , 4.3, 7.3, 7. , 6.4, nan, 8.2, 7.5, 6.7, 7.9, 5.9,\n",
       "       6.2, 5.6, 6.5, 2.4, 7.6, 6.1, 8.6, 8.5, 8.8, 5.5, 5.1, 5.7, 5.4,\n",
       "       9.9, 4.4, 4.5, 5.3, 4.1, 8.4, 2.6, 3.8, 4.6, 4.8, 4. , 3. , 1.6,\n",
       "       4.2, 5.2, 4.7, 4.9, 3.9, 2.7, 3.3, 2.9, 2.8, 3.7, 1.4, 3.1, 9.7,\n",
       "       3.5, 3.2, 1.5, 2.1, 2.5, 9.2, 3.4, 1.1, 3.6, 9.1, 9.4, 9. , 1.9,\n",
       "       1. , 8.9, 1.3, 1.8, 1.2, 1.7, 9.8])"
      ]
     },
     "execution_count": 14,
     "metadata": {},
     "output_type": "execute_result"
    }
   ],
   "source": [
    "data['ratings'].unique()"
   ]
  },
  {
   "cell_type": "markdown",
   "metadata": {},
   "source": [
    "<div class=\"alert alert-info\">\n",
    "    \n",
    "Проверяем. Все исправлено.\n",
    "\n",
    "</div>"
   ]
  },
  {
   "cell_type": "markdown",
   "metadata": {
    "id": "i0MOLbF-gFyP"
   },
   "source": [
    "#### Шаг 2.2. Изучите пропуски в датафрейме\n",
    "\n",
    "- Объясните, почему заполнили пропуски определённым образом или почему не стали этого делать."
   ]
  },
  {
   "cell_type": "code",
   "execution_count": 15,
   "metadata": {},
   "outputs": [
    {
     "data": {
      "text/plain": [
       "title                       0\n",
       "punumber                    0\n",
       "show_start_date             0\n",
       "type                        0\n",
       "film_studio                18\n",
       "production_country          2\n",
       "director                    9\n",
       "producer                  568\n",
       "age_restriction             0\n",
       "refundable_support       7153\n",
       "nonrefundable_support    7153\n",
       "budget                   7153\n",
       "financing_source         7153\n",
       "ratings                   966\n",
       "genres                    975\n",
       "box_office               4327\n",
       "dtype: int64"
      ]
     },
     "execution_count": 15,
     "metadata": {},
     "output_type": "execute_result"
    }
   ],
   "source": [
    "data.isna().sum()"
   ]
  },
  {
   "cell_type": "markdown",
   "metadata": {},
   "source": [
    "<div class=\"alert alert-info\">\n",
    "    \n",
    "Выведем общую информацию о пропусках по всему датафрейму. Далее посмотрим каждую колонку отдельно.\n",
    "\n",
    "</div>"
   ]
  },
  {
   "cell_type": "code",
   "execution_count": 16,
   "metadata": {
    "id": "8MJD_lkngFyP"
   },
   "outputs": [
    {
     "data": {
      "text/plain": [
       "0       Тачстоун Пикчерз, Кобальт Пикчерз, Бикон Пикче...\n",
       "1                                   Киностудия \"Мосфильм\"\n",
       "2       Юниверсал Пикчерз, Кикстарт Продакшнз, Марк Пл...\n",
       "3       Юниверсал Пикчерз, Кикстарт Продакшнз, Марк Пл...\n",
       "4       Юниверсал Пикчерз, Кикстарт Продакшнз, Марк Пл...\n",
       "                              ...                        \n",
       "7480                                 Севен Артс Продакшнз\n",
       "7481    Дэниел Гродник Продакшнз, Вандерфилм Медиа Кор...\n",
       "7482             Никелодеон Анимейшн Студиос, Спин Мастер\n",
       "7483             Анимаккорд Лтд., ООО Студия \"АНИМАККОРД\"\n",
       "7484             Анимаккорд Лтд., ООО Студия \"АНИМАККОРД\"\n",
       "Name: film_studio, Length: 7485, dtype: object"
      ]
     },
     "execution_count": 16,
     "metadata": {},
     "output_type": "execute_result"
    }
   ],
   "source": [
    "data['film_studio']"
   ]
  },
  {
   "cell_type": "markdown",
   "metadata": {},
   "source": [
    "<div class=\"alert alert-info\">\n",
    "    \n",
    "В колонке `film_studio` указан список киностудий принимавших участие в создании картины. Пропусков **18**, это около четверти процента. Поэтому их можно просто удалить.\n",
    "\n",
    "</div>"
   ]
  },
  {
   "cell_type": "code",
   "execution_count": 17,
   "metadata": {},
   "outputs": [
    {
     "data": {
      "text/plain": [
       "0                           США\n",
       "1                          СССР\n",
       "2                           США\n",
       "3                           США\n",
       "4                           США\n",
       "                 ...           \n",
       "7480             Великобритания\n",
       "7481                        США\n",
       "7482               США - Канада\n",
       "7483    Республика Кипр, Россия\n",
       "7484    Республика Кипр, Россия\n",
       "Name: production_country, Length: 7485, dtype: object"
      ]
     },
     "execution_count": 17,
     "metadata": {},
     "output_type": "execute_result"
    }
   ],
   "source": [
    "data['production_country']"
   ]
  },
  {
   "cell_type": "markdown",
   "metadata": {},
   "source": [
    "<div class=\"alert alert-info\">\n",
    "    \n",
    "В колонке `production_countryo` указан список стран принимавших участие в создании картины. Пропусков **2**, это очень маленькое и не существенное количество. Поэтому их можно просто удалить.\n",
    "\n",
    "</div>"
   ]
  },
  {
   "cell_type": "code",
   "execution_count": 18,
   "metadata": {},
   "outputs": [
    {
     "data": {
      "text/plain": [
       "0           Кевин Костнер\n",
       "1               Е.Матвеев\n",
       "2       Тимур Бекмамбетов\n",
       "3       Тимур Бекмамбетов\n",
       "4       Тимур Бекмамбетов\n",
       "              ...        \n",
       "7480          Фил Грабски\n",
       "7481           Ник Пауэлл\n",
       "7482     Чарльз Е.Бастьен\n",
       "7483             А.Беляев\n",
       "7484             И.Трусов\n",
       "Name: director, Length: 7485, dtype: object"
      ]
     },
     "execution_count": 18,
     "metadata": {},
     "output_type": "execute_result"
    }
   ],
   "source": [
    "data['director']"
   ]
  },
  {
   "cell_type": "markdown",
   "metadata": {},
   "source": [
    "<div class=\"alert alert-info\">\n",
    "    \n",
    "В колонке `director` указан режисер картины. Пропусков **9**, значение очень маленькое. Поэтому их можно просто удалить.\n",
    "\n",
    "</div>"
   ]
  },
  {
   "cell_type": "code",
   "execution_count": 19,
   "metadata": {},
   "outputs": [],
   "source": [
    "data = data.dropna(subset= ['film_studio', 'production_country', 'director'])"
   ]
  },
  {
   "cell_type": "markdown",
   "metadata": {},
   "source": [
    "<div class=\"alert alert-info\">\n",
    "    \n",
    "Методом `dropna` избавимся от пропусков в колонках `film_studio`, `production_country` и `director`.\n",
    "\n",
    "</div>"
   ]
  },
  {
   "cell_type": "code",
   "execution_count": 20,
   "metadata": {},
   "outputs": [
    {
     "data": {
      "text/plain": [
       "564"
      ]
     },
     "execution_count": 20,
     "metadata": {},
     "output_type": "execute_result"
    }
   ],
   "source": [
    "data['producer'].isna().sum()"
   ]
  },
  {
   "cell_type": "code",
   "execution_count": 21,
   "metadata": {},
   "outputs": [],
   "source": [
    "data['producer'] = data['producer'].fillna('нет_данных')"
   ]
  },
  {
   "cell_type": "markdown",
   "metadata": {},
   "source": [
    "<div class=\"alert alert-info\">\n",
    "    \n",
    "В колонке `producer` выявлено **564**, это **7,5%** от общей массы. В ней указан список продюсеров принимающих участие в создании картины. Не смотря на то, что значений не много, оставим их для анализа, а пропуски заменим указателем **\"нет_данных\"**.\n",
    "\n",
    "</div>"
   ]
  },
  {
   "cell_type": "code",
   "execution_count": 22,
   "metadata": {},
   "outputs": [
    {
     "data": {
      "text/plain": [
       "title                       0\n",
       "punumber                    0\n",
       "show_start_date             0\n",
       "type                        0\n",
       "film_studio                 0\n",
       "production_country          0\n",
       "director                    0\n",
       "producer                    0\n",
       "age_restriction             0\n",
       "refundable_support       7126\n",
       "nonrefundable_support    7126\n",
       "budget                   7126\n",
       "financing_source         7126\n",
       "ratings                   947\n",
       "genres                    956\n",
       "box_office               4303\n",
       "dtype: int64"
      ]
     },
     "execution_count": 22,
     "metadata": {},
     "output_type": "execute_result"
    }
   ],
   "source": [
    "data.isna().sum()"
   ]
  },
  {
   "cell_type": "markdown",
   "metadata": {},
   "source": [
    "<div class=\"alert alert-info\">\n",
    "    \n",
    "От небольших пропусков избавились, остальные будем анализировать дальше.\n",
    "\n",
    "</div>"
   ]
  },
  {
   "cell_type": "markdown",
   "metadata": {
    "id": "4c6k1t9ygFyQ"
   },
   "source": [
    "#### Шаг 2.3. Изучим дубликаты в датафрейме"
   ]
  },
  {
   "cell_type": "code",
   "execution_count": 23,
   "metadata": {},
   "outputs": [
    {
     "data": {
      "text/plain": [
       "0"
      ]
     },
     "execution_count": 23,
     "metadata": {},
     "output_type": "execute_result"
    }
   ],
   "source": [
    "data.duplicated().sum()"
   ]
  },
  {
   "cell_type": "markdown",
   "metadata": {},
   "source": [
    "<div class=\"alert alert-info\">\n",
    "    \n",
    "Проверили датафрейм на наличие дубликатов. Дубликатов нет. Хорошо.\n",
    "\n",
    "</div>"
   ]
  },
  {
   "cell_type": "code",
   "execution_count": 24,
   "metadata": {},
   "outputs": [
    {
     "data": {
      "text/plain": [
       "713"
      ]
     },
     "execution_count": 24,
     "metadata": {},
     "output_type": "execute_result"
    }
   ],
   "source": [
    "data['title'].duplicated().sum()"
   ]
  },
  {
   "cell_type": "markdown",
   "metadata": {},
   "source": [
    "<div class=\"alert alert-info\">\n",
    "    \n",
    "Проверили дубликаты в названиях картин, они связаны с тем, что на одну картину иногда выдают несколько прокатных удостоверений.\n",
    "\n",
    "</div>"
   ]
  },
  {
   "cell_type": "code",
   "execution_count": 25,
   "metadata": {},
   "outputs": [
    {
     "data": {
      "text/plain": [
       "0       False\n",
       "1       False\n",
       "2       False\n",
       "3        True\n",
       "4        True\n",
       "        ...  \n",
       "7480    False\n",
       "7481    False\n",
       "7482    False\n",
       "7483    False\n",
       "7484    False\n",
       "Name: title, Length: 7458, dtype: bool"
      ]
     },
     "execution_count": 25,
     "metadata": {},
     "output_type": "execute_result"
    }
   ],
   "source": [
    "data['title'].duplicated()"
   ]
  },
  {
   "cell_type": "code",
   "execution_count": 26,
   "metadata": {},
   "outputs": [
    {
     "data": {
      "text/html": [
       "<div>\n",
       "<style scoped>\n",
       "    .dataframe tbody tr th:only-of-type {\n",
       "        vertical-align: middle;\n",
       "    }\n",
       "\n",
       "    .dataframe tbody tr th {\n",
       "        vertical-align: top;\n",
       "    }\n",
       "\n",
       "    .dataframe thead th {\n",
       "        text-align: right;\n",
       "    }\n",
       "</style>\n",
       "<table border=\"1\" class=\"dataframe\">\n",
       "  <thead>\n",
       "    <tr style=\"text-align: right;\">\n",
       "      <th></th>\n",
       "      <th>title</th>\n",
       "      <th>punumber</th>\n",
       "      <th>show_start_date</th>\n",
       "      <th>type</th>\n",
       "      <th>film_studio</th>\n",
       "      <th>production_country</th>\n",
       "      <th>director</th>\n",
       "      <th>producer</th>\n",
       "      <th>age_restriction</th>\n",
       "      <th>refundable_support</th>\n",
       "      <th>nonrefundable_support</th>\n",
       "      <th>budget</th>\n",
       "      <th>financing_source</th>\n",
       "      <th>ratings</th>\n",
       "      <th>genres</th>\n",
       "      <th>box_office</th>\n",
       "    </tr>\n",
       "  </thead>\n",
       "  <tbody>\n",
       "    <tr>\n",
       "      <th>2</th>\n",
       "      <td>Особо опасен</td>\n",
       "      <td>221038416</td>\n",
       "      <td>2016-10-10 12:00:00+00:00</td>\n",
       "      <td>Художественный</td>\n",
       "      <td>Юниверсал Пикчерз, Кикстарт Продакшнз, Марк Пл...</td>\n",
       "      <td>США</td>\n",
       "      <td>Тимур Бекмамбетов</td>\n",
       "      <td>Джим Лемли, Джейсон Нетер, Марк Е.Платт, Яйн Смит</td>\n",
       "      <td>«18+» - запрещено для детей</td>\n",
       "      <td>NaN</td>\n",
       "      <td>NaN</td>\n",
       "      <td>NaN</td>\n",
       "      <td>NaN</td>\n",
       "      <td>6.8</td>\n",
       "      <td>фантастика,боевик,триллер</td>\n",
       "      <td>NaN</td>\n",
       "    </tr>\n",
       "    <tr>\n",
       "      <th>3</th>\n",
       "      <td>Особо опасен</td>\n",
       "      <td>221026916</td>\n",
       "      <td>2016-06-10 12:00:00+00:00</td>\n",
       "      <td>Художественный</td>\n",
       "      <td>Юниверсал Пикчерз, Кикстарт Продакшнз, Марк Пл...</td>\n",
       "      <td>США</td>\n",
       "      <td>Тимур Бекмамбетов</td>\n",
       "      <td>Джим Лемли, Джейсон Нетер, Марк Е.Платт, Яйн Смит</td>\n",
       "      <td>«18+» - запрещено для детей</td>\n",
       "      <td>NaN</td>\n",
       "      <td>NaN</td>\n",
       "      <td>NaN</td>\n",
       "      <td>NaN</td>\n",
       "      <td>6.8</td>\n",
       "      <td>фантастика,боевик,триллер</td>\n",
       "      <td>NaN</td>\n",
       "    </tr>\n",
       "    <tr>\n",
       "      <th>4</th>\n",
       "      <td>Особо опасен</td>\n",
       "      <td>221030815</td>\n",
       "      <td>2015-07-29 12:00:00+00:00</td>\n",
       "      <td>Художественный</td>\n",
       "      <td>Юниверсал Пикчерз, Кикстарт Продакшнз, Марк Пл...</td>\n",
       "      <td>США</td>\n",
       "      <td>Тимур Бекмамбетов</td>\n",
       "      <td>Джим Лемли, Джейсон Нетер, Марк Е.Платт, Яйн Смит</td>\n",
       "      <td>«18+» - запрещено для детей</td>\n",
       "      <td>NaN</td>\n",
       "      <td>NaN</td>\n",
       "      <td>NaN</td>\n",
       "      <td>NaN</td>\n",
       "      <td>6.8</td>\n",
       "      <td>фантастика,боевик,триллер</td>\n",
       "      <td>NaN</td>\n",
       "    </tr>\n",
       "  </tbody>\n",
       "</table>\n",
       "</div>"
      ],
      "text/plain": [
       "          title   punumber           show_start_date            type  \\\n",
       "2  Особо опасен  221038416 2016-10-10 12:00:00+00:00  Художественный   \n",
       "3  Особо опасен  221026916 2016-06-10 12:00:00+00:00  Художественный   \n",
       "4  Особо опасен  221030815 2015-07-29 12:00:00+00:00  Художественный   \n",
       "\n",
       "                                         film_studio production_country  \\\n",
       "2  Юниверсал Пикчерз, Кикстарт Продакшнз, Марк Пл...                США   \n",
       "3  Юниверсал Пикчерз, Кикстарт Продакшнз, Марк Пл...                США   \n",
       "4  Юниверсал Пикчерз, Кикстарт Продакшнз, Марк Пл...                США   \n",
       "\n",
       "            director                                           producer  \\\n",
       "2  Тимур Бекмамбетов  Джим Лемли, Джейсон Нетер, Марк Е.Платт, Яйн Смит   \n",
       "3  Тимур Бекмамбетов  Джим Лемли, Джейсон Нетер, Марк Е.Платт, Яйн Смит   \n",
       "4  Тимур Бекмамбетов  Джим Лемли, Джейсон Нетер, Марк Е.Платт, Яйн Смит   \n",
       "\n",
       "               age_restriction  refundable_support  nonrefundable_support  \\\n",
       "2  «18+» - запрещено для детей                 NaN                    NaN   \n",
       "3  «18+» - запрещено для детей                 NaN                    NaN   \n",
       "4  «18+» - запрещено для детей                 NaN                    NaN   \n",
       "\n",
       "   budget financing_source  ratings                     genres  box_office  \n",
       "2     NaN              NaN      6.8  фантастика,боевик,триллер         NaN  \n",
       "3     NaN              NaN      6.8  фантастика,боевик,триллер         NaN  \n",
       "4     NaN              NaN      6.8  фантастика,боевик,триллер         NaN  "
      ]
     },
     "execution_count": 26,
     "metadata": {},
     "output_type": "execute_result"
    }
   ],
   "source": [
    "data[data['title']=='Особо опасен']"
   ]
  },
  {
   "cell_type": "markdown",
   "metadata": {},
   "source": [
    "<div class=\"alert alert-info\">\n",
    "    \n",
    "Посмотрим на типичный пример дубликата по названию. Отличия не только в номере прокатного удостоверения, но и в дате выхода в прокат. Остальные данные идентичны.\n",
    "\n",
    "</div>"
   ]
  },
  {
   "cell_type": "code",
   "execution_count": 27,
   "metadata": {},
   "outputs": [],
   "source": [
    "data = data.drop_duplicates(subset=['title'], keep='first')"
   ]
  },
  {
   "cell_type": "markdown",
   "metadata": {},
   "source": [
    "<div class=\"alert alert-info\">\n",
    "    \n",
    "Удалим дубликаты, оставив только первые значения.\n",
    "\n",
    "</div>"
   ]
  },
  {
   "cell_type": "code",
   "execution_count": 28,
   "metadata": {},
   "outputs": [
    {
     "data": {
      "text/html": [
       "<div>\n",
       "<style scoped>\n",
       "    .dataframe tbody tr th:only-of-type {\n",
       "        vertical-align: middle;\n",
       "    }\n",
       "\n",
       "    .dataframe tbody tr th {\n",
       "        vertical-align: top;\n",
       "    }\n",
       "\n",
       "    .dataframe thead th {\n",
       "        text-align: right;\n",
       "    }\n",
       "</style>\n",
       "<table border=\"1\" class=\"dataframe\">\n",
       "  <thead>\n",
       "    <tr style=\"text-align: right;\">\n",
       "      <th></th>\n",
       "      <th>title</th>\n",
       "      <th>punumber</th>\n",
       "      <th>show_start_date</th>\n",
       "      <th>type</th>\n",
       "      <th>film_studio</th>\n",
       "      <th>production_country</th>\n",
       "      <th>director</th>\n",
       "      <th>producer</th>\n",
       "      <th>age_restriction</th>\n",
       "      <th>refundable_support</th>\n",
       "      <th>nonrefundable_support</th>\n",
       "      <th>budget</th>\n",
       "      <th>financing_source</th>\n",
       "      <th>ratings</th>\n",
       "      <th>genres</th>\n",
       "      <th>box_office</th>\n",
       "    </tr>\n",
       "  </thead>\n",
       "  <tbody>\n",
       "    <tr>\n",
       "      <th>2</th>\n",
       "      <td>Особо опасен</td>\n",
       "      <td>221038416</td>\n",
       "      <td>2016-10-10 12:00:00+00:00</td>\n",
       "      <td>Художественный</td>\n",
       "      <td>Юниверсал Пикчерз, Кикстарт Продакшнз, Марк Пл...</td>\n",
       "      <td>США</td>\n",
       "      <td>Тимур Бекмамбетов</td>\n",
       "      <td>Джим Лемли, Джейсон Нетер, Марк Е.Платт, Яйн Смит</td>\n",
       "      <td>«18+» - запрещено для детей</td>\n",
       "      <td>NaN</td>\n",
       "      <td>NaN</td>\n",
       "      <td>NaN</td>\n",
       "      <td>NaN</td>\n",
       "      <td>6.8</td>\n",
       "      <td>фантастика,боевик,триллер</td>\n",
       "      <td>NaN</td>\n",
       "    </tr>\n",
       "  </tbody>\n",
       "</table>\n",
       "</div>"
      ],
      "text/plain": [
       "          title   punumber           show_start_date            type  \\\n",
       "2  Особо опасен  221038416 2016-10-10 12:00:00+00:00  Художественный   \n",
       "\n",
       "                                         film_studio production_country  \\\n",
       "2  Юниверсал Пикчерз, Кикстарт Продакшнз, Марк Пл...                США   \n",
       "\n",
       "            director                                           producer  \\\n",
       "2  Тимур Бекмамбетов  Джим Лемли, Джейсон Нетер, Марк Е.Платт, Яйн Смит   \n",
       "\n",
       "               age_restriction  refundable_support  nonrefundable_support  \\\n",
       "2  «18+» - запрещено для детей                 NaN                    NaN   \n",
       "\n",
       "   budget financing_source  ratings                     genres  box_office  \n",
       "2     NaN              NaN      6.8  фантастика,боевик,триллер         NaN  "
      ]
     },
     "execution_count": 28,
     "metadata": {},
     "output_type": "execute_result"
    }
   ],
   "source": [
    "data[data['title']=='Особо опасен']"
   ]
  },
  {
   "cell_type": "markdown",
   "metadata": {},
   "source": [
    "<div class=\"alert alert-info\">\n",
    "    \n",
    "Дубликаты удалили.\n",
    "\n",
    "</div>"
   ]
  },
  {
   "cell_type": "code",
   "execution_count": 29,
   "metadata": {},
   "outputs": [
    {
     "data": {
      "text/plain": [
       "0"
      ]
     },
     "execution_count": 29,
     "metadata": {},
     "output_type": "execute_result"
    }
   ],
   "source": [
    "data['punumber'].duplicated().sum()"
   ]
  },
  {
   "cell_type": "markdown",
   "metadata": {},
   "source": [
    "<div class=\"alert alert-info\">\n",
    "    \n",
    "Дубликатов нет.\n",
    "\n",
    "</div>"
   ]
  },
  {
   "cell_type": "markdown",
   "metadata": {
    "id": "52fOPrEBgFyQ"
   },
   "source": [
    "#### Шаг 2.4. Изучим категориальные значения"
   ]
  },
  {
   "cell_type": "code",
   "execution_count": 30,
   "metadata": {},
   "outputs": [
    {
     "data": {
      "text/plain": [
       "array(['Художественный', 'Анимационный', 'Прочие', 'Документальный',\n",
       "       'Научно-популярный', ' Художественный', ' Анимационный',\n",
       "       'Музыкально-развлекательный'], dtype=object)"
      ]
     },
     "execution_count": 30,
     "metadata": {},
     "output_type": "execute_result"
    }
   ],
   "source": [
    "data['type'].unique()"
   ]
  },
  {
   "cell_type": "markdown",
   "metadata": {},
   "source": [
    "<div class=\"alert alert-info\">\n",
    "    \n",
    "В колонке `type` обнаружен не явный дубликат *(`Художественный` и `Анимационный` записан с пробелом в начале)*. Это необходимо исправить.\n",
    "\n",
    "</div>"
   ]
  },
  {
   "cell_type": "code",
   "execution_count": 31,
   "metadata": {},
   "outputs": [
    {
     "data": {
      "text/plain": [
       "array(['Художественный', 'Анимационный', 'Прочие', 'Документальный',\n",
       "       'Научно-популярный', 'Музыкально-развлекательный'], dtype=object)"
      ]
     },
     "execution_count": 31,
     "metadata": {},
     "output_type": "execute_result"
    }
   ],
   "source": [
    "data['type'] = data['type'].str.strip()# используя метод str.strip() избавимся от лишних пробелов в названиях\n",
    "data['type'].unique()"
   ]
  },
  {
   "cell_type": "markdown",
   "metadata": {},
   "source": [
    "<div class=\"alert alert-info\">\n",
    "    \n",
    "Значение исправили\n",
    "\n",
    "</div>"
   ]
  },
  {
   "cell_type": "markdown",
   "metadata": {},
   "source": [
    "<div class=\"alert alert-info\">\n",
    "    \n",
    "В колонках `film_studio`, `production_country`, `producer` и `genres` данные (как основные, так и второстепенные) записаны через запятую и имеют очень много значений, в связи с этим очень трудно правильно категоризировать данные по этим колонка. Как вариант, при необходимости, можно превратить данные в строке в список и обращаться по индексу.\n",
    "\n",
    "</div>"
   ]
  },
  {
   "cell_type": "markdown",
   "metadata": {
    "id": "XFSN5lrEgFyR"
   },
   "source": [
    "#### Шаг 2.5. Проверим количественные значения"
   ]
  },
  {
   "cell_type": "markdown",
   "metadata": {},
   "source": [
    "##### Объем возвратных средств государственной поддержки"
   ]
  },
  {
   "cell_type": "code",
   "execution_count": 32,
   "metadata": {},
   "outputs": [
    {
     "data": {
      "text/plain": [
       "329"
      ]
     },
     "execution_count": 32,
     "metadata": {},
     "output_type": "execute_result"
    }
   ],
   "source": [
    "data['refundable_support'].count()"
   ]
  },
  {
   "cell_type": "markdown",
   "metadata": {},
   "source": [
    "<div class=\"alert alert-info\">\n",
    "    \n",
    "В колонке с указанием объема возвратных средств гос поддержки всего **329** картины.\n",
    "\n",
    "</div>"
   ]
  },
  {
   "cell_type": "code",
   "execution_count": 33,
   "metadata": {},
   "outputs": [
    {
     "data": {
      "text/plain": [
       "array([         nan, 0.000000e+00, 5.000000e+07, 2.600000e+07,\n",
       "       3.000000e+07, 1.500000e+07, 1.000000e+07, 2.000000e+07,\n",
       "       7.153119e+06, 2.500000e+07, 4.000000e+07, 6.000000e+07,\n",
       "       4.400000e+07, 2.900000e+07, 4.100000e+07, 3.600000e+07,\n",
       "       3.500000e+06, 5.000000e+06, 1.900000e+07, 9.000000e+06,\n",
       "       1.100000e+08, 1.700000e+07, 7.500000e+07, 1.500000e+08,\n",
       "       3.800000e+07, 1.000000e+08, 5.500000e+07, 7.000000e+06,\n",
       "       7.346881e+06, 8.000000e+06, 1.150000e+08, 3.500000e+07,\n",
       "       1.800000e+08, 2.800000e+07, 8.000000e+07])"
      ]
     },
     "execution_count": 33,
     "metadata": {},
     "output_type": "execute_result"
    }
   ],
   "source": [
    "data['refundable_support'].unique()"
   ]
  },
  {
   "cell_type": "markdown",
   "metadata": {},
   "source": [
    "<div class=\"alert alert-info\">\n",
    "    \n",
    "Посмотрим на список уникальных значений. Все значения большие, но есть и **0**.\n",
    "\n",
    "</div>"
   ]
  },
  {
   "cell_type": "code",
   "execution_count": 34,
   "metadata": {
    "id": "YbzClBxagFyS"
   },
   "outputs": [
    {
     "data": {
      "text/plain": [
       "count         329.0\n",
       "mean     11653495.4\n",
       "std      24540030.3\n",
       "min             0.0\n",
       "25%             0.0\n",
       "50%             0.0\n",
       "75%      15000000.0\n",
       "max     180000000.0\n",
       "Name: refundable_support, dtype: float64"
      ]
     },
     "execution_count": 34,
     "metadata": {},
     "output_type": "execute_result"
    }
   ],
   "source": [
    "data['refundable_support'].describe()"
   ]
  },
  {
   "cell_type": "markdown",
   "metadata": {},
   "source": [
    "<div class=\"alert alert-info\">\n",
    "    \n",
    "Выведем основную информацию о колонке. Медианное значение **0**, минимум **0**, среднее значение **11 653 495**, максимум **180 000 000**.\n",
    "\n",
    "</div>"
   ]
  },
  {
   "cell_type": "code",
   "execution_count": 35,
   "metadata": {},
   "outputs": [
    {
     "data": {
      "image/png": "[encoded data removed]",
      "text/plain": [
       "<Figure size 432x288 with 1 Axes>"
      ]
     },
     "metadata": {
      "needs_background": "light"
     },
     "output_type": "display_data"
    }
   ],
   "source": [
    "data['refundable_support'].hist(bins=100)\n",
    "plt.show()"
   ]
  },
  {
   "cell_type": "markdown",
   "metadata": {},
   "source": [
    "<div class=\"alert alert-info\">\n",
    "    \n",
    "Построим гистограмму. Она не очень информативна, нулевые значения перетягивают все внимание.\n",
    "\n",
    "</div>"
   ]
  },
  {
   "cell_type": "code",
   "execution_count": 36,
   "metadata": {},
   "outputs": [
    {
     "data": {
      "text/plain": [
       "7113   180000000.0\n",
       "3350   150000000.0\n",
       "6471   115000000.0\n",
       "5436   110000000.0\n",
       "3163   110000000.0\n",
       "7465   100000000.0\n",
       "7463   100000000.0\n",
       "5568   100000000.0\n",
       "3452   100000000.0\n",
       "7452    80000000.0\n",
       "Name: refundable_support, dtype: float64"
      ]
     },
     "execution_count": 36,
     "metadata": {},
     "output_type": "execute_result"
    }
   ],
   "source": [
    "data['refundable_support'].sort_values(ascending= False).head(10)"
   ]
  },
  {
   "cell_type": "markdown",
   "metadata": {},
   "source": [
    "<div class=\"alert alert-info\">\n",
    "    \n",
    "Выведем отсортированные по убыванию значения. Первые девять позиций больше **100 000 000**.\n",
    "\n",
    "</div>"
   ]
  },
  {
   "cell_type": "code",
   "execution_count": 37,
   "metadata": {},
   "outputs": [
    {
     "data": {
      "image/png": "[encoded data removed]",
      "text/plain": [
       "<Figure size 432x288 with 1 Axes>"
      ]
     },
     "metadata": {
      "needs_background": "light"
     },
     "output_type": "display_data"
    }
   ],
   "source": [
    "refundable_support_not_zero = data.query('refundable_support > 0')\n",
    "refundable_support_not_zero['refundable_support'].hist(bins=100)\n",
    "plt.show()"
   ]
  },
  {
   "cell_type": "markdown",
   "metadata": {},
   "source": [
    "<div class=\"alert alert-info\">\n",
    "    \n",
    "Выведем гистограмму без нулевых значений. Наблюдаем разброс значений.\n",
    "\n",
    "</div>"
   ]
  },
  {
   "cell_type": "markdown",
   "metadata": {},
   "source": [
    "##### Объём невозвратных средств государственной поддержки"
   ]
  },
  {
   "cell_type": "code",
   "execution_count": 38,
   "metadata": {},
   "outputs": [
    {
     "data": {
      "text/plain": [
       "329"
      ]
     },
     "execution_count": 38,
     "metadata": {},
     "output_type": "execute_result"
    }
   ],
   "source": [
    "data['nonrefundable_support'].count()"
   ]
  },
  {
   "cell_type": "markdown",
   "metadata": {},
   "source": [
    "<div class=\"alert alert-info\">\n",
    "    \n",
    "В колонке с указанием объема невозвратных средств гос поддержки всего **329** картины\n",
    "\n",
    "</div>"
   ]
  },
  {
   "cell_type": "code",
   "execution_count": 39,
   "metadata": {},
   "outputs": [
    {
     "data": {
      "text/plain": [
       "array([           nan, 2.65000000e+07, 2.60000000e+07, 1.07847945e+08,\n",
       "       2.80000000e+07, 2.50000000e+07, 1.00000000e+08, 4.65022990e+07,\n",
       "       7.50000000e+07, 3.40000000e+07, 3.00000000e+07, 4.00000000e+07,\n",
       "       2.30000000e+07, 4.50000000e+07, 5.65790550e+07, 2.55000000e+07,\n",
       "       2.75100000e+07, 1.00000000e+07, 2.40000000e+07, 2.45000000e+07,\n",
       "       2.70000000e+07, 5.00000000e+06, 9.00000000e+07, 2.00000000e+07,\n",
       "       7.00000000e+07, 9.70000000e+07, 2.44500000e+07, 5.00000000e+07,\n",
       "       0.00000000e+00, 6.00000000e+07, 2.75000000e+07, 2.69500000e+07,\n",
       "       1.10000000e+08, 1.50000000e+07, 5.90000000e+07, 2.50000000e+08,\n",
       "       3.70000000e+07, 3.50000000e+07, 2.01452850e+07, 2.59000000e+07,\n",
       "       6.00000000e+06, 3.92104482e+08, 2.52000000e+07, 2.29040000e+07,\n",
       "       2.90000000e+07, 5.10000000e+07, 4.70000000e+06, 5.30000000e+06,\n",
       "       2.17000000e+07, 2.49860000e+07, 2.53450000e+07, 1.33000000e+08,\n",
       "       1.75000000e+08, 3.01239150e+07, 2.85000000e+07, 3.00000000e+08,\n",
       "       4.15000000e+07, 2.00000000e+08, 1.50000000e+08, 5.50000000e+07,\n",
       "       6.40000000e+07, 5.00008660e+07, 1.15200000e+07, 1.90000000e+08,\n",
       "       2.25000000e+08, 8.00000000e+06, 4.00000000e+08, 2.60000000e+08,\n",
       "       3.10000000e+07, 8.50000000e+07, 8.00000000e+07, 1.38969465e+08,\n",
       "       1.20000000e+08, 1.30000000e+08, 1.40000000e+08, 3.00000000e+06])"
      ]
     },
     "execution_count": 39,
     "metadata": {},
     "output_type": "execute_result"
    }
   ],
   "source": [
    "data['nonrefundable_support'].unique()"
   ]
  },
  {
   "cell_type": "markdown",
   "metadata": {},
   "source": [
    "<div class=\"alert alert-info\">\n",
    "    \n",
    "Посмотрим на список уникальных значений. Все значения большие, аномалий не видно.\n",
    "\n",
    "</div>"
   ]
  },
  {
   "cell_type": "code",
   "execution_count": 40,
   "metadata": {},
   "outputs": [
    {
     "data": {
      "text/plain": [
       "count         329.0\n",
       "mean     48059842.9\n",
       "std      57011892.6\n",
       "min             0.0\n",
       "25%      25000000.0\n",
       "50%      30000000.0\n",
       "75%      40000000.0\n",
       "max     400000000.0\n",
       "Name: nonrefundable_support, dtype: float64"
      ]
     },
     "execution_count": 40,
     "metadata": {},
     "output_type": "execute_result"
    }
   ],
   "source": [
    "data['nonrefundable_support'].describe()"
   ]
  },
  {
   "cell_type": "markdown",
   "metadata": {},
   "source": [
    "<div class=\"alert alert-info\">\n",
    "    \n",
    "Выведем основную информацию о колонке. Медианное значение **30 000 000**, минимум **0**, среднее значение **48 059 842**, максимум **400 000 000**.\n",
    "\n",
    "</div>"
   ]
  },
  {
   "cell_type": "code",
   "execution_count": 41,
   "metadata": {},
   "outputs": [
    {
     "data": {
      "image/png": "[encoded data removed]",
      "text/plain": [
       "<Figure size 432x288 with 1 Axes>"
      ]
     },
     "metadata": {
      "needs_background": "light"
     },
     "output_type": "display_data"
    }
   ],
   "source": [
    "data['nonrefundable_support'].hist(bins=100)\n",
    "plt.show()"
   ]
  },
  {
   "cell_type": "markdown",
   "metadata": {},
   "source": [
    "<div class=\"alert alert-info\">\n",
    "    \n",
    "Построим гистограмму. Видим небольшую область в районе нулевых значений, но основной пик приходится на **30 000 000**.\n",
    "\n",
    "</div>"
   ]
  },
  {
   "cell_type": "code",
   "execution_count": 42,
   "metadata": {},
   "outputs": [
    {
     "data": {
      "text/plain": [
       "7463   400000000.0\n",
       "5652   400000000.0\n",
       "2919   392104482.0\n",
       "3350   300000000.0\n",
       "6886   300000000.0\n",
       "5825   260000000.0\n",
       "2698   250000000.0\n",
       "3564   250000000.0\n",
       "5568   250000000.0\n",
       "5501   225000000.0\n",
       "Name: nonrefundable_support, dtype: float64"
      ]
     },
     "execution_count": 42,
     "metadata": {},
     "output_type": "execute_result"
    }
   ],
   "source": [
    "data['nonrefundable_support'].sort_values(ascending= False).head(10)"
   ]
  },
  {
   "cell_type": "markdown",
   "metadata": {},
   "source": [
    "<div class=\"alert alert-info\">\n",
    "    \n",
    "Выведем отсортированные по убыванию значения. Первая тройка составляет **400 000 000**.\n",
    "\n",
    "</div>"
   ]
  },
  {
   "cell_type": "code",
   "execution_count": 43,
   "metadata": {},
   "outputs": [
    {
     "data": {
      "image/png": "[encoded data removed]",
      "text/plain": [
       "<Figure size 432x288 with 1 Axes>"
      ]
     },
     "metadata": {
      "needs_background": "light"
     },
     "output_type": "display_data"
    }
   ],
   "source": [
    "nonrefundable_support_not_zero = data.query('nonrefundable_support > 0')\n",
    "nonrefundable_support_not_zero['nonrefundable_support'].hist(bins=100)\n",
    "plt.show()"
   ]
  },
  {
   "cell_type": "markdown",
   "metadata": {},
   "source": [
    "<div class=\"alert alert-info\">\n",
    "    \n",
    "Выведем гистограмму без нулевых значений. Отличии минимальные.\n",
    "\n",
    "</div>"
   ]
  },
  {
   "cell_type": "markdown",
   "metadata": {},
   "source": [
    "##### Общий бюджет фильма"
   ]
  },
  {
   "cell_type": "code",
   "execution_count": 44,
   "metadata": {},
   "outputs": [
    {
     "data": {
      "text/plain": [
       "329"
      ]
     },
     "execution_count": 44,
     "metadata": {},
     "output_type": "execute_result"
    }
   ],
   "source": [
    "data['budget'].count()"
   ]
  },
  {
   "cell_type": "markdown",
   "metadata": {},
   "source": [
    "<div class=\"alert alert-info\">\n",
    "    \n",
    "В колонке с указанием общего бюджета всего **329** картин\n",
    "\n",
    "</div>"
   ]
  },
  {
   "cell_type": "code",
   "execution_count": 45,
   "metadata": {},
   "outputs": [
    {
     "data": {
      "text/plain": [
       "array([           nan, 7.94119000e+07, 3.71428570e+07, 1.76023490e+08,\n",
       "       4.05741400e+07, 4.00151220e+07, 5.18500000e+07, 2.20588394e+08,\n",
       "       8.62100670e+07, 1.39551503e+08, 4.85714300e+07, 8.00000000e+07,\n",
       "       3.62595000e+07, 7.08761720e+07, 2.52489571e+08, 7.49100000e+07,\n",
       "       0.00000000e+00, 8.97823120e+07, 4.36437176e+08, 4.05000000e+07,\n",
       "       6.84906060e+07, 4.50066090e+07, 1.31000000e+08, 5.00000000e+08,\n",
       "       6.10114070e+07, 4.00000000e+07, 3.73712620e+07, 3.52969500e+07,\n",
       "       4.30000000e+07, 7.74017510e+07, 3.50000000e+07, 5.11967110e+07,\n",
       "       9.01200000e+07, 2.67288892e+08, 4.92804960e+07, 4.90714280e+07,\n",
       "       4.69688830e+07, 5.51950000e+07, 1.56360666e+08, 3.74247960e+07,\n",
       "       3.57600600e+07, 2.81155800e+07, 3.79436520e+07, 1.38325738e+08,\n",
       "       4.22525090e+07, 3.99900000e+07, 1.12000000e+08, 5.57294240e+07,\n",
       "       3.57142860e+07, 1.39357211e+08, 5.02187410e+07, 4.02650000e+07,\n",
       "       3.90579710e+07, 9.25000000e+07, 4.14978600e+07, 8.62363940e+07,\n",
       "       8.03241370e+07, 2.40153900e+08, 1.00274436e+08, 4.02877700e+07,\n",
       "       2.85714290e+07, 3.84768690e+07, 2.70000000e+07, 8.16124110e+07,\n",
       "       6.40300800e+07, 8.02732770e+07, 3.60000000e+08, 1.30619336e+08,\n",
       "       5.28600000e+07, 1.11736163e+08, 5.54049630e+07, 7.33795540e+07,\n",
       "       4.20000000e+07, 1.05445546e+08, 5.80784510e+07, 1.34000000e+08,\n",
       "       8.46670380e+07, 1.64780000e+08, 4.19989840e+07, 5.95607460e+07,\n",
       "       7.40719180e+07, 3.90000000e+07, 8.53840000e+07, 1.50008573e+08,\n",
       "       5.21246380e+07, 2.11810247e+08, 6.35283867e+08, 3.78891650e+07,\n",
       "       4.62000000e+07, 7.59409410e+07, 5.42096570e+07, 9.00000000e+07,\n",
       "       6.94287280e+07, 6.98830490e+07, 4.28600000e+07, 4.61600000e+07,\n",
       "       6.20446460e+07, 4.86611500e+07, 3.99075326e+08, 6.10700000e+07,\n",
       "       3.84615380e+07, 4.55386550e+07, 3.80000000e+07, 5.69095200e+07,\n",
       "       5.38462000e+07, 1.79257987e+08, 1.09020947e+08, 9.02767740e+07,\n",
       "       7.86865000e+07, 1.44624640e+07, 2.15860000e+08, 5.00000000e+07,\n",
       "       7.00000000e+07, 9.10000000e+07, 3.70009900e+07, 2.22177790e+08,\n",
       "       3.84400000e+07, 6.82942000e+07, 1.62630398e+08, 2.26271533e+08,\n",
       "       5.28441977e+08, 5.99374700e+07, 7.50001350e+07, 2.22513841e+08,\n",
       "       4.61954270e+07, 6.88092260e+07, 6.10000000e+07, 6.84200536e+08,\n",
       "       2.87802711e+08, 7.00864390e+07, 6.30000000e+07, 3.85000000e+07,\n",
       "       1.10464061e+08, 9.50000000e+07, 1.13837339e+08, 5.43032220e+07,\n",
       "       4.30000000e+08, 1.82659393e+08, 3.23232109e+08, 5.78743750e+07,\n",
       "       2.06982031e+08, 1.20000000e+08, 2.02484224e+08, 9.08227660e+07,\n",
       "       3.60162690e+07, 1.26932894e+08, 5.46875000e+07, 2.43122945e+08,\n",
       "       3.13053130e+07, 2.15162287e+08, 3.78787870e+07, 2.10405981e+08,\n",
       "       3.20000000e+08, 4.61538870e+07, 1.80000000e+08, 4.54832330e+07,\n",
       "       4.06008000e+07, 2.04674000e+08, 3.44905389e+08, 1.28570000e+08,\n",
       "       6.50000000e+07, 4.73280000e+07, 1.87060800e+07, 5.77670810e+07,\n",
       "       9.02780630e+07, 5.40000000e+07, 6.31700000e+07, 4.66573110e+07,\n",
       "       3.00000000e+07, 1.03290596e+09, 7.70000000e+07, 8.35534120e+07,\n",
       "       1.57236080e+08, 5.71667970e+07, 4.93733957e+08, 3.52477575e+08,\n",
       "       7.80963150e+07, 2.19398491e+08, 7.42751000e+07, 5.00012729e+08,\n",
       "       3.84667000e+07, 1.81664180e+07, 4.86808580e+07, 1.36230333e+08,\n",
       "       5.84473010e+07, 1.50000000e+08, 1.74381922e+08, 1.30000000e+08,\n",
       "       5.90192191e+08, 1.74464395e+08, 4.46000000e+07, 2.92412422e+08,\n",
       "       1.70122675e+08, 1.48585222e+08, 6.00000000e+07, 1.09609029e+08,\n",
       "       8.28004880e+07, 8.76491270e+07, 2.04400968e+08, 1.40005238e+08,\n",
       "       1.10000000e+08, 3.90191139e+08, 1.09814241e+08, 3.78491030e+07,\n",
       "       1.18000000e+08, 2.98500000e+08, 2.00067392e+08, 3.76000000e+07,\n",
       "       1.14510306e+08, 3.91292890e+07, 9.50655460e+07, 3.85000000e+08,\n",
       "       3.08000000e+07, 3.77656540e+07, 6.20000000e+07, 1.68271268e+08,\n",
       "       1.11812387e+08, 4.50450500e+07, 1.81302726e+08, 7.03050000e+07,\n",
       "       8.24968890e+07, 6.03735760e+07, 7.69130580e+07, 4.69237760e+07,\n",
       "       4.82380750e+07, 9.30000000e+07, 4.50745470e+07, 1.54245687e+08,\n",
       "       1.72763618e+08, 1.85500705e+08, 3.97000000e+07, 1.79708770e+08,\n",
       "       5.63784717e+08, 3.56550000e+08, 3.35567667e+08, 1.23714264e+08,\n",
       "       1.15000000e+08, 4.42865840e+07, 5.66935590e+07, 1.01463696e+08,\n",
       "       1.08518988e+08, 4.99826569e+08, 4.69411400e+07, 7.83551540e+07,\n",
       "       1.02760000e+08, 2.64578774e+08, 1.69000000e+08, 2.40041307e+08,\n",
       "       1.65222908e+08, 4.53704666e+08, 3.77442800e+07, 3.88582600e+07,\n",
       "       3.75000000e+07, 4.61538460e+07, 1.05721524e+08, 4.10000000e+07,\n",
       "       6.15714490e+07, 4.63000000e+07, 4.72000000e+07, 3.00000000e+08,\n",
       "       5.50000000e+07, 6.06685760e+07, 4.50500000e+07, 7.15176310e+07,\n",
       "       1.50100000e+07, 6.01503760e+07, 6.47929130e+07, 6.79427180e+07,\n",
       "       2.30507430e+09, 1.01659240e+08, 6.24157490e+07, 1.54989700e+08,\n",
       "       7.79941965e+08, 3.30000000e+07, 1.47866278e+08, 5.78760000e+07,\n",
       "       2.50000000e+08, 1.40025000e+08, 3.04489110e+07, 3.60054850e+08,\n",
       "       4.77340500e+07, 7.84222120e+07, 2.70000000e+08, 1.60000000e+08,\n",
       "       9.80000000e+08, 1.90000000e+08, 4.61540000e+07, 1.50147502e+08])"
      ]
     },
     "execution_count": 45,
     "metadata": {},
     "output_type": "execute_result"
    }
   ],
   "source": [
    "data['budget'].unique()"
   ]
  },
  {
   "cell_type": "markdown",
   "metadata": {},
   "source": [
    "<div class=\"alert alert-info\">\n",
    "    \n",
    "Посмотрим на список уникальных значений. Все значения большие, аномалий не видно.\n",
    "\n",
    "</div>"
   ]
  },
  {
   "cell_type": "code",
   "execution_count": 46,
   "metadata": {},
   "outputs": [
    {
     "data": {
      "text/plain": [
       "count          329.0\n",
       "mean     125146705.0\n",
       "std      183916186.3\n",
       "min              0.0\n",
       "25%       42000000.0\n",
       "50%       68490606.0\n",
       "75%      140025000.0\n",
       "max     2305074303.0\n",
       "Name: budget, dtype: float64"
      ]
     },
     "execution_count": 46,
     "metadata": {},
     "output_type": "execute_result"
    }
   ],
   "source": [
    "data['budget'].describe()"
   ]
  },
  {
   "cell_type": "markdown",
   "metadata": {},
   "source": [
    "<div class=\"alert alert-info\">\n",
    "    \n",
    "Выведем основную информацию о колонке. Медианное значение **68 490 606**, минимум **0**, среднее значение **125 146 705**, максимум **2 305 074 303**.\n",
    "\n",
    "</div>"
   ]
  },
  {
   "cell_type": "code",
   "execution_count": 47,
   "metadata": {},
   "outputs": [
    {
     "data": {
      "image/png": "[encoded data removed]",
      "text/plain": [
       "<Figure size 432x288 with 1 Axes>"
      ]
     },
     "metadata": {
      "needs_background": "light"
     },
     "output_type": "display_data"
    }
   ],
   "source": [
    "data['budget'].hist(bins=100)\n",
    "plt.show()"
   ]
  },
  {
   "cell_type": "markdown",
   "metadata": {},
   "source": [
    "<div class=\"alert alert-info\">\n",
    "    \n",
    "Построим гистограмму. Видим один пик, далее снижение.\n",
    "\n",
    "</div>"
   ]
  },
  {
   "cell_type": "code",
   "execution_count": 48,
   "metadata": {},
   "outputs": [
    {
     "data": {
      "text/plain": [
       "7113   2305074303.0\n",
       "5436   1032905957.0\n",
       "7463    980000000.0\n",
       "7170    779941965.0\n",
       "3350    684200536.0\n",
       "2919    635283867.0\n",
       "5652    590192191.0\n",
       "6548    563784717.0\n",
       "3254    528441977.0\n",
       "5568    500012729.0\n",
       "Name: budget, dtype: float64"
      ]
     },
     "execution_count": 48,
     "metadata": {},
     "output_type": "execute_result"
    }
   ],
   "source": [
    "data['budget'].sort_values(ascending= False).head(10)"
   ]
  },
  {
   "cell_type": "markdown",
   "metadata": {},
   "source": [
    "<div class=\"alert alert-info\">\n",
    "    \n",
    "Выведем отсортированные по убыванию значения. Первая и вторая позиции с разницей в **милиард**. \n",
    "\n",
    "</div>"
   ]
  },
  {
   "cell_type": "code",
   "execution_count": 49,
   "metadata": {},
   "outputs": [
    {
     "data": {
      "image/png": "[encoded data removed]",
      "text/plain": [
       "<Figure size 432x288 with 1 Axes>"
      ]
     },
     "metadata": {
      "needs_background": "light"
     },
     "output_type": "display_data"
    }
   ],
   "source": [
    "budget_not_zero = data.query('budget > 0')\n",
    "budget_not_zero['budget'].hist(bins=100)\n",
    "plt.show()"
   ]
  },
  {
   "cell_type": "markdown",
   "metadata": {},
   "source": [
    "<div class=\"alert alert-info\">\n",
    "    \n",
    "Выведем гистограмму без нулевых значений. Отличии минимальные.\n",
    "\n",
    "</div>"
   ]
  },
  {
   "cell_type": "markdown",
   "metadata": {},
   "source": [
    "##### Сборы в рублях"
   ]
  },
  {
   "cell_type": "code",
   "execution_count": 50,
   "metadata": {},
   "outputs": [
    {
     "data": {
      "text/plain": [
       "3014"
      ]
     },
     "execution_count": 50,
     "metadata": {},
     "output_type": "execute_result"
    }
   ],
   "source": [
    "data['box_office'].count()"
   ]
  },
  {
   "cell_type": "markdown",
   "metadata": {},
   "source": [
    "<div class=\"alert alert-info\">\n",
    "    \n",
    "В колонке с указанием сборов **3014** картины. Таким образом, меньше половины картин имеют информацию о сборах.\n",
    "\n",
    "</div>"
   ]
  },
  {
   "cell_type": "code",
   "execution_count": 51,
   "metadata": {},
   "outputs": [
    {
     "data": {
      "text/plain": [
       "2831"
      ]
     },
     "execution_count": 51,
     "metadata": {},
     "output_type": "execute_result"
    }
   ],
   "source": [
    "data['box_office'].nunique()"
   ]
  },
  {
   "cell_type": "markdown",
   "metadata": {},
   "source": [
    "<div class=\"alert alert-info\">\n",
    "    \n",
    "В колонке **2831** уникальных значений.\n",
    "\n",
    "</div>"
   ]
  },
  {
   "cell_type": "code",
   "execution_count": 52,
   "metadata": {},
   "outputs": [
    {
     "data": {
      "text/plain": [
       "count         3014.0\n",
       "mean      75707668.7\n",
       "std      237807402.7\n",
       "min              0.0\n",
       "25%         117075.0\n",
       "50%        2435268.4\n",
       "75%       23755074.1\n",
       "max     3073568690.8\n",
       "Name: box_office, dtype: float64"
      ]
     },
     "execution_count": 52,
     "metadata": {},
     "output_type": "execute_result"
    }
   ],
   "source": [
    "data['box_office'].describe()"
   ]
  },
  {
   "cell_type": "markdown",
   "metadata": {},
   "source": [
    "<div class=\"alert alert-info\">\n",
    "    \n",
    "Выведем основную информацию о колонке. Медианное значение **2 435 268**, минимум **0**, среднее значение **75 707 668**, максимум **3 073 568 690**.\n",
    "\n",
    "</div>"
   ]
  },
  {
   "cell_type": "code",
   "execution_count": 53,
   "metadata": {},
   "outputs": [
    {
     "data": {
      "image/png": "[encoded data removed]",
      "text/plain": [
       "<Figure size 432x288 with 1 Axes>"
      ]
     },
     "metadata": {
      "needs_background": "light"
     },
     "output_type": "display_data"
    }
   ],
   "source": [
    "data['box_office'].hist(bins=100)\n",
    "plt.show()"
   ]
  },
  {
   "cell_type": "markdown",
   "metadata": {},
   "source": [
    "<div class=\"alert alert-info\">\n",
    "    \n",
    "Выведем гистограмму по сборам. Она не информативна, близкие к нулевому значения, искажают картину.\n",
    "\n",
    "</div>"
   ]
  },
  {
   "cell_type": "code",
   "execution_count": 54,
   "metadata": {},
   "outputs": [
    {
     "data": {
      "text/plain": [
       "7455   3073568690.8\n",
       "5652   2779686144.0\n",
       "6819   2576613776.8\n",
       "6548   2271754004.5\n",
       "3487   2118396119.0\n",
       "2858   2048126108.0\n",
       "3754   1971005085.0\n",
       "6273   1913257923.1\n",
       "7215   1911944866.0\n",
       "7257   1890368076.5\n",
       "Name: box_office, dtype: float64"
      ]
     },
     "execution_count": 54,
     "metadata": {},
     "output_type": "execute_result"
    }
   ],
   "source": [
    "data['box_office'].sort_values(ascending= False).head(10)"
   ]
  },
  {
   "cell_type": "markdown",
   "metadata": {},
   "source": [
    "<div class=\"alert alert-info\">\n",
    "    \n",
    "Выведем отсортированные по убыванию значения. Первые шесть позиций больше **2 000 000 000**.\n",
    "\n",
    "</div>"
   ]
  },
  {
   "cell_type": "code",
   "execution_count": 55,
   "metadata": {},
   "outputs": [
    {
     "data": {
      "image/png": "[encoded data removed]",
      "text/plain": [
       "<Figure size 432x288 with 1 Axes>"
      ]
     },
     "metadata": {
      "needs_background": "light"
     },
     "output_type": "display_data"
    }
   ],
   "source": [
    "box_office_not_zero = data.query('box_office > 0')\n",
    "box_office_not_zero['box_office'].hist(bins=100)\n",
    "plt.show()"
   ]
  },
  {
   "cell_type": "markdown",
   "metadata": {},
   "source": [
    "<div class=\"alert alert-info\">\n",
    "    \n",
    "Гистограмма без нулевых значений, информативность не повысила.\n",
    "\n",
    "</div>"
   ]
  },
  {
   "cell_type": "markdown",
   "metadata": {},
   "source": [
    "<div class=\"alert alert-info\">\n",
    "    \n",
    "В данных с указанием объема средств затраченных на создание картины, встречаются нулевые значения, это аномалия. Очень большие значения к аномалиям отнести сложно, так как они в полне реальны.\n",
    "\n",
    "</div>"
   ]
  },
  {
   "cell_type": "markdown",
   "metadata": {
    "id": "Eu6oWp2CgFyS"
   },
   "source": [
    "#### Шаг 2.6. Добавим новые столбцы"
   ]
  },
  {
   "cell_type": "markdown",
   "metadata": {},
   "source": [
    "##### Год проката картины"
   ]
  },
  {
   "cell_type": "code",
   "execution_count": 56,
   "metadata": {
    "id": "I-yd1DkWgFyT"
   },
   "outputs": [
    {
     "data": {
      "text/plain": [
       "0     2015\n",
       "1     2016\n",
       "2     2016\n",
       "5     2016\n",
       "6     2013\n",
       "7     2014\n",
       "8     2016\n",
       "9     2014\n",
       "10    2016\n",
       "11    2014\n",
       "Name: show_start_year, dtype: int64"
      ]
     },
     "execution_count": 56,
     "metadata": {},
     "output_type": "execute_result"
    }
   ],
   "source": [
    "data['show_start_year'] = pd.DatetimeIndex(\\\n",
    "                data['show_start_date']).year\n",
    "data['show_start_year'].head(10)"
   ]
  },
  {
   "cell_type": "markdown",
   "metadata": {},
   "source": [
    "<div class=\"alert alert-info\">\n",
    "    \n",
    "Создадим новую `show_start_year` колонку с обозначением года примьеры картины, данные сформируем из колонки `show_start_date` методом `pd.DatetimeIndex` с указанием индекса округления `year`.\n",
    "\n",
    "</div>"
   ]
  },
  {
   "cell_type": "markdown",
   "metadata": {},
   "source": [
    "##### Главный режиссер картины"
   ]
  },
  {
   "cell_type": "code",
   "execution_count": 57,
   "metadata": {},
   "outputs": [
    {
     "data": {
      "text/plain": [
       "0         Кевин Костнер\n",
       "1             Е.Матвеев\n",
       "2     Тимур Бекмамбетов\n",
       "5          В.Абдрашитов\n",
       "6             В.Меньшов\n",
       "7         Джон Туртурро\n",
       "8          Эрик Беснард\n",
       "9               В.Титов\n",
       "10        Пол Грингросс\n",
       "11        М.Туманишвили\n",
       "Name: director, dtype: object"
      ]
     },
     "execution_count": 57,
     "metadata": {},
     "output_type": "execute_result"
    }
   ],
   "source": [
    "data['director'].head(10)"
   ]
  },
  {
   "cell_type": "markdown",
   "metadata": {},
   "source": [
    "<div class=\"alert alert-info\">\n",
    "    \n",
    "Посмотрим на данные в колонке. Имена и фамилии разделены пробелами, а сокращения точками. В строках встречаестя упомянание нескольких режиссеров, а нас интересует главный.\n",
    "\n",
    "</div>"
   ]
  },
  {
   "cell_type": "code",
   "execution_count": 58,
   "metadata": {},
   "outputs": [
    {
     "data": {
      "text/plain": [
       "0         Кевин Костнер\n",
       "1             Е.Матвеев\n",
       "2     Тимур Бекмамбетов\n",
       "5          В.Абдрашитов\n",
       "6             В.Меньшов\n",
       "7         Джон Туртурро\n",
       "8          Эрик Беснард\n",
       "9               В.Титов\n",
       "10        Пол Грингросс\n",
       "11        М.Туманишвили\n",
       "Name: main_director, dtype: object"
      ]
     },
     "execution_count": 58,
     "metadata": {},
     "output_type": "execute_result"
    }
   ],
   "source": [
    "def main (row):\n",
    "    row = str(row) # преобразуем в строку\n",
    "    main = row.split(\",\") # разделяем по запятой\n",
    "    return main[0] # выводим первое значение строки\n",
    "    \n",
    "data['main_director'] = data['director'].apply(main)\n",
    "data['main_director'].head(10)\n"
   ]
  },
  {
   "cell_type": "markdown",
   "metadata": {},
   "source": [
    "<div class=\"alert alert-info\">\n",
    "    \n",
    "Создадим функцию `main` которая приобразует **строку** в **список** разделив его по **запятой** и выведет первое значение списка. Далее создадим новую колонку `main_director` к которой применим функцию.\n",
    "\n",
    "</div>"
   ]
  },
  {
   "cell_type": "markdown",
   "metadata": {},
   "source": [
    "##### Основной жанр картины"
   ]
  },
  {
   "cell_type": "code",
   "execution_count": 59,
   "metadata": {},
   "outputs": [
    {
     "data": {
      "text/plain": [
       "0          боевик,драма,мелодрама\n",
       "1                   драма,военный\n",
       "2       фантастика,боевик,триллер\n",
       "5                           драма\n",
       "6               мелодрама,комедия\n",
       "                  ...            \n",
       "7480                          NaN\n",
       "7481               боевик,триллер\n",
       "7482                          NaN\n",
       "7483                          NaN\n",
       "7484              комедия,вестерн\n",
       "Name: genres, Length: 6745, dtype: object"
      ]
     },
     "execution_count": 59,
     "metadata": {},
     "output_type": "execute_result"
    }
   ],
   "source": [
    "data['genres']"
   ]
  },
  {
   "cell_type": "markdown",
   "metadata": {},
   "source": [
    "<div class=\"alert alert-info\">\n",
    "    \n",
    "Посмотрим на данные в колонке. Жанры картин перечислены через запятую. Нас интересует основной (первый). \n",
    "\n",
    "</div>"
   ]
  },
  {
   "cell_type": "code",
   "execution_count": 60,
   "metadata": {},
   "outputs": [
    {
     "data": {
      "text/plain": [
       "0         боевик\n",
       "1          драма\n",
       "2     фантастика\n",
       "5          драма\n",
       "6      мелодрама\n",
       "7         мюзикл\n",
       "8        комедия\n",
       "9      мелодрама\n",
       "10        боевик\n",
       "11        боевик\n",
       "Name: main_genres, dtype: object"
      ]
     },
     "execution_count": 60,
     "metadata": {},
     "output_type": "execute_result"
    }
   ],
   "source": [
    "data['main_genres'] = data['genres'].apply(main)\n",
    "data['main_genres'].head(10)"
   ]
  },
  {
   "cell_type": "markdown",
   "metadata": {},
   "source": [
    "<div class=\"alert alert-info\">\n",
    "    \n",
    "Применим созданную ранее функцию `main` к новой колонке `main_genres`. Таким образом мы получим категориальную колонку по жанру картин.\n",
    "\n",
    "</div>"
   ]
  },
  {
   "cell_type": "markdown",
   "metadata": {},
   "source": [
    "##### Доля государственной поддержки от общего бюджета картины"
   ]
  },
  {
   "cell_type": "code",
   "execution_count": 61,
   "metadata": {},
   "outputs": [
    {
     "data": {
      "text/plain": [
       "0   NaN\n",
       "1   NaN\n",
       "2   NaN\n",
       "5   NaN\n",
       "6   NaN\n",
       "Name: fraction_budget, dtype: float64"
      ]
     },
     "execution_count": 61,
     "metadata": {},
     "output_type": "execute_result"
    }
   ],
   "source": [
    "data['fraction_budget'] = data['nonrefundable_support']/data['budget']*100\n",
    "data['fraction_budget'].head(5)"
   ]
  },
  {
   "cell_type": "markdown",
   "metadata": {},
   "source": [
    "<div class=\"alert alert-info\">\n",
    "    \n",
    "Добавим колонку `fraction_budget` в которой посчитаем конверсию невозвратных средств к бюджету. \n",
    "\n",
    "</div>"
   ]
  },
  {
   "cell_type": "code",
   "execution_count": 62,
   "metadata": {},
   "outputs": [
    {
     "data": {
      "text/plain": [
       "count   328.0\n",
       "mean      inf\n",
       "std       NaN\n",
       "min       0.0\n",
       "25%      31.9\n",
       "50%      48.5\n",
       "75%      65.0\n",
       "max       inf\n",
       "Name: fraction_budget, dtype: float64"
      ]
     },
     "execution_count": 62,
     "metadata": {},
     "output_type": "execute_result"
    }
   ],
   "source": [
    "data['fraction_budget'].describe()"
   ]
  },
  {
   "cell_type": "markdown",
   "metadata": {},
   "source": [
    "<div class=\"alert alert-info\">\n",
    "    \n",
    "Выведем общюю информацию о колонке. Медианное значение **48,5%**, зона нормального распределения от **31,9%** до **65%** \n",
    "\n",
    "</div>"
   ]
  },
  {
   "cell_type": "markdown",
   "metadata": {},
   "source": [
    "##### Рентабельность"
   ]
  },
  {
   "cell_type": "code",
   "execution_count": 63,
   "metadata": {},
   "outputs": [
    {
     "data": {
      "text/html": [
       "<div>\n",
       "<style scoped>\n",
       "    .dataframe tbody tr th:only-of-type {\n",
       "        vertical-align: middle;\n",
       "    }\n",
       "\n",
       "    .dataframe tbody tr th {\n",
       "        vertical-align: top;\n",
       "    }\n",
       "\n",
       "    .dataframe thead th {\n",
       "        text-align: right;\n",
       "    }\n",
       "</style>\n",
       "<table border=\"1\" class=\"dataframe\">\n",
       "  <thead>\n",
       "    <tr style=\"text-align: right;\">\n",
       "      <th></th>\n",
       "      <th>title</th>\n",
       "      <th>punumber</th>\n",
       "      <th>show_start_date</th>\n",
       "      <th>type</th>\n",
       "      <th>film_studio</th>\n",
       "      <th>production_country</th>\n",
       "      <th>director</th>\n",
       "      <th>producer</th>\n",
       "      <th>age_restriction</th>\n",
       "      <th>refundable_support</th>\n",
       "      <th>...</th>\n",
       "      <th>budget</th>\n",
       "      <th>financing_source</th>\n",
       "      <th>ratings</th>\n",
       "      <th>genres</th>\n",
       "      <th>box_office</th>\n",
       "      <th>show_start_year</th>\n",
       "      <th>main_director</th>\n",
       "      <th>main_genres</th>\n",
       "      <th>fraction_budget</th>\n",
       "      <th>profitability</th>\n",
       "    </tr>\n",
       "  </thead>\n",
       "  <tbody>\n",
       "    <tr>\n",
       "      <th>0</th>\n",
       "      <td>Открытый простор</td>\n",
       "      <td>221048915</td>\n",
       "      <td>2015-11-27 12:00:00+00:00</td>\n",
       "      <td>Художественный</td>\n",
       "      <td>Тачстоун Пикчерз, Кобальт Пикчерз, Бикон Пикче...</td>\n",
       "      <td>США</td>\n",
       "      <td>Кевин Костнер</td>\n",
       "      <td>Дэвид Валдес, Кевин Костнер, Джейк Эбертс</td>\n",
       "      <td>«18+» - запрещено для детей</td>\n",
       "      <td>NaN</td>\n",
       "      <td>...</td>\n",
       "      <td>NaN</td>\n",
       "      <td>NaN</td>\n",
       "      <td>7.2</td>\n",
       "      <td>боевик,драма,мелодрама</td>\n",
       "      <td>NaN</td>\n",
       "      <td>2015</td>\n",
       "      <td>Кевин Костнер</td>\n",
       "      <td>боевик</td>\n",
       "      <td>NaN</td>\n",
       "      <td>NaN</td>\n",
       "    </tr>\n",
       "    <tr>\n",
       "      <th>1</th>\n",
       "      <td>Особо важное задание</td>\n",
       "      <td>111013716</td>\n",
       "      <td>2016-09-13 12:00:00+00:00</td>\n",
       "      <td>Художественный</td>\n",
       "      <td>Киностудия \"Мосфильм\"</td>\n",
       "      <td>СССР</td>\n",
       "      <td>Е.Матвеев</td>\n",
       "      <td>нет_данных</td>\n",
       "      <td>«6+» - для детей старше 6 лет</td>\n",
       "      <td>NaN</td>\n",
       "      <td>...</td>\n",
       "      <td>NaN</td>\n",
       "      <td>NaN</td>\n",
       "      <td>6.6</td>\n",
       "      <td>драма,военный</td>\n",
       "      <td>NaN</td>\n",
       "      <td>2016</td>\n",
       "      <td>Е.Матвеев</td>\n",
       "      <td>драма</td>\n",
       "      <td>NaN</td>\n",
       "      <td>NaN</td>\n",
       "    </tr>\n",
       "    <tr>\n",
       "      <th>2</th>\n",
       "      <td>Особо опасен</td>\n",
       "      <td>221038416</td>\n",
       "      <td>2016-10-10 12:00:00+00:00</td>\n",
       "      <td>Художественный</td>\n",
       "      <td>Юниверсал Пикчерз, Кикстарт Продакшнз, Марк Пл...</td>\n",
       "      <td>США</td>\n",
       "      <td>Тимур Бекмамбетов</td>\n",
       "      <td>Джим Лемли, Джейсон Нетер, Марк Е.Платт, Яйн Смит</td>\n",
       "      <td>«18+» - запрещено для детей</td>\n",
       "      <td>NaN</td>\n",
       "      <td>...</td>\n",
       "      <td>NaN</td>\n",
       "      <td>NaN</td>\n",
       "      <td>6.8</td>\n",
       "      <td>фантастика,боевик,триллер</td>\n",
       "      <td>NaN</td>\n",
       "      <td>2016</td>\n",
       "      <td>Тимур Бекмамбетов</td>\n",
       "      <td>фантастика</td>\n",
       "      <td>NaN</td>\n",
       "      <td>NaN</td>\n",
       "    </tr>\n",
       "  </tbody>\n",
       "</table>\n",
       "<p>3 rows × 21 columns</p>\n",
       "</div>"
      ],
      "text/plain": [
       "                  title   punumber           show_start_date            type  \\\n",
       "0      Открытый простор  221048915 2015-11-27 12:00:00+00:00  Художественный   \n",
       "1  Особо важное задание  111013716 2016-09-13 12:00:00+00:00  Художественный   \n",
       "2          Особо опасен  221038416 2016-10-10 12:00:00+00:00  Художественный   \n",
       "\n",
       "                                         film_studio production_country  \\\n",
       "0  Тачстоун Пикчерз, Кобальт Пикчерз, Бикон Пикче...                США   \n",
       "1                              Киностудия \"Мосфильм\"               СССР   \n",
       "2  Юниверсал Пикчерз, Кикстарт Продакшнз, Марк Пл...                США   \n",
       "\n",
       "            director                                           producer  \\\n",
       "0      Кевин Костнер          Дэвид Валдес, Кевин Костнер, Джейк Эбертс   \n",
       "1          Е.Матвеев                                         нет_данных   \n",
       "2  Тимур Бекмамбетов  Джим Лемли, Джейсон Нетер, Марк Е.Платт, Яйн Смит   \n",
       "\n",
       "                 age_restriction  refundable_support  ...  budget  \\\n",
       "0    «18+» - запрещено для детей                 NaN  ...     NaN   \n",
       "1  «6+» - для детей старше 6 лет                 NaN  ...     NaN   \n",
       "2    «18+» - запрещено для детей                 NaN  ...     NaN   \n",
       "\n",
       "   financing_source ratings                     genres box_office  \\\n",
       "0               NaN     7.2     боевик,драма,мелодрама        NaN   \n",
       "1               NaN     6.6              драма,военный        NaN   \n",
       "2               NaN     6.8  фантастика,боевик,триллер        NaN   \n",
       "\n",
       "   show_start_year      main_director main_genres fraction_budget  \\\n",
       "0             2015      Кевин Костнер      боевик             NaN   \n",
       "1             2016          Е.Матвеев       драма             NaN   \n",
       "2             2016  Тимур Бекмамбетов  фантастика             NaN   \n",
       "\n",
       "   profitability  \n",
       "0            NaN  \n",
       "1            NaN  \n",
       "2            NaN  \n",
       "\n",
       "[3 rows x 21 columns]"
      ]
     },
     "execution_count": 63,
     "metadata": {},
     "output_type": "execute_result"
    }
   ],
   "source": [
    "data['profitability'] = data['box_office'] - data['budget']\n",
    "data.head(3)"
   ]
  },
  {
   "cell_type": "markdown",
   "metadata": {},
   "source": [
    "<div class=\"alert alert-info\">\n",
    "    \n",
    "Добавим колонку `profitabilit`, в ней посчитаем рентабельность. \n",
    "\n",
    "</div>"
   ]
  },
  {
   "cell_type": "markdown",
   "metadata": {
    "id": "6t4EukPLgFyV"
   },
   "source": [
    "### Шаг 3. Проведем исследовательский анализ данных"
   ]
  },
  {
   "cell_type": "markdown",
   "metadata": {
    "id": "6t4EukPLgFyV"
   },
   "source": [
    "#### Количество вышедших в прокат и общее количество картин \n"
   ]
  },
  {
   "cell_type": "code",
   "execution_count": 64,
   "metadata": {
    "id": "ABeV47y7gFyW"
   },
   "outputs": [
    {
     "data": {
      "text/html": [
       "<div>\n",
       "<style scoped>\n",
       "    .dataframe tbody tr th:only-of-type {\n",
       "        vertical-align: middle;\n",
       "    }\n",
       "\n",
       "    .dataframe tbody tr th {\n",
       "        vertical-align: top;\n",
       "    }\n",
       "\n",
       "    .dataframe thead th {\n",
       "        text-align: right;\n",
       "    }\n",
       "</style>\n",
       "<table border=\"1\" class=\"dataframe\">\n",
       "  <thead>\n",
       "    <tr style=\"text-align: right;\">\n",
       "      <th></th>\n",
       "      <th>show_start_year</th>\n",
       "      <th>box_office</th>\n",
       "      <th>punumber</th>\n",
       "      <th>proportion</th>\n",
       "    </tr>\n",
       "  </thead>\n",
       "  <tbody>\n",
       "    <tr>\n",
       "      <th>0</th>\n",
       "      <td>2010</td>\n",
       "      <td>88</td>\n",
       "      <td>757</td>\n",
       "      <td>11.6</td>\n",
       "    </tr>\n",
       "    <tr>\n",
       "      <th>1</th>\n",
       "      <td>2011</td>\n",
       "      <td>98</td>\n",
       "      <td>475</td>\n",
       "      <td>20.6</td>\n",
       "    </tr>\n",
       "    <tr>\n",
       "      <th>2</th>\n",
       "      <td>2012</td>\n",
       "      <td>115</td>\n",
       "      <td>516</td>\n",
       "      <td>22.3</td>\n",
       "    </tr>\n",
       "    <tr>\n",
       "      <th>3</th>\n",
       "      <td>2013</td>\n",
       "      <td>176</td>\n",
       "      <td>589</td>\n",
       "      <td>29.9</td>\n",
       "    </tr>\n",
       "    <tr>\n",
       "      <th>4</th>\n",
       "      <td>2014</td>\n",
       "      <td>257</td>\n",
       "      <td>728</td>\n",
       "      <td>35.3</td>\n",
       "    </tr>\n",
       "    <tr>\n",
       "      <th>5</th>\n",
       "      <td>2015</td>\n",
       "      <td>431</td>\n",
       "      <td>661</td>\n",
       "      <td>65.2</td>\n",
       "    </tr>\n",
       "    <tr>\n",
       "      <th>6</th>\n",
       "      <td>2016</td>\n",
       "      <td>500</td>\n",
       "      <td>770</td>\n",
       "      <td>64.9</td>\n",
       "    </tr>\n",
       "    <tr>\n",
       "      <th>7</th>\n",
       "      <td>2017</td>\n",
       "      <td>356</td>\n",
       "      <td>498</td>\n",
       "      <td>71.5</td>\n",
       "    </tr>\n",
       "    <tr>\n",
       "      <th>8</th>\n",
       "      <td>2018</td>\n",
       "      <td>471</td>\n",
       "      <td>864</td>\n",
       "      <td>54.5</td>\n",
       "    </tr>\n",
       "    <tr>\n",
       "      <th>9</th>\n",
       "      <td>2019</td>\n",
       "      <td>522</td>\n",
       "      <td>887</td>\n",
       "      <td>58.9</td>\n",
       "    </tr>\n",
       "  </tbody>\n",
       "</table>\n",
       "</div>"
      ],
      "text/plain": [
       "   show_start_year  box_office  punumber  proportion\n",
       "0             2010          88       757        11.6\n",
       "1             2011          98       475        20.6\n",
       "2             2012         115       516        22.3\n",
       "3             2013         176       589        29.9\n",
       "4             2014         257       728        35.3\n",
       "5             2015         431       661        65.2\n",
       "6             2016         500       770        64.9\n",
       "7             2017         356       498        71.5\n",
       "8             2018         471       864        54.5\n",
       "9             2019         522       887        58.9"
      ]
     },
     "metadata": {},
     "output_type": "display_data"
    }
   ],
   "source": [
    "film_count_year = data.pivot_table(index= 'show_start_year', values=['punumber', 'box_office']\\\n",
    "                                   ,aggfunc='count')\n",
    "film_count_year = film_count_year.reset_index()\n",
    "film_count_year['proportion'] = film_count_year['box_office']/film_count_year['punumber']*100\n",
    "display(film_count_year)\n"
   ]
  },
  {
   "cell_type": "markdown",
   "metadata": {},
   "source": [
    "<div class=\"alert alert-info\">\n",
    "    \n",
    "Создадим переменную `film_count_year`, в нее запишем сводную таблицу сгруппированную по годам выхода картин. В таблице в колонке `box_office` указано количество картин показанных в кинотеатрах, а в колонке `punumber` общее количество картин получивших прокатные удостоверения. Далее добавим колонку `proportion` в которой посчитаем долю показанных картин от общего количества. \n",
    "    Из полученной таблицы, мы видим, что доля картин вышедших в прокат расла от года к году, если в **2010** году доля составляла **11,6%**, то в **2011** уже **20,6%**, в **2012** **22,3%**. Рост продолжался до **2017** года, где доля картин составила **71,5%**. В **2018** году произошло снижение до **54,5%**, но уже **2019** вновь показало рост до **58,9%**. При этом график общего количество картин не коррелируется с долей проката. В **2010** было снято **757** картин. В **2011** число картин **475** что является минимальным значением за весь период выборки, а в **2014-2016** число картин было в среднем **730**. В **2017** видим падение до **498**, в **2018** замечаем резкий рост до уровня в **864** картину, а в **2019** наблюдаем значение в **887** картин, что является максимальным значением за рассматриваемый период выборки. \n",
    "\n",
    "</div>"
   ]
  },
  {
   "cell_type": "code",
   "execution_count": 65,
   "metadata": {},
   "outputs": [
    {
     "data": {
      "image/png": "[encoded data removed]",
      "text/plain": [
       "<Figure size 432x288 with 1 Axes>"
      ]
     },
     "metadata": {
      "needs_background": "light"
     },
     "output_type": "display_data"
    }
   ],
   "source": [
    "height = film_count_year['punumber']\n",
    "bars = film_count_year['show_start_year']\n",
    "y_pos = np.arange(len(bars))\n",
    "plt.bar(y_pos, height)\n",
    "plt.xticks(y_pos, bars)\n",
    "\n",
    "height = film_count_year['box_office']\n",
    "bars = film_count_year['show_start_year']\n",
    "y_pos = np.arange(len(bars))\n",
    "plt.bar(y_pos, height)\n",
    "plt.xticks(y_pos, bars)\n",
    "\n",
    "plt.title('Пропорция картин вышедших в прокат')\n",
    "plt.xlabel('Год примьеры картины')\n",
    "plt.ylabel('Количество картин')\n",
    "\n",
    "plt.show()"
   ]
  },
  {
   "cell_type": "markdown",
   "metadata": {},
   "source": [
    "<div class=\"alert alert-info\">\n",
    "    \n",
    "Визуализируем наши наблюдения в гистограмме. \n",
    "\n",
    "</div>"
   ]
  },
  {
   "cell_type": "markdown",
   "metadata": {
    "id": "6t4EukPLgFyV"
   },
   "source": [
    "#### Динамика проката по годам \n"
   ]
  },
  {
   "cell_type": "markdown",
   "metadata": {
    "id": "BEOdcIrIgFyW"
   },
   "source": [
    "- Изучите, как менялась динамика проката по годам. В каком году сумма сборов была минимальной? А максимальной?"
   ]
  },
  {
   "cell_type": "code",
   "execution_count": 66,
   "metadata": {
    "id": "tfEhofYvgFyX"
   },
   "outputs": [
    {
     "data": {
      "text/html": [
       "<div>\n",
       "<style scoped>\n",
       "    .dataframe tbody tr th:only-of-type {\n",
       "        vertical-align: middle;\n",
       "    }\n",
       "\n",
       "    .dataframe tbody tr th {\n",
       "        vertical-align: top;\n",
       "    }\n",
       "\n",
       "    .dataframe thead th {\n",
       "        text-align: right;\n",
       "    }\n",
       "</style>\n",
       "<table border=\"1\" class=\"dataframe\">\n",
       "  <thead>\n",
       "    <tr style=\"text-align: right;\">\n",
       "      <th></th>\n",
       "      <th>show_start_year</th>\n",
       "      <th>box_office</th>\n",
       "      <th>box_diff</th>\n",
       "    </tr>\n",
       "  </thead>\n",
       "  <tbody>\n",
       "    <tr>\n",
       "      <th>0</th>\n",
       "      <td>2010</td>\n",
       "      <td>2374340.0</td>\n",
       "      <td>NaN</td>\n",
       "    </tr>\n",
       "    <tr>\n",
       "      <th>1</th>\n",
       "      <td>2011</td>\n",
       "      <td>13944390.0</td>\n",
       "      <td>11570050.0</td>\n",
       "    </tr>\n",
       "    <tr>\n",
       "      <th>2</th>\n",
       "      <td>2012</td>\n",
       "      <td>6420761.0</td>\n",
       "      <td>-7523629.0</td>\n",
       "    </tr>\n",
       "    <tr>\n",
       "      <th>3</th>\n",
       "      <td>2013</td>\n",
       "      <td>29768531.2</td>\n",
       "      <td>23347770.2</td>\n",
       "    </tr>\n",
       "    <tr>\n",
       "      <th>4</th>\n",
       "      <td>2014</td>\n",
       "      <td>7372598571.6</td>\n",
       "      <td>7342830040.4</td>\n",
       "    </tr>\n",
       "    <tr>\n",
       "      <th>5</th>\n",
       "      <td>2015</td>\n",
       "      <td>32084649858.4</td>\n",
       "      <td>24712051286.8</td>\n",
       "    </tr>\n",
       "    <tr>\n",
       "      <th>6</th>\n",
       "      <td>2016</td>\n",
       "      <td>43731250162.3</td>\n",
       "      <td>11646600304.0</td>\n",
       "    </tr>\n",
       "    <tr>\n",
       "      <th>7</th>\n",
       "      <td>2017</td>\n",
       "      <td>48561554266.5</td>\n",
       "      <td>4830304104.2</td>\n",
       "    </tr>\n",
       "    <tr>\n",
       "      <th>8</th>\n",
       "      <td>2018</td>\n",
       "      <td>47970952311.3</td>\n",
       "      <td>-590601955.2</td>\n",
       "    </tr>\n",
       "    <tr>\n",
       "      <th>9</th>\n",
       "      <td>2019</td>\n",
       "      <td>48409400346.6</td>\n",
       "      <td>438448035.3</td>\n",
       "    </tr>\n",
       "  </tbody>\n",
       "</table>\n",
       "</div>"
      ],
      "text/plain": [
       "   show_start_year    box_office      box_diff\n",
       "0             2010     2374340.0           NaN\n",
       "1             2011    13944390.0    11570050.0\n",
       "2             2012     6420761.0    -7523629.0\n",
       "3             2013    29768531.2    23347770.2\n",
       "4             2014  7372598571.6  7342830040.4\n",
       "5             2015 32084649858.4 24712051286.8\n",
       "6             2016 43731250162.3 11646600304.0\n",
       "7             2017 48561554266.5  4830304104.2\n",
       "8             2018 47970952311.3  -590601955.2\n",
       "9             2019 48409400346.6   438448035.3"
      ]
     },
     "metadata": {},
     "output_type": "display_data"
    }
   ],
   "source": [
    "film_sum_box_year = data.pivot_table(index= 'show_start_year',\\\n",
    "                                     values= 'box_office', aggfunc='sum')\n",
    "film_sum_box_year = film_sum_box_year.reset_index()\n",
    "film_sum_box_year['box_diff'] = film_sum_box_year['box_office'].diff()\n",
    "display(film_sum_box_year)"
   ]
  },
  {
   "cell_type": "markdown",
   "metadata": {},
   "source": [
    "<div class=\"alert alert-info\">\n",
    "    \n",
    "Изучим данные о прокате (сборах), для этого выведем сводную таблицу, где данные о прокате сумированы и сгруппированы по годам. Так же добавим колонку `box_diff` где при помощи функции `diff` посчитаем разнецу значений к предидущему году. \n",
    "    В **2010** году наблюдаем минимальные значения в **2 374 340**, а уже через год сумма воросла до **13 944 390**. В **2012** году падение в два раза, до отметки **6 420 761**, а с **2013** начинается устойчивый рост с **29 768 531**, вплоть до **2017** где значения показывают максимум и составляют **48 561 554 266**.\n",
    "\n",
    "</div>"
   ]
  },
  {
   "cell_type": "code",
   "execution_count": 67,
   "metadata": {},
   "outputs": [
    {
     "data": {
      "image/png": "[encoded data removed]",
      "text/plain": [
       "<Figure size 432x288 with 1 Axes>"
      ]
     },
     "metadata": {
      "needs_background": "light"
     },
     "output_type": "display_data"
    }
   ],
   "source": [
    "height = film_sum_box_year['box_office']\n",
    "bars = film_sum_box_year['show_start_year']\n",
    "y_pos = np.arange(len(bars))\n",
    "plt.bar(y_pos, height)\n",
    "plt.xticks(y_pos, bars)\n",
    "\n",
    "plt.title('Распределение суммы проката по годам')\n",
    "plt.xlabel('Год примьеры картины')\n",
    "plt.ylabel('Сумма проката')\n",
    "\n",
    "plt.show()"
   ]
  },
  {
   "cell_type": "markdown",
   "metadata": {},
   "source": [
    "<div class=\"alert alert-info\">\n",
    "    \n",
    "Визуализируем наши наблюдения в гистограмме. Из за очень малых значений с **2010** по **2013** год они не видны на графике.\n",
    "\n",
    "</div>"
   ]
  },
  {
   "cell_type": "markdown",
   "metadata": {
    "id": "6t4EukPLgFyV"
   },
   "source": [
    "#### Среднее и медианное значение сборов по годам\n"
   ]
  },
  {
   "cell_type": "code",
   "execution_count": 68,
   "metadata": {
    "id": "jmp-rgg9gFyY"
   },
   "outputs": [
    {
     "data": {
      "text/html": [
       "<div>\n",
       "<style scoped>\n",
       "    .dataframe tbody tr th:only-of-type {\n",
       "        vertical-align: middle;\n",
       "    }\n",
       "\n",
       "    .dataframe tbody tr th {\n",
       "        vertical-align: top;\n",
       "    }\n",
       "\n",
       "    .dataframe thead th {\n",
       "        text-align: right;\n",
       "    }\n",
       "</style>\n",
       "<table border=\"1\" class=\"dataframe\">\n",
       "  <thead>\n",
       "    <tr style=\"text-align: right;\">\n",
       "      <th></th>\n",
       "      <th>show_start_year</th>\n",
       "      <th>mean</th>\n",
       "      <th>median</th>\n",
       "      <th>difference</th>\n",
       "    </tr>\n",
       "  </thead>\n",
       "  <tbody>\n",
       "    <tr>\n",
       "      <th>0</th>\n",
       "      <td>2010</td>\n",
       "      <td>26981.1</td>\n",
       "      <td>1868.0</td>\n",
       "      <td>25113.1</td>\n",
       "    </tr>\n",
       "    <tr>\n",
       "      <th>1</th>\n",
       "      <td>2011</td>\n",
       "      <td>142289.7</td>\n",
       "      <td>3042.5</td>\n",
       "      <td>139247.2</td>\n",
       "    </tr>\n",
       "    <tr>\n",
       "      <th>2</th>\n",
       "      <td>2012</td>\n",
       "      <td>55832.7</td>\n",
       "      <td>6655.0</td>\n",
       "      <td>49177.7</td>\n",
       "    </tr>\n",
       "    <tr>\n",
       "      <th>3</th>\n",
       "      <td>2013</td>\n",
       "      <td>169139.4</td>\n",
       "      <td>3565.0</td>\n",
       "      <td>165574.4</td>\n",
       "    </tr>\n",
       "    <tr>\n",
       "      <th>4</th>\n",
       "      <td>2014</td>\n",
       "      <td>28687154.0</td>\n",
       "      <td>22490.0</td>\n",
       "      <td>28664664.0</td>\n",
       "    </tr>\n",
       "    <tr>\n",
       "      <th>5</th>\n",
       "      <td>2015</td>\n",
       "      <td>74442343.1</td>\n",
       "      <td>4327265.7</td>\n",
       "      <td>70115077.4</td>\n",
       "    </tr>\n",
       "    <tr>\n",
       "      <th>6</th>\n",
       "      <td>2016</td>\n",
       "      <td>87462500.3</td>\n",
       "      <td>3650260.9</td>\n",
       "      <td>83812239.4</td>\n",
       "    </tr>\n",
       "    <tr>\n",
       "      <th>7</th>\n",
       "      <td>2017</td>\n",
       "      <td>136408860.3</td>\n",
       "      <td>10177833.5</td>\n",
       "      <td>126231026.8</td>\n",
       "    </tr>\n",
       "    <tr>\n",
       "      <th>8</th>\n",
       "      <td>2018</td>\n",
       "      <td>101849155.7</td>\n",
       "      <td>8891102.2</td>\n",
       "      <td>92958053.4</td>\n",
       "    </tr>\n",
       "    <tr>\n",
       "      <th>9</th>\n",
       "      <td>2019</td>\n",
       "      <td>92738314.8</td>\n",
       "      <td>4774520.5</td>\n",
       "      <td>87963794.3</td>\n",
       "    </tr>\n",
       "  </tbody>\n",
       "</table>\n",
       "</div>"
      ],
      "text/plain": [
       "   show_start_year        mean     median  difference\n",
       "0             2010     26981.1     1868.0     25113.1\n",
       "1             2011    142289.7     3042.5    139247.2\n",
       "2             2012     55832.7     6655.0     49177.7\n",
       "3             2013    169139.4     3565.0    165574.4\n",
       "4             2014  28687154.0    22490.0  28664664.0\n",
       "5             2015  74442343.1  4327265.7  70115077.4\n",
       "6             2016  87462500.3  3650260.9  83812239.4\n",
       "7             2017 136408860.3 10177833.5 126231026.8\n",
       "8             2018 101849155.7  8891102.2  92958053.4\n",
       "9             2019  92738314.8  4774520.5  87963794.3"
      ]
     },
     "metadata": {},
     "output_type": "display_data"
    }
   ],
   "source": [
    "film_mm_box_year = data.pivot_table(index= 'show_start_year',\\\n",
    "                                     values= 'box_office', aggfunc= ['mean', 'median'])\n",
    "film_mm_box_year.columns = ['mean', 'median']\n",
    "film_mm_box_year = film_mm_box_year.reset_index()\n",
    "film_mm_box_year['difference'] = film_mm_box_year['mean']-film_mm_box_year['median']\n",
    "display(film_mm_box_year)"
   ]
  },
  {
   "cell_type": "markdown",
   "metadata": {},
   "source": [
    "<div class=\"alert alert-info\">\n",
    "    \n",
    "Выведем сводную таблицу по сборам, сгруппируем по годам и добавим среднее и медианное значение. Еще добавим колонку с разницей значений. Наблюдаем, что с **2010** по **2013** год среднее значение не превышает **169 139**, при этом разница с медианным значением более чем в **10** раз. В **2014** году происходит резкий рост среднего значения до показателей в **28 687 154**, при этом медиана на уровне **22 490**. Рост продолжается по **2017** года, где оба значения показывают свои максимумы, среднее значение **136 408 860**, медиана **10 177 833**. \n",
    "\n",
    "</div>"
   ]
  },
  {
   "cell_type": "markdown",
   "metadata": {
    "id": "6t4EukPLgFyV"
   },
   "source": [
    "#### Влияние возрастной категории на сборы в прокате\n"
   ]
  },
  {
   "cell_type": "code",
   "execution_count": 69,
   "metadata": {
    "id": "jsSbEqfjgFya"
   },
   "outputs": [
    {
     "data": {
      "text/plain": [
       "array(['«18+» - запрещено для детей', '«6+» - для детей старше 6 лет',\n",
       "       '«12+» - для детей старше 12 лет',\n",
       "       '«16+» - для детей старше 16 лет',\n",
       "       '«0+» - для любой зрительской аудитории'], dtype=object)"
      ]
     },
     "execution_count": 69,
     "metadata": {},
     "output_type": "execute_result"
    }
   ],
   "source": [
    "data['age_restriction'].unique()"
   ]
  },
  {
   "cell_type": "code",
   "execution_count": 70,
   "metadata": {},
   "outputs": [
    {
     "data": {
      "text/html": [
       "<div>\n",
       "<style scoped>\n",
       "    .dataframe tbody tr th:only-of-type {\n",
       "        vertical-align: middle;\n",
       "    }\n",
       "\n",
       "    .dataframe tbody tr th {\n",
       "        vertical-align: top;\n",
       "    }\n",
       "\n",
       "    .dataframe thead th {\n",
       "        text-align: right;\n",
       "    }\n",
       "</style>\n",
       "<table border=\"1\" class=\"dataframe\">\n",
       "  <thead>\n",
       "    <tr style=\"text-align: right;\">\n",
       "      <th></th>\n",
       "      <th>show_start_year</th>\n",
       "      <th>0+</th>\n",
       "      <th>12+</th>\n",
       "      <th>16+</th>\n",
       "      <th>18+</th>\n",
       "      <th>6+</th>\n",
       "    </tr>\n",
       "  </thead>\n",
       "  <tbody>\n",
       "    <tr>\n",
       "      <th>5</th>\n",
       "      <td>2015</td>\n",
       "      <td>273367767.8</td>\n",
       "      <td>11957220583.4</td>\n",
       "      <td>8274253188.9</td>\n",
       "      <td>3184097943.0</td>\n",
       "      <td>8395710375.3</td>\n",
       "    </tr>\n",
       "    <tr>\n",
       "      <th>6</th>\n",
       "      <td>2016</td>\n",
       "      <td>149989021.7</td>\n",
       "      <td>12178337053.0</td>\n",
       "      <td>14359349614.8</td>\n",
       "      <td>4990430064.6</td>\n",
       "      <td>12053144408.2</td>\n",
       "    </tr>\n",
       "    <tr>\n",
       "      <th>7</th>\n",
       "      <td>2017</td>\n",
       "      <td>229598930.0</td>\n",
       "      <td>7851427660.7</td>\n",
       "      <td>18742889949.1</td>\n",
       "      <td>9651495581.0</td>\n",
       "      <td>12086142145.8</td>\n",
       "    </tr>\n",
       "    <tr>\n",
       "      <th>8</th>\n",
       "      <td>2018</td>\n",
       "      <td>32449002.1</td>\n",
       "      <td>14267250435.7</td>\n",
       "      <td>14820922307.9</td>\n",
       "      <td>8745355942.1</td>\n",
       "      <td>10104974623.4</td>\n",
       "    </tr>\n",
       "    <tr>\n",
       "      <th>9</th>\n",
       "      <td>2019</td>\n",
       "      <td>17746066.8</td>\n",
       "      <td>12676553693.7</td>\n",
       "      <td>12748542668.1</td>\n",
       "      <td>10114009267.2</td>\n",
       "      <td>12852548650.9</td>\n",
       "    </tr>\n",
       "  </tbody>\n",
       "</table>\n",
       "</div>"
      ],
      "text/plain": [
       "   show_start_year          0+           12+           16+           18+  \\\n",
       "5             2015 273367767.8 11957220583.4  8274253188.9  3184097943.0   \n",
       "6             2016 149989021.7 12178337053.0 14359349614.8  4990430064.6   \n",
       "7             2017 229598930.0  7851427660.7 18742889949.1  9651495581.0   \n",
       "8             2018  32449002.1 14267250435.7 14820922307.9  8745355942.1   \n",
       "9             2019  17746066.8 12676553693.7 12748542668.1 10114009267.2   \n",
       "\n",
       "             6+  \n",
       "5  8395710375.3  \n",
       "6 12053144408.2  \n",
       "7 12086142145.8  \n",
       "8 10104974623.4  \n",
       "9 12852548650.9  "
      ]
     },
     "metadata": {},
     "output_type": "display_data"
    }
   ],
   "source": [
    "data_age = data.pivot_table(index= 'show_start_year', \\\n",
    "                            columns= 'age_restriction', values= 'box_office', aggfunc= 'sum')\n",
    "data_age.columns = ['0+', '12+', '16+', '18+', '6+']\n",
    "data_age = data_age.reset_index()\n",
    "data_age_filter = data_age[data_age['show_start_year']>=2015]\n",
    "display(data_age_filter)"
   ]
  },
  {
   "cell_type": "markdown",
   "metadata": {},
   "source": [
    "<div class=\"alert alert-info\">\n",
    "    \n",
    "Создадим сводную таблицу, где сгруппируем по годам данные по сборам отсортированные по возрастным категориям. Уберем из выборки данные старше **2015** года. \n",
    "\n",
    "</div>"
   ]
  },
  {
   "cell_type": "code",
   "execution_count": 71,
   "metadata": {},
   "outputs": [
    {
     "data": {
      "text/html": [
       "<div>\n",
       "<style scoped>\n",
       "    .dataframe tbody tr th:only-of-type {\n",
       "        vertical-align: middle;\n",
       "    }\n",
       "\n",
       "    .dataframe tbody tr th {\n",
       "        vertical-align: top;\n",
       "    }\n",
       "\n",
       "    .dataframe thead th {\n",
       "        text-align: right;\n",
       "    }\n",
       "</style>\n",
       "<table border=\"1\" class=\"dataframe\">\n",
       "  <thead>\n",
       "    <tr style=\"text-align: right;\">\n",
       "      <th></th>\n",
       "      <th>show_start_year</th>\n",
       "      <th>0+</th>\n",
       "      <th>12+</th>\n",
       "      <th>16+</th>\n",
       "      <th>18+</th>\n",
       "      <th>6+</th>\n",
       "    </tr>\n",
       "  </thead>\n",
       "  <tbody>\n",
       "    <tr>\n",
       "      <th>5</th>\n",
       "      <td>2015</td>\n",
       "      <td>36.0</td>\n",
       "      <td>72.0</td>\n",
       "      <td>158.0</td>\n",
       "      <td>116.0</td>\n",
       "      <td>49.0</td>\n",
       "    </tr>\n",
       "    <tr>\n",
       "      <th>6</th>\n",
       "      <td>2016</td>\n",
       "      <td>39.0</td>\n",
       "      <td>80.0</td>\n",
       "      <td>167.0</td>\n",
       "      <td>146.0</td>\n",
       "      <td>68.0</td>\n",
       "    </tr>\n",
       "    <tr>\n",
       "      <th>7</th>\n",
       "      <td>2017</td>\n",
       "      <td>3.0</td>\n",
       "      <td>41.0</td>\n",
       "      <td>120.0</td>\n",
       "      <td>147.0</td>\n",
       "      <td>45.0</td>\n",
       "    </tr>\n",
       "    <tr>\n",
       "      <th>8</th>\n",
       "      <td>2018</td>\n",
       "      <td>5.0</td>\n",
       "      <td>66.0</td>\n",
       "      <td>155.0</td>\n",
       "      <td>177.0</td>\n",
       "      <td>68.0</td>\n",
       "    </tr>\n",
       "    <tr>\n",
       "      <th>9</th>\n",
       "      <td>2019</td>\n",
       "      <td>3.0</td>\n",
       "      <td>83.0</td>\n",
       "      <td>176.0</td>\n",
       "      <td>179.0</td>\n",
       "      <td>81.0</td>\n",
       "    </tr>\n",
       "  </tbody>\n",
       "</table>\n",
       "</div>"
      ],
      "text/plain": [
       "   show_start_year   0+  12+   16+   18+   6+\n",
       "5             2015 36.0 72.0 158.0 116.0 49.0\n",
       "6             2016 39.0 80.0 167.0 146.0 68.0\n",
       "7             2017  3.0 41.0 120.0 147.0 45.0\n",
       "8             2018  5.0 66.0 155.0 177.0 68.0\n",
       "9             2019  3.0 83.0 176.0 179.0 81.0"
      ]
     },
     "metadata": {},
     "output_type": "display_data"
    }
   ],
   "source": [
    "data_age_counts = data.pivot_table(index= 'show_start_year', \\\n",
    "                            columns= 'age_restriction', values= 'box_office', aggfunc= 'count')\n",
    "data_age_counts.columns = ['0+', '12+', '16+', '18+', '6+']\n",
    "data_age_counts = data_age_counts.reset_index()\n",
    "data_age_counts_filter = data_age_counts[data_age_counts['show_start_year']>=2015]\n",
    "display(data_age_counts_filter)"
   ]
  },
  {
   "cell_type": "markdown",
   "metadata": {},
   "source": [
    "<div class=\"alert alert-info\">\n",
    "    \n",
    "Создадим сводную таблицу, где сгруппируем по годам данные о количестве выпущенных в прокат картин и отсортируем по возрастным категориям. Уберем из выборки данные старше **2015** года. \n",
    "\n",
    "</div>"
   ]
  },
  {
   "cell_type": "code",
   "execution_count": 72,
   "metadata": {},
   "outputs": [
    {
     "data": {
      "image/png": "[encoded data removed]",
      "text/plain": [
       "<Figure size 432x288 with 1 Axes>"
      ]
     },
     "metadata": {
      "needs_background": "light"
     },
     "output_type": "display_data"
    }
   ],
   "source": [
    "data_age_counts_filter.plot(x= 'show_start_year')\n",
    "plt.grid(True)\n",
    "plt.title('Количество выпущенных в прокат картин')\n",
    "plt.xlabel('Год примьеры картины')\n",
    "plt.ylabel('Количество')\n",
    "plt.legend()\n",
    "plt.show()"
   ]
  },
  {
   "cell_type": "markdown",
   "metadata": {},
   "source": [
    "<div class=\"alert alert-info\">\n",
    "    \n",
    "Создадим диаграмму по количеству выпущенных картин в разных возрастных категориях и сгруппируем по годам. Видим, что категории **\"18+\"** и **\"16+\"** выпускаются чаще остальных. Категория **\"0+\"** самая редкая и выпуски по ней снижаются.   \n",
    "\n",
    "</div>"
   ]
  },
  {
   "cell_type": "code",
   "execution_count": 73,
   "metadata": {},
   "outputs": [
    {
     "data": {
      "image/png": "[encoded data removed]",
      "text/plain": [
       "<Figure size 432x288 with 1 Axes>"
      ]
     },
     "metadata": {
      "needs_background": "light"
     },
     "output_type": "display_data"
    }
   ],
   "source": [
    "data_age_filter.plot(x= 'show_start_year')\n",
    "plt.grid(True)\n",
    "plt.title('Сумма проката по возрастным категориям')\n",
    "plt.xlabel('Год примьеры картины')\n",
    "plt.ylabel('Сумма')\n",
    "plt.legend()\n",
    "plt.show()"
   ]
  },
  {
   "cell_type": "markdown",
   "metadata": {},
   "source": [
    "<div class=\"alert alert-info\">\n",
    "    \n",
    "Выведем диаграмму категорий по годам наблюдения. В первую очередь выделяется категория **\"0+\"** сумма проката в этой категории не превышает **273 367 767** и это максимальное значение показанное в **2015** году, дальше эта категория показывает снижение до уровня **17 746 066** в **2019** и это минимальное значение в группе.\\\n",
    "    На втором месте самая возростная категория **\"18+\"**. С **2015** данная група демонстрирует рост с **3 184 097 943** в **2015** до **10 114 009 267** в **2019**.\\\n",
    "    В категории **\"6+\"** замечаем колебания, в **2015** значения **8 395 710 375**, затем рост в **2016** до уровня **12 053 144 408**, а в **2018** падение до уровня **10 104 974 623**, но в **2019** рост компенсировал падение и установил максимум в своей группе показав значение в **12 852 548 650**.\\\n",
    "    В категориях **\"12+\"** и **\"16+\"** замечаем зависимость, когда одна растет, вторая показывает падение. В **2015** году значения были на уровне **12 178 337 053** у **\"12+\"** и **14 359 349 614** у **\"16+\"**, а к **2017** году значения были на уровне **7 851 427 660** у **\"12+\"** и **18 742 889 949** у **\"16+\"**. Таким образом категория **\"16+\"** в **2017** году показала абсолютный максимум по всем группам. 2018 году категория **\"12+\"** показывает хороший рост до **14 267 250 435**, а категория **\"16+\"** снижается до **14 820 922 307**.\\\n",
    "    В **2019** категории **\"16+\"** и **\"12+\"** показывают снижение на фоне роста категории **\"6+\"** и все три категории останавливаются в пределах **12 700 000 000**.\n",
    "\n",
    "</div>"
   ]
  },
  {
   "cell_type": "markdown",
   "metadata": {
    "id": "l_Kg6Ku4gFya"
   },
   "source": [
    "### Шаг 4. Исследуем фильмы, которые получили государственную поддержку"
   ]
  },
  {
   "cell_type": "code",
   "execution_count": 74,
   "metadata": {
    "id": "W9QKpjUdgFyb"
   },
   "outputs": [
    {
     "data": {
      "text/plain": [
       "array([nan, 'Министерство культуры', 'Фонд кино',\n",
       "       'Министерство культуры, Фонд кино'], dtype=object)"
      ]
     },
     "execution_count": 74,
     "metadata": {},
     "output_type": "execute_result"
    }
   ],
   "source": [
    "data['financing_source'].unique()"
   ]
  },
  {
   "cell_type": "markdown",
   "metadata": {},
   "source": [
    "<div class=\"alert alert-info\">\n",
    "    \n",
    "Посмотрим на данные колонки `financing_source` где указан источник государственной подддержки. В данных много пропусков, их можно заменить значением **\"нет данных\"**.   \n",
    "\n",
    "</div>"
   ]
  },
  {
   "cell_type": "code",
   "execution_count": 75,
   "metadata": {},
   "outputs": [
    {
     "data": {
      "text/plain": [
       "array(['нет_данных', 'Министерство культуры', 'Фонд кино',\n",
       "       'Министерство культуры, Фонд кино'], dtype=object)"
      ]
     },
     "execution_count": 75,
     "metadata": {},
     "output_type": "execute_result"
    }
   ],
   "source": [
    "data['financing_source'] = data['financing_source'].fillna('нет_данных')\n",
    "data['financing_source'].unique()"
   ]
  },
  {
   "cell_type": "markdown",
   "metadata": {},
   "source": [
    "<div class=\"alert alert-info\">\n",
    "    \n",
    "Пропуски заменили.   \n",
    "\n",
    "</div>"
   ]
  },
  {
   "cell_type": "code",
   "execution_count": 76,
   "metadata": {},
   "outputs": [
    {
     "data": {
      "text/plain": [
       "array(['США', 'СССР', 'Франция', 'СССР, Венгрия',\n",
       "       'Германия-Великобритания', 'Великобритания - Италия',\n",
       "       'Чехословакия', 'США - Франция - Турция', 'Новая Зеландия',\n",
       "       'Канада - Франция - Испания', 'США-Германия',\n",
       "       'США - Великобритания', 'Великобритания', 'США - Германия',\n",
       "       'Франция - Мексика - США', 'Россия, Казахстан, США',\n",
       "       'СССР, Швеция', 'СССР, Франция, Англия, Куба, ГДР', 'Германия',\n",
       "       'Великобритания-США-Германия-КНР',\n",
       "       'СССР, ЧССР, Западный Берлин, ПНР', 'СССР, Италия', 'Гонконг, КНР',\n",
       "       'США - Франция', 'США - Япония - Франция - Великобритания',\n",
       "       'Гонконг - Сингапур - Таиланд - Великобритания', 'США-Канада',\n",
       "       'Франция - Италия - Великобритания - США', 'Франция - США',\n",
       "       'Ирландия-Великобритания-Германия', 'Чехия', 'США-Австралия',\n",
       "       'СССР, Финляндия', 'США-Франция-Великобритания-Австрия',\n",
       "       'США - Бельгия', 'США - Ирландия - Великобритания',\n",
       "       'Великобритания - США',\n",
       "       'Люксембург - Нидерланды - Испания - Великобритания - США - Италия',\n",
       "       'Великобритания - Франция - США', 'Новая Зеландия - США',\n",
       "       'США - Великобритания - Чехия',\n",
       "       'Канада - Франция - Великобритания', 'Ирландия',\n",
       "       'Великобритания - Германия - США',\n",
       "       'США - Франция - Великобритания', 'Япония', 'СССР, Польша',\n",
       "       'Франция - Испания', 'Канада-Франция', 'Германия - Италия - США',\n",
       "       'Аргентина - Бразилия', 'Дания - Швейцария - Бельгия - Франция',\n",
       "       'США - Испания', 'Германия - США',\n",
       "       'Франция - Австрия - Германия - Италия - США', 'Австрия',\n",
       "       'США - Канада - Германия', 'США - Канада',\n",
       "       'СССР - Швейцария - Франция', 'Россия - Казахстан', 'Гонконг',\n",
       "       'Италия', 'США - ОАЭ', 'Россия',\n",
       "       'США - Франция - Испания - Великобритания',\n",
       "       'Великобритания - Франция', 'США-Италия-Испания-Аргентина',\n",
       "       'Франция-Великобритания', 'КНР - Гонконг',\n",
       "       'Франция - Италия - Швейцария', 'США - Новая Зеландия',\n",
       "       'Франция - Бельгия', 'КНР', 'Германия - Великобритания - Австрия',\n",
       "       'Великобритания - Израиль - Франция - Япония - США', 'Швеция',\n",
       "       'Испания', 'Дания', 'Франция - Бельгия - Люксембург',\n",
       "       'США - Индия - ОАЭ',\n",
       "       'Германия-Канада-Великобритания-Швейцария-Франция',\n",
       "       'Мексика - Чили', 'Аргентина', 'Бразилия', 'Чили', 'Австралия',\n",
       "       'Португалия - Франция', 'США - ЮАР', 'Исландия-Ирландия-Германия',\n",
       "       'США-Индонезия', 'Южная Корея', 'Мексика - Испания - Дания - США',\n",
       "       'Великобритания-США', 'Франция - Италия', 'США-Франция',\n",
       "       'США - Венгрия - Великобритания', 'Бельгия-Франция-Италия',\n",
       "       'Чехия - Германия', 'Германия - Франция', 'США-Нидерланды',\n",
       "       'Украина', 'Великобритания - Германия', 'Франция-Бельгия',\n",
       "       'США-Франция-Испания', 'Италия - Франция', 'Канада',\n",
       "       'Швеция-Франция-Дания', 'Германия-Франция-Польша',\n",
       "       'Франция-Великобритания - Германия',\n",
       "       'США - Бразилия - Франция - Австралия - Великобритания - Германия',\n",
       "       'Германия-Австрия', 'Германия-Италия- Шри-Ланка',\n",
       "       'Великобритания - Испания',\n",
       "       'США - Великобритания - Канада - Швеция',\n",
       "       'Босния и Герцеговина - Франция - Великобритания - Германия - Словения - Бельгия - Сербия',\n",
       "       'Великобритания - Франция - Италия - США', 'США-ОАЭ',\n",
       "       'Испания - Франция', 'США-Великобритания', 'США-ЮАР',\n",
       "       'Великобритания-Австралия - США',\n",
       "       'Норвегия - Швеция - Дания - Германия', 'Норвегия', 'Швейцария',\n",
       "       'Греция - Германия - Франция', 'Норвения', 'Южная Корея - США',\n",
       "       'Чили - Франция - США', 'Австрия - Германия - Франция',\n",
       "       'Швеция - Дания', 'Великобритания - Франция - Бельгия - Италия',\n",
       "       'Франция - Германия', 'Грузия - Франция - Люксембург',\n",
       "       'США - Франция - Великобритания - Бразилия ', 'США - КНР',\n",
       "       'Мексика - Франция', 'США - Германия - Гонконг - Сингапур',\n",
       "       'Финляндия - Австрия - Россия', 'Испания - Куба',\n",
       "       'Великобритания - ЮАР', 'Великобритания - Ирландия', 'Израиль',\n",
       "       'Бразилия - Германия - Порртугалия - Франция ',\n",
       "       'Франция - Канада - Бельгия', 'Франция-Испания',\n",
       "       'Испания - Канада - Япония', 'Иран', 'Швеция-Куба',\n",
       "       'США-Великобритания-Ирландия', 'Гонконг - КНР', 'Нидерланды',\n",
       "       'Испания - Канада', 'Япония-Великобритания',\n",
       "       'Великобритания - Норвегия - Дания - Германия',\n",
       "       'Финляндия - Франция - Германия',\n",
       "       'Мексика - Франция - Нидерланды - Германия', 'США - Индия',\n",
       "       'США-Великобритания-Индия', 'США-Канада-Бельгия',\n",
       "       'Республика Узбекистан', 'Италия ', 'Турция',\n",
       "       'Сербия - Словения - Хорватия - Черногория - Македония',\n",
       "       'Киргизия', 'Германия - Нидерланды - Беларусь - Россия - Латвия',\n",
       "       'Индия', 'Нидерланды - Россия - Германия',\n",
       "       'Великобритания - Нидерланды - Франция - Хорватия',\n",
       "       'Канада - Южная Корея',\n",
       "       'Великобритания - Польша - КНР - Индия - Норвегия',\n",
       "       'Япония - Франция - США - Южная Корея - Турция',\n",
       "       'Мексика - Аргентина - Великобритания', 'Израиль - Франция',\n",
       "       'Польша - Португалия - Франция - Великобритания',\n",
       "       'Австралия - США', 'США - Великобритания ',\n",
       "       'Франция - Люксембург - Бельгия', 'Армения',\n",
       "       'Бельгия - Люксембург - Франция - Швейцария',\n",
       "       'США - Великобритания - Канада', 'Норвегия - Швеция',\n",
       "       'Канада - Франция', 'КНР - Гонконг - США',\n",
       "       'США - Сингапур - Малайзия - Индонезия', 'Германия - Россия',\n",
       "       'Япония - Канада', 'Финляндия - Дания - Германия - Ирландия',\n",
       "       'Франция - Люксембург - Германия - Бельгия - Швейцария - Великобритания ',\n",
       "       'Канада - США', 'США-Италия-Испания', 'США-Испания',\n",
       "       'США - Швейцария - Франция', 'Испания - США - Колумбия',\n",
       "       'Канада-ЮАР', 'Франция - Россия',\n",
       "       'Германия - Финляндия - Австралия', 'Дания - Швеция', 'Бельгия',\n",
       "       'Германия - Франция - Австрия', 'Франция-Индия', 'ЮАР',\n",
       "       'Франция-Перу', 'Франция - Канада', 'Республика Беларусь',\n",
       "       'Великобритания - Австрия - Франция - США',\n",
       "       'Австрия-Германия-Франция', 'США-Россия', 'Германия-США',\n",
       "       'США - Южная Корея', 'Канада - КНР',\n",
       "       'Дания - Швеция - Италия - Франция - Германия',\n",
       "       'Франция-Италия-Испания-Венгрия', 'Франция - Германия - Бельгия',\n",
       "       'Франция-Великобритания-Чехия', 'Румыния - Франция - Бельгия',\n",
       "       'Болгария - Франция - Изриль',\n",
       "       'Израиль - Германия - Польша - Бельгия - Франция - Люксембург',\n",
       "       'Россия, Германия, Франция, Бельгия', 'Индонезия',\n",
       "       'Франция - Португалия', 'Великобритания - Пуэрто-Рико',\n",
       "       'СССР, ФРГ, Западный Берлин', 'Россия, Республика Беларусь',\n",
       "       'Франция - Австрия', 'Бельгия-Нидерланды',\n",
       "       'Великобритания - США - Индия', 'США - Великобритания - Австралия',\n",
       "       'Канада - Франция - США - ОАЭ - Великобритания',\n",
       "       'США - Австралия - Франция',\n",
       "       'Дания-Франция-Бельгия-Германия-Великобритания',\n",
       "       'Испания - Аргентина', 'Исландия - Финляндия',\n",
       "       'Россия-Польша-Голландия-Словакия', 'Дания - Германия - Швеция',\n",
       "       'Южная Корея - США - Канада', 'Таиланд', 'США-Мальта',\n",
       "       'США -Германия',\n",
       "       'Великобритания - Германия - Франция - Кипр - США', 'Мексика',\n",
       "       'США - Великобритания - Ирландия', 'США - Украина',\n",
       "       'США - Финляндия - Испания - Великобритания - Франция',\n",
       "       'Австралия-Великобритания',\n",
       "       'США - Канада - Афганистан - Бельгия - Франция',\n",
       "       'США - Великобритания - Германия - Новая Зеландия - Бельгия - Франция',\n",
       "       'Франция-Канада',\n",
       "       'Ирландия - Финляндия - Бельгия - Великобритания - США - Швейцария',\n",
       "       'Малайзия - США', 'Германия - Италия',\n",
       "       'США - Франция - Бельгия - Италия', 'Франция - Ирландия - Швеция',\n",
       "       'Азербайджан-Россия', 'Великобритания - Италия - Швейцария',\n",
       "       'США - Германия - Великобритания',\n",
       "       'Германия - Бельгия - США -Франция', 'США-Китай', 'Чили - Испания',\n",
       "       'Франция - Швейцария', 'Канада - Испания',\n",
       "       'США - Румыния - Великобритания', 'США - Япония',\n",
       "       'США - Россия - Франция', 'Франция-США', 'Парагвай',\n",
       "       'Германия - Канада', 'США - Канада - Великобритания',\n",
       "       'Финляндия - Канада', 'Уругвай-Мексика-Германия ', 'США - Чили',\n",
       "       'Германия - Аргентина - Нидерланды - Чили',\n",
       "       'США - Канада - Индонезия', 'Армения - Казахстан', 'Финляндия',\n",
       "       'Испания - Италия - Франция',\n",
       "       'Бельгия - Испания - Канада - Нидерланды',\n",
       "       'Великобритания - Франция - Швеция - Бельгия',\n",
       "       'Мексика - Эквадор - Канада - США - Франция - Малайзия - Италия - Аргентина - Германия - Индия  ',\n",
       "       'Франция - Бенльгия', 'Индия - Великобритания',\n",
       "       'Япония - Великобритания - Франция',\n",
       "       'Испания - Уругвай - Аргентина',\n",
       "       'Франция - Италия - Бельгия - Люксембург',\n",
       "       'Франция - Украина - Грузия - Армения',\n",
       "       'Сербия - Германия - Венгрия', 'Франция-Польша', 'Франция ',\n",
       "       'Румыния-США', 'Россия-Азербайджан',\n",
       "       'США - Нидерланды - Бельгия - Венгрия - Греция - Канада',\n",
       "       'Германия - Франция - Люксембург', 'США - Россия',\n",
       "       'Великобритания - США - Франция', 'США - Австралия - Дания',\n",
       "       'Бельгия-Франция', 'США-Мексика',\n",
       "       'Норвегия - Азербайджан - Россия - Колумбия - Великобритания - Венгрия - Румыния - Франция - Грузия',\n",
       "       'СЩА', 'Бразилия - Испания', 'Россия, Франция, Латвия',\n",
       "       'Нидерланды - США - Германия - Канада - Франция - Ирландия - Великобритания',\n",
       "       'Уругвай - Колумбия', 'США - Испания - Болгария',\n",
       "       'Армения - Германия', 'США - Великобритания- Франция - Швеция',\n",
       "       'США - Мексика', 'Австралия-Турция-США', 'Швеция - Германия',\n",
       "       'Польша - Италия - Россия', 'Франция - Бразилия',\n",
       "       'США - Канада - КНР', 'СССР, Венгрия, ЧССР, ГДР',\n",
       "       'Бельгия - Германия - Люксембург', 'СССР  ', 'СССР ', ' СССР ',\n",
       "       'США - Австралия', 'Бразилия - США',\n",
       "       'США - Великобритания - Канада - КНР', 'Франция - Чили',\n",
       "       'Франция - США - Великобритания - Колумбия - Бельгия - Россия',\n",
       "       'Дания - Великобритания - ЮАР', 'СССР   ',\n",
       "       'Россия-США-Канада-Люксембург', 'Россия - Республика Кипр',\n",
       "       'Германия - США - Швеция - Франция',\n",
       "       'Великобритания-Германия-Канада-ЮАР', ' СССР   ', 'СССР     ',\n",
       "       'Ирландия, Канада',\n",
       "       'Япония - Великобритания - Швейцария - Ирландия - Дания - Франция - Польша - Австралия - Канада  ',\n",
       "       'Великобритания, Канада', 'Бельгия - США',\n",
       "       'Великобритания - США - Россия', 'Россия-Украина',\n",
       "       'Германия - США - Великобритания - Израиль', 'Канада - Германия',\n",
       "       'США- Ю.Корея', 'Индия - Мексика',\n",
       "       'Великобритания - Франция - Республика Кипр - Швейцария - США - Сербия',\n",
       "       'Испания - Аргентина - Индия - США',\n",
       "       'Норвегия - Исландия - США - Великобритания ',\n",
       "       'Турция - Германя - Франция', 'Германия - Великобритания',\n",
       "       'Австралия - Германия', 'Мексика - Испания',\n",
       "       'Великобритания - США - Германия - Бельгия',\n",
       "       'США - Чехия - Франция', 'Россия - Италия', 'Франция-Россия',\n",
       "       'Норвегия - Дания - Швеция', 'Франция - Швейцария - Германия',\n",
       "       'Грузия - Украина', 'Россия - Эстония - Финляндия - Беларусь',\n",
       "       'США - Франция - ЮАР', 'Великобритания - США - Швейцария',\n",
       "       'Канада-США', 'Мексика - Нидерланды - Германия - Франция',\n",
       "       'США - Испания - Франция', 'США - Великобритания - КНР',\n",
       "       'США-Франция-Канада',\n",
       "       'Япония, Великобритания, Австрия, Германия, Ю.Корея',\n",
       "       'Великобритания - Ирландия - США', 'Бельгия - Италия - Франция ',\n",
       "       'Швейцария-Германия-ЮАР', 'Великобритания - США - Германия',\n",
       "       'Германия - Исландия', 'Испания - США', 'СССР    ', 'Хорватия',\n",
       "       'Финляндия - Исландия - Швеция',\n",
       "       'Канада - США - Германия - Франция',\n",
       "       'США - Великобритания - Испания', 'Ирландия-Великобритания',\n",
       "       'Аргентина - Испания', 'Австрия - Германия', ' СССР',\n",
       "       'Германия - Швейцария - Франция - Южная Корея - США',\n",
       "       'Украина - Нидерланды', 'Венгрия - Германия - Швеция',\n",
       "       'Германия - Франция -  Польша - Турция - Канада - Италия - Россия ',\n",
       "       'СССР, Афганистан', 'СССР, Монголия', 'Россия-Кипр',\n",
       "       'Россия, Грузия, Испания',\n",
       "       'Великобритания - Нидерланды - Германия - Франция - Бельгия - Австрия ',\n",
       "       'Испания - Великобритания - Франция',\n",
       "       'Дания - Норвегия - Великобритания',\n",
       "       'Бельгия - Франция - Люксембург',\n",
       "       'Италия - Франция - Швейцария - Великобритания',\n",
       "       'Франция - Бельгия - Великобритания - Испания - Германия - США',\n",
       "       'Швейцария - Израиль - Франция - Великобритания',\n",
       "       'Великобритания - США - Канада - Нидерланды - Франция',\n",
       "       'Россия, Италия', 'СССР, Албания',\n",
       "       'Россия, Украина, Республика Беларусь, Литва',\n",
       "       'Финляндия - Великобритания - Германия', 'Россия, Украина, Польша',\n",
       "       'Франция - Италия - Бельгия - КНР',\n",
       "       'Германия - Бельгия - Люксембург - Ирландия', 'КНР - Сингапур',\n",
       "       'Франция - Бельгия - Великобритания - США - Нидерланды - Канада',\n",
       "       'США - Россия - Польша - Германия - Пуэрто Рико',\n",
       "       'Франция - Бельгия - Канада', 'США ', 'Мексика - США',\n",
       "       'США - Гонконг - КНР ', 'Греция - Россия',\n",
       "       'Ирландия - Дания - Бельгия - Люксембург - Франция',\n",
       "       'Эстония - Россия',\n",
       "       'Великобритания - Исландия - Испания - Швейцария - США',\n",
       "       'Австралия - Великобритания - Бельгия - Индия',\n",
       "       'Швеция - Германия - Франция - Норвегия',\n",
       "       'Нидерланды - Бельгия - Германия - Ирландия',\n",
       "       'Нидерланды - Великобритания - Бельгия',\n",
       "       'США - Колумбия - Испания', 'Франция-Испания-Бельгия-Панама',\n",
       "       'США-Великобритания-Чехия-Румыния',\n",
       "       'Аргентина - Уругвай - Россия - Германия - Франция - Нидерланды',\n",
       "       'Швеция - Франция - Норвегия - Дания',\n",
       "       'Италия-Франция-Великобритания', 'Великобритания, Франция',\n",
       "       'Австралия, США', 'Венесуэла',\n",
       "       'Великобритания - США - Австралия - Ирландия - Германия - Куба - Канада',\n",
       "       'Южная Корея - КНР',\n",
       "       'Аргентина - Мексика - Бразилия - Франция - США', 'Швеция - США',\n",
       "       'Франция - Германия - Турция - Катар', 'Франция-Китай',\n",
       "       'Россия, Германия, Великобритания',\n",
       "       'Великобритания - Италия - Испания', 'Италия - Россия',\n",
       "       'Япония - КНР - Южная Корея', 'Россия, Германия',\n",
       "       'Россия-Ирландия', 'Македония - Франция - Великобритания',\n",
       "       'Франция - Бразилия - Италия', 'Россия-США', 'Армения-Россия',\n",
       "       'Россия, Румыния', 'Франция -  Бельгия', 'Грузия-Франция',\n",
       "       'ЮАР - США', 'Великобритания-США-Франция',\n",
       "       'Великобритания - США - Германия - Канада - Австралия',\n",
       "       'США-Ирландия', 'Россия, Республика Кипр',\n",
       "       'Германия - Люксембург - Франция', 'Россия-Франция',\n",
       "       'США - Нидерланды - Финляндия - Великобритания - Италия',\n",
       "       'Республика Кипр', 'Венгрия', 'Франция - США - Норвегия - Дания',\n",
       "       'Германия - Австрия - Ирландия', 'США - Финляндия',\n",
       "       'Италия-Великобритания', 'Россия, Испания',\n",
       "       'США - Великобритания - Болгария', 'Великобритания - Люксембург',\n",
       "       'Индия - США', 'США - Канада - Россия - Франция - Чили - Ирландия',\n",
       "       'Грузия-Россия',\n",
       "       'Дания - Австрия - Ирландия - Финляндия - Норвегия - Швеция - Нидерланды',\n",
       "       'США-КНР', 'Грузия', 'Австралия - Ирландия',\n",
       "       'Великобритания - Канада', 'Италия - Аргентина - Словения ',\n",
       "       'Испания - Франция - Нидерланды - Германия - Бельгия - Великобритания - Канада',\n",
       "       'Франция - Чехия - Бельгия',\n",
       "       'Великобритания - Франция - Германия - США',\n",
       "       'Ирландия - Великобритания - Франция - США - Германия - Нидерланды',\n",
       "       'США - Канада - Япония - КНР', 'Италия-Франция',\n",
       "       'США - Великобритания - Исландия', 'Великобритания-Франция',\n",
       "       'Франция - Германия - Нидерланды', 'Иран ',\n",
       "       'Франция - Германия - Швеция - США - Чехия - Словакия - Великобритания - Нидерланды',\n",
       "       'Франция - Канада - Н.Зеландия - США - Нидерланды - Германия - Швеция - Россия',\n",
       "       'Турция - США',\n",
       "       'Великобритания - США - Канада - Бельгия - Нидерланды - Австрия - Германия',\n",
       "       'Израиль - Франция - Германия - Палестина - США - Австрия - Великобритания',\n",
       "       'Аргентина - Франция - Испания', 'СССР, Россия',\n",
       "       'Великобритания - Франция - Италия - Индия - Дания - КНР - Бангладеш - Камбоджа - Гаити - Уганда',\n",
       "       'Италия - Франция - Швейцария',\n",
       "       'Ирландия - Великобритания - Канада', 'Перу', 'США - Норвегия',\n",
       "       'Испания-Канада', 'Китай-Гонконг', 'США - Германия - КНР',\n",
       "       'Великобритания - Новая Зеландия',\n",
       "       'Франция - Дания - Швеция - КНР',\n",
       "       'США - Великобритания - Германия - Бельгия - Дания',\n",
       "       'США - Франция - Канада - Германия - Австралия - Индия',\n",
       "       'СССР, Румыния, Франция', 'СССР, ГДР', 'Австралия-Ирландия',\n",
       "       'США - Китай', 'Великобритания - Франция - Австрия - Швеция',\n",
       "       'Россия, Таджикистан', 'Нидерланды - Бельгия - Болгария',\n",
       "       'Великобритания - Канада - США', 'Франция - Бельгия - Испания',\n",
       "       'Китай-Гонконг-США', 'Франция - Великобритания', 'США - Вьетнам',\n",
       "       'США - Германия - Франция', 'Германия - Франция - Бельгия',\n",
       "       'США - Италия',\n",
       "       'Германия - Дания - Испания - Швеция - Канада - Эстония - Франция',\n",
       "       'Княжество Андорра - Украина', 'Германия - Люксембург - Бельгия',\n",
       "       'Великобритания - Россия - Украина - США',\n",
       "       'Германия - Бельгия - Люксембург - Норвегия',\n",
       "       'США - Австралия - Новая Зеландия - Великобритания',\n",
       "       'США - Франция - Канада - Великобритания', 'Испания-Колумбия',\n",
       "       'Великобритания - Чехия - Франция', 'Россия, Украина', 'Исландия',\n",
       "       'Великобритания - Франция - Венгрия',\n",
       "       'Россия, Франция, Германия, Бельгия', 'Франция - Македония',\n",
       "       'Нидерланды - Франция - Германия - Бельгия - Швеция - Великобритания',\n",
       "       'Испания - США - Великобритания - Канада', 'Германия - Австрия',\n",
       "       'Республика Казахстан',\n",
       "       'Франция - Испания - Дания - Венгрия - Швейцария', 'Франция-КНР',\n",
       "       'США - Пуэрто-Рико - Франция ', 'Мексика - Тайвань - США',\n",
       "       'Великобритания - Испания - Непал - Индия - Венгрия - Гонконг - Германия - Дания - Бахрейн',\n",
       "       'Великобритания - Аргентина - США - Франция - Россия - Испания',\n",
       "       'КНР - США', 'Италия - США', 'Финляндия - Швеция - Германия',\n",
       "       'Канада- Испания', 'Франция - Бельгия - Чехия',\n",
       "       'Франция-Бельгия-Канада', 'Франция - Германия - США',\n",
       "       'США - Дания', 'Индия - КНР', 'Чехия-Великобритания-США',\n",
       "       'США-ФРГ-Россия', 'Ирландия-Нидерланды-Франция-США-Великобритания',\n",
       "       'Россия, Грузия, Хорватия, Испания',\n",
       "       'Финляндия - Швеция - Норвегия', 'Сербия - Великобритания - США',\n",
       "       'США - Великобритания - Франция - Гонконг', 'Швейцария - Франция',\n",
       "       'Швейцария - Великобритания', 'ОАЭ - США',\n",
       "       'США - Франция - Германия - Канада - Австралия ',\n",
       "       'Германия - Австралия', 'Иран, Франция',\n",
       "       'США - Великобритания - Новая Зеландия', 'США-Колумбия',\n",
       "       'США-Франция-Ирландия', 'Великобритания - Франция - Бельгия',\n",
       "       'США - Великобритания - Япония', 'США - Франция - Германия',\n",
       "       'Польша - Ирландия', 'Ирландия - Великобритания - Франция - США',\n",
       "       'США - Бельгия - Великобритания', 'СССР, ВНР',\n",
       "       'Испания - Франция - США - Великобритания - Бельгия',\n",
       "       'Франция - Дания - США', 'США - Гонконг', 'Бразилия - К;анада',\n",
       "       'Франция-Германия', 'США - Колумбия',\n",
       "       'США - Ирландия - Великобритания - Франция',\n",
       "       'Великобритания - США - Канада', 'Польша - Франция',\n",
       "       'Канада - США - Нидерланды - Великобритания - Аргентина',\n",
       "       'Великобритания - Дания', 'Франция - Бельгия - Япония',\n",
       "       'Россия,  Испания', 'Франция -Бельгия',\n",
       "       'США - Канада - Германия - Франция', 'США-Канада-Франция',\n",
       "       'Россия - Германия', 'Россия-Италия', 'Китай - Гонконг',\n",
       "       'Германия-Австрия-Франция-Италия', 'США-Япония',\n",
       "       'США - Германия - Канада', 'Испания-Мексика',\n",
       "       'США - Япония - Канада - Великобритания - Германия - Франция',\n",
       "       'США -Великобритания - Австралия', 'Россия-Украина-Германия',\n",
       "       'Израиль - Франция - Великобритания - Германия', 'Корея',\n",
       "       'Россия - Болгария', 'США-Индия',\n",
       "       'Германия-Канада-Франция-Бельгия', 'Германия-Кения',\n",
       "       'Франция - Монако', 'Франция-Испания-Швейцария',\n",
       "       'Австрия-Франция-Германия', 'Румыния',\n",
       "       'США-Великобритания-Франция', 'Канада-Великобритания',\n",
       "       'Канада-Бразилия-Япония', 'Германия - Дания - Норвегия',\n",
       "       'Дания - Германия', 'СССР - Италия',\n",
       "       'СССР - ГДР - Польша - Италия',\n",
       "       'США - Испания - Франция - Великобритания', 'Китай',\n",
       "       'Мексика-Аргентина',\n",
       "       'Германия - Великобритания - Италия - Испания',\n",
       "       'Франция-Германия-Великобритания', 'Россия - Германия - Швейцария',\n",
       "       'Франция-Австралия', 'Голландия', 'Швейцария-Франция',\n",
       "       'Россия-Белоруссия', 'Франция - Испания - Тайвань',\n",
       "       'США-Южная Корея-Новая Зеландия', 'Великобритания-Венгрия',\n",
       "       'Россия-Германия', 'Великобритания-Франция-Германия',\n",
       "       'Франция-Германия-Италия', 'Швеция-Финляндия-Франция-Норвегия',\n",
       "       'Франция-Италия', 'Германия-Израиль',\n",
       "       'Швеция - Германия - Дания - Норвегия', 'США-Бельгия',\n",
       "       'Франция-Гонконг-Ирландия', 'Эстония', 'Литва-Россия-Украина',\n",
       "       'Германия - Италия - Франция',\n",
       "       'Великобритания - Австрия - Германия', 'Бельгия - Франция',\n",
       "       'Россия-Казахстан', 'Испания - Мальта',\n",
       "       'Франция-Россия-Румыния-Италия-Бельгия', 'Россия - Польша',\n",
       "       'Испания - Мексика', 'США-Аргентина', 'Великобритания ',\n",
       "       'Израиль-США-Франция', 'США - Новая Зеландия - Япония',\n",
       "       'Франция - Чехия - Великобритания', 'Россия-Польша',\n",
       "       'Германия-Франция-Великобритания', 'США-Германия-Канада',\n",
       "       'США-Гонконг-Китай', 'США - Великобритания - Германия',\n",
       "       'США-Канада-Австралия', 'Япония-США-Франция',\n",
       "       'Франция-Испания-Германия', 'США - Хорватия - Босния-Герцеговина',\n",
       "       'Великобритания - Чехия - Франция - Италия',\n",
       "       'США - Германия - Нидерланды', 'Германия - Франция - Канада',\n",
       "       'Франция-Грузия-Германия-Россия-Украина-Бельгия',\n",
       "       'Великобритания - Франция - Италия', 'Россия - США',\n",
       "       'Франция - Италия - Иран', 'Россия - Азербайджан', 'Греция',\n",
       "       'Дания - США', 'США-Великобритания-Новая Зеландия',\n",
       "       'США-Германия-Австралия', 'США-Канада-Италия',\n",
       "       'США - Япония - Германия', 'Австралия-США',\n",
       "       'Франция - Великобритания - Багамские острова - США',\n",
       "       'Швейцария - Люксембург', 'Швейцария - Австрия',\n",
       "       'Германия - Швейцария', 'Дания-Швеция-Франция-Германия', 'Польша',\n",
       "       'Швейцария-Австрия', 'Бразилия - Канада - США',\n",
       "       'Нидерланды - Россия', 'Португалия', 'Франция-Аргентина',\n",
       "       'Швеция-Франция', 'Франция-Украина', 'Германия-Украина-Нидерланды',\n",
       "       'Италия-Швейцария', 'США-Германия-Великобритания',\n",
       "       'Латвия - Россия', 'Германия-Франция-Великобритания-США',\n",
       "       'Канада - Италия', 'США - Объединенные Арабские Эмираты',\n",
       "       'США-Венгрия', 'Малайзия', 'Россия - Германия - Украина',\n",
       "       'США - Австралия - Мексика', 'Литва - Венгрия', 'Германия - Китай',\n",
       "       'Казахстан', 'Республика Корея',\n",
       "       'США - Германия - Франция - Великобритания - Канада ',\n",
       "       'Бельгия - Германия - Люксембург - Франция', 'Франция - Греция',\n",
       "       'Италия - Канада', 'США - Великобритания - Франция',\n",
       "       'США-Италия-Греция', 'Германия - США - Великобритания - Ирландия',\n",
       "       'Великобритания - Франция - Германия',\n",
       "       'Германия - Нидерланды - ЮАР',\n",
       "       'США-Япония-Германия-Великобритания-Нидерланды',\n",
       "       'США-Япония-Германия-Великобритания',\n",
       "       'Германия - Франция - Польша',\n",
       "       'Таиланд-Великобритания-Франция-Германия-Испания-Нидерланды',\n",
       "       'Германия-Италия-Швейцария',\n",
       "       'Дания - Швеция - Великобритания - Франция - Германия - Нидерланды - Норвегия - Финляндия',\n",
       "       'Франция - Великобритания - Нидерланды - Люксембург',\n",
       "       'Нидерланды-Великобритания-Франция-Италия-Япония',\n",
       "       'Финляндия-Дания-Германия-Ирландия', 'Испания-Аргентина',\n",
       "       'Великобритания - Нидерланды - Франция - США', 'Канада - Мексика',\n",
       "       'США, Франция', 'Канада-Южная Корея-США',\n",
       "       'Великобритания - Франция - Бельгия - США', 'КНР - Канада - США',\n",
       "       'Италия - Франция - Германия',\n",
       "       'Швеция - Германия - Франция - Дания', 'Франция - США - Бельгия',\n",
       "       'Украина - Германия - Латвия - Эстония', 'Австрия - Люксембург',\n",
       "       'Великобритания - КНР', 'Монголия', 'Франция - Дания',\n",
       "       'Швеция - Дания - Финляндия',\n",
       "       'Сингапур - Великобритания - Индонезия - Канада - США',\n",
       "       'США - Германия - Япония', 'Таиланд - США', 'Франция - Нидерланды',\n",
       "       'Великобритания - Румыния', 'США - Мальта',\n",
       "       'Великобритания - Германия - Нидерланды - Дания',\n",
       "       'Франция - Германия - Литва - Нидерланды - Россия',\n",
       "       'США - ЮАР - Гонконг', 'Австралия - Колумбия',\n",
       "       'Великобритания - Польша', 'США - Великобритания - Швеция',\n",
       "       'Франция - Швеция - Дания - Норвегия', 'Болгария - США',\n",
       "       'СССР, ФРГ', 'Бельгия - Нидерланды - Франция',\n",
       "       'Финляндия - Германия', 'Болгария',\n",
       "       'Грузия - Россия - Украина - Хорватия - Германия',\n",
       "       'Франция - Люксембург', 'Франция - Германия - Австрия',\n",
       "       'Норвегия - США', 'Германия-Швеция', 'Франция - Германия - Италия',\n",
       "       'Франция-Германия-Австрия', 'КНР-США',\n",
       "       'Великобритания - Ирландия - США ',\n",
       "       'Дания - Латвия - Россия - США', 'Финляндия - Польша',\n",
       "       'Германия - Бельгия', 'Германия - США - Франция - Испания',\n",
       "       'Нидерланды - Бельгия - Люксембург', 'Канада-Германия',\n",
       "       'Люксембург - Бельгия - Франция', 'США-Великобритания-Австралия',\n",
       "       'Великобритания, Новая Зеландия', 'Бельгия, Великобритания, США',\n",
       "       'Великобритания, Австралия', 'Исландия, Бельгия',\n",
       "       'Испания - Швейцария - Великобритания - Германия - Новая Зеландия - Нидерланды - Канада',\n",
       "       'Франция, Бельгия', 'Великобритания, США', 'Киргизия-Россия',\n",
       "       'Германия, США', 'Великобритания, США, Испания',\n",
       "       'Италия - Швейцария - Германия', 'Россия, Армения',\n",
       "       'Франция, Германия', 'Китай, Канада, США', 'Германия, Австралия',\n",
       "       'КНР, США', 'США, Великобритания, Люксембург',\n",
       "       'Испания, Ирландия, Бельгия, Франция',\n",
       "       'Великобритания - Гонконг - Венгрия - США - Ирландия',\n",
       "       'США - Пуэрто Рико', 'Аргентина - Испания - Уругвай',\n",
       "       'Израиль - Германия - Франция - Швейцария',\n",
       "       'Великобритания - Мексика - США', 'Испания - Болгария - США',\n",
       "       'Россия-Словакия-Чехия',\n",
       "       'Швейцария - КНР - США - Россия - Республика Корея - Великобритания',\n",
       "       'Россия, Нидерланды, Финляндия',\n",
       "       'Испания - Бельгия - Франция - Португалия - Великобритания',\n",
       "       'Бразилия - Португалия - Франция', 'Швеция - Норвегия',\n",
       "       'Франция - Польша - Бельгия', 'CША', 'Китай, США',\n",
       "       'Италия, Франция, Германия', 'Германия - Австрия - Франция',\n",
       "       'Чехия - Словакия - Хорватия', 'Россия, Польша, Финляндия',\n",
       "       'Россия, Латвия, Чешская Республика',\n",
       "       'Франция - Великобритания - Камбоджа - США - КНР',\n",
       "       'Чехия - Испания - США', 'Германия - Люксембург - Дания',\n",
       "       'Великобритания - Испания - Германия', 'Дания - Исландия',\n",
       "       'Великобритания - Испания - Италия - Латвия - Франция - Эстония',\n",
       "       'Польша - Франция - Великобритания',\n",
       "       'Дания, Норвегия, Венгрия, Чехия',\n",
       "       'Дания - Франция - Германия - Швеция',\n",
       "       'Великобритания, Швеция, США',\n",
       "       'Канада, Франция, Италия, Швейцария, США', 'США, Индия',\n",
       "       'США - Великобритания - Германия - - Швеция - Канада',\n",
       "       'Италия, Франция', 'Республика Беларусь, Германия, США, Россия',\n",
       "       'Италия-Швейцария-Франция-Германия ',\n",
       "       'Россия - Франция - Великобритания - Латвия', 'Россия-Беларусь',\n",
       "       'Франция - Испания - Румыния - США - Бельгия', 'Италия-США',\n",
       "       'Россия, Австрия', 'Ирландия - Великобритания - США',\n",
       "       'Швейцария, Великобритания, Франция, США, Ирландия',\n",
       "       'Мексика, Франция, Германия, Дания, Швеция', 'Нидерланды, Бельгия',\n",
       "       'Швеция, Норвегия, Финляндия, Франция', 'Испания, Франция, Италия',\n",
       "       'Испания-Франция-Греция-Индия-США-Россия-Великобритания',\n",
       "       'Великобритания - Япония - США',\n",
       "       'Дания, Канада, Норвегия, Австралия, США', 'Аргентина, Испания',\n",
       "       'Россия, Германия, Казахстан, Польша, Китай',\n",
       "       'Португалия, Франция, Польша, США', 'США - Канада - Аргентина',\n",
       "       'Ливан-США', 'США, Великобритания', 'Япония - США',\n",
       "       'США, Гонконг ', 'Аргентина-Испания', 'Россия, Сербия',\n",
       "       'США - Болгария - Мексика',\n",
       "       'США - Великобритания - Швейцария - Франция',\n",
       "       'Таиланд - КНР - США',\n",
       "       'Великобритания, Нидерланды, Польша, Швейцария, Франция',\n",
       "       'Ирландия - США',\n",
       "       'Германия - Франция - Великобритания - Польша - США',\n",
       "       'США - Австралия - Индия', 'Франция - КНР',\n",
       "       'Великобритания - Израиль',\n",
       "       'Великобритания - Норвегия - Кения - Хорватия',\n",
       "       'США - Бразилия - Великобритания - Канада', 'Германия, Бельгия',\n",
       "       'Австралия, Канада', 'США, Великобритания, Франция',\n",
       "       'Кения, Германия', 'Нидерланды, Бельгия, Люксембург', 'Колумбия',\n",
       "       'Латвия - Франция', 'Ирландия, Великобритания',\n",
       "       'Франция - Израиль - Германия', 'Швеция, Франция, Великобритания',\n",
       "       'Бельгия - Люксембург', 'Германия - Бельгия - Великобритания',\n",
       "       'Испания, Франция, Великобритания, Дания, Бельгия, Германия',\n",
       "       'Румыния, ЮАР, Иран, Франция, Канада, Великобритания',\n",
       "       'Германия, Франция', 'США, Япония',\n",
       "       'США, Великобритания, Ирландия, Люксембург', 'Республика Армения',\n",
       "       'США, Франция, Япония', 'Япония, США', 'Канада, США',\n",
       "       'Республика Кипр - Россия',\n",
       "       'Дания - Франция - Италия - Бельгия - Нидерланды',\n",
       "       'Россия - Грузия', 'Италия, Германия', 'Норвегия, Швеция, Дания',\n",
       "       'Республика Кипр, Россия', 'КНР, Индия, Гонконг, США',\n",
       "       'Израиль, Украина', 'США, Россия', 'США - КНР - Индия - Ю.Корея',\n",
       "       'США - Швеция', 'Россия-Китай', 'Канада, Великобритания',\n",
       "       'Канада, США, Каймановы острова',\n",
       "       'Бразилия, Уругвай, Дания, Норвегия, Чили, Швеция',\n",
       "       'Пуэрто-Рико, Великобритания, США',\n",
       "       'Уругвай - Аргентина - Испания',\n",
       "       'США - Великобритания - Италия - Израиль - Сербия - Индия',\n",
       "       'США - Канада - Франция - Индия', 'Великобритания - Россия - КНР',\n",
       "       'Франция, Новая Зеландия', 'Франция, Люксембург, Бельгия',\n",
       "       'Канада, США, Норвегия', 'Италия, Испания',\n",
       "       'Испания - Германия - Нидерланды', 'Бразилия - США - КНР ',\n",
       "       'Великобритания, Германия, Дания, США', '2019',\n",
       "       'Италия - Фрация - Бразилия - Германия',\n",
       "       'Норвегия - Швеция - Россия', 'Великобритания, Япония, США',\n",
       "       'Сша, Канада', 'Бельгия, Канада',\n",
       "       'Великобритания - Австралия - США', 'США, Канада', 'КНР - США ',\n",
       "       'Франция - Финляндия', 'Колумбия - США',\n",
       "       'Великобритания, Франция, Бельгия', 'Норвегия - Нидерланды',\n",
       "       'Великобритания, Канада, США', 'Япония, Великобритания',\n",
       "       'Италия - Бельгия - Франция', 'Россия, Бельгия, Финляндия',\n",
       "       'США, Украина', 'Франция, Норвегия',\n",
       "       'Великобритания, Южная Корея, Канада, США, Индия, Китай, Япония',\n",
       "       'Канада - Норвегия', 'Республика Кипр-Россия', 'Германия, Россия',\n",
       "       'Польша - Франция - Испания - Бразилия - Швеция',\n",
       "       'Австрия, Великобритания, Германия', 'Франция - Сенегал - Бельгия',\n",
       "       'Франция, Бельгия, Люксембург', 'Финляндия, Латвия', 'Пакистан',\n",
       "       'Германия, Франция, США', 'Германия - Великобритания - США',\n",
       "       'КНР - Франция', 'Дания, Норвегия, Швеция, Исландия',\n",
       "       'Республика Кипр, США, Россия', 'Новая Зеландия - КНР',\n",
       "       'Дания - Канада - Швеция - Франция - Германия - Великобритания - США'],\n",
       "      dtype=object)"
      ]
     },
     "execution_count": 76,
     "metadata": {},
     "output_type": "execute_result"
    }
   ],
   "source": [
    "data['production_country'].unique()"
   ]
  },
  {
   "cell_type": "markdown",
   "metadata": {},
   "source": [
    "<div class=\"alert alert-info\">\n",
    "    \n",
    "Посмотрим на уникальные значения в колонке с указанием страны изготовителя. Значений очень много, так как при создании многих картин принимают участия разные страны. Нас интересуют картины в создании которых принимала **Россия** и **СССР**.   \n",
    "\n",
    "</div>"
   ]
  },
  {
   "cell_type": "code",
   "execution_count": 77,
   "metadata": {},
   "outputs": [
    {
     "data": {
      "text/plain": [
       "country\n",
       "Российский    1930\n",
       "Совецкий       405\n",
       "Name: country, dtype: int64"
      ]
     },
     "execution_count": 77,
     "metadata": {},
     "output_type": "execute_result"
    }
   ],
   "source": [
    "def country (row):\n",
    "    try:\n",
    "        if 'СССР' in row:\n",
    "            return 'Совецкий'\n",
    "        elif 'Россия' in row:\n",
    "            return 'Российский'\n",
    "    except:\n",
    "        return 'остальные'\n",
    "data['country'] = data['production_country'].apply(country)\n",
    "data.groupby('country')['country'].count()"
   ]
  },
  {
   "cell_type": "markdown",
   "metadata": {},
   "source": [
    "<div class=\"alert alert-info\">\n",
    "    \n",
    "Создадим функцию которая отфильтрует страну производителя и в отдельную колонку `country` запишет значения **Российский** и **Совецкий**. В итоге мы получили данные по которым видим, что **Россия** принимала участие в создании **1930** картин и **СССР** принимала участие в создании **405** картин.   \n",
    "\n",
    "</div>"
   ]
  },
  {
   "cell_type": "code",
   "execution_count": 78,
   "metadata": {},
   "outputs": [
    {
     "data": {
      "text/plain": [
       "financing_source\n",
       "Министерство культуры                163\n",
       "Министерство культуры, Фонд кино      22\n",
       "Фонд кино                            144\n",
       "нет_данных                          6416\n",
       "Name: financing_source, dtype: int64"
      ]
     },
     "execution_count": 78,
     "metadata": {},
     "output_type": "execute_result"
    }
   ],
   "source": [
    "data.groupby('financing_source')['financing_source'].count()"
   ]
  },
  {
   "cell_type": "markdown",
   "metadata": {},
   "source": [
    "<div class=\"alert alert-info\">\n",
    "    \n",
    "Государственную поддержку получили только **329** картины. Это порядка **17%** от общего числа картин в создании которых принммала **Россия**.   \n",
    "\n",
    "</div>"
   ]
  },
  {
   "cell_type": "code",
   "execution_count": 79,
   "metadata": {},
   "outputs": [
    {
     "data": {
      "text/html": [
       "<div>\n",
       "<style scoped>\n",
       "    .dataframe tbody tr th:only-of-type {\n",
       "        vertical-align: middle;\n",
       "    }\n",
       "\n",
       "    .dataframe tbody tr th {\n",
       "        vertical-align: top;\n",
       "    }\n",
       "\n",
       "    .dataframe thead th {\n",
       "        text-align: right;\n",
       "    }\n",
       "</style>\n",
       "<table border=\"1\" class=\"dataframe\">\n",
       "  <thead>\n",
       "    <tr style=\"text-align: right;\">\n",
       "      <th></th>\n",
       "      <th>title</th>\n",
       "      <th>punumber</th>\n",
       "      <th>show_start_date</th>\n",
       "      <th>type</th>\n",
       "      <th>film_studio</th>\n",
       "      <th>production_country</th>\n",
       "      <th>director</th>\n",
       "      <th>producer</th>\n",
       "      <th>age_restriction</th>\n",
       "      <th>refundable_support</th>\n",
       "      <th>...</th>\n",
       "      <th>financing_source</th>\n",
       "      <th>ratings</th>\n",
       "      <th>genres</th>\n",
       "      <th>box_office</th>\n",
       "      <th>show_start_year</th>\n",
       "      <th>main_director</th>\n",
       "      <th>main_genres</th>\n",
       "      <th>fraction_budget</th>\n",
       "      <th>profitability</th>\n",
       "      <th>country</th>\n",
       "    </tr>\n",
       "  </thead>\n",
       "  <tbody>\n",
       "    <tr>\n",
       "      <th>1281</th>\n",
       "      <td>Пока еще жива</td>\n",
       "      <td>111005313</td>\n",
       "      <td>2013-10-11 12:00:00+00:00</td>\n",
       "      <td>Художественный</td>\n",
       "      <td>АНО содействия развитию кинематографии \"Ангел-...</td>\n",
       "      <td>Россия</td>\n",
       "      <td>А.Атанесян</td>\n",
       "      <td>А.Атанесян, М.Бабаханов, Р.Бутко</td>\n",
       "      <td>«16+» - для детей старше 16 лет</td>\n",
       "      <td>0.0</td>\n",
       "      <td>...</td>\n",
       "      <td>Министерство культуры</td>\n",
       "      <td>8.1</td>\n",
       "      <td>драма,мелодрама</td>\n",
       "      <td>365353.6</td>\n",
       "      <td>2013</td>\n",
       "      <td>А.Атанесян</td>\n",
       "      <td>драма</td>\n",
       "      <td>33.4</td>\n",
       "      <td>-79046546.4</td>\n",
       "      <td>Российский</td>\n",
       "    </tr>\n",
       "    <tr>\n",
       "      <th>1448</th>\n",
       "      <td>Бесславные придурки</td>\n",
       "      <td>111003314</td>\n",
       "      <td>2014-03-28 12:00:00+00:00</td>\n",
       "      <td>Художественный</td>\n",
       "      <td>ООО \"Компания \"АТК-Студио\"</td>\n",
       "      <td>Россия</td>\n",
       "      <td>А.Якимчук</td>\n",
       "      <td>А.Тютрюмов</td>\n",
       "      <td>«12+» - для детей старше 12 лет</td>\n",
       "      <td>0.0</td>\n",
       "      <td>...</td>\n",
       "      <td>Министерство культуры</td>\n",
       "      <td>NaN</td>\n",
       "      <td>NaN</td>\n",
       "      <td>28140.0</td>\n",
       "      <td>2014</td>\n",
       "      <td>А.Якимчук</td>\n",
       "      <td>nan</td>\n",
       "      <td>70.0</td>\n",
       "      <td>-37114717.0</td>\n",
       "      <td>Российский</td>\n",
       "    </tr>\n",
       "    <tr>\n",
       "      <th>1498</th>\n",
       "      <td>Невидимки</td>\n",
       "      <td>111004213</td>\n",
       "      <td>2013-09-10 12:00:00+00:00</td>\n",
       "      <td>Художественный</td>\n",
       "      <td>ООО \"Компания \"РЕАЛ-ДАКОТА\"</td>\n",
       "      <td>Россия</td>\n",
       "      <td>Р.Давлетьяров, С.Комаров</td>\n",
       "      <td>Р.Давлетьяров, А.Котелевский, А.Олейников</td>\n",
       "      <td>«12+» - для детей старше 12 лет</td>\n",
       "      <td>0.0</td>\n",
       "      <td>...</td>\n",
       "      <td>Фонд кино</td>\n",
       "      <td>5.3</td>\n",
       "      <td>комедия,фантастика</td>\n",
       "      <td>19957031.5</td>\n",
       "      <td>2013</td>\n",
       "      <td>Р.Давлетьяров</td>\n",
       "      <td>комедия</td>\n",
       "      <td>61.3</td>\n",
       "      <td>-156066458.5</td>\n",
       "      <td>Российский</td>\n",
       "    </tr>\n",
       "    <tr>\n",
       "      <th>1524</th>\n",
       "      <td>БЕРЦЫ</td>\n",
       "      <td>111004314</td>\n",
       "      <td>2014-05-05 12:00:00+00:00</td>\n",
       "      <td>Художественный</td>\n",
       "      <td>ООО \"Студия \"Пассажир\"</td>\n",
       "      <td>Россия</td>\n",
       "      <td>Е.Миндадзе (псевдоним Катя Шагалова)</td>\n",
       "      <td>Л.Антонова</td>\n",
       "      <td>«16+» - для детей старше 16 лет</td>\n",
       "      <td>0.0</td>\n",
       "      <td>...</td>\n",
       "      <td>Министерство культуры</td>\n",
       "      <td>4.2</td>\n",
       "      <td>драма</td>\n",
       "      <td>55917.5</td>\n",
       "      <td>2014</td>\n",
       "      <td>Е.Миндадзе (псевдоним Катя Шагалова)</td>\n",
       "      <td>драма</td>\n",
       "      <td>69.0</td>\n",
       "      <td>-40518222.5</td>\n",
       "      <td>Российский</td>\n",
       "    </tr>\n",
       "    <tr>\n",
       "      <th>1792</th>\n",
       "      <td>Братья Ч</td>\n",
       "      <td>111004414</td>\n",
       "      <td>2014-04-23 12:00:00+00:00</td>\n",
       "      <td>Художественный</td>\n",
       "      <td>ООО \"Студия \"Пассажир\"</td>\n",
       "      <td>Россия</td>\n",
       "      <td>М.Угаров</td>\n",
       "      <td>А.Миндадзе, Л.Антонова</td>\n",
       "      <td>«16+» - для детей старше 16 лет</td>\n",
       "      <td>0.0</td>\n",
       "      <td>...</td>\n",
       "      <td>Министерство культуры</td>\n",
       "      <td>6.4</td>\n",
       "      <td>драма</td>\n",
       "      <td>232100.0</td>\n",
       "      <td>2014</td>\n",
       "      <td>М.Угаров</td>\n",
       "      <td>драма</td>\n",
       "      <td>62.5</td>\n",
       "      <td>-39783022.0</td>\n",
       "      <td>Российский</td>\n",
       "    </tr>\n",
       "  </tbody>\n",
       "</table>\n",
       "<p>5 rows × 22 columns</p>\n",
       "</div>"
      ],
      "text/plain": [
       "                    title   punumber           show_start_date  \\\n",
       "1281        Пока еще жива  111005313 2013-10-11 12:00:00+00:00   \n",
       "1448  Бесславные придурки  111003314 2014-03-28 12:00:00+00:00   \n",
       "1498            Невидимки  111004213 2013-09-10 12:00:00+00:00   \n",
       "1524                БЕРЦЫ  111004314 2014-05-05 12:00:00+00:00   \n",
       "1792             Братья Ч  111004414 2014-04-23 12:00:00+00:00   \n",
       "\n",
       "                type                                        film_studio  \\\n",
       "1281  Художественный  АНО содействия развитию кинематографии \"Ангел-...   \n",
       "1448  Художественный                         ООО \"Компания \"АТК-Студио\"   \n",
       "1498  Художественный                        ООО \"Компания \"РЕАЛ-ДАКОТА\"   \n",
       "1524  Художественный                             ООО \"Студия \"Пассажир\"   \n",
       "1792  Художественный                             ООО \"Студия \"Пассажир\"   \n",
       "\n",
       "     production_country                              director  \\\n",
       "1281             Россия                            А.Атанесян   \n",
       "1448             Россия                             А.Якимчук   \n",
       "1498             Россия              Р.Давлетьяров, С.Комаров   \n",
       "1524             Россия  Е.Миндадзе (псевдоним Катя Шагалова)   \n",
       "1792             Россия                              М.Угаров   \n",
       "\n",
       "                                       producer  \\\n",
       "1281           А.Атанесян, М.Бабаханов, Р.Бутко   \n",
       "1448                                 А.Тютрюмов   \n",
       "1498  Р.Давлетьяров, А.Котелевский, А.Олейников   \n",
       "1524                                 Л.Антонова   \n",
       "1792                     А.Миндадзе, Л.Антонова   \n",
       "\n",
       "                      age_restriction  refundable_support  ...  \\\n",
       "1281  «16+» - для детей старше 16 лет                 0.0  ...   \n",
       "1448  «12+» - для детей старше 12 лет                 0.0  ...   \n",
       "1498  «12+» - для детей старше 12 лет                 0.0  ...   \n",
       "1524  «16+» - для детей старше 16 лет                 0.0  ...   \n",
       "1792  «16+» - для детей старше 16 лет                 0.0  ...   \n",
       "\n",
       "           financing_source  ratings              genres  box_office  \\\n",
       "1281  Министерство культуры      8.1     драма,мелодрама    365353.6   \n",
       "1448  Министерство культуры      NaN                 NaN     28140.0   \n",
       "1498              Фонд кино      5.3  комедия,фантастика  19957031.5   \n",
       "1524  Министерство культуры      4.2               драма     55917.5   \n",
       "1792  Министерство культуры      6.4               драма    232100.0   \n",
       "\n",
       "     show_start_year                         main_director  main_genres  \\\n",
       "1281            2013                            А.Атанесян        драма   \n",
       "1448            2014                             А.Якимчук          nan   \n",
       "1498            2013                         Р.Давлетьяров      комедия   \n",
       "1524            2014  Е.Миндадзе (псевдоним Катя Шагалова)        драма   \n",
       "1792            2014                              М.Угаров        драма   \n",
       "\n",
       "     fraction_budget profitability     country  \n",
       "1281            33.4   -79046546.4  Российский  \n",
       "1448            70.0   -37114717.0  Российский  \n",
       "1498            61.3  -156066458.5  Российский  \n",
       "1524            69.0   -40518222.5  Российский  \n",
       "1792            62.5   -39783022.0  Российский  \n",
       "\n",
       "[5 rows x 22 columns]"
      ]
     },
     "execution_count": 79,
     "metadata": {},
     "output_type": "execute_result"
    }
   ],
   "source": [
    "data_gp = data[data['financing_source']!= 'нет_данных']\n",
    "data_gp.head(5)"
   ]
  },
  {
   "cell_type": "markdown",
   "metadata": {},
   "source": [
    "<div class=\"alert alert-info\">\n",
    "    \n",
    "Создадим переменную `data_gp` в которую запишем все картины получившие гос поддержку.\n",
    "    \n",
    "</div>"
   ]
  },
  {
   "cell_type": "code",
   "execution_count": 80,
   "metadata": {},
   "outputs": [
    {
     "data": {
      "text/plain": [
       "production_country\n",
       "Россия                                        313\n",
       "Россия - Грузия                                 1\n",
       "Россия, Армения                                 1\n",
       "Россия, Бельгия, Финляндия                      1\n",
       "Россия, Германия                                2\n",
       "Россия, Германия, Великобритания                1\n",
       "Россия, Германия, Казахстан, Польша, Китай      1\n",
       "Россия, Италия                                  2\n",
       "Россия, Латвия, Чешская Республика              1\n",
       "Россия, Сербия                                  1\n",
       "Россия, Украина, Польша                         1\n",
       "Россия, Франция, Латвия                         1\n",
       "Россия-Китай                                    1\n",
       "Россия-Словакия-Чехия                           1\n",
       "Россия-Украина                                  1\n",
       "Name: production_country, dtype: int64"
      ]
     },
     "execution_count": 80,
     "metadata": {},
     "output_type": "execute_result"
    }
   ],
   "source": [
    "data_gp.groupby('production_country')['production_country'].count()"
   ]
  },
  {
   "cell_type": "markdown",
   "metadata": {},
   "source": [
    "<div class=\"alert alert-info\">\n",
    "    \n",
    "Сгруппируем данные по стране прозводителю. Видим, что **95%** финансируемых государством картин сминаются без участия других стран.\n",
    "    \n",
    "</div>"
   ]
  },
  {
   "cell_type": "code",
   "execution_count": 81,
   "metadata": {},
   "outputs": [
    {
     "data": {
      "text/plain": [
       "type\n",
       "Анимационный       31\n",
       "Документальный      1\n",
       "Художественный    297\n",
       "Name: type, dtype: int64"
      ]
     },
     "execution_count": 81,
     "metadata": {},
     "output_type": "execute_result"
    }
   ],
   "source": [
    "data_gp.groupby('type')['type'].count()"
   ]
  },
  {
   "cell_type": "markdown",
   "metadata": {},
   "source": [
    "<div class=\"alert alert-info\">\n",
    "    \n",
    "Посмотрим на распределение по типу картин. На анимацию приходится только **10%** картин и всего **1** документальный фильм.\n",
    "    \n",
    "</div>"
   ]
  },
  {
   "cell_type": "code",
   "execution_count": 82,
   "metadata": {},
   "outputs": [
    {
     "data": {
      "image/png": "[encoded data removed]",
      "text/plain": [
       "<Figure size 432x288 with 1 Axes>"
      ]
     },
     "metadata": {
      "needs_background": "light"
     },
     "output_type": "display_data"
    }
   ],
   "source": [
    "data_gp['ratings'].hist(bins=100)\n",
    "plt.show()"
   ]
  },
  {
   "cell_type": "code",
   "execution_count": 83,
   "metadata": {},
   "outputs": [
    {
     "data": {
      "text/plain": [
       "count   313.0\n",
       "mean      6.0\n",
       "std       1.1\n",
       "min       1.0\n",
       "25%       5.3\n",
       "50%       6.2\n",
       "75%       6.7\n",
       "max       9.4\n",
       "Name: ratings, dtype: float64"
      ]
     },
     "execution_count": 83,
     "metadata": {},
     "output_type": "execute_result"
    }
   ],
   "source": [
    "data_gp['ratings'].describe() "
   ]
  },
  {
   "cell_type": "markdown",
   "metadata": {},
   "source": [
    "<div class=\"alert alert-info\">\n",
    "    \n",
    "Посмотрим на распределение по полученным рейтингам. Среднее значение **6,0**, медиана **6,2**, минимальное значение **1,0**, а максимальное **9,4**.\n",
    "    \n",
    "</div>"
   ]
  },
  {
   "cell_type": "code",
   "execution_count": 84,
   "metadata": {},
   "outputs": [
    {
     "data": {
      "text/plain": [
       "main_director\n",
       "Р.Давлетьяров    5\n",
       "Д.Дьяченко       4\n",
       "С.Андреасян      4\n",
       "А.Котт           3\n",
       "А.Аксененко      3\n",
       "Н.Хомерики       3\n",
       "А.Цицилин        3\n",
       "С.Мокрицкий      3\n",
       "Д.Шмидт          3\n",
       "К.Шипенко        3\n",
       "Name: main_director, dtype: int64"
      ]
     },
     "execution_count": 84,
     "metadata": {},
     "output_type": "execute_result"
    }
   ],
   "source": [
    "main_director = data_gp.groupby('main_director')['main_director'].count()\n",
    "main_director.sort_values(ascending= False).head(10)"
   ]
  },
  {
   "cell_type": "markdown",
   "metadata": {},
   "source": [
    "<div class=\"alert alert-info\">\n",
    "    \n",
    "Посмотрим какие режисеры чаще всего получают господдержку. На лидела **Рената Давлетьярова** приходится не более **5** картин, таким образом можно утверждать, что зависимости между именем режиссера и софинансированием из господдержки нет.\n",
    "    \n",
    "</div>"
   ]
  },
  {
   "cell_type": "code",
   "execution_count": 85,
   "metadata": {},
   "outputs": [
    {
     "data": {
      "text/html": [
       "<div>\n",
       "<style scoped>\n",
       "    .dataframe tbody tr th:only-of-type {\n",
       "        vertical-align: middle;\n",
       "    }\n",
       "\n",
       "    .dataframe tbody tr th {\n",
       "        vertical-align: top;\n",
       "    }\n",
       "\n",
       "    .dataframe thead th {\n",
       "        text-align: right;\n",
       "    }\n",
       "</style>\n",
       "<table border=\"1\" class=\"dataframe\">\n",
       "  <thead>\n",
       "    <tr style=\"text-align: right;\">\n",
       "      <th></th>\n",
       "      <th>title</th>\n",
       "      <th>punumber</th>\n",
       "      <th>show_start_date</th>\n",
       "      <th>type</th>\n",
       "      <th>film_studio</th>\n",
       "      <th>production_country</th>\n",
       "      <th>director</th>\n",
       "      <th>producer</th>\n",
       "      <th>age_restriction</th>\n",
       "      <th>refundable_support</th>\n",
       "      <th>...</th>\n",
       "      <th>financing_source</th>\n",
       "      <th>ratings</th>\n",
       "      <th>genres</th>\n",
       "      <th>box_office</th>\n",
       "      <th>show_start_year</th>\n",
       "      <th>main_director</th>\n",
       "      <th>main_genres</th>\n",
       "      <th>fraction_budget</th>\n",
       "      <th>profitability</th>\n",
       "      <th>country</th>\n",
       "    </tr>\n",
       "  </thead>\n",
       "  <tbody>\n",
       "    <tr>\n",
       "      <th>1498</th>\n",
       "      <td>Невидимки</td>\n",
       "      <td>111004213</td>\n",
       "      <td>2013-09-10 12:00:00+00:00</td>\n",
       "      <td>Художественный</td>\n",
       "      <td>ООО \"Компания \"РЕАЛ-ДАКОТА\"</td>\n",
       "      <td>Россия</td>\n",
       "      <td>Р.Давлетьяров, С.Комаров</td>\n",
       "      <td>Р.Давлетьяров, А.Котелевский, А.Олейников</td>\n",
       "      <td>«12+» - для детей старше 12 лет</td>\n",
       "      <td>0.0</td>\n",
       "      <td>...</td>\n",
       "      <td>Фонд кино</td>\n",
       "      <td>5.3</td>\n",
       "      <td>комедия,фантастика</td>\n",
       "      <td>19957031.5</td>\n",
       "      <td>2013</td>\n",
       "      <td>Р.Давлетьяров</td>\n",
       "      <td>комедия</td>\n",
       "      <td>61.3</td>\n",
       "      <td>-156066458.5</td>\n",
       "      <td>Российский</td>\n",
       "    </tr>\n",
       "    <tr>\n",
       "      <th>1869</th>\n",
       "      <td>А зори здесь тихие..._</td>\n",
       "      <td>111002915</td>\n",
       "      <td>2015-03-16 12:00:00+00:00</td>\n",
       "      <td>Художественный</td>\n",
       "      <td>ООО \"Компания \"Реал-Дакота\"</td>\n",
       "      <td>Россия</td>\n",
       "      <td>Р.Давлетьяров</td>\n",
       "      <td>нет_данных</td>\n",
       "      <td>«12+» - для детей старше 12 лет</td>\n",
       "      <td>50000000.0</td>\n",
       "      <td>...</td>\n",
       "      <td>Фонд кино</td>\n",
       "      <td>8.5</td>\n",
       "      <td>драма,военный,история</td>\n",
       "      <td>249166767.7</td>\n",
       "      <td>2015</td>\n",
       "      <td>Р.Давлетьяров</td>\n",
       "      <td>драма</td>\n",
       "      <td>45.3</td>\n",
       "      <td>28578373.7</td>\n",
       "      <td>Российский</td>\n",
       "    </tr>\n",
       "    <tr>\n",
       "      <th>2481</th>\n",
       "      <td>Однажды._</td>\n",
       "      <td>111004215</td>\n",
       "      <td>2015-04-15 12:00:00+00:00</td>\n",
       "      <td>Художественный</td>\n",
       "      <td>ООО \"Компания \"РЕАЛ-ДАКОТА\", НП \"Интерфест\"</td>\n",
       "      <td>Россия</td>\n",
       "      <td>Р.Давлетьяров</td>\n",
       "      <td>Р.Давлетьяров, А.Котелевский</td>\n",
       "      <td>«16+» - для детей старше 16 лет</td>\n",
       "      <td>0.0</td>\n",
       "      <td>...</td>\n",
       "      <td>Фонд кино</td>\n",
       "      <td>7.9</td>\n",
       "      <td>драма,криминал,детектив</td>\n",
       "      <td>12748398.3</td>\n",
       "      <td>2015</td>\n",
       "      <td>Р.Давлетьяров</td>\n",
       "      <td>драма</td>\n",
       "      <td>62.0</td>\n",
       "      <td>-143612267.7</td>\n",
       "      <td>Российский</td>\n",
       "    </tr>\n",
       "    <tr>\n",
       "      <th>2722</th>\n",
       "      <td>Чистое искусство.</td>\n",
       "      <td>111008715</td>\n",
       "      <td>2015-05-05 12:00:00+00:00</td>\n",
       "      <td>Художественный</td>\n",
       "      <td>ООО \"КОМПАНИЯ \"РЕАЛ-ДАКОТА\"</td>\n",
       "      <td>Россия</td>\n",
       "      <td>Р.Давлетьяров</td>\n",
       "      <td>Р.Давлетьяров</td>\n",
       "      <td>«16+» - для детей старше 16 лет</td>\n",
       "      <td>15000000.0</td>\n",
       "      <td>...</td>\n",
       "      <td>Фонд кино</td>\n",
       "      <td>5.9</td>\n",
       "      <td>триллер,детектив</td>\n",
       "      <td>6457303.0</td>\n",
       "      <td>2015</td>\n",
       "      <td>Р.Давлетьяров</td>\n",
       "      <td>триллер</td>\n",
       "      <td>53.7</td>\n",
       "      <td>-105278860.0</td>\n",
       "      <td>Российский</td>\n",
       "    </tr>\n",
       "    <tr>\n",
       "      <th>6921</th>\n",
       "      <td>Донбасс. Окраина</td>\n",
       "      <td>111007919</td>\n",
       "      <td>2019-06-12 12:00:00+00:00</td>\n",
       "      <td>Художественный</td>\n",
       "      <td>АНО \"Интерфест\", ООО \"Пропеллер Продакшн\"</td>\n",
       "      <td>Россия</td>\n",
       "      <td>Р.Давлетьяров</td>\n",
       "      <td>Р.Давлетьяров, Г.Поземельный</td>\n",
       "      <td>«12+» - для детей старше 12 лет</td>\n",
       "      <td>0.0</td>\n",
       "      <td>...</td>\n",
       "      <td>Министерство культуры</td>\n",
       "      <td>6.3</td>\n",
       "      <td>драма,военный,триллер</td>\n",
       "      <td>10933431.9</td>\n",
       "      <td>2019</td>\n",
       "      <td>Р.Давлетьяров</td>\n",
       "      <td>драма</td>\n",
       "      <td>28.4</td>\n",
       "      <td>-94788092.1</td>\n",
       "      <td>Российский</td>\n",
       "    </tr>\n",
       "  </tbody>\n",
       "</table>\n",
       "<p>5 rows × 22 columns</p>\n",
       "</div>"
      ],
      "text/plain": [
       "                       title   punumber           show_start_date  \\\n",
       "1498               Невидимки  111004213 2013-09-10 12:00:00+00:00   \n",
       "1869  А зори здесь тихие..._  111002915 2015-03-16 12:00:00+00:00   \n",
       "2481               Однажды._  111004215 2015-04-15 12:00:00+00:00   \n",
       "2722       Чистое искусство.  111008715 2015-05-05 12:00:00+00:00   \n",
       "6921        Донбасс. Окраина  111007919 2019-06-12 12:00:00+00:00   \n",
       "\n",
       "                type                                  film_studio  \\\n",
       "1498  Художественный                  ООО \"Компания \"РЕАЛ-ДАКОТА\"   \n",
       "1869  Художественный                  ООО \"Компания \"Реал-Дакота\"   \n",
       "2481  Художественный  ООО \"Компания \"РЕАЛ-ДАКОТА\", НП \"Интерфест\"   \n",
       "2722  Художественный                  ООО \"КОМПАНИЯ \"РЕАЛ-ДАКОТА\"   \n",
       "6921  Художественный    АНО \"Интерфест\", ООО \"Пропеллер Продакшн\"   \n",
       "\n",
       "     production_country                  director  \\\n",
       "1498             Россия  Р.Давлетьяров, С.Комаров   \n",
       "1869             Россия             Р.Давлетьяров   \n",
       "2481             Россия             Р.Давлетьяров   \n",
       "2722             Россия             Р.Давлетьяров   \n",
       "6921             Россия             Р.Давлетьяров   \n",
       "\n",
       "                                       producer  \\\n",
       "1498  Р.Давлетьяров, А.Котелевский, А.Олейников   \n",
       "1869                                 нет_данных   \n",
       "2481               Р.Давлетьяров, А.Котелевский   \n",
       "2722                              Р.Давлетьяров   \n",
       "6921               Р.Давлетьяров, Г.Поземельный   \n",
       "\n",
       "                      age_restriction  refundable_support  ...  \\\n",
       "1498  «12+» - для детей старше 12 лет                 0.0  ...   \n",
       "1869  «12+» - для детей старше 12 лет          50000000.0  ...   \n",
       "2481  «16+» - для детей старше 16 лет                 0.0  ...   \n",
       "2722  «16+» - для детей старше 16 лет          15000000.0  ...   \n",
       "6921  «12+» - для детей старше 12 лет                 0.0  ...   \n",
       "\n",
       "           financing_source  ratings                   genres  box_office  \\\n",
       "1498              Фонд кино      5.3       комедия,фантастика  19957031.5   \n",
       "1869              Фонд кино      8.5    драма,военный,история 249166767.7   \n",
       "2481              Фонд кино      7.9  драма,криминал,детектив  12748398.3   \n",
       "2722              Фонд кино      5.9         триллер,детектив   6457303.0   \n",
       "6921  Министерство культуры      6.3    драма,военный,триллер  10933431.9   \n",
       "\n",
       "     show_start_year  main_director  main_genres fraction_budget  \\\n",
       "1498            2013  Р.Давлетьяров      комедия            61.3   \n",
       "1869            2015  Р.Давлетьяров        драма            45.3   \n",
       "2481            2015  Р.Давлетьяров        драма            62.0   \n",
       "2722            2015  Р.Давлетьяров      триллер            53.7   \n",
       "6921            2019  Р.Давлетьяров        драма            28.4   \n",
       "\n",
       "     profitability     country  \n",
       "1498  -156066458.5  Российский  \n",
       "1869    28578373.7  Российский  \n",
       "2481  -143612267.7  Российский  \n",
       "2722  -105278860.0  Российский  \n",
       "6921   -94788092.1  Российский  \n",
       "\n",
       "[5 rows x 22 columns]"
      ]
     },
     "metadata": {},
     "output_type": "display_data"
    }
   ],
   "source": [
    "display(data_gp[data_gp['main_director']=='Р.Давлетьяров'])"
   ]
  },
  {
   "cell_type": "markdown",
   "metadata": {},
   "source": [
    "<div class=\"alert alert-info\">\n",
    "    \n",
    "Посмотрим на картины которые снял **Ренат Давлетьяров**. \n",
    "- \"**Невидимки**\", снят в **2013** году, рейтинг **5,3**, доля господдержки **61,3%**, рентабельность **-156 066 458**\n",
    "- \"**А зори здесь тихие**\", снят в **2015** году, рейтинг **8,5**, доля господдержки **45,3%**, рентабельность **28 578 373**\n",
    "- \"**Однажды**\", снят в **2015** году, рейтинг **7,9**, доля господдержки **62%**, рентабельность **-143 612 267**\n",
    "- \"**Чистое искуство**\", снят в **2015** году, рейтинг **5,9**, доля господдержки **53,7%**, рентабельность **-105 278 860**\n",
    "- \"**Донбасс. Окраина**\", снят в **2019** году, рейтинг **6,3**, доля господдержки **28,4%**, рентабельность **-94 788 092**\\\n",
    "    Явной зависимости между картинами не прослеживается, есть драмы, есть комедия и триллер, при этом **4** из **5** картин с **отрицательной рентабельностью**. \n",
    "    \n",
    "</div>"
   ]
  },
  {
   "cell_type": "code",
   "execution_count": 86,
   "metadata": {},
   "outputs": [
    {
     "data": {
      "text/plain": [
       "main_genres\n",
       "драма         92\n",
       "комедия       74\n",
       "мультфильм    31\n",
       "nan           16\n",
       "триллер       15\n",
       "мелодрама     15\n",
       "ужасы         10\n",
       "фантастика    10\n",
       "фэнтези       10\n",
       "военный        9\n",
       "Name: main_genres, dtype: int64"
      ]
     },
     "execution_count": 86,
     "metadata": {},
     "output_type": "execute_result"
    }
   ],
   "source": [
    "main_genres = data_gp.groupby('main_genres')['main_genres'].count()\n",
    "main_genres.sort_values(ascending= False).head(10)"
   ]
  },
  {
   "cell_type": "markdown",
   "metadata": {},
   "source": [
    "<div class=\"alert alert-info\">\n",
    "    \n",
    "Посмотрим на распределение по **жанрам**. Драммы снимают чаще всего (показатель **92** картины), затем комедии (показатель **74** картины), а вот мультфильмы уже в два раза меньше (показатель **31** картина), военные фильмы на последнем месте (показатель **9** картин).\n",
    "    \n",
    "</div>"
   ]
  },
  {
   "cell_type": "code",
   "execution_count": 87,
   "metadata": {},
   "outputs": [
    {
     "data": {
      "text/plain": [
       "show_start_year\n",
       "2013     2\n",
       "2014    16\n",
       "2015    86\n",
       "2016    61\n",
       "2017    41\n",
       "2018    56\n",
       "2019    67\n",
       "Name: show_start_year, dtype: int64"
      ]
     },
     "execution_count": 87,
     "metadata": {},
     "output_type": "execute_result"
    }
   ],
   "source": [
    "data_gp.groupby('show_start_year')['show_start_year'].count()"
   ]
  },
  {
   "cell_type": "code",
   "execution_count": 88,
   "metadata": {},
   "outputs": [
    {
     "data": {
      "image/png": "[encoded data removed]",
      "text/plain": [
       "<Figure size 432x288 with 1 Axes>"
      ]
     },
     "metadata": {
      "needs_background": "light"
     },
     "output_type": "display_data"
    }
   ],
   "source": [
    "data_gp['show_start_year'].hist(bins=100)\n",
    "plt.show()"
   ]
  },
  {
   "cell_type": "markdown",
   "metadata": {},
   "source": [
    "<div class=\"alert alert-info\">\n",
    "    \n",
    "Посмотрим на распределение по количеству картин в год. В **2013** всего **2**, в **2014** уже **16**, а в **2015** показатель показывает максимальное значение **86**, затем видим падение в течении **2** лет до уровня **41** картина в **2017**. В **2018** и **2019** заметен рост до **67** картин в **2019**.\n",
    "    \n",
    "</div>"
   ]
  },
  {
   "cell_type": "code",
   "execution_count": 89,
   "metadata": {},
   "outputs": [
    {
     "data": {
      "text/plain": [
       "age_restriction\n",
       "«0+» - для любой зрительской аудитории      8\n",
       "«12+» - для детей старше 12 лет           104\n",
       "«16+» - для детей старше 16 лет           124\n",
       "«18+» - запрещено для детей                28\n",
       "«6+» - для детей старше 6 лет              65\n",
       "Name: age_restriction, dtype: int64"
      ]
     },
     "execution_count": 89,
     "metadata": {},
     "output_type": "execute_result"
    }
   ],
   "source": [
    "data_gp.groupby('age_restriction')['age_restriction'].count()"
   ]
  },
  {
   "cell_type": "markdown",
   "metadata": {},
   "source": [
    "<div class=\"alert alert-info\">\n",
    "    \n",
    "Посмотрим на распределение по возрастным категориям. **«16+»** самая популярная (показатель **124** картин), **«12+»** на втором месте с показателем в **104** картин, остальные категории в четыри раза меньше.\n",
    "    \n",
    "</div>"
   ]
  },
  {
   "cell_type": "code",
   "execution_count": 90,
   "metadata": {},
   "outputs": [
    {
     "data": {
      "text/plain": [
       "count   328.0\n",
       "mean      inf\n",
       "std       NaN\n",
       "min       0.0\n",
       "25%      31.9\n",
       "50%      48.5\n",
       "75%      65.0\n",
       "max       inf\n",
       "Name: fraction_budget, dtype: float64"
      ]
     },
     "execution_count": 90,
     "metadata": {},
     "output_type": "execute_result"
    }
   ],
   "source": [
    "data_gp['fraction_budget'].describe()"
   ]
  },
  {
   "cell_type": "markdown",
   "metadata": {},
   "source": [
    "<div class=\"alert alert-info\">\n",
    "    \n",
    "Посмотрим на распределение по долиям участия господдержки. Медиана в районе **48%**, нормальное распределение от **32%** до **65%**.\n",
    "    \n",
    "</div>"
   ]
  },
  {
   "cell_type": "code",
   "execution_count": 91,
   "metadata": {},
   "outputs": [
    {
     "data": {
      "text/plain": [
       "count           316.0\n",
       "mean        5205385.5\n",
       "std       319982925.8\n",
       "min     -1971477243.4\n",
       "25%       -70050755.8\n",
       "50%       -40060257.5\n",
       "75%         2709907.2\n",
       "max      2913568690.8\n",
       "Name: profitability, dtype: float64"
      ]
     },
     "execution_count": 91,
     "metadata": {},
     "output_type": "execute_result"
    }
   ],
   "source": [
    "data_gp['profitability'].describe()"
   ]
  },
  {
   "cell_type": "markdown",
   "metadata": {},
   "source": [
    "<div class=\"alert alert-info\">\n",
    "    \n",
    "Посмотрим показатели рентабельности. Среднее значение **5 205 385**, а медиана **-40 060 257**, разница очень большая, это связано со значением максимума **2 913 568 690**, при этом минимум на уровне **-1 971 477 243**.\n",
    "    \n",
    "</div>"
   ]
  },
  {
   "cell_type": "code",
   "execution_count": 92,
   "metadata": {},
   "outputs": [
    {
     "data": {
      "image/png": "[encoded data removed]",
      "text/plain": [
       "<Figure size 432x288 with 1 Axes>"
      ]
     },
     "metadata": {
      "needs_background": "light"
     },
     "output_type": "display_data"
    }
   ],
   "source": [
    "data_gp['profitability'].hist(bins=200)\n",
    "plt.show()"
   ]
  },
  {
   "cell_type": "markdown",
   "metadata": {},
   "source": [
    "<div class=\"alert alert-info\">\n",
    "    \n",
    "На гистограмме это видно более наглядно, основная масса, это отрицательные значения.\n",
    "    \n",
    "</div>"
   ]
  },
  {
   "cell_type": "code",
   "execution_count": 93,
   "metadata": {},
   "outputs": [
    {
     "data": {
      "text/html": [
       "<div>\n",
       "<style scoped>\n",
       "    .dataframe tbody tr th:only-of-type {\n",
       "        vertical-align: middle;\n",
       "    }\n",
       "\n",
       "    .dataframe tbody tr th {\n",
       "        vertical-align: top;\n",
       "    }\n",
       "\n",
       "    .dataframe thead th {\n",
       "        text-align: right;\n",
       "    }\n",
       "</style>\n",
       "<table border=\"1\" class=\"dataframe\">\n",
       "  <thead>\n",
       "    <tr style=\"text-align: right;\">\n",
       "      <th></th>\n",
       "      <th>show_start_year</th>\n",
       "      <th>budget</th>\n",
       "      <th>nonrefundable_support</th>\n",
       "      <th>profitability</th>\n",
       "    </tr>\n",
       "  </thead>\n",
       "  <tbody>\n",
       "    <tr>\n",
       "      <th>0</th>\n",
       "      <td>2013</td>\n",
       "      <td>255435390.0</td>\n",
       "      <td>134347945.0</td>\n",
       "      <td>-235113004.9</td>\n",
       "    </tr>\n",
       "    <tr>\n",
       "      <th>1</th>\n",
       "      <td>2014</td>\n",
       "      <td>1279484783.0</td>\n",
       "      <td>501002299.0</td>\n",
       "      <td>-262062616.4</td>\n",
       "    </tr>\n",
       "    <tr>\n",
       "      <th>2</th>\n",
       "      <td>2015</td>\n",
       "      <td>7309669207.0</td>\n",
       "      <td>3019088340.0</td>\n",
       "      <td>-1482384804.9</td>\n",
       "    </tr>\n",
       "    <tr>\n",
       "      <th>3</th>\n",
       "      <td>2016</td>\n",
       "      <td>7228942748.0</td>\n",
       "      <td>3381655482.0</td>\n",
       "      <td>-1128528828.9</td>\n",
       "    </tr>\n",
       "    <tr>\n",
       "      <th>4</th>\n",
       "      <td>2017</td>\n",
       "      <td>6972172568.0</td>\n",
       "      <td>2464624781.0</td>\n",
       "      <td>3998502733.0</td>\n",
       "    </tr>\n",
       "    <tr>\n",
       "      <th>5</th>\n",
       "      <td>2018</td>\n",
       "      <td>6651694634.0</td>\n",
       "      <td>2784969465.0</td>\n",
       "      <td>3282374376.2</td>\n",
       "    </tr>\n",
       "    <tr>\n",
       "      <th>6</th>\n",
       "      <td>2019</td>\n",
       "      <td>11475866609.0</td>\n",
       "      <td>3526000000.0</td>\n",
       "      <td>-2527886039.4</td>\n",
       "    </tr>\n",
       "  </tbody>\n",
       "</table>\n",
       "</div>"
      ],
      "text/plain": [
       "   show_start_year        budget  nonrefundable_support  profitability\n",
       "0             2013   255435390.0            134347945.0   -235113004.9\n",
       "1             2014  1279484783.0            501002299.0   -262062616.4\n",
       "2             2015  7309669207.0           3019088340.0  -1482384804.9\n",
       "3             2016  7228942748.0           3381655482.0  -1128528828.9\n",
       "4             2017  6972172568.0           2464624781.0   3998502733.0\n",
       "5             2018  6651694634.0           2784969465.0   3282374376.2\n",
       "6             2019 11475866609.0           3526000000.0  -2527886039.4"
      ]
     },
     "metadata": {},
     "output_type": "display_data"
    }
   ],
   "source": [
    "data_gp_fin = data_gp.pivot_table(index= 'show_start_year', values= ['nonrefundable_support', 'budget', 'profitability'], aggfunc= 'sum')\n",
    "data_gp_fin = data_gp_fin.reset_index()\n",
    "display(data_gp_fin)"
   ]
  },
  {
   "cell_type": "markdown",
   "metadata": {},
   "source": [
    "<div class=\"alert alert-info\">\n",
    "    \n",
    "Посмотрим на финансовое распределение по годам. В финансовом плане успешными можно считать полько **2017** и **2018** года с показателями **3 998 502 733** и **3 282 374 376** соответственно. Все остальные показывали убытки **2013**  **(-235 113 004)**, **2014**  **(-262 062 616)**, **2015**  **(-1 482 384 804)**, **2016**  **(-1 128 528 828)** и **2019**  **(-2 527 886 039)**, что является максимальным значением.\n",
    "    \n",
    "</div>"
   ]
  },
  {
   "cell_type": "code",
   "execution_count": 94,
   "metadata": {},
   "outputs": [
    {
     "data": {
      "text/html": [
       "<div>\n",
       "<style scoped>\n",
       "    .dataframe tbody tr th:only-of-type {\n",
       "        vertical-align: middle;\n",
       "    }\n",
       "\n",
       "    .dataframe tbody tr th {\n",
       "        vertical-align: top;\n",
       "    }\n",
       "\n",
       "    .dataframe thead th {\n",
       "        text-align: right;\n",
       "    }\n",
       "</style>\n",
       "<table border=\"1\" class=\"dataframe\">\n",
       "  <thead>\n",
       "    <tr style=\"text-align: right;\">\n",
       "      <th></th>\n",
       "      <th>title</th>\n",
       "      <th>punumber</th>\n",
       "      <th>show_start_date</th>\n",
       "      <th>type</th>\n",
       "      <th>film_studio</th>\n",
       "      <th>production_country</th>\n",
       "      <th>director</th>\n",
       "      <th>producer</th>\n",
       "      <th>age_restriction</th>\n",
       "      <th>refundable_support</th>\n",
       "      <th>...</th>\n",
       "      <th>financing_source</th>\n",
       "      <th>ratings</th>\n",
       "      <th>genres</th>\n",
       "      <th>box_office</th>\n",
       "      <th>show_start_year</th>\n",
       "      <th>main_director</th>\n",
       "      <th>main_genres</th>\n",
       "      <th>fraction_budget</th>\n",
       "      <th>profitability</th>\n",
       "      <th>country</th>\n",
       "    </tr>\n",
       "  </thead>\n",
       "  <tbody>\n",
       "    <tr>\n",
       "      <th>7455</th>\n",
       "      <td>Холоп</td>\n",
       "      <td>111021719</td>\n",
       "      <td>2019-12-19 12:00:00+00:00</td>\n",
       "      <td>Художественный</td>\n",
       "      <td>ООО \"МЕМ-МЕДИА\" по заказу АО \"ВБД Груп\"</td>\n",
       "      <td>Россия</td>\n",
       "      <td>К.Шипенко</td>\n",
       "      <td>Э.Илоян, Д.Жалинский, В.Дусмухаметов, Т.Бадзие...</td>\n",
       "      <td>«12+» - для детей старше 12 лет</td>\n",
       "      <td>25000000.0</td>\n",
       "      <td>...</td>\n",
       "      <td>Фонд кино</td>\n",
       "      <td>6.8</td>\n",
       "      <td>комедия</td>\n",
       "      <td>3073568690.8</td>\n",
       "      <td>2019</td>\n",
       "      <td>К.Шипенко</td>\n",
       "      <td>комедия</td>\n",
       "      <td>21.9</td>\n",
       "      <td>2913568690.8</td>\n",
       "      <td>Российский</td>\n",
       "    </tr>\n",
       "    <tr>\n",
       "      <th>5652</th>\n",
       "      <td>Движение вверх</td>\n",
       "      <td>111011817</td>\n",
       "      <td>2017-12-21 12:00:00+00:00</td>\n",
       "      <td>Художественный</td>\n",
       "      <td>ООО \"Студия \"ТРИТЭ\" Никиты Михалкова\"</td>\n",
       "      <td>Россия</td>\n",
       "      <td>А.Мегердичев</td>\n",
       "      <td>Л.Верещагин, А.Златопольский, Н.Михалков, ООО ...</td>\n",
       "      <td>«6+» - для детей старше 6 лет</td>\n",
       "      <td>0.0</td>\n",
       "      <td>...</td>\n",
       "      <td>Фонд кино</td>\n",
       "      <td>7.5</td>\n",
       "      <td>спорт,драма</td>\n",
       "      <td>2779686144.0</td>\n",
       "      <td>2017</td>\n",
       "      <td>А.Мегердичев</td>\n",
       "      <td>спорт</td>\n",
       "      <td>67.8</td>\n",
       "      <td>2189493953.0</td>\n",
       "      <td>Российский</td>\n",
       "    </tr>\n",
       "    <tr>\n",
       "      <th>6548</th>\n",
       "      <td>Т-34</td>\n",
       "      <td>111024918</td>\n",
       "      <td>2018-12-21 12:00:00+00:00</td>\n",
       "      <td>Художественный</td>\n",
       "      <td>ООО \"Кинокомпания МАРС-фильм\" по заказу ООО \"М...</td>\n",
       "      <td>Россия</td>\n",
       "      <td>А.Сидоров</td>\n",
       "      <td>А.Златопольский, Р.Дишдишян, Л.Блаватник, Н.Яр...</td>\n",
       "      <td>«12+» - для детей старше 12 лет</td>\n",
       "      <td>60000000.0</td>\n",
       "      <td>...</td>\n",
       "      <td>Фонд кино</td>\n",
       "      <td>6.5</td>\n",
       "      <td>драма,военный,боевик</td>\n",
       "      <td>2271754004.5</td>\n",
       "      <td>2018</td>\n",
       "      <td>А.Сидоров</td>\n",
       "      <td>драма</td>\n",
       "      <td>21.3</td>\n",
       "      <td>1707969287.5</td>\n",
       "      <td>Российский</td>\n",
       "    </tr>\n",
       "    <tr>\n",
       "      <th>5504</th>\n",
       "      <td>Последний богатырь</td>\n",
       "      <td>111007017</td>\n",
       "      <td>2017-10-19 12:00:00+00:00</td>\n",
       "      <td>Художественный</td>\n",
       "      <td>ООО \"Киностудия \"Слово\" по заказу ООО \"Уолт Ди...</td>\n",
       "      <td>Россия</td>\n",
       "      <td>Д.Дьяченко</td>\n",
       "      <td>Э.Илоян, Д.Жалинский, М.Озкан, А.Троцюк, В.Шляппо</td>\n",
       "      <td>«12+» - для детей старше 12 лет</td>\n",
       "      <td>50000000.0</td>\n",
       "      <td>...</td>\n",
       "      <td>Фонд кино</td>\n",
       "      <td>6.8</td>\n",
       "      <td>комедия,фэнтези,приключения</td>\n",
       "      <td>1655037688.0</td>\n",
       "      <td>2017</td>\n",
       "      <td>Д.Дьяченко</td>\n",
       "      <td>комедия</td>\n",
       "      <td>14.2</td>\n",
       "      <td>1302560113.0</td>\n",
       "      <td>Российский</td>\n",
       "    </tr>\n",
       "    <tr>\n",
       "      <th>5707</th>\n",
       "      <td>Лёд</td>\n",
       "      <td>111000518</td>\n",
       "      <td>2018-02-01 12:00:00+00:00</td>\n",
       "      <td>Художественный</td>\n",
       "      <td>ООО \"Водород 2011\", ООО \"Арт Пикчерс Студия\", ...</td>\n",
       "      <td>Россия</td>\n",
       "      <td>О.Трофим</td>\n",
       "      <td>М.Врубель, А.Андрющенко, Ф.Бондарчук, Д.Рудовс...</td>\n",
       "      <td>«12+» - для детей старше 12 лет</td>\n",
       "      <td>25000000.0</td>\n",
       "      <td>...</td>\n",
       "      <td>Фонд кино</td>\n",
       "      <td>NaN</td>\n",
       "      <td>NaN</td>\n",
       "      <td>1445731797.9</td>\n",
       "      <td>2018</td>\n",
       "      <td>О.Трофим</td>\n",
       "      <td>nan</td>\n",
       "      <td>40.4</td>\n",
       "      <td>1297146575.9</td>\n",
       "      <td>Российский</td>\n",
       "    </tr>\n",
       "  </tbody>\n",
       "</table>\n",
       "<p>5 rows × 22 columns</p>\n",
       "</div>"
      ],
      "text/plain": [
       "                   title   punumber           show_start_date            type  \\\n",
       "7455               Холоп  111021719 2019-12-19 12:00:00+00:00  Художественный   \n",
       "5652      Движение вверх  111011817 2017-12-21 12:00:00+00:00  Художественный   \n",
       "6548                Т-34  111024918 2018-12-21 12:00:00+00:00  Художественный   \n",
       "5504  Последний богатырь  111007017 2017-10-19 12:00:00+00:00  Художественный   \n",
       "5707                 Лёд  111000518 2018-02-01 12:00:00+00:00  Художественный   \n",
       "\n",
       "                                            film_studio production_country  \\\n",
       "7455            ООО \"МЕМ-МЕДИА\" по заказу АО \"ВБД Груп\"             Россия   \n",
       "5652              ООО \"Студия \"ТРИТЭ\" Никиты Михалкова\"             Россия   \n",
       "6548  ООО \"Кинокомпания МАРС-фильм\" по заказу ООО \"М...             Россия   \n",
       "5504  ООО \"Киностудия \"Слово\" по заказу ООО \"Уолт Ди...             Россия   \n",
       "5707  ООО \"Водород 2011\", ООО \"Арт Пикчерс Студия\", ...             Россия   \n",
       "\n",
       "          director                                           producer  \\\n",
       "7455     К.Шипенко  Э.Илоян, Д.Жалинский, В.Дусмухаметов, Т.Бадзие...   \n",
       "5652  А.Мегердичев  Л.Верещагин, А.Златопольский, Н.Михалков, ООО ...   \n",
       "6548     А.Сидоров  А.Златопольский, Р.Дишдишян, Л.Блаватник, Н.Яр...   \n",
       "5504    Д.Дьяченко  Э.Илоян, Д.Жалинский, М.Озкан, А.Троцюк, В.Шляппо   \n",
       "5707      О.Трофим  М.Врубель, А.Андрющенко, Ф.Бондарчук, Д.Рудовс...   \n",
       "\n",
       "                      age_restriction  refundable_support  ...  \\\n",
       "7455  «12+» - для детей старше 12 лет          25000000.0  ...   \n",
       "5652    «6+» - для детей старше 6 лет                 0.0  ...   \n",
       "6548  «12+» - для детей старше 12 лет          60000000.0  ...   \n",
       "5504  «12+» - для детей старше 12 лет          50000000.0  ...   \n",
       "5707  «12+» - для детей старше 12 лет          25000000.0  ...   \n",
       "\n",
       "      financing_source  ratings                       genres   box_office  \\\n",
       "7455         Фонд кино      6.8                      комедия 3073568690.8   \n",
       "5652         Фонд кино      7.5                  спорт,драма 2779686144.0   \n",
       "6548         Фонд кино      6.5         драма,военный,боевик 2271754004.5   \n",
       "5504         Фонд кино      6.8  комедия,фэнтези,приключения 1655037688.0   \n",
       "5707         Фонд кино      NaN                          NaN 1445731797.9   \n",
       "\n",
       "     show_start_year  main_director  main_genres fraction_budget  \\\n",
       "7455            2019      К.Шипенко      комедия            21.9   \n",
       "5652            2017   А.Мегердичев        спорт            67.8   \n",
       "6548            2018      А.Сидоров        драма            21.3   \n",
       "5504            2017     Д.Дьяченко      комедия            14.2   \n",
       "5707            2018       О.Трофим          nan            40.4   \n",
       "\n",
       "     profitability     country  \n",
       "7455  2913568690.8  Российский  \n",
       "5652  2189493953.0  Российский  \n",
       "6548  1707969287.5  Российский  \n",
       "5504  1302560113.0  Российский  \n",
       "5707  1297146575.9  Российский  \n",
       "\n",
       "[5 rows x 22 columns]"
      ]
     },
     "execution_count": 94,
     "metadata": {},
     "output_type": "execute_result"
    }
   ],
   "source": [
    "data_gp.sort_values(by= 'box_office', ascending= False).head(5)"
   ]
  },
  {
   "cell_type": "markdown",
   "metadata": {},
   "source": [
    "<div class=\"alert alert-info\">\n",
    "    \n",
    "Посмотрим на *лидеров* по сборам в прокате:\n",
    " 1) \"**Холоп**\", 2019 года, категория \"12+\", рейтинг **6,8**, сборы **3 073 568 690**, рентабельность **2 913 568 690**\n",
    "    \n",
    " 2) \"**Движение вверх**\", 2017 года, категория \"6+\", рейтинг **7,5**, сборы **2 779 686 144**, рентабельность **2 189 493 953**\n",
    "    \n",
    " 3) \"**Т-34**\", 2018 года, категория \"12+\", рейтинг **6,5**, сборы **2 271 754 004**, рентабельность **1 707 969 287**\n",
    "    \n",
    " 4) \"**Последний богатырь**\", 2017 года, категория \"12+\", рейтинг **6,8**, сборы **1 655 037 688**, рентабельность **1 302 560 113**\n",
    "    \n",
    " 5) \"**Лёд**\", 2018 года, категория \"12+\", рейтинг \"\"нет\", сборы **1 445 731 797**, рентабельность **1 297 146 575**\\\n",
    "    Картины разные, из объеденяющих факторов, это возростная категория. Интересно, что рейтин не карелирует с успешностью в прокате, значения **6,8** это чуть выше среднего.\n",
    "    \n",
    "</div>"
   ]
  },
  {
   "cell_type": "code",
   "execution_count": 95,
   "metadata": {},
   "outputs": [
    {
     "data": {
      "text/html": [
       "<div>\n",
       "<style scoped>\n",
       "    .dataframe tbody tr th:only-of-type {\n",
       "        vertical-align: middle;\n",
       "    }\n",
       "\n",
       "    .dataframe tbody tr th {\n",
       "        vertical-align: top;\n",
       "    }\n",
       "\n",
       "    .dataframe thead th {\n",
       "        text-align: right;\n",
       "    }\n",
       "</style>\n",
       "<table border=\"1\" class=\"dataframe\">\n",
       "  <thead>\n",
       "    <tr style=\"text-align: right;\">\n",
       "      <th></th>\n",
       "      <th>title</th>\n",
       "      <th>punumber</th>\n",
       "      <th>show_start_date</th>\n",
       "      <th>type</th>\n",
       "      <th>film_studio</th>\n",
       "      <th>production_country</th>\n",
       "      <th>director</th>\n",
       "      <th>producer</th>\n",
       "      <th>age_restriction</th>\n",
       "      <th>refundable_support</th>\n",
       "      <th>...</th>\n",
       "      <th>financing_source</th>\n",
       "      <th>ratings</th>\n",
       "      <th>genres</th>\n",
       "      <th>box_office</th>\n",
       "      <th>show_start_year</th>\n",
       "      <th>main_director</th>\n",
       "      <th>main_genres</th>\n",
       "      <th>fraction_budget</th>\n",
       "      <th>profitability</th>\n",
       "      <th>country</th>\n",
       "    </tr>\n",
       "  </thead>\n",
       "  <tbody>\n",
       "    <tr>\n",
       "      <th>7113</th>\n",
       "      <td>Тайна Печати Дракона</td>\n",
       "      <td>111012819</td>\n",
       "      <td>2019-09-12 12:00:00+00:00</td>\n",
       "      <td>Художественный</td>\n",
       "      <td>ООО \"Кинокомпания \"СТВ\"; ООО \"РФГ Корп\"; ООО \"...</td>\n",
       "      <td>Россия-Китай</td>\n",
       "      <td>О.Степченко</td>\n",
       "      <td>С.Сельянов, А.Петрухин</td>\n",
       "      <td>«6+» - для детей старше 6 лет</td>\n",
       "      <td>180000000.0</td>\n",
       "      <td>...</td>\n",
       "      <td>Фонд кино</td>\n",
       "      <td>5.8</td>\n",
       "      <td>приключения,фэнтези</td>\n",
       "      <td>333597059.6</td>\n",
       "      <td>2019</td>\n",
       "      <td>О.Степченко</td>\n",
       "      <td>приключения</td>\n",
       "      <td>3.9</td>\n",
       "      <td>-1971477243.4</td>\n",
       "      <td>Российский</td>\n",
       "    </tr>\n",
       "    <tr>\n",
       "      <th>7170</th>\n",
       "      <td>Грех</td>\n",
       "      <td>111014419</td>\n",
       "      <td>2019-08-31 12:00:00+00:00</td>\n",
       "      <td>Художественный</td>\n",
       "      <td>НО Фонд Андрея Кончаловского по поддержке кино...</td>\n",
       "      <td>Россия, Италия</td>\n",
       "      <td>А.Михалков (псевдоним А.Кончаловский)</td>\n",
       "      <td>НО Фонд Андрея Кончаловского по поддержке кино...</td>\n",
       "      <td>«16+» - для детей старше 16 лет</td>\n",
       "      <td>0.0</td>\n",
       "      <td>...</td>\n",
       "      <td>Министерство культуры</td>\n",
       "      <td>6.9</td>\n",
       "      <td>драма,биография,история</td>\n",
       "      <td>54243202.7</td>\n",
       "      <td>2019</td>\n",
       "      <td>А.Михалков (псевдоним А.Кончаловский)</td>\n",
       "      <td>драма</td>\n",
       "      <td>7.7</td>\n",
       "      <td>-725698762.3</td>\n",
       "      <td>Российский</td>\n",
       "    </tr>\n",
       "    <tr>\n",
       "      <th>5436</th>\n",
       "      <td>Матильда</td>\n",
       "      <td>111005717</td>\n",
       "      <td>2017-08-17 12:00:00+00:00</td>\n",
       "      <td>Художественный</td>\n",
       "      <td>ООО \"ТПО \"РОК\", ООО \"Матильда\"</td>\n",
       "      <td>Россия</td>\n",
       "      <td>А.Учитель</td>\n",
       "      <td>А.Учитель, А.Достман, В.Винокур</td>\n",
       "      <td>«16+» - для детей старше 16 лет</td>\n",
       "      <td>110000000.0</td>\n",
       "      <td>...</td>\n",
       "      <td>Фонд кино</td>\n",
       "      <td>7.7</td>\n",
       "      <td>фэнтези,комедия,семейный</td>\n",
       "      <td>511775548.0</td>\n",
       "      <td>2017</td>\n",
       "      <td>А.Учитель</td>\n",
       "      <td>фэнтези</td>\n",
       "      <td>18.4</td>\n",
       "      <td>-521130409.0</td>\n",
       "      <td>Российский</td>\n",
       "    </tr>\n",
       "    <tr>\n",
       "      <th>2141</th>\n",
       "      <td>Территория</td>\n",
       "      <td>111000515</td>\n",
       "      <td>2015-01-27 12:00:00+00:00</td>\n",
       "      <td>Художественный</td>\n",
       "      <td>ООО \"Творческое объединение \"Кинокомпания \"Анд...</td>\n",
       "      <td>Россия</td>\n",
       "      <td>А.Мельник</td>\n",
       "      <td>А.Мельник</td>\n",
       "      <td>«12+» - для детей старше 12 лет</td>\n",
       "      <td>30000000.0</td>\n",
       "      <td>...</td>\n",
       "      <td>Фонд кино</td>\n",
       "      <td>6.8</td>\n",
       "      <td>детектив,фэнтези,триллер</td>\n",
       "      <td>72578317.4</td>\n",
       "      <td>2015</td>\n",
       "      <td>А.Мельник</td>\n",
       "      <td>детектив</td>\n",
       "      <td>6.0</td>\n",
       "      <td>-427421682.6</td>\n",
       "      <td>Российский</td>\n",
       "    </tr>\n",
       "    <tr>\n",
       "      <th>6886</th>\n",
       "      <td>Девятая</td>\n",
       "      <td>111007019</td>\n",
       "      <td>2019-09-19 12:00:00+00:00</td>\n",
       "      <td>Художественный</td>\n",
       "      <td>ООО \"Нон-Стоп Продакшн\"</td>\n",
       "      <td>Россия</td>\n",
       "      <td>Н.Хомерики</td>\n",
       "      <td>С.Мелькумов, А.Роднянский</td>\n",
       "      <td>«16+» - для детей старше 16 лет</td>\n",
       "      <td>0.0</td>\n",
       "      <td>...</td>\n",
       "      <td>Фонд кино</td>\n",
       "      <td>5.8</td>\n",
       "      <td>детектив,триллер,криминал</td>\n",
       "      <td>55876887.4</td>\n",
       "      <td>2019</td>\n",
       "      <td>Н.Хомерики</td>\n",
       "      <td>детектив</td>\n",
       "      <td>66.1</td>\n",
       "      <td>-397827778.6</td>\n",
       "      <td>Российский</td>\n",
       "    </tr>\n",
       "  </tbody>\n",
       "</table>\n",
       "<p>5 rows × 22 columns</p>\n",
       "</div>"
      ],
      "text/plain": [
       "                     title   punumber           show_start_date  \\\n",
       "7113  Тайна Печати Дракона  111012819 2019-09-12 12:00:00+00:00   \n",
       "7170                  Грех  111014419 2019-08-31 12:00:00+00:00   \n",
       "5436              Матильда  111005717 2017-08-17 12:00:00+00:00   \n",
       "2141            Территория  111000515 2015-01-27 12:00:00+00:00   \n",
       "6886               Девятая  111007019 2019-09-19 12:00:00+00:00   \n",
       "\n",
       "                type                                        film_studio  \\\n",
       "7113  Художественный  ООО \"Кинокомпания \"СТВ\"; ООО \"РФГ Корп\"; ООО \"...   \n",
       "7170  Художественный  НО Фонд Андрея Кончаловского по поддержке кино...   \n",
       "5436  Художественный                     ООО \"ТПО \"РОК\", ООО \"Матильда\"   \n",
       "2141  Художественный  ООО \"Творческое объединение \"Кинокомпания \"Анд...   \n",
       "6886  Художественный                            ООО \"Нон-Стоп Продакшн\"   \n",
       "\n",
       "     production_country                               director  \\\n",
       "7113       Россия-Китай                            О.Степченко   \n",
       "7170     Россия, Италия  А.Михалков (псевдоним А.Кончаловский)   \n",
       "5436             Россия                              А.Учитель   \n",
       "2141             Россия                              А.Мельник   \n",
       "6886             Россия                             Н.Хомерики   \n",
       "\n",
       "                                               producer  \\\n",
       "7113                             С.Сельянов, А.Петрухин   \n",
       "7170  НО Фонд Андрея Кончаловского по поддержке кино...   \n",
       "5436                    А.Учитель, А.Достман, В.Винокур   \n",
       "2141                                          А.Мельник   \n",
       "6886                          С.Мелькумов, А.Роднянский   \n",
       "\n",
       "                      age_restriction  refundable_support  ...  \\\n",
       "7113    «6+» - для детей старше 6 лет         180000000.0  ...   \n",
       "7170  «16+» - для детей старше 16 лет                 0.0  ...   \n",
       "5436  «16+» - для детей старше 16 лет         110000000.0  ...   \n",
       "2141  «12+» - для детей старше 12 лет          30000000.0  ...   \n",
       "6886  «16+» - для детей старше 16 лет                 0.0  ...   \n",
       "\n",
       "           financing_source  ratings                     genres  box_office  \\\n",
       "7113              Фонд кино      5.8        приключения,фэнтези 333597059.6   \n",
       "7170  Министерство культуры      6.9    драма,биография,история  54243202.7   \n",
       "5436              Фонд кино      7.7   фэнтези,комедия,семейный 511775548.0   \n",
       "2141              Фонд кино      6.8   детектив,фэнтези,триллер  72578317.4   \n",
       "6886              Фонд кино      5.8  детектив,триллер,криминал  55876887.4   \n",
       "\n",
       "     show_start_year                          main_director  main_genres  \\\n",
       "7113            2019                            О.Степченко  приключения   \n",
       "7170            2019  А.Михалков (псевдоним А.Кончаловский)        драма   \n",
       "5436            2017                              А.Учитель      фэнтези   \n",
       "2141            2015                              А.Мельник     детектив   \n",
       "6886            2019                             Н.Хомерики     детектив   \n",
       "\n",
       "     fraction_budget profitability     country  \n",
       "7113             3.9 -1971477243.4  Российский  \n",
       "7170             7.7  -725698762.3  Российский  \n",
       "5436            18.4  -521130409.0  Российский  \n",
       "2141             6.0  -427421682.6  Российский  \n",
       "6886            66.1  -397827778.6  Российский  \n",
       "\n",
       "[5 rows x 22 columns]"
      ]
     },
     "execution_count": 95,
     "metadata": {},
     "output_type": "execute_result"
    }
   ],
   "source": [
    "data_gp.sort_values(by= 'profitability', ascending= True).head(5)"
   ]
  },
  {
   "cell_type": "markdown",
   "metadata": {},
   "source": [
    "<div class=\"alert alert-info\">\n",
    "    \n",
    "Посмотрим на лидеров отрицательного рейтинга, картины с провальной рентабельностью:\n",
    "    \n",
    " 1) \"**Тайна Печати Дракона**\", 2019 года, категория \"6+\", рейтинг **5,8**, сборы **333 597 059**, рентабельность **-1 971 477 243**\\\n",
    " 2) \"**Грех**\", 2019 года, категория \"16+\", рейтинг **6,9**, сборы **54 243 202**, рентабельность **-725 698 762**\\\n",
    " 3) \"**Матильда**\", 2017 года, категория \"16+\", рейтинг **7,7**, сборы **511 775 548**, рентабельность **-521 130 409**\\\n",
    " 4) \"**Территория**\", 2015 года, категория \"12+\", рейтинг **6,8**, сборы **72 578 317**, рентабельность **-427 421 682**\\\n",
    " 5) \"**Девятая**\", 2019 года, категория \"16+\", рейтинг **5,8**, сборы **55 876 887**, рентабельность **-397 827 778**\\\n",
    "    В данной подборке так же подтвердилось утверждение, что высокий рейтинг не есть показатель успешности как бизнес проекта.\n",
    "    \n",
    "    \n",
    "</div>"
   ]
  },
  {
   "cell_type": "code",
   "execution_count": 96,
   "metadata": {},
   "outputs": [
    {
     "data": {
      "text/html": [
       "<div>\n",
       "<style scoped>\n",
       "    .dataframe tbody tr th:only-of-type {\n",
       "        vertical-align: middle;\n",
       "    }\n",
       "\n",
       "    .dataframe tbody tr th {\n",
       "        vertical-align: top;\n",
       "    }\n",
       "\n",
       "    .dataframe thead th {\n",
       "        text-align: right;\n",
       "    }\n",
       "</style>\n",
       "<table border=\"1\" class=\"dataframe\">\n",
       "  <thead>\n",
       "    <tr style=\"text-align: right;\">\n",
       "      <th></th>\n",
       "      <th>punumber</th>\n",
       "      <th>refundable_support</th>\n",
       "      <th>nonrefundable_support</th>\n",
       "      <th>budget</th>\n",
       "      <th>ratings</th>\n",
       "      <th>box_office</th>\n",
       "      <th>show_start_year</th>\n",
       "      <th>fraction_budget</th>\n",
       "      <th>profitability</th>\n",
       "    </tr>\n",
       "  </thead>\n",
       "  <tbody>\n",
       "    <tr>\n",
       "      <th>punumber</th>\n",
       "      <td>1.0</td>\n",
       "      <td>0.0</td>\n",
       "      <td>-0.0</td>\n",
       "      <td>-0.0</td>\n",
       "      <td>0.0</td>\n",
       "      <td>0.1</td>\n",
       "      <td>-0.0</td>\n",
       "      <td>0.0</td>\n",
       "      <td>0.0</td>\n",
       "    </tr>\n",
       "    <tr>\n",
       "      <th>refundable_support</th>\n",
       "      <td>0.0</td>\n",
       "      <td>1.0</td>\n",
       "      <td>0.3</td>\n",
       "      <td>0.6</td>\n",
       "      <td>-0.0</td>\n",
       "      <td>0.3</td>\n",
       "      <td>0.1</td>\n",
       "      <td>-0.4</td>\n",
       "      <td>-0.0</td>\n",
       "    </tr>\n",
       "    <tr>\n",
       "      <th>nonrefundable_support</th>\n",
       "      <td>-0.0</td>\n",
       "      <td>0.3</td>\n",
       "      <td>1.0</td>\n",
       "      <td>0.6</td>\n",
       "      <td>0.1</td>\n",
       "      <td>0.5</td>\n",
       "      <td>0.1</td>\n",
       "      <td>0.1</td>\n",
       "      <td>0.2</td>\n",
       "    </tr>\n",
       "    <tr>\n",
       "      <th>budget</th>\n",
       "      <td>-0.0</td>\n",
       "      <td>0.6</td>\n",
       "      <td>0.6</td>\n",
       "      <td>1.0</td>\n",
       "      <td>0.1</td>\n",
       "      <td>0.4</td>\n",
       "      <td>0.2</td>\n",
       "      <td>-0.3</td>\n",
       "      <td>-0.2</td>\n",
       "    </tr>\n",
       "    <tr>\n",
       "      <th>ratings</th>\n",
       "      <td>0.0</td>\n",
       "      <td>-0.0</td>\n",
       "      <td>0.1</td>\n",
       "      <td>0.1</td>\n",
       "      <td>1.0</td>\n",
       "      <td>0.1</td>\n",
       "      <td>0.0</td>\n",
       "      <td>0.0</td>\n",
       "      <td>0.1</td>\n",
       "    </tr>\n",
       "    <tr>\n",
       "      <th>box_office</th>\n",
       "      <td>0.1</td>\n",
       "      <td>0.3</td>\n",
       "      <td>0.5</td>\n",
       "      <td>0.4</td>\n",
       "      <td>0.1</td>\n",
       "      <td>1.0</td>\n",
       "      <td>0.1</td>\n",
       "      <td>-0.2</td>\n",
       "      <td>0.8</td>\n",
       "    </tr>\n",
       "    <tr>\n",
       "      <th>show_start_year</th>\n",
       "      <td>-0.0</td>\n",
       "      <td>0.1</td>\n",
       "      <td>0.1</td>\n",
       "      <td>0.2</td>\n",
       "      <td>0.0</td>\n",
       "      <td>0.1</td>\n",
       "      <td>1.0</td>\n",
       "      <td>-0.1</td>\n",
       "      <td>0.0</td>\n",
       "    </tr>\n",
       "    <tr>\n",
       "      <th>fraction_budget</th>\n",
       "      <td>0.0</td>\n",
       "      <td>-0.4</td>\n",
       "      <td>0.1</td>\n",
       "      <td>-0.3</td>\n",
       "      <td>0.0</td>\n",
       "      <td>-0.2</td>\n",
       "      <td>-0.1</td>\n",
       "      <td>1.0</td>\n",
       "      <td>-0.0</td>\n",
       "    </tr>\n",
       "    <tr>\n",
       "      <th>profitability</th>\n",
       "      <td>0.0</td>\n",
       "      <td>-0.0</td>\n",
       "      <td>0.2</td>\n",
       "      <td>-0.2</td>\n",
       "      <td>0.1</td>\n",
       "      <td>0.8</td>\n",
       "      <td>0.0</td>\n",
       "      <td>-0.0</td>\n",
       "      <td>1.0</td>\n",
       "    </tr>\n",
       "  </tbody>\n",
       "</table>\n",
       "</div>"
      ],
      "text/plain": [
       "                       punumber  refundable_support  nonrefundable_support  \\\n",
       "punumber                    1.0                 0.0                   -0.0   \n",
       "refundable_support          0.0                 1.0                    0.3   \n",
       "nonrefundable_support      -0.0                 0.3                    1.0   \n",
       "budget                     -0.0                 0.6                    0.6   \n",
       "ratings                     0.0                -0.0                    0.1   \n",
       "box_office                  0.1                 0.3                    0.5   \n",
       "show_start_year            -0.0                 0.1                    0.1   \n",
       "fraction_budget             0.0                -0.4                    0.1   \n",
       "profitability               0.0                -0.0                    0.2   \n",
       "\n",
       "                       budget  ratings  box_office  show_start_year  \\\n",
       "punumber                 -0.0      0.0         0.1             -0.0   \n",
       "refundable_support        0.6     -0.0         0.3              0.1   \n",
       "nonrefundable_support     0.6      0.1         0.5              0.1   \n",
       "budget                    1.0      0.1         0.4              0.2   \n",
       "ratings                   0.1      1.0         0.1              0.0   \n",
       "box_office                0.4      0.1         1.0              0.1   \n",
       "show_start_year           0.2      0.0         0.1              1.0   \n",
       "fraction_budget          -0.3      0.0        -0.2             -0.1   \n",
       "profitability            -0.2      0.1         0.8              0.0   \n",
       "\n",
       "                       fraction_budget  profitability  \n",
       "punumber                           0.0            0.0  \n",
       "refundable_support                -0.4           -0.0  \n",
       "nonrefundable_support              0.1            0.2  \n",
       "budget                            -0.3           -0.2  \n",
       "ratings                            0.0            0.1  \n",
       "box_office                        -0.2            0.8  \n",
       "show_start_year                   -0.1            0.0  \n",
       "fraction_budget                    1.0           -0.0  \n",
       "profitability                     -0.0            1.0  "
      ]
     },
     "execution_count": 96,
     "metadata": {},
     "output_type": "execute_result"
    }
   ],
   "source": [
    "data_gp.corr()"
   ]
  },
  {
   "cell_type": "markdown",
   "metadata": {},
   "source": [
    "<div class=\"alert alert-info\">\n",
    "    \n",
    "Посмотрим на общее значение корреляции среди группы. Самое большое значение **0.8** наблюдается между показателями **сборы в прокате и рентабельностью**, далее положительная зависимость со значением в **0.6** наблюдается между **бюджетом и возвратными и не возвратными средствами**. Отрицательная зависимость между **долей бюджета и возвратными средствами** отразилась в значении **-0.4**. \n",
    "    \n",
    "</div>"
   ]
  },
  {
   "cell_type": "code",
   "execution_count": 97,
   "metadata": {},
   "outputs": [
    {
     "data": {
      "image/png": "[encoded data removed]",
      "text/plain": [
       "<Figure size 432x288 with 2 Axes>"
      ]
     },
     "metadata": {
      "needs_background": "light"
     },
     "output_type": "display_data"
    }
   ],
   "source": [
    "sns.heatmap(data_gp.corr(), annot=True, fmt=\".1f\")\n",
    "plt.title('Корреляция по группам')\n",
    "plt.show()"
   ]
  },
  {
   "cell_type": "markdown",
   "metadata": {},
   "source": [
    "<div class=\"alert alert-info\">\n",
    "    \n",
    "Построим тепловую карту по значениям корреляции, на ней сразу выделяются области зависимости описанные ранее. \n",
    "    \n",
    "</div>"
   ]
  },
  {
   "cell_type": "code",
   "execution_count": 98,
   "metadata": {},
   "outputs": [
    {
     "data": {
      "image/png": "[encoded data removed]",
      "text/plain": [
       "<Figure size 576x288 with 1 Axes>"
      ]
     },
     "metadata": {
      "needs_background": "light"
     },
     "output_type": "display_data"
    }
   ],
   "source": [
    "data_gp.plot(x='box_office', y='profitability', kind= 'scatter', grid=True, figsize=(8, 4), alpha=0.4)\n",
    "plt.title('Корреляция сборов к рентабельности')\n",
    "plt.xlabel('Сборы в прокате')\n",
    "plt.ylabel('Рентабельность')\n",
    "plt.show()"
   ]
  },
  {
   "cell_type": "markdown",
   "metadata": {},
   "source": [
    "<div class=\"alert alert-info\">\n",
    "    \n",
    "Построим диаграмму рассеивания между показателями **рентабельность и сборы в прокате**, на ней мы наблюдаем подтверждение значений корреляции в **0.8**, что в свою очередь подтверждает положительную зависимость этих факторов. \n",
    "    \n",
    "</div>"
   ]
  },
  {
   "cell_type": "code",
   "execution_count": 99,
   "metadata": {},
   "outputs": [
    {
     "data": {
      "image/png": "[encoded data removed]",
      "text/plain": [
       "<Figure size 576x288 with 1 Axes>"
      ]
     },
     "metadata": {
      "needs_background": "light"
     },
     "output_type": "display_data"
    }
   ],
   "source": [
    "data_gp.plot(x='fraction_budget', y='refundable_support', kind= 'scatter', grid=True, figsize=(8, 4), alpha=0.4)\n",
    "plt.title('Корреляция доли поддержки к возвратным средствам')\n",
    "plt.xlabel('Доля господдержки')\n",
    "plt.ylabel('Восвратные средства')\n",
    "plt.show()"
   ]
  },
  {
   "cell_type": "markdown",
   "metadata": {},
   "source": [
    "<div class=\"alert alert-info\">\n",
    "    \n",
    "Посмотрим на диаграмму рассеивания между **долей господдержки и возвратными средствами**, корреляция на уровне значений **-0.4**, говорит о слабой отрицательной зависимости. График это утверждение подтверждает визуально. \n",
    "    \n",
    "</div>"
   ]
  },
  {
   "cell_type": "markdown",
   "metadata": {
    "id": "V2gYwMcPgFyd"
   },
   "source": [
    "### Шаг 5. Общий вывод"
   ]
  },
  {
   "cell_type": "markdown",
   "metadata": {},
   "source": [
    "<div style=\"border:solid Red 2px; padding: 10px\">\n",
    "<div class=\"alert alert-info\">\n",
    "    \n",
    " <font color='red'>**Исследование данных о российском кинопрокате за период с 2010 по 2019 год**.</font> \n",
    "    \n",
    "**1)** Перед началом анализа, мы импортировали ряд библиотек, тех которые потенциально могут пригодится исходя из задачи. А именно: `matplotlib` (*для построения графиков*), `pandas` (*для работы с данными*), `numpy`(*для работы с вычислениями*), `seaborn` (*для более сложных графиков*), `IPython.display` (*для презентабельного вывода значений в процессе анализа*) и надстройку формата отображения чисел. Далее открыли первый файл и записали его в переменную `mkrf_movies`. Первый датафрейм содержит данные о кинокартинах, они распределены по следующим колонкам:\n",
    "- `title` - *название фильма*\n",
    "- `puNumber` - *номер прокатного удостоверения* \n",
    "- `show_start_date` - *дата премьеры фильма*\n",
    "- `type` - *тип фильма*\n",
    "- `film_studio` - *студия-производитель*\n",
    "- `production_country` - *страна-производитель*\n",
    "- `director` - *режиссёр*\n",
    "- `producer` - *продюсер*\n",
    "- `age_restriction` - *возрастная категория*\n",
    "- `refundable_support` - *объём возвратных средств государственной поддержки*\n",
    "- `nonrefundable_support` - *объём невозвратных средств государственной поддержки*\n",
    "- `budget` - *общий бюджет фильма*\n",
    "- `financing_source` - *источник государственного финансирования*\n",
    "- `ratings` - *рейтинг фильма на КиноПоиске*\n",
    "- `genres` - *жанр фильма*\\\n",
    "    Всего **7486** строк. Далее открыли второй файл и записали его в переменную `mkrf_shows`. Второй датафрейм содержит данные о сборах в прокате, всего **3158** строк, они распределены в две колонки:\n",
    "- `puNumber` - *номер прокатного удостоверения*\n",
    "- `box_office` - *сборы в рублях*\\\n",
    "    И первый и второй датафрейм содержит данные о номере прокатного удостоверения, колонка `puNumber`, по этой колонке осуществим объединение двух файлов в один и запишем в переменную `data`.\n",
    "    \n",
    "**2)** **На этапе предобработки**:\n",
    "- В колонке `puNumber` исправили название, привели к общему нижнему регистру.\n",
    "- В колонке `show_start_date` указана дата премьеры, поэтому заменили тип с `object` на `datetime64`.\n",
    "- В колонке `ratings` присутствовали значения со знаком **\"%\"**. Их переименовали приведя все значения в формат `float`.\n",
    "- В колонке `film_studio` обнаружили **18** пропусков, это около четверти процента. Поэтому их просто удалили.\n",
    "- В колонке `production_country` обнаружили **2** пропусков, это не существенное кол-во. Поэтому их просто удалили.\n",
    "- В колонке `director` обнаружили **9** пропусков, это не существенное кол-во. Поэтому их просто удалили.\n",
    "- В колонке `producer` обнаружено **564**, это **7,5%** от общей массы. Это список продюсеров принимающих участие в создании картины. Не смотря на то, что значений не много, оставили их для анализа, а пропуски заменим указателем **\"нет_данных\"**.\n",
    "- Проверили датафрейм на наличие дубликатов. Дубликатов не выявлено.\n",
    "- В колонке `type` обнаружили не явный дубликат (Художественный и Анимационный записан с пробелом в начале). Это исправили методом `str.strip()`.\n",
    "    \n",
    "**3)** **Проверили колонки с финансовой информацией**:\n",
    "- Колонка `refundable_support` с данными о возвратных средствах содержит **329** записей. Медианное значение **0**, минимум **0**, среднее значение **11 653 495**, максимум **180 000 000**. При сортировке значений по убыванию первые девять значений показывают больше **100 000 000**.\n",
    "- Колонка `nonrefundable_support` с данными о не возвратных средствах содержит **329** записей. Медианное значение **30 000 000**, минимум **0**, среднее значение **48 059 842**, максимум **400 000 000**. При сортировке значений по убыванию первая тройка показывает значения **400 000 000**.\n",
    "- Колонка `budget` с данными о бюджете содержит **329** записей. Медианное значение **68 490 606**, минимум **0**, среднее значение **125 146 705**, максимум **2 305 074 303**. При сортировке по убыванию, первая и вторая позиции с разницей в **миллиард**. В бюджет уже входит сумма не возвратных средств.\n",
    "- Колонка `box_office` с данными о сборах в прокате содержит **3014** записей. Медианное значение **2 435 268**, минимум **0**, среднее значение **75 707 668**, максимум **3 073 568 690**. Отсортированные по убыванию первые шесть позиций больше **2 000 000 000**.\n",
    "    \n",
    "**4)** **Добавили колонки необходимые в дальнейшем анализе**:\n",
    "- Создали новую колонку `show_start_year` с обозначением года премьеры картины, данные сформировали из колонки `show_start_date` методом `pd.DatetimeIndex` с указанием индекса округления `year`.\n",
    "- Создали новую колонку `main_director` с обозначением главного режиссера. Для этого создадим функцию `main` которая преобразует строку в список разделив его по запятой и выведет первое значение списка, далее применим ее к колонке `director`.\n",
    "- Создали новую колонку `main_genres` с обозначением основного жанра картины. Для этого применим нашу функцию `main` которая преобразует строку в список разделив его по запятой и выведет первое значение списка, далее применим ее к колонке `genres`.\n",
    "- Создали колонку `fraction_budget` в которой посчитали конверсию невозвратных средств к бюджету. Медианное значение **48,5%**, зона нормального распределения от **31,9%** до **65%**.\n",
    "- Создали колонку `profitability` в ней посчитаем рентабельность путем вычитания бюджета из значения сборов в прокате. \n",
    "    \n",
    "**5)** **Провели исследовательский анализ данных**:\n",
    "- Количество вышедших в прокат и общее количество картин. Создали переменную `film_count_year`, в нее записали сводную таблицу сгруппированную по годам выхода картин. В таблице в колонке `box_office` указано количество картин показанных в кинотеатрах, а в колонке `punumber` общее количество картин получивших прокатные удостоверения. Далее добавили колонку `proportion` в которой посчитали долю показанных картин от общего количества. Из полученной таблицы, мы видим, что доля картин вышедших в прокат расла от года к году, если в **2010** году доля составляла **11,6%**, то в **2011** уже **20,6%**, в **2012** **22,3%**. Рост продолжался до **2017** года, где доля картин составила **71,5%**. В **2018** году произошло снижение до **54,5%**, но уже **2019** вновь показало рост до **58,9%**. При этом график общего количество картин не коррелируется с долей проката. В **2010** было снято **757** картин. В **2011** число картин **475** что является минимальным значением за весь период выборки, а в **2014-2016** число картин было в среднем **730**. В **2017** видим падение до **498**, в **2018** замечаем резкий рост до уровня в **864** картину, а в **2019** наблюдаем значение в **887** картин, что является максимальным значением за рассматриваемый период выборки.\n",
    "-  Динамика проката по годам. Изучили данные о прокате (сборах), для этого вывели сводную таблицу, где данные о прокате суммированы и сгруппированы по годам. Так же добавили колонку `box_diff` где при помощи функции `diff` посчитали разницу значений к предыдущему году. В **2010** году наблюдаем минимальные значения в **2 374 340**, а уже через год сумма воросла до **13 944 390**. В **2012** году падение в два раза, до отметки **6 420 761**, а с **2013** начинается устойчивый рост с **29 768 531**, вплоть до **2017** где значения показывают максимум и составляют **48 561 554 266**.\n",
    "- Среднее и медианное значение сборов по годам. Вывели сводную таблицу по сборам, сгруппировали по годам и добавили среднее и медианное значение. Еще добавили колонку с разницей значений. Наблюдаем, что с **2010** по **2013** год среднее значение не превышает **169 139**, при этом разница с медианным значением более чем в **10** раз. В **2014** году происходит резкий рост среднего значения до показателей в **28 687 154**, при этом медиана на уровне **22 490**. Рост продолжается по **2017** года, где оба значения показывают свои максимумы, среднее значение **136 408 860**, медиана **10 177 833**.\n",
    "- Влияние возрастной категории на сборы в прокате. Для этого создали сводную таблицу, где сгруппировали по годам данные по сборам отсортированные по возрастным категориям. Убрали из выборки данные старше **2015** года. Так же создали сводную таблицу, где сгруппировали по годам данные о количестве выпущенных в прокат картин и отсортировали по возрастным категориям. Убрали из выборки данные старше 2015 года. Дополнительно вывели две диаграммы, по количеству выпущенных картин и по сумме сборов в прокате. В первую очередь выделяется категория **\"0+\"** сумма проката в этой категории не превышает **273 367 767** и это максимальное значение показанное в **2015** году, дальше эта категория показывает снижение до уровня **17 746 066** в **2019** и это минимальное значение в группе.\\\n",
    "    На втором месте самая возростная категория **\"18+\"**. С **2015** данная група демонстрирует рост с **3 184 097 943** в **2015** до **10 114 009 267** в **2019**.\\\n",
    "    В категории **\"6+\"** замечаем колебания, в **2015** значения **8 395 710 375**, затем рост в **2016** до уровня **12 053 144 408**, а в **2018** падение до уровня **10 104 974 623**, но в **2019** рост компенсировал падение и установил максимум в своей группе показав значение в **12 852 548 650**.\\\n",
    "    В категориях **\"12+\"** и **\"16+\"** замечаем зависимость, когда одна растет, вторая показывает падение. В **2015** году значения были на уровне **12 178 337 053** у **\"12+\"** и **14 359 349 614** у **\"16+\"**, а к **2017** году значения были на уровне **7 851 427 660** у **\"12+\"** и **18 742 889 949** у **\"16+\"**. Таким образом категория **\"16+\"** в **2017** году показала абсолютный максимум по всем группам. 2018 году категория **\"12+\"** показывает хороший рост до **14 267 250 435**, а категория **\"16+\"** снижается до **14 820 922 307**.\\\n",
    "    В **2019** категории **\"16+\"** и **\"12+\"** показывают снижение на фоне роста категории **\"6+\"** и все три категории останавливаются в пределах **12 700 000 000**.\n",
    "    \n",
    "**6)** **Провели исследования фильмов, которые получили государственную поддержку**:\n",
    "- Источником финансирования со стороны государства являются **Министерство культуры** и **Фонд кино**, иногда совместно.\n",
    "- **Россия** принимала участие в создании **1930** картин и **СССР** принимала участие в создании **405** картин, что составляет **28%** от общего числа выборки.\n",
    "- Государственную поддержку получили только **329** картины. Это порядка **17%** от общего числа картин в создании которых принимала Россия.\n",
    "- Определили, что **95%** финансируемых государством картин сминаются без участия других стран.\n",
    "- Выявили распределение картин по типу. Основная доля **90%** это художественные картины, на анимацию приходится только **10%** картин и всего **1** документальный фильм.\n",
    "- Выявили распределение по полученным рейтингам. Среднее значение **6,0**, медиана **6,2**, минимальное значение **1,0**, а максимальное **9,4**.\n",
    "- Выявили какие режиссеры чаще всего получают господдержку. На лидера **Рената Давлетьярова** приходится не более **5** картин, таким образом можно утверждать, что зависимости между именем режиссера и софинансированием из господдержки нет.\n",
    "- Посмотрели на картины которые снял **Ренат Давлетьяров**. \n",
    "1. \"**Невидимки**\", снят в **2013** году, рейтинг **5,3**, доля господдержки **61,3%**, рентабельность **-156 066 458**\n",
    "2. \"**А зори здесь тихие**\", снят в **2015** году, рейтинг **8,5**, доля господдержки **45,3%**, рентабельность **28 578 373**\n",
    "3. \"**Однажды**\", снят в **2015** году, рейтинг **7,9**, доля господдержки **62%**, рентабельность **-143 612 267**\n",
    "4. \"**Чистое искусство**\", снят в **2015** году, рейтинг **5,9**, доля господдержки **53,7%**, рентабельность **-105 278 860**\n",
    "5. \"**Донбасс. Окраина**\", снят в **2019** году, рейтинг **6,3**, доля господдержки **28,4%**, рентабельность **-94 788 092**\\\n",
    "    Явной зависимости между картинами не прослеживается, есть драмы, есть комедия и триллер, при этом **4** из **5** картин с **отрицательной рентабельностью**. \n",
    "- Выявили распределение по жанрам. *Драмы* снимают чаще всего (показатель **93** картины), затем *комедии* (показатель **74** картины), а вот *мультфильмы* уже в два раза меньше (показатель **31** картина), *военные фильмы* на последнем месте (показатель *9* картин).\n",
    "- Выявили распределение по количеству картин в год. В **2013** всего **2**, в **2014** уже **16**, а в **2015** показатель показывает максимальное значение **86**, затем видим падение в течении **2** лет до уровня **41** картина в **2017**. В **2018** и **2019** заметен рост до **67** картин в **2019**.\n",
    "- Выявили распределение по возрастным категориям. «**16+**» самая популярная (показатель **124** картин), «**12+**» на втором месте с показателем в **104** картин, «**6+**» (показатель **65** картин), «**18+**» (показатель **28** картин) и «**0+**» (показатель **8** картин)**.\n",
    "- Выявили показатели рентабельности. Среднее значение **5 205 385**, а медиана **-40 060 257**, разница очень большая, это связано со значением максимума **2 913 568 690**, при этом минимум на уровне **-1 971 477 243**.\n",
    "- Финансовое распределение по годам. В финансовом плане успешными можно считать полько **2017** и **2018** года с показателями **3 998 502 733** и **3 282 374 376** соответственно. Все остальные показывали убытки **2013**  **(-235 113 004)**, **2014**  **(-262 062 616)**, **2015**  **(-1 482 384 804)**, **2016**  **(-1 128 528 828)** и **2019**  **(-2 527 886 039)**, что является максимальным значением.\n",
    "- Посмотрели на *лидеров* по сборам в прокате:\n",
    "1. \"**Холоп**\", 2019 года, категория \"12+\", рейтинг **6,8**, сборы **3 073 568 690**, рентабельность **2 913 568 690**\n",
    "    \n",
    "2. \"**Движение вверх**\", 2017 года, категория \"6+\", рейтинг **7,5**, сборы **2 779 686 144**, рентабельность **2 189 493 953**\n",
    "    \n",
    "3. \"**Т-34**\", 2018 года, категория \"12+\", рейтинг **6,5**, сборы **2 271 754 004**, рентабельность **1 707 969 287**\n",
    "    \n",
    "4. \"**Последний богатырь**\", 2017 года, категория \"12+\", рейтинг **6,8**, сборы **1 655 037 688**, рентабельность **1 302 560 113**\n",
    "    \n",
    "5. \"**Лёд**\", 2018 года, категория \"12+\", рейтинг \"\"нет\", сборы **1 445 731 797**, рентабельность **1 297 146 575**\\\n",
    "    Картины разные, из объединяющих факторов, это возрастная категория. Интересно, что рейтинг не коррелирует с успешностью в прокате, значения **6,8** это чуть выше среднего.\n",
    "- Посмотрели на лидеров отрицательного рейтинга, картины с провальной рентабельностью:\n",
    "    \n",
    "1. \"**Тайна Печати Дракона**\", 2019 года, категория \"6+\", рейтинг **5,8**, сборы **333 597 059**, рентабельность **-1 971 477 243**\n",
    "2. \"**Грех**\", 2019 года, категория \"16+\", рейтинг **6,9**, сборы **54 243 202**, рентабельность **-725 698 762**\n",
    "3. \"**Матильда**\", 2017 года, категория \"16+\", рейтинг **7,7**, сборы **511 775 548**, рентабельность **-521 130 409**\n",
    "4. \"**Территория**\", 2015 года, категория \"12+\", рейтинг **6,8**, сборы **72 578 317**, рентабельность **-427 421 682**\n",
    "5. \"**Девятая**\", 2019 года, категория \"16+\", рейтинг **5,8**, сборы **55 876 887**, рентабельность **-397 827 778**\\\n",
    "    В данной подборке так же подтвердилось утверждение, что высокий рейтинг не есть показатель успешности как бизнес проекта.\n",
    "- Вывели общее значение корреляции среди группы. Самое большое значение **0.8** наблюдается между показателями **сборы в прокате и рентабельностью**, далее положительная зависимость со значением в **0.6** наблюдается между **бюджетом и возвратными и не возвратными средствами**. Отрицательная зависимость между **долей бюджета и возвратными средствами** отразилась в значении **-0.4**. \n",
    "- Построили диаграмму рассеивания между показателями **рентабельность и сборы в прокате**, на ней мы наблюдаем подтверждение значений корреляции в **0.8**, что в свою очередь подтверждает положительную зависимость этих факторов.\n",
    "- Посмотрели на диаграмму рассеивания между **долей господдержки и возвратными средствами**, корреляция на уровне значений **-0.4**, говорит о слабой отрицательной зависимости. График это утверждение подтверждает визуально.\n",
    "    \n",
    "    Резюмируя итоги, хочется отметить, что в России кинобизнес, это история не про бизнес, а скорее про искусство, на это наводят данные по рентабельности. Тем не менее, индустрия показывает рост как в количестве, так и в качестве. \n",
    "    \n",
    "    \n",
    "</div>"
   ]
  }
 ],
 "metadata": {
  "ExecuteTimeLog": [
   {
    "duration": 537,
    "start_time": "2021-07-07T10:12:08.634Z"
   },
   {
    "duration": 206,
    "start_time": "2021-07-07T10:12:30.191Z"
   },
   {
    "duration": 227,
    "start_time": "2021-07-07T10:12:33.078Z"
   },
   {
    "duration": 153,
    "start_time": "2021-07-07T10:13:42.146Z"
   },
   {
    "duration": 233,
    "start_time": "2021-07-07T10:30:09.252Z"
   },
   {
    "duration": 19,
    "start_time": "2021-07-07T10:30:15.577Z"
   },
   {
    "duration": 18,
    "start_time": "2021-07-07T10:30:57.348Z"
   },
   {
    "duration": 19,
    "start_time": "2021-07-07T10:31:17.452Z"
   },
   {
    "duration": 21,
    "start_time": "2021-07-07T10:31:32.227Z"
   },
   {
    "duration": 27,
    "start_time": "2021-07-07T10:32:06.588Z"
   },
   {
    "duration": 23,
    "start_time": "2021-07-07T10:32:43.645Z"
   },
   {
    "duration": 24,
    "start_time": "2021-07-07T10:33:06.948Z"
   },
   {
    "duration": 7,
    "start_time": "2021-07-07T10:33:28.558Z"
   },
   {
    "duration": 23,
    "start_time": "2021-07-07T10:33:43.761Z"
   },
   {
    "duration": 28,
    "start_time": "2021-07-07T10:34:13.466Z"
   },
   {
    "duration": 23,
    "start_time": "2021-07-07T10:35:56.187Z"
   },
   {
    "duration": 6,
    "start_time": "2021-07-07T10:36:48.182Z"
   },
   {
    "duration": 14,
    "start_time": "2021-07-07T10:37:49.641Z"
   },
   {
    "duration": 6,
    "start_time": "2021-07-07T10:38:06.694Z"
   },
   {
    "duration": 6,
    "start_time": "2021-07-07T10:38:13.493Z"
   },
   {
    "duration": 19,
    "start_time": "2021-07-07T10:38:44.056Z"
   },
   {
    "duration": 186,
    "start_time": "2021-07-07T10:48:35.618Z"
   },
   {
    "duration": 24,
    "start_time": "2021-07-07T10:48:51.498Z"
   },
   {
    "duration": 20,
    "start_time": "2021-07-07T10:48:59.415Z"
   },
   {
    "duration": 20,
    "start_time": "2021-07-07T10:53:02.195Z"
   },
   {
    "duration": 188,
    "start_time": "2021-07-07T10:54:40.486Z"
   },
   {
    "duration": 115,
    "start_time": "2021-07-07T10:54:52.552Z"
   },
   {
    "duration": 214,
    "start_time": "2021-07-07T10:54:56.354Z"
   },
   {
    "duration": 47,
    "start_time": "2021-07-07T10:54:58.282Z"
   },
   {
    "duration": 217,
    "start_time": "2021-07-07T10:59:16.075Z"
   },
   {
    "duration": 51,
    "start_time": "2021-07-07T10:59:16.243Z"
   },
   {
    "duration": 578,
    "start_time": "2021-07-07T10:59:18.774Z"
   },
   {
    "duration": 161,
    "start_time": "2021-07-07T10:59:21.238Z"
   },
   {
    "duration": 59,
    "start_time": "2021-07-07T10:59:21.453Z"
   },
   {
    "duration": 3,
    "start_time": "2021-07-07T11:02:10.786Z"
   },
   {
    "duration": 13,
    "start_time": "2021-07-07T11:07:07.722Z"
   },
   {
    "duration": 26,
    "start_time": "2021-07-07T11:07:17.958Z"
   },
   {
    "duration": 22,
    "start_time": "2021-07-07T11:08:17.939Z"
   },
   {
    "duration": 212,
    "start_time": "2021-07-07T11:08:19.665Z"
   },
   {
    "duration": 21,
    "start_time": "2021-07-07T11:08:29.945Z"
   },
   {
    "duration": 31,
    "start_time": "2021-07-07T11:08:38.899Z"
   },
   {
    "duration": 23,
    "start_time": "2021-07-07T11:08:54.527Z"
   },
   {
    "duration": 8,
    "start_time": "2021-07-07T11:18:55.974Z"
   },
   {
    "duration": 7,
    "start_time": "2021-07-07T11:19:03.639Z"
   },
   {
    "duration": 7,
    "start_time": "2021-07-07T11:19:06.444Z"
   },
   {
    "duration": 578,
    "start_time": "2021-07-07T12:09:59.576Z"
   },
   {
    "duration": 195,
    "start_time": "2021-07-07T12:10:00.156Z"
   },
   {
    "duration": 115,
    "start_time": "2021-07-07T12:10:00.353Z"
   },
   {
    "duration": 3,
    "start_time": "2021-07-07T12:10:00.470Z"
   },
   {
    "duration": 32,
    "start_time": "2021-07-07T12:10:00.474Z"
   },
   {
    "duration": 23,
    "start_time": "2021-07-07T12:10:00.508Z"
   },
   {
    "duration": 19,
    "start_time": "2021-07-07T12:10:00.533Z"
   },
   {
    "duration": 44,
    "start_time": "2021-07-07T12:10:00.553Z"
   },
   {
    "duration": 7,
    "start_time": "2021-07-07T12:10:00.600Z"
   },
   {
    "duration": 7,
    "start_time": "2021-07-07T12:19:45.761Z"
   },
   {
    "duration": 21,
    "start_time": "2021-07-07T12:21:35.482Z"
   },
   {
    "duration": 21,
    "start_time": "2021-07-07T12:29:23.569Z"
   },
   {
    "duration": 525,
    "start_time": "2021-07-07T12:29:44.542Z"
   },
   {
    "duration": 214,
    "start_time": "2021-07-07T12:29:45.069Z"
   },
   {
    "duration": 92,
    "start_time": "2021-07-07T12:29:45.285Z"
   },
   {
    "duration": 3,
    "start_time": "2021-07-07T12:29:45.379Z"
   },
   {
    "duration": 28,
    "start_time": "2021-07-07T12:29:45.384Z"
   },
   {
    "duration": 23,
    "start_time": "2021-07-07T12:29:45.413Z"
   },
   {
    "duration": 21,
    "start_time": "2021-07-07T12:29:45.437Z"
   },
   {
    "duration": 41,
    "start_time": "2021-07-07T12:29:45.460Z"
   },
   {
    "duration": 7,
    "start_time": "2021-07-07T12:29:45.502Z"
   },
   {
    "duration": 20,
    "start_time": "2021-07-07T12:29:45.511Z"
   },
   {
    "duration": 12,
    "start_time": "2021-07-07T12:34:02.800Z"
   },
   {
    "duration": 7,
    "start_time": "2021-07-07T12:35:10.479Z"
   },
   {
    "duration": 8,
    "start_time": "2021-07-07T12:35:22.440Z"
   },
   {
    "duration": 6,
    "start_time": "2021-07-07T12:35:35.649Z"
   },
   {
    "duration": 6,
    "start_time": "2021-07-07T12:35:43.107Z"
   },
   {
    "duration": 22,
    "start_time": "2021-07-07T12:38:03.029Z"
   },
   {
    "duration": 10,
    "start_time": "2021-07-07T12:38:06.592Z"
   },
   {
    "duration": 563,
    "start_time": "2021-07-07T12:38:46.493Z"
   },
   {
    "duration": 265,
    "start_time": "2021-07-07T12:38:47.058Z"
   },
   {
    "duration": 94,
    "start_time": "2021-07-07T12:38:47.325Z"
   },
   {
    "duration": 3,
    "start_time": "2021-07-07T12:38:47.422Z"
   },
   {
    "duration": 30,
    "start_time": "2021-07-07T12:38:47.427Z"
   },
   {
    "duration": 16,
    "start_time": "2021-07-07T12:38:53.305Z"
   },
   {
    "duration": 10,
    "start_time": "2021-07-07T12:38:53.499Z"
   },
   {
    "duration": 8,
    "start_time": "2021-07-07T12:39:48.161Z"
   },
   {
    "duration": 27,
    "start_time": "2021-07-07T12:41:17.629Z"
   },
   {
    "duration": 17,
    "start_time": "2021-07-07T12:41:17.867Z"
   },
   {
    "duration": 21,
    "start_time": "2021-07-07T12:41:19.310Z"
   },
   {
    "duration": 7,
    "start_time": "2021-07-07T12:41:19.544Z"
   },
   {
    "duration": 20,
    "start_time": "2021-07-07T12:41:20.504Z"
   },
   {
    "duration": 554,
    "start_time": "2021-07-07T12:56:23.696Z"
   },
   {
    "duration": 200,
    "start_time": "2021-07-07T12:56:25.234Z"
   },
   {
    "duration": 119,
    "start_time": "2021-07-07T12:56:25.480Z"
   },
   {
    "duration": 4,
    "start_time": "2021-07-07T12:56:25.762Z"
   },
   {
    "duration": 26,
    "start_time": "2021-07-07T12:56:27.172Z"
   },
   {
    "duration": 12,
    "start_time": "2021-07-07T12:56:29.051Z"
   },
   {
    "duration": 10,
    "start_time": "2021-07-07T12:56:29.291Z"
   },
   {
    "duration": 8,
    "start_time": "2021-07-07T12:56:29.623Z"
   },
   {
    "duration": 28,
    "start_time": "2021-07-07T12:56:32.137Z"
   },
   {
    "duration": 19,
    "start_time": "2021-07-07T12:56:39.785Z"
   },
   {
    "duration": 20,
    "start_time": "2021-07-07T12:56:44.297Z"
   },
   {
    "duration": 7,
    "start_time": "2021-07-07T12:56:45.392Z"
   },
   {
    "duration": 23,
    "start_time": "2021-07-07T12:56:46.615Z"
   },
   {
    "duration": 4,
    "start_time": "2021-07-07T12:57:06.625Z"
   },
   {
    "duration": 32,
    "start_time": "2021-07-07T12:57:36.690Z"
   },
   {
    "duration": 18,
    "start_time": "2021-07-07T12:58:00.149Z"
   },
   {
    "duration": 15,
    "start_time": "2021-07-07T12:59:16.793Z"
   },
   {
    "duration": 7,
    "start_time": "2021-07-07T13:19:22.624Z"
   },
   {
    "duration": 6,
    "start_time": "2021-07-07T14:17:33.527Z"
   },
   {
    "duration": 9,
    "start_time": "2021-07-07T14:17:48.409Z"
   },
   {
    "duration": 8,
    "start_time": "2021-07-07T14:20:13.060Z"
   },
   {
    "duration": 8,
    "start_time": "2021-07-07T14:20:37.957Z"
   },
   {
    "duration": 8,
    "start_time": "2021-07-07T14:20:47.470Z"
   },
   {
    "duration": 9,
    "start_time": "2021-07-07T14:20:54.503Z"
   },
   {
    "duration": 10,
    "start_time": "2021-07-07T14:28:57.763Z"
   },
   {
    "duration": 3,
    "start_time": "2021-07-07T14:30:23.377Z"
   },
   {
    "duration": 3,
    "start_time": "2021-07-07T14:30:36.489Z"
   },
   {
    "duration": 103,
    "start_time": "2021-07-07T14:30:52.351Z"
   },
   {
    "duration": 8,
    "start_time": "2021-07-07T14:30:54.763Z"
   },
   {
    "duration": 8,
    "start_time": "2021-07-07T14:31:29.301Z"
   },
   {
    "duration": 13,
    "start_time": "2021-07-07T14:31:44.516Z"
   },
   {
    "duration": 7,
    "start_time": "2021-07-07T14:33:10.972Z"
   },
   {
    "duration": 11,
    "start_time": "2021-07-07T14:33:27.780Z"
   },
   {
    "duration": 8,
    "start_time": "2021-07-07T14:34:44.588Z"
   },
   {
    "duration": 57,
    "start_time": "2021-07-07T14:35:59.042Z"
   },
   {
    "duration": 3,
    "start_time": "2021-07-07T14:36:28.168Z"
   },
   {
    "duration": 5,
    "start_time": "2021-07-07T14:36:46.254Z"
   },
   {
    "duration": 4,
    "start_time": "2021-07-07T14:36:52.714Z"
   },
   {
    "duration": 3,
    "start_time": "2021-07-07T14:36:56.612Z"
   },
   {
    "duration": 4,
    "start_time": "2021-07-07T14:36:57.049Z"
   },
   {
    "duration": 3,
    "start_time": "2021-07-07T14:39:21.214Z"
   },
   {
    "duration": 7,
    "start_time": "2021-07-07T14:39:52.406Z"
   },
   {
    "duration": 11,
    "start_time": "2021-07-07T14:39:58.576Z"
   },
   {
    "duration": 9,
    "start_time": "2021-07-07T14:40:26.301Z"
   },
   {
    "duration": 10,
    "start_time": "2021-07-07T14:40:31.704Z"
   },
   {
    "duration": 11,
    "start_time": "2021-07-07T14:40:36.249Z"
   },
   {
    "duration": 10,
    "start_time": "2021-07-07T14:40:39.783Z"
   },
   {
    "duration": 9,
    "start_time": "2021-07-07T14:40:48.558Z"
   },
   {
    "duration": 10,
    "start_time": "2021-07-07T14:40:57.143Z"
   },
   {
    "duration": 9,
    "start_time": "2021-07-07T14:41:06.074Z"
   },
   {
    "duration": 4324,
    "start_time": "2021-07-07T14:41:22.004Z"
   },
   {
    "duration": 11,
    "start_time": "2021-07-07T14:41:33.392Z"
   },
   {
    "duration": 9,
    "start_time": "2021-07-07T14:41:39.288Z"
   },
   {
    "duration": 569,
    "start_time": "2021-07-07T14:42:14.387Z"
   },
   {
    "duration": 197,
    "start_time": "2021-07-07T14:42:14.959Z"
   },
   {
    "duration": 84,
    "start_time": "2021-07-07T14:42:16.052Z"
   },
   {
    "duration": 4,
    "start_time": "2021-07-07T14:42:16.900Z"
   },
   {
    "duration": 27,
    "start_time": "2021-07-07T14:42:19.898Z"
   },
   {
    "duration": 12,
    "start_time": "2021-07-07T14:42:21.577Z"
   },
   {
    "duration": 9,
    "start_time": "2021-07-07T14:42:21.813Z"
   },
   {
    "duration": 9,
    "start_time": "2021-07-07T14:42:22.569Z"
   },
   {
    "duration": 29,
    "start_time": "2021-07-07T14:42:25.837Z"
   },
   {
    "duration": 20,
    "start_time": "2021-07-07T14:42:27.003Z"
   },
   {
    "duration": 21,
    "start_time": "2021-07-07T14:42:28.767Z"
   },
   {
    "duration": 7,
    "start_time": "2021-07-07T14:42:29.838Z"
   },
   {
    "duration": 4,
    "start_time": "2021-07-07T14:43:25.493Z"
   },
   {
    "duration": 7,
    "start_time": "2021-07-07T14:43:26.573Z"
   },
   {
    "duration": 10,
    "start_time": "2021-07-07T14:43:31.639Z"
   },
   {
    "duration": 9,
    "start_time": "2021-07-07T14:43:32.046Z"
   },
   {
    "duration": 10,
    "start_time": "2021-07-07T14:43:33.301Z"
   },
   {
    "duration": 12,
    "start_time": "2021-07-07T14:43:33.658Z"
   },
   {
    "duration": 8,
    "start_time": "2021-07-07T14:43:34.552Z"
   },
   {
    "duration": 9,
    "start_time": "2021-07-07T14:43:35.058Z"
   },
   {
    "duration": 12,
    "start_time": "2021-07-07T14:43:35.914Z"
   },
   {
    "duration": 17,
    "start_time": "2021-07-07T14:45:34.368Z"
   },
   {
    "duration": 512,
    "start_time": "2021-07-07T14:51:58.236Z"
   },
   {
    "duration": 223,
    "start_time": "2021-07-07T14:51:58.750Z"
   },
   {
    "duration": 93,
    "start_time": "2021-07-07T14:51:58.977Z"
   },
   {
    "duration": 4,
    "start_time": "2021-07-07T14:51:59.071Z"
   },
   {
    "duration": 37,
    "start_time": "2021-07-07T14:51:59.077Z"
   },
   {
    "duration": 18,
    "start_time": "2021-07-07T14:51:59.116Z"
   },
   {
    "duration": 10,
    "start_time": "2021-07-07T14:51:59.137Z"
   },
   {
    "duration": 8,
    "start_time": "2021-07-07T14:51:59.149Z"
   },
   {
    "duration": 54,
    "start_time": "2021-07-07T14:51:59.158Z"
   },
   {
    "duration": 18,
    "start_time": "2021-07-07T14:51:59.213Z"
   },
   {
    "duration": 22,
    "start_time": "2021-07-07T14:51:59.232Z"
   },
   {
    "duration": 36,
    "start_time": "2021-07-07T14:51:59.255Z"
   },
   {
    "duration": 7,
    "start_time": "2021-07-07T14:51:59.293Z"
   },
   {
    "duration": 10,
    "start_time": "2021-07-07T14:51:59.302Z"
   },
   {
    "duration": 9,
    "start_time": "2021-07-07T14:51:59.313Z"
   },
   {
    "duration": 11,
    "start_time": "2021-07-07T14:51:59.324Z"
   },
   {
    "duration": 8,
    "start_time": "2021-07-07T14:51:59.337Z"
   },
   {
    "duration": 46,
    "start_time": "2021-07-07T14:51:59.347Z"
   },
   {
    "duration": 22,
    "start_time": "2021-07-07T14:51:59.395Z"
   },
   {
    "duration": 24,
    "start_time": "2021-07-07T14:57:32.911Z"
   },
   {
    "duration": 7,
    "start_time": "2021-07-07T14:58:22.070Z"
   },
   {
    "duration": 4,
    "start_time": "2021-07-07T14:59:11.239Z"
   },
   {
    "duration": 25,
    "start_time": "2021-07-07T15:07:22.208Z"
   },
   {
    "duration": 16,
    "start_time": "2021-07-07T15:08:25.560Z"
   },
   {
    "duration": 15,
    "start_time": "2021-07-07T15:08:40.647Z"
   },
   {
    "duration": 14,
    "start_time": "2021-07-07T15:08:46.669Z"
   },
   {
    "duration": 533,
    "start_time": "2021-07-07T15:18:07.440Z"
   },
   {
    "duration": 173,
    "start_time": "2021-07-07T15:18:07.974Z"
   },
   {
    "duration": 84,
    "start_time": "2021-07-07T15:18:08.149Z"
   },
   {
    "duration": 3,
    "start_time": "2021-07-07T15:18:08.235Z"
   },
   {
    "duration": 30,
    "start_time": "2021-07-07T15:18:08.240Z"
   },
   {
    "duration": 22,
    "start_time": "2021-07-07T15:18:08.272Z"
   },
   {
    "duration": 11,
    "start_time": "2021-07-07T15:18:08.295Z"
   },
   {
    "duration": 11,
    "start_time": "2021-07-07T15:18:08.309Z"
   },
   {
    "duration": 40,
    "start_time": "2021-07-07T15:18:08.322Z"
   },
   {
    "duration": 42,
    "start_time": "2021-07-07T15:18:08.364Z"
   },
   {
    "duration": 22,
    "start_time": "2021-07-07T15:18:08.408Z"
   },
   {
    "duration": 5,
    "start_time": "2021-07-07T15:18:08.432Z"
   },
   {
    "duration": 13,
    "start_time": "2021-07-07T15:18:08.439Z"
   },
   {
    "duration": 9,
    "start_time": "2021-07-07T15:18:08.454Z"
   },
   {
    "duration": 32,
    "start_time": "2021-07-07T15:18:08.465Z"
   },
   {
    "duration": 10,
    "start_time": "2021-07-07T15:18:08.501Z"
   },
   {
    "duration": 7,
    "start_time": "2021-07-07T15:18:08.513Z"
   },
   {
    "duration": 11,
    "start_time": "2021-07-07T15:18:08.521Z"
   },
   {
    "duration": 17,
    "start_time": "2021-07-07T15:18:08.534Z"
   },
   {
    "duration": 44,
    "start_time": "2021-07-07T15:18:08.553Z"
   },
   {
    "duration": 22,
    "start_time": "2021-07-07T15:18:08.599Z"
   },
   {
    "duration": 61,
    "start_time": "2021-07-07T15:18:08.622Z"
   },
   {
    "duration": 7,
    "start_time": "2021-07-07T15:18:39.457Z"
   },
   {
    "duration": 5,
    "start_time": "2021-07-07T16:05:17.020Z"
   },
   {
    "duration": 5,
    "start_time": "2021-07-07T16:51:28.794Z"
   },
   {
    "duration": 546,
    "start_time": "2021-07-07T16:52:26.306Z"
   },
   {
    "duration": 203,
    "start_time": "2021-07-07T16:52:27.523Z"
   },
   {
    "duration": 85,
    "start_time": "2021-07-07T16:52:27.736Z"
   },
   {
    "duration": 4,
    "start_time": "2021-07-07T16:52:27.899Z"
   },
   {
    "duration": 25,
    "start_time": "2021-07-07T16:52:28.674Z"
   },
   {
    "duration": 8,
    "start_time": "2021-07-07T16:52:32.956Z"
   },
   {
    "duration": 18,
    "start_time": "2021-07-07T16:52:35.616Z"
   },
   {
    "duration": 6,
    "start_time": "2021-07-07T16:52:36.913Z"
   },
   {
    "duration": 11,
    "start_time": "2021-07-07T16:52:40.258Z"
   },
   {
    "duration": 10,
    "start_time": "2021-07-07T16:52:46.251Z"
   },
   {
    "duration": 8,
    "start_time": "2021-07-07T16:52:47.182Z"
   },
   {
    "duration": 27,
    "start_time": "2021-07-07T16:53:20.391Z"
   },
   {
    "duration": 20,
    "start_time": "2021-07-07T16:53:22.022Z"
   },
   {
    "duration": 23,
    "start_time": "2021-07-07T16:53:23.690Z"
   },
   {
    "duration": 8,
    "start_time": "2021-07-07T16:53:24.261Z"
   },
   {
    "duration": 4,
    "start_time": "2021-07-07T16:53:38.733Z"
   },
   {
    "duration": 7,
    "start_time": "2021-07-07T16:53:40.445Z"
   },
   {
    "duration": 11,
    "start_time": "2021-07-07T16:53:41.348Z"
   },
   {
    "duration": 13,
    "start_time": "2021-07-07T16:53:45.250Z"
   },
   {
    "duration": 12,
    "start_time": "2021-07-07T16:53:45.467Z"
   },
   {
    "duration": 4,
    "start_time": "2021-07-07T16:55:32.704Z"
   },
   {
    "duration": 12,
    "start_time": "2021-07-07T16:55:49.012Z"
   },
   {
    "duration": 18,
    "start_time": "2021-07-07T16:55:49.547Z"
   },
   {
    "duration": 611,
    "start_time": "2021-07-07T16:58:35.156Z"
   },
   {
    "duration": 200,
    "start_time": "2021-07-07T16:58:35.770Z"
   },
   {
    "duration": 86,
    "start_time": "2021-07-07T16:58:35.972Z"
   },
   {
    "duration": 3,
    "start_time": "2021-07-07T16:58:36.060Z"
   },
   {
    "duration": 27,
    "start_time": "2021-07-07T16:58:36.065Z"
   },
   {
    "duration": 8,
    "start_time": "2021-07-07T16:58:36.094Z"
   },
   {
    "duration": 17,
    "start_time": "2021-07-07T16:58:36.103Z"
   },
   {
    "duration": 5,
    "start_time": "2021-07-07T16:58:36.123Z"
   },
   {
    "duration": 11,
    "start_time": "2021-07-07T16:58:36.130Z"
   },
   {
    "duration": 7,
    "start_time": "2021-07-07T16:58:36.143Z"
   },
   {
    "duration": 37,
    "start_time": "2021-07-07T16:58:36.152Z"
   },
   {
    "duration": 27,
    "start_time": "2021-07-07T16:58:36.191Z"
   },
   {
    "duration": 19,
    "start_time": "2021-07-07T16:58:36.219Z"
   },
   {
    "duration": 49,
    "start_time": "2021-07-07T16:58:36.240Z"
   },
   {
    "duration": 6,
    "start_time": "2021-07-07T16:58:36.291Z"
   },
   {
    "duration": 3,
    "start_time": "2021-07-07T16:58:36.299Z"
   },
   {
    "duration": 13,
    "start_time": "2021-07-07T16:58:36.304Z"
   },
   {
    "duration": 10,
    "start_time": "2021-07-07T16:58:36.319Z"
   },
   {
    "duration": 10,
    "start_time": "2021-07-07T16:58:36.331Z"
   },
   {
    "duration": 44,
    "start_time": "2021-07-07T16:58:36.343Z"
   },
   {
    "duration": 4,
    "start_time": "2021-07-07T16:58:36.388Z"
   },
   {
    "duration": 13,
    "start_time": "2021-07-07T16:58:36.394Z"
   },
   {
    "duration": 16,
    "start_time": "2021-07-07T16:58:36.410Z"
   },
   {
    "duration": 8,
    "start_time": "2021-07-07T17:02:31.629Z"
   },
   {
    "duration": 8,
    "start_time": "2021-07-07T17:02:34.308Z"
   },
   {
    "duration": 6,
    "start_time": "2021-07-07T17:05:13.483Z"
   },
   {
    "duration": 17,
    "start_time": "2021-07-07T17:05:20.606Z"
   },
   {
    "duration": 7,
    "start_time": "2021-07-07T17:05:34.638Z"
   },
   {
    "duration": 3,
    "start_time": "2021-07-07T17:06:31.883Z"
   },
   {
    "duration": 570,
    "start_time": "2021-07-07T17:06:37.165Z"
   },
   {
    "duration": 174,
    "start_time": "2021-07-07T17:06:37.737Z"
   },
   {
    "duration": 47,
    "start_time": "2021-07-07T17:06:37.913Z"
   },
   {
    "duration": 3,
    "start_time": "2021-07-07T17:06:37.962Z"
   },
   {
    "duration": 27,
    "start_time": "2021-07-07T17:06:37.967Z"
   },
   {
    "duration": 7,
    "start_time": "2021-07-07T17:06:37.996Z"
   },
   {
    "duration": 16,
    "start_time": "2021-07-07T17:06:38.005Z"
   },
   {
    "duration": 6,
    "start_time": "2021-07-07T17:06:38.024Z"
   },
   {
    "duration": 12,
    "start_time": "2021-07-07T17:06:38.031Z"
   },
   {
    "duration": 41,
    "start_time": "2021-07-07T17:06:38.045Z"
   },
   {
    "duration": 8,
    "start_time": "2021-07-07T17:06:38.088Z"
   },
   {
    "duration": 26,
    "start_time": "2021-07-07T17:06:38.098Z"
   },
   {
    "duration": 17,
    "start_time": "2021-07-07T17:06:38.126Z"
   },
   {
    "duration": 43,
    "start_time": "2021-07-07T17:06:38.144Z"
   },
   {
    "duration": 6,
    "start_time": "2021-07-07T17:06:38.188Z"
   },
   {
    "duration": 5,
    "start_time": "2021-07-07T17:06:38.195Z"
   },
   {
    "duration": 9,
    "start_time": "2021-07-07T17:06:38.201Z"
   },
   {
    "duration": 12,
    "start_time": "2021-07-07T17:06:38.212Z"
   },
   {
    "duration": 11,
    "start_time": "2021-07-07T17:06:38.226Z"
   },
   {
    "duration": 47,
    "start_time": "2021-07-07T17:06:38.239Z"
   },
   {
    "duration": 4,
    "start_time": "2021-07-07T17:06:38.288Z"
   },
   {
    "duration": 13,
    "start_time": "2021-07-07T17:06:38.293Z"
   },
   {
    "duration": 5,
    "start_time": "2021-07-07T17:06:38.309Z"
   },
   {
    "duration": 18,
    "start_time": "2021-07-07T17:06:38.325Z"
   },
   {
    "duration": 20,
    "start_time": "2021-07-07T17:07:02.805Z"
   },
   {
    "duration": 19,
    "start_time": "2021-07-07T17:07:08.527Z"
   },
   {
    "duration": 19,
    "start_time": "2021-07-07T17:07:12.758Z"
   },
   {
    "duration": 22,
    "start_time": "2021-07-07T17:07:17.497Z"
   },
   {
    "duration": 19,
    "start_time": "2021-07-07T17:07:19.645Z"
   },
   {
    "duration": 10,
    "start_time": "2021-07-07T17:07:34.239Z"
   },
   {
    "duration": 17,
    "start_time": "2021-07-07T17:07:54.144Z"
   },
   {
    "duration": 14,
    "start_time": "2021-07-07T17:08:14.357Z"
   },
   {
    "duration": 616,
    "start_time": "2021-07-07T17:08:45.254Z"
   },
   {
    "duration": 178,
    "start_time": "2021-07-07T17:08:45.872Z"
   },
   {
    "duration": 60,
    "start_time": "2021-07-07T17:08:46.054Z"
   },
   {
    "duration": 3,
    "start_time": "2021-07-07T17:08:46.116Z"
   },
   {
    "duration": 26,
    "start_time": "2021-07-07T17:08:46.121Z"
   },
   {
    "duration": 7,
    "start_time": "2021-07-07T17:08:46.149Z"
   },
   {
    "duration": 17,
    "start_time": "2021-07-07T17:08:46.158Z"
   },
   {
    "duration": 14,
    "start_time": "2021-07-07T17:08:46.176Z"
   },
   {
    "duration": 17,
    "start_time": "2021-07-07T17:08:46.193Z"
   },
   {
    "duration": 9,
    "start_time": "2021-07-07T17:08:46.211Z"
   },
   {
    "duration": 21,
    "start_time": "2021-07-07T17:08:46.221Z"
   },
   {
    "duration": 49,
    "start_time": "2021-07-07T17:08:46.244Z"
   },
   {
    "duration": 24,
    "start_time": "2021-07-07T17:08:46.295Z"
   },
   {
    "duration": 22,
    "start_time": "2021-07-07T17:08:46.321Z"
   },
   {
    "duration": 6,
    "start_time": "2021-07-07T17:08:46.345Z"
   },
   {
    "duration": 5,
    "start_time": "2021-07-07T17:08:46.353Z"
   },
   {
    "duration": 13,
    "start_time": "2021-07-07T17:08:46.386Z"
   },
   {
    "duration": 12,
    "start_time": "2021-07-07T17:08:46.402Z"
   },
   {
    "duration": 10,
    "start_time": "2021-07-07T17:08:46.415Z"
   },
   {
    "duration": 7,
    "start_time": "2021-07-07T17:08:46.427Z"
   },
   {
    "duration": 8,
    "start_time": "2021-07-07T17:08:46.435Z"
   },
   {
    "duration": 68,
    "start_time": "2021-07-07T17:08:46.446Z"
   },
   {
    "duration": 13,
    "start_time": "2021-07-07T17:08:46.516Z"
   },
   {
    "duration": 78,
    "start_time": "2021-07-07T17:08:46.530Z"
   },
   {
    "duration": 40,
    "start_time": "2021-07-07T17:09:08.185Z"
   },
   {
    "duration": 16,
    "start_time": "2021-07-07T17:09:19.324Z"
   },
   {
    "duration": 21,
    "start_time": "2021-07-07T17:09:23.290Z"
   },
   {
    "duration": 13,
    "start_time": "2021-07-07T17:09:54.812Z"
   },
   {
    "duration": 13,
    "start_time": "2021-07-07T17:10:02.039Z"
   },
   {
    "duration": 10,
    "start_time": "2021-07-07T17:10:29.632Z"
   },
   {
    "duration": 13,
    "start_time": "2021-07-07T17:10:52.372Z"
   },
   {
    "duration": 13,
    "start_time": "2021-07-07T17:11:17.270Z"
   },
   {
    "duration": 13,
    "start_time": "2021-07-07T17:14:59.284Z"
   },
   {
    "duration": 547,
    "start_time": "2021-07-07T17:18:52.403Z"
   },
   {
    "duration": 163,
    "start_time": "2021-07-07T17:18:52.952Z"
   },
   {
    "duration": 44,
    "start_time": "2021-07-07T17:18:53.117Z"
   },
   {
    "duration": 3,
    "start_time": "2021-07-07T17:18:53.162Z"
   },
   {
    "duration": 26,
    "start_time": "2021-07-07T17:18:53.167Z"
   },
   {
    "duration": 6,
    "start_time": "2021-07-07T17:18:53.195Z"
   },
   {
    "duration": 15,
    "start_time": "2021-07-07T17:18:53.203Z"
   },
   {
    "duration": 5,
    "start_time": "2021-07-07T17:18:53.220Z"
   },
   {
    "duration": 11,
    "start_time": "2021-07-07T17:18:53.228Z"
   },
   {
    "duration": 9,
    "start_time": "2021-07-07T17:18:53.241Z"
   },
   {
    "duration": 41,
    "start_time": "2021-07-07T17:18:53.252Z"
   },
   {
    "duration": 33,
    "start_time": "2021-07-07T17:18:53.295Z"
   },
   {
    "duration": 19,
    "start_time": "2021-07-07T17:18:53.330Z"
   },
   {
    "duration": 49,
    "start_time": "2021-07-07T17:18:53.350Z"
   },
   {
    "duration": 5,
    "start_time": "2021-07-07T17:18:53.401Z"
   },
   {
    "duration": 5,
    "start_time": "2021-07-07T17:18:53.408Z"
   },
   {
    "duration": 11,
    "start_time": "2021-07-07T17:18:53.414Z"
   },
   {
    "duration": 9,
    "start_time": "2021-07-07T17:18:53.427Z"
   },
   {
    "duration": 10,
    "start_time": "2021-07-07T17:18:53.437Z"
   },
   {
    "duration": 39,
    "start_time": "2021-07-07T17:18:53.448Z"
   },
   {
    "duration": 26,
    "start_time": "2021-07-07T17:18:55.799Z"
   },
   {
    "duration": 598,
    "start_time": "2021-07-07T17:20:17.862Z"
   },
   {
    "duration": 161,
    "start_time": "2021-07-07T17:20:18.462Z"
   },
   {
    "duration": 45,
    "start_time": "2021-07-07T17:20:18.626Z"
   },
   {
    "duration": 4,
    "start_time": "2021-07-07T17:20:18.673Z"
   },
   {
    "duration": 38,
    "start_time": "2021-07-07T17:20:26.877Z"
   },
   {
    "duration": 7,
    "start_time": "2021-07-07T17:20:37.405Z"
   },
   {
    "duration": 19,
    "start_time": "2021-07-07T17:20:51.534Z"
   },
   {
    "duration": 5,
    "start_time": "2021-07-07T17:20:57.228Z"
   },
   {
    "duration": 7,
    "start_time": "2021-07-07T17:21:08.235Z"
   },
   {
    "duration": 19,
    "start_time": "2021-07-07T17:21:42.158Z"
   },
   {
    "duration": 14,
    "start_time": "2021-07-07T17:21:50.225Z"
   },
   {
    "duration": 22,
    "start_time": "2021-07-07T17:22:54.104Z"
   },
   {
    "duration": 5,
    "start_time": "2021-07-07T17:22:56.371Z"
   },
   {
    "duration": 14,
    "start_time": "2021-07-07T17:22:58.316Z"
   },
   {
    "duration": 5,
    "start_time": "2021-07-07T17:22:58.493Z"
   },
   {
    "duration": 35,
    "start_time": "2021-07-07T17:22:59.666Z"
   },
   {
    "duration": 6,
    "start_time": "2021-07-07T17:23:02.410Z"
   },
   {
    "duration": 611,
    "start_time": "2021-07-07T17:24:59.664Z"
   },
   {
    "duration": 178,
    "start_time": "2021-07-07T17:25:01.945Z"
   },
   {
    "duration": 47,
    "start_time": "2021-07-07T17:25:02.125Z"
   },
   {
    "duration": 2,
    "start_time": "2021-07-07T17:25:07.903Z"
   },
   {
    "duration": 254,
    "start_time": "2021-07-07T17:25:08.232Z"
   },
   {
    "duration": 182,
    "start_time": "2021-07-07T17:25:08.671Z"
   },
   {
    "duration": 6,
    "start_time": "2021-07-07T17:25:13.104Z"
   },
   {
    "duration": 36,
    "start_time": "2021-07-07T17:25:13.662Z"
   },
   {
    "duration": 7,
    "start_time": "2021-07-07T17:25:14.528Z"
   },
   {
    "duration": 24,
    "start_time": "2021-07-07T17:25:27.982Z"
   },
   {
    "duration": 3,
    "start_time": "2021-07-07T17:25:48.982Z"
   },
   {
    "duration": 165,
    "start_time": "2021-07-07T17:25:48.987Z"
   },
   {
    "duration": 50,
    "start_time": "2021-07-07T17:25:49.154Z"
   },
   {
    "duration": 4,
    "start_time": "2021-07-07T17:25:49.206Z"
   },
   {
    "duration": 26,
    "start_time": "2021-07-07T17:25:49.212Z"
   },
   {
    "duration": 7,
    "start_time": "2021-07-07T17:25:49.240Z"
   },
   {
    "duration": 16,
    "start_time": "2021-07-07T17:25:49.249Z"
   },
   {
    "duration": 22,
    "start_time": "2021-07-07T17:25:49.266Z"
   },
   {
    "duration": 16,
    "start_time": "2021-07-07T17:25:49.291Z"
   },
   {
    "duration": 9,
    "start_time": "2021-07-07T17:25:49.309Z"
   },
   {
    "duration": 7,
    "start_time": "2021-07-07T17:25:49.319Z"
   },
   {
    "duration": 28,
    "start_time": "2021-07-07T17:25:49.328Z"
   },
   {
    "duration": 44,
    "start_time": "2021-07-07T17:25:49.357Z"
   },
   {
    "duration": 22,
    "start_time": "2021-07-07T17:25:49.403Z"
   },
   {
    "duration": 7,
    "start_time": "2021-07-07T17:25:49.427Z"
   },
   {
    "duration": 3,
    "start_time": "2021-07-07T17:25:49.436Z"
   },
   {
    "duration": 44,
    "start_time": "2021-07-07T17:25:49.441Z"
   },
   {
    "duration": 12,
    "start_time": "2021-07-07T17:25:49.488Z"
   },
   {
    "duration": 13,
    "start_time": "2021-07-07T17:25:49.502Z"
   },
   {
    "duration": 10,
    "start_time": "2021-07-07T17:25:49.516Z"
   },
   {
    "duration": 62,
    "start_time": "2021-07-07T17:25:49.527Z"
   },
   {
    "duration": 26,
    "start_time": "2021-07-07T17:26:51.809Z"
   },
   {
    "duration": 26,
    "start_time": "2021-07-07T17:26:55.759Z"
   },
   {
    "duration": 26,
    "start_time": "2021-07-07T17:27:04.501Z"
   },
   {
    "duration": 25,
    "start_time": "2021-07-07T17:28:24.859Z"
   },
   {
    "duration": 21,
    "start_time": "2021-07-07T17:28:55.250Z"
   },
   {
    "duration": 21,
    "start_time": "2021-07-07T17:28:58.885Z"
   },
   {
    "duration": 7,
    "start_time": "2021-07-07T17:45:40.972Z"
   },
   {
    "duration": 13,
    "start_time": "2021-07-07T17:45:42.529Z"
   },
   {
    "duration": 27,
    "start_time": "2021-07-07T17:45:51.026Z"
   },
   {
    "duration": 518,
    "start_time": "2021-07-07T17:46:15.532Z"
   },
   {
    "duration": 235,
    "start_time": "2021-07-07T17:46:16.053Z"
   },
   {
    "duration": 80,
    "start_time": "2021-07-07T17:46:16.292Z"
   },
   {
    "duration": 5,
    "start_time": "2021-07-07T17:46:16.373Z"
   },
   {
    "duration": 26,
    "start_time": "2021-07-07T17:46:16.380Z"
   },
   {
    "duration": 7,
    "start_time": "2021-07-07T17:46:16.408Z"
   },
   {
    "duration": 16,
    "start_time": "2021-07-07T17:46:16.418Z"
   },
   {
    "duration": 5,
    "start_time": "2021-07-07T17:46:16.436Z"
   },
   {
    "duration": 13,
    "start_time": "2021-07-07T17:46:16.442Z"
   },
   {
    "duration": 35,
    "start_time": "2021-07-07T17:46:16.456Z"
   },
   {
    "duration": 8,
    "start_time": "2021-07-07T17:46:16.493Z"
   },
   {
    "duration": 28,
    "start_time": "2021-07-07T17:46:16.502Z"
   },
   {
    "duration": 17,
    "start_time": "2021-07-07T17:46:16.532Z"
   },
   {
    "duration": 44,
    "start_time": "2021-07-07T17:46:16.551Z"
   },
   {
    "duration": 6,
    "start_time": "2021-07-07T17:46:16.597Z"
   },
   {
    "duration": 4,
    "start_time": "2021-07-07T17:46:16.605Z"
   },
   {
    "duration": 9,
    "start_time": "2021-07-07T17:46:16.610Z"
   },
   {
    "duration": 9,
    "start_time": "2021-07-07T17:46:16.621Z"
   },
   {
    "duration": 10,
    "start_time": "2021-07-07T17:46:16.632Z"
   },
   {
    "duration": 43,
    "start_time": "2021-07-07T17:46:16.644Z"
   },
   {
    "duration": 26,
    "start_time": "2021-07-07T17:46:16.689Z"
   },
   {
    "duration": 19,
    "start_time": "2021-07-07T17:46:16.718Z"
   },
   {
    "duration": 8,
    "start_time": "2021-07-07T17:46:16.738Z"
   },
   {
    "duration": 43,
    "start_time": "2021-07-07T17:46:16.747Z"
   },
   {
    "duration": 19,
    "start_time": "2021-07-07T17:46:16.791Z"
   },
   {
    "duration": 9,
    "start_time": "2021-07-07T17:46:16.812Z"
   },
   {
    "duration": 60,
    "start_time": "2021-07-07T17:46:16.822Z"
   },
   {
    "duration": -8,
    "start_time": "2021-07-07T17:46:16.892Z"
   },
   {
    "duration": 12,
    "start_time": "2021-07-07T17:48:47.707Z"
   },
   {
    "duration": 553,
    "start_time": "2021-07-07T18:10:09.350Z"
   },
   {
    "duration": 230,
    "start_time": "2021-07-07T18:10:09.905Z"
   },
   {
    "duration": 97,
    "start_time": "2021-07-07T18:10:10.137Z"
   },
   {
    "duration": 5,
    "start_time": "2021-07-07T18:10:10.236Z"
   },
   {
    "duration": 29,
    "start_time": "2021-07-07T18:10:10.242Z"
   },
   {
    "duration": 7,
    "start_time": "2021-07-07T18:10:10.272Z"
   },
   {
    "duration": 15,
    "start_time": "2021-07-07T18:10:10.281Z"
   },
   {
    "duration": 4,
    "start_time": "2021-07-07T18:10:10.299Z"
   },
   {
    "duration": 14,
    "start_time": "2021-07-07T18:10:10.305Z"
   },
   {
    "duration": 8,
    "start_time": "2021-07-07T18:10:10.321Z"
   },
   {
    "duration": 8,
    "start_time": "2021-07-07T18:10:10.331Z"
   },
   {
    "duration": 56,
    "start_time": "2021-07-07T18:10:10.341Z"
   },
   {
    "duration": 19,
    "start_time": "2021-07-07T18:10:10.399Z"
   },
   {
    "duration": 23,
    "start_time": "2021-07-07T18:10:10.419Z"
   },
   {
    "duration": 6,
    "start_time": "2021-07-07T18:10:10.444Z"
   },
   {
    "duration": 9,
    "start_time": "2021-07-07T18:10:10.451Z"
   },
   {
    "duration": 30,
    "start_time": "2021-07-07T18:10:10.462Z"
   },
   {
    "duration": 9,
    "start_time": "2021-07-07T18:10:10.494Z"
   },
   {
    "duration": 14,
    "start_time": "2021-07-07T18:10:10.505Z"
   },
   {
    "duration": 7,
    "start_time": "2021-07-07T18:10:10.521Z"
   },
   {
    "duration": 26,
    "start_time": "2021-07-07T18:10:10.530Z"
   },
   {
    "duration": 44,
    "start_time": "2021-07-07T18:10:10.558Z"
   },
   {
    "duration": 7,
    "start_time": "2021-07-07T18:10:10.605Z"
   },
   {
    "duration": 11,
    "start_time": "2021-07-07T18:10:10.614Z"
   },
   {
    "duration": 19,
    "start_time": "2021-07-07T18:10:10.626Z"
   },
   {
    "duration": 44,
    "start_time": "2021-07-07T18:10:10.646Z"
   },
   {
    "duration": 516,
    "start_time": "2021-07-07T18:14:00.826Z"
   },
   {
    "duration": 230,
    "start_time": "2021-07-07T18:14:01.344Z"
   },
   {
    "duration": 105,
    "start_time": "2021-07-07T18:14:01.576Z"
   },
   {
    "duration": 5,
    "start_time": "2021-07-07T18:14:01.683Z"
   },
   {
    "duration": 46,
    "start_time": "2021-07-07T18:14:01.690Z"
   },
   {
    "duration": 7,
    "start_time": "2021-07-07T18:14:01.738Z"
   },
   {
    "duration": 20,
    "start_time": "2021-07-07T18:14:01.747Z"
   },
   {
    "duration": 16,
    "start_time": "2021-07-07T18:14:01.769Z"
   },
   {
    "duration": 14,
    "start_time": "2021-07-07T18:14:01.787Z"
   },
   {
    "duration": 15,
    "start_time": "2021-07-07T18:14:01.803Z"
   },
   {
    "duration": 12,
    "start_time": "2021-07-07T18:14:01.820Z"
   },
   {
    "duration": 35,
    "start_time": "2021-07-07T18:14:01.833Z"
   },
   {
    "duration": 31,
    "start_time": "2021-07-07T18:14:01.869Z"
   },
   {
    "duration": 37,
    "start_time": "2021-07-07T18:14:01.902Z"
   },
   {
    "duration": 8,
    "start_time": "2021-07-07T18:14:01.942Z"
   },
   {
    "duration": 16,
    "start_time": "2021-07-07T18:14:01.952Z"
   },
   {
    "duration": 13,
    "start_time": "2021-07-07T18:14:01.970Z"
   },
   {
    "duration": 32,
    "start_time": "2021-07-07T18:14:01.985Z"
   },
   {
    "duration": 11,
    "start_time": "2021-07-07T18:14:02.019Z"
   },
   {
    "duration": 22,
    "start_time": "2021-07-07T18:14:02.031Z"
   },
   {
    "duration": 27,
    "start_time": "2021-07-07T18:14:02.055Z"
   },
   {
    "duration": 18,
    "start_time": "2021-07-07T18:14:02.084Z"
   },
   {
    "duration": 18,
    "start_time": "2021-07-07T18:14:02.106Z"
   },
   {
    "duration": 11,
    "start_time": "2021-07-07T18:14:02.126Z"
   },
   {
    "duration": 21,
    "start_time": "2021-07-07T18:14:02.138Z"
   },
   {
    "duration": 32,
    "start_time": "2021-07-07T18:14:02.161Z"
   },
   {
    "duration": 28,
    "start_time": "2021-07-07T18:14:44.295Z"
   },
   {
    "duration": 6,
    "start_time": "2021-07-07T18:15:05.834Z"
   },
   {
    "duration": 511,
    "start_time": "2021-07-07T18:15:41.541Z"
   },
   {
    "duration": 183,
    "start_time": "2021-07-07T18:15:42.054Z"
   },
   {
    "duration": 50,
    "start_time": "2021-07-07T18:15:42.239Z"
   },
   {
    "duration": 5,
    "start_time": "2021-07-07T18:15:42.291Z"
   },
   {
    "duration": 48,
    "start_time": "2021-07-07T18:15:42.297Z"
   },
   {
    "duration": 8,
    "start_time": "2021-07-07T18:15:42.346Z"
   },
   {
    "duration": 17,
    "start_time": "2021-07-07T18:15:42.356Z"
   },
   {
    "duration": 15,
    "start_time": "2021-07-07T18:15:42.375Z"
   },
   {
    "duration": 12,
    "start_time": "2021-07-07T18:15:42.392Z"
   },
   {
    "duration": 7,
    "start_time": "2021-07-07T18:15:42.406Z"
   },
   {
    "duration": 7,
    "start_time": "2021-07-07T18:15:42.415Z"
   },
   {
    "duration": 29,
    "start_time": "2021-07-07T18:15:42.423Z"
   },
   {
    "duration": 43,
    "start_time": "2021-07-07T18:15:42.453Z"
   },
   {
    "duration": 18,
    "start_time": "2021-07-07T18:15:42.497Z"
   },
   {
    "duration": 6,
    "start_time": "2021-07-07T18:15:42.516Z"
   },
   {
    "duration": 3,
    "start_time": "2021-07-07T18:15:42.523Z"
   },
   {
    "duration": 18,
    "start_time": "2021-07-07T18:15:42.528Z"
   },
   {
    "duration": 10,
    "start_time": "2021-07-07T18:15:42.547Z"
   },
   {
    "duration": 36,
    "start_time": "2021-07-07T18:15:42.559Z"
   },
   {
    "duration": 8,
    "start_time": "2021-07-07T18:15:42.597Z"
   },
   {
    "duration": 28,
    "start_time": "2021-07-07T18:15:42.606Z"
   },
   {
    "duration": 52,
    "start_time": "2021-07-07T18:15:42.635Z"
   },
   {
    "duration": 7,
    "start_time": "2021-07-07T18:15:42.690Z"
   },
   {
    "duration": 10,
    "start_time": "2021-07-07T18:15:42.699Z"
   },
   {
    "duration": 19,
    "start_time": "2021-07-07T18:15:42.711Z"
   },
   {
    "duration": 9,
    "start_time": "2021-07-07T18:15:42.732Z"
   },
   {
    "duration": 5,
    "start_time": "2021-07-07T18:15:42.743Z"
   },
   {
    "duration": 1450,
    "start_time": "2021-07-07T18:15:51.984Z"
   },
   {
    "duration": 161,
    "start_time": "2021-07-07T18:15:53.435Z"
   },
   {
    "duration": 124,
    "start_time": "2021-07-07T18:15:53.598Z"
   },
   {
    "duration": 5,
    "start_time": "2021-07-07T18:15:53.724Z"
   },
   {
    "duration": 34,
    "start_time": "2021-07-07T18:15:53.730Z"
   },
   {
    "duration": 7,
    "start_time": "2021-07-07T18:15:53.765Z"
   },
   {
    "duration": 15,
    "start_time": "2021-07-07T18:15:53.773Z"
   },
   {
    "duration": 5,
    "start_time": "2021-07-07T18:15:53.791Z"
   },
   {
    "duration": 19,
    "start_time": "2021-07-07T18:15:53.798Z"
   },
   {
    "duration": 9,
    "start_time": "2021-07-07T18:15:53.818Z"
   },
   {
    "duration": 19,
    "start_time": "2021-07-07T18:15:53.828Z"
   },
   {
    "duration": 27,
    "start_time": "2021-07-07T18:15:53.848Z"
   },
   {
    "duration": 16,
    "start_time": "2021-07-07T18:15:53.884Z"
   },
   {
    "duration": 29,
    "start_time": "2021-07-07T18:15:53.901Z"
   },
   {
    "duration": 5,
    "start_time": "2021-07-07T18:15:53.932Z"
   },
   {
    "duration": 15,
    "start_time": "2021-07-07T18:15:53.939Z"
   },
   {
    "duration": 13,
    "start_time": "2021-07-07T18:15:53.956Z"
   },
   {
    "duration": 20,
    "start_time": "2021-07-07T18:15:53.971Z"
   },
   {
    "duration": 14,
    "start_time": "2021-07-07T18:15:53.992Z"
   },
   {
    "duration": 9,
    "start_time": "2021-07-07T18:15:54.009Z"
   },
   {
    "duration": 28,
    "start_time": "2021-07-07T18:15:54.020Z"
   },
   {
    "duration": 50,
    "start_time": "2021-07-07T18:15:54.051Z"
   },
   {
    "duration": 8,
    "start_time": "2021-07-07T18:15:54.105Z"
   },
   {
    "duration": 11,
    "start_time": "2021-07-07T18:15:54.115Z"
   },
   {
    "duration": 20,
    "start_time": "2021-07-07T18:15:54.128Z"
   },
   {
    "duration": 13,
    "start_time": "2021-07-07T18:15:54.184Z"
   },
   {
    "duration": 7,
    "start_time": "2021-07-07T18:15:54.199Z"
   },
   {
    "duration": 7,
    "start_time": "2021-07-07T18:17:08.042Z"
   },
   {
    "duration": 8,
    "start_time": "2021-07-07T18:17:21.008Z"
   },
   {
    "duration": 7,
    "start_time": "2021-07-07T18:17:29.003Z"
   },
   {
    "duration": 8,
    "start_time": "2021-07-07T18:17:32.492Z"
   },
   {
    "duration": 9,
    "start_time": "2021-07-07T18:17:41.758Z"
   },
   {
    "duration": 255,
    "start_time": "2021-07-07T18:20:20.897Z"
   },
   {
    "duration": 173,
    "start_time": "2021-07-07T18:20:26.636Z"
   },
   {
    "duration": 7,
    "start_time": "2021-07-07T18:21:47.164Z"
   },
   {
    "duration": 254,
    "start_time": "2021-07-07T18:23:08.703Z"
   },
   {
    "duration": 21,
    "start_time": "2021-07-07T18:23:22.506Z"
   },
   {
    "duration": 315,
    "start_time": "2021-07-07T18:25:54.801Z"
   },
   {
    "duration": 34,
    "start_time": "2021-07-07T18:26:51.817Z"
   },
   {
    "duration": 327,
    "start_time": "2021-07-07T18:26:56.147Z"
   },
   {
    "duration": 342,
    "start_time": "2021-07-07T18:27:15.887Z"
   },
   {
    "duration": 302,
    "start_time": "2021-07-07T18:28:18.569Z"
   },
   {
    "duration": 226,
    "start_time": "2021-07-07T18:29:20.879Z"
   },
   {
    "duration": 207,
    "start_time": "2021-07-07T18:29:58.114Z"
   },
   {
    "duration": 140,
    "start_time": "2021-07-07T18:32:04.372Z"
   },
   {
    "duration": 158,
    "start_time": "2021-07-07T18:32:32.508Z"
   },
   {
    "duration": 145,
    "start_time": "2021-07-07T18:32:41.365Z"
   },
   {
    "duration": 132,
    "start_time": "2021-07-07T18:32:45.199Z"
   },
   {
    "duration": 11,
    "start_time": "2021-07-07T18:35:24.679Z"
   },
   {
    "duration": 268,
    "start_time": "2021-07-07T18:36:16.145Z"
   },
   {
    "duration": 227,
    "start_time": "2021-07-07T18:37:04.918Z"
   },
   {
    "duration": 3,
    "start_time": "2021-07-07T18:37:33.012Z"
   },
   {
    "duration": 671,
    "start_time": "2021-07-07T18:37:38.295Z"
   },
   {
    "duration": 54,
    "start_time": "2021-07-07T18:37:53.406Z"
   },
   {
    "duration": 631,
    "start_time": "2021-07-07T18:37:56.463Z"
   },
   {
    "duration": 19,
    "start_time": "2021-07-07T18:39:40.535Z"
   },
   {
    "duration": 20,
    "start_time": "2021-07-07T18:40:12.236Z"
   },
   {
    "duration": 633,
    "start_time": "2021-07-07T18:42:00.398Z"
   },
   {
    "duration": 218,
    "start_time": "2021-07-07T18:42:01.033Z"
   },
   {
    "duration": 49,
    "start_time": "2021-07-07T18:42:01.253Z"
   },
   {
    "duration": 5,
    "start_time": "2021-07-07T18:42:01.303Z"
   },
   {
    "duration": 27,
    "start_time": "2021-07-07T18:42:01.310Z"
   },
   {
    "duration": 8,
    "start_time": "2021-07-07T18:42:01.339Z"
   },
   {
    "duration": 20,
    "start_time": "2021-07-07T18:42:01.348Z"
   },
   {
    "duration": 6,
    "start_time": "2021-07-07T18:42:01.386Z"
   },
   {
    "duration": 16,
    "start_time": "2021-07-07T18:42:01.394Z"
   },
   {
    "duration": 9,
    "start_time": "2021-07-07T18:42:01.411Z"
   },
   {
    "duration": 11,
    "start_time": "2021-07-07T18:42:01.421Z"
   },
   {
    "duration": 31,
    "start_time": "2021-07-07T18:42:01.434Z"
   },
   {
    "duration": 18,
    "start_time": "2021-07-07T18:42:01.485Z"
   },
   {
    "duration": 23,
    "start_time": "2021-07-07T18:42:01.505Z"
   },
   {
    "duration": 6,
    "start_time": "2021-07-07T18:42:01.530Z"
   },
   {
    "duration": 10,
    "start_time": "2021-07-07T18:42:01.538Z"
   },
   {
    "duration": 13,
    "start_time": "2021-07-07T18:42:01.550Z"
   },
   {
    "duration": 24,
    "start_time": "2021-07-07T18:42:01.564Z"
   },
   {
    "duration": 20,
    "start_time": "2021-07-07T18:42:01.590Z"
   },
   {
    "duration": 8,
    "start_time": "2021-07-07T18:42:01.611Z"
   },
   {
    "duration": 31,
    "start_time": "2021-07-07T18:42:01.620Z"
   },
   {
    "duration": 39,
    "start_time": "2021-07-07T18:42:01.653Z"
   },
   {
    "duration": 8,
    "start_time": "2021-07-07T18:42:01.696Z"
   },
   {
    "duration": 13,
    "start_time": "2021-07-07T18:42:01.705Z"
   },
   {
    "duration": 20,
    "start_time": "2021-07-07T18:42:01.720Z"
   },
   {
    "duration": 12,
    "start_time": "2021-07-07T18:42:01.741Z"
   },
   {
    "duration": 35,
    "start_time": "2021-07-07T18:42:01.755Z"
   },
   {
    "duration": 14,
    "start_time": "2021-07-07T18:42:01.792Z"
   },
   {
    "duration": 188,
    "start_time": "2021-07-07T18:42:01.808Z"
   },
   {
    "duration": 19,
    "start_time": "2021-07-07T18:42:01.998Z"
   },
   {
    "duration": 175,
    "start_time": "2021-07-07T18:42:02.019Z"
   },
   {
    "duration": 134,
    "start_time": "2021-07-07T18:42:02.196Z"
   },
   {
    "duration": 10,
    "start_time": "2021-07-07T18:42:02.331Z"
   },
   {
    "duration": 19,
    "start_time": "2021-07-07T18:42:02.343Z"
   },
   {
    "duration": 628,
    "start_time": "2021-07-07T18:46:30.701Z"
   },
   {
    "duration": 183,
    "start_time": "2021-07-07T18:46:31.331Z"
   },
   {
    "duration": 48,
    "start_time": "2021-07-07T18:46:31.516Z"
   },
   {
    "duration": 5,
    "start_time": "2021-07-07T18:46:31.566Z"
   },
   {
    "duration": 28,
    "start_time": "2021-07-07T18:46:31.572Z"
   },
   {
    "duration": 8,
    "start_time": "2021-07-07T18:46:31.602Z"
   },
   {
    "duration": 19,
    "start_time": "2021-07-07T18:46:31.611Z"
   },
   {
    "duration": 6,
    "start_time": "2021-07-07T18:46:31.633Z"
   },
   {
    "duration": 17,
    "start_time": "2021-07-07T18:46:31.642Z"
   },
   {
    "duration": 10,
    "start_time": "2021-07-07T18:46:31.684Z"
   },
   {
    "duration": 9,
    "start_time": "2021-07-07T18:46:31.695Z"
   },
   {
    "duration": 28,
    "start_time": "2021-07-07T18:46:31.705Z"
   },
   {
    "duration": 18,
    "start_time": "2021-07-07T18:46:31.735Z"
   },
   {
    "duration": 48,
    "start_time": "2021-07-07T18:46:31.755Z"
   },
   {
    "duration": 6,
    "start_time": "2021-07-07T18:46:31.804Z"
   },
   {
    "duration": 4,
    "start_time": "2021-07-07T18:46:31.812Z"
   },
   {
    "duration": 9,
    "start_time": "2021-07-07T18:46:31.817Z"
   },
   {
    "duration": 10,
    "start_time": "2021-07-07T18:46:31.827Z"
   },
   {
    "duration": 12,
    "start_time": "2021-07-07T18:46:31.838Z"
   },
   {
    "duration": 39,
    "start_time": "2021-07-07T18:46:31.851Z"
   },
   {
    "duration": 24,
    "start_time": "2021-07-07T18:46:31.892Z"
   },
   {
    "duration": 15,
    "start_time": "2021-07-07T18:46:31.918Z"
   },
   {
    "duration": 7,
    "start_time": "2021-07-07T18:46:31.936Z"
   },
   {
    "duration": 8,
    "start_time": "2021-07-07T18:46:31.944Z"
   },
   {
    "duration": 19,
    "start_time": "2021-07-07T18:46:31.984Z"
   },
   {
    "duration": 10,
    "start_time": "2021-07-07T18:46:32.004Z"
   },
   {
    "duration": 5,
    "start_time": "2021-07-07T18:46:32.016Z"
   },
   {
    "duration": 9,
    "start_time": "2021-07-07T18:46:32.023Z"
   },
   {
    "duration": 199,
    "start_time": "2021-07-07T18:46:32.033Z"
   },
   {
    "duration": 19,
    "start_time": "2021-07-07T18:46:32.234Z"
   },
   {
    "duration": 159,
    "start_time": "2021-07-07T18:46:32.255Z"
   },
   {
    "duration": 134,
    "start_time": "2021-07-07T18:46:32.416Z"
   },
   {
    "duration": 10,
    "start_time": "2021-07-07T18:46:32.552Z"
   },
   {
    "duration": 34,
    "start_time": "2021-07-07T18:46:32.563Z"
   },
   {
    "duration": 1039,
    "start_time": "2021-07-08T08:41:09.419Z"
   },
   {
    "duration": 333,
    "start_time": "2021-07-08T08:41:10.459Z"
   },
   {
    "duration": 173,
    "start_time": "2021-07-08T08:41:10.794Z"
   },
   {
    "duration": 5,
    "start_time": "2021-07-08T08:41:10.968Z"
   },
   {
    "duration": 25,
    "start_time": "2021-07-08T08:41:10.975Z"
   },
   {
    "duration": 9,
    "start_time": "2021-07-08T08:41:11.002Z"
   },
   {
    "duration": 18,
    "start_time": "2021-07-08T08:41:11.013Z"
   },
   {
    "duration": 6,
    "start_time": "2021-07-08T08:41:11.033Z"
   },
   {
    "duration": 44,
    "start_time": "2021-07-08T08:41:11.042Z"
   },
   {
    "duration": 10,
    "start_time": "2021-07-08T08:41:11.088Z"
   },
   {
    "duration": 9,
    "start_time": "2021-07-08T08:41:11.100Z"
   },
   {
    "duration": 27,
    "start_time": "2021-07-08T08:41:11.111Z"
   },
   {
    "duration": 46,
    "start_time": "2021-07-08T08:41:11.140Z"
   },
   {
    "duration": 17,
    "start_time": "2021-07-08T08:41:11.187Z"
   },
   {
    "duration": 6,
    "start_time": "2021-07-08T08:41:11.206Z"
   },
   {
    "duration": 5,
    "start_time": "2021-07-08T08:41:11.213Z"
   },
   {
    "duration": 10,
    "start_time": "2021-07-08T08:41:11.219Z"
   },
   {
    "duration": 9,
    "start_time": "2021-07-08T08:41:11.230Z"
   },
   {
    "duration": 45,
    "start_time": "2021-07-08T08:41:11.241Z"
   },
   {
    "duration": 7,
    "start_time": "2021-07-08T08:41:11.287Z"
   },
   {
    "duration": 24,
    "start_time": "2021-07-08T08:41:11.296Z"
   },
   {
    "duration": 16,
    "start_time": "2021-07-08T08:41:11.322Z"
   },
   {
    "duration": 7,
    "start_time": "2021-07-08T08:41:11.341Z"
   },
   {
    "duration": 41,
    "start_time": "2021-07-08T08:41:11.349Z"
   },
   {
    "duration": 17,
    "start_time": "2021-07-08T08:41:11.391Z"
   },
   {
    "duration": 9,
    "start_time": "2021-07-08T08:41:11.410Z"
   },
   {
    "duration": 5,
    "start_time": "2021-07-08T08:41:11.421Z"
   },
   {
    "duration": 6,
    "start_time": "2021-07-08T08:41:11.428Z"
   },
   {
    "duration": 198,
    "start_time": "2021-07-08T08:41:11.435Z"
   },
   {
    "duration": 18,
    "start_time": "2021-07-08T08:41:11.635Z"
   },
   {
    "duration": 155,
    "start_time": "2021-07-08T08:41:11.655Z"
   },
   {
    "duration": 138,
    "start_time": "2021-07-08T08:41:11.811Z"
   },
   {
    "duration": 10,
    "start_time": "2021-07-08T08:41:11.950Z"
   },
   {
    "duration": 29,
    "start_time": "2021-07-08T08:41:11.961Z"
   },
   {
    "duration": 171,
    "start_time": "2021-07-08T08:47:44.522Z"
   },
   {
    "duration": 124,
    "start_time": "2021-07-08T08:47:46.872Z"
   },
   {
    "duration": 191,
    "start_time": "2021-07-08T08:47:58.148Z"
   },
   {
    "duration": 191,
    "start_time": "2021-07-08T08:48:07.412Z"
   },
   {
    "duration": 261,
    "start_time": "2021-07-08T08:48:10.385Z"
   },
   {
    "duration": 255,
    "start_time": "2021-07-08T08:48:14.494Z"
   },
   {
    "duration": 219,
    "start_time": "2021-07-08T08:48:22.752Z"
   },
   {
    "duration": 173,
    "start_time": "2021-07-08T08:49:06.395Z"
   },
   {
    "duration": 180,
    "start_time": "2021-07-08T08:49:21.011Z"
   },
   {
    "duration": 6,
    "start_time": "2021-07-08T08:50:31.697Z"
   },
   {
    "duration": 10,
    "start_time": "2021-07-08T08:50:47.394Z"
   },
   {
    "duration": 11,
    "start_time": "2021-07-08T08:53:49.332Z"
   },
   {
    "duration": 171,
    "start_time": "2021-07-08T08:54:28.408Z"
   },
   {
    "duration": 636,
    "start_time": "2021-07-08T09:02:48.385Z"
   },
   {
    "duration": 227,
    "start_time": "2021-07-08T09:02:49.023Z"
   },
   {
    "duration": 104,
    "start_time": "2021-07-08T09:02:49.252Z"
   },
   {
    "duration": 5,
    "start_time": "2021-07-08T09:02:49.358Z"
   },
   {
    "duration": 27,
    "start_time": "2021-07-08T09:02:49.365Z"
   },
   {
    "duration": 8,
    "start_time": "2021-07-08T09:02:49.394Z"
   },
   {
    "duration": 18,
    "start_time": "2021-07-08T09:02:49.404Z"
   },
   {
    "duration": 6,
    "start_time": "2021-07-08T09:02:49.424Z"
   },
   {
    "duration": 11,
    "start_time": "2021-07-08T09:02:49.433Z"
   },
   {
    "duration": 13,
    "start_time": "2021-07-08T09:02:49.485Z"
   },
   {
    "duration": 9,
    "start_time": "2021-07-08T09:02:49.500Z"
   },
   {
    "duration": 38,
    "start_time": "2021-07-08T09:02:49.511Z"
   },
   {
    "duration": 42,
    "start_time": "2021-07-08T09:02:49.551Z"
   },
   {
    "duration": 21,
    "start_time": "2021-07-08T09:02:49.594Z"
   },
   {
    "duration": 6,
    "start_time": "2021-07-08T09:02:49.616Z"
   },
   {
    "duration": 3,
    "start_time": "2021-07-08T09:02:49.623Z"
   },
   {
    "duration": 9,
    "start_time": "2021-07-08T09:02:49.628Z"
   },
   {
    "duration": 52,
    "start_time": "2021-07-08T09:02:49.638Z"
   },
   {
    "duration": 11,
    "start_time": "2021-07-08T09:02:49.692Z"
   },
   {
    "duration": 8,
    "start_time": "2021-07-08T09:02:49.704Z"
   },
   {
    "duration": 27,
    "start_time": "2021-07-08T09:02:49.713Z"
   },
   {
    "duration": 59,
    "start_time": "2021-07-08T09:02:49.741Z"
   },
   {
    "duration": 8,
    "start_time": "2021-07-08T09:02:49.803Z"
   },
   {
    "duration": 14,
    "start_time": "2021-07-08T09:02:49.813Z"
   },
   {
    "duration": 20,
    "start_time": "2021-07-08T09:02:49.829Z"
   },
   {
    "duration": 44,
    "start_time": "2021-07-08T09:02:49.851Z"
   },
   {
    "duration": 14,
    "start_time": "2021-07-08T09:02:49.896Z"
   },
   {
    "duration": 221,
    "start_time": "2021-07-08T09:02:49.912Z"
   },
   {
    "duration": 6,
    "start_time": "2021-07-08T09:02:50.134Z"
   },
   {
    "duration": 206,
    "start_time": "2021-07-08T09:02:50.142Z"
   },
   {
    "duration": 19,
    "start_time": "2021-07-08T09:02:50.350Z"
   },
   {
    "duration": 21,
    "start_time": "2021-07-08T09:02:50.370Z"
   },
   {
    "duration": 20,
    "start_time": "2021-07-08T09:02:50.393Z"
   },
   {
    "duration": 5,
    "start_time": "2021-07-08T09:02:50.414Z"
   },
   {
    "duration": 5,
    "start_time": "2021-07-08T09:03:34.173Z"
   },
   {
    "duration": 6,
    "start_time": "2021-07-08T09:04:49.062Z"
   },
   {
    "duration": 9,
    "start_time": "2021-07-08T09:04:50.118Z"
   },
   {
    "duration": 14,
    "start_time": "2021-07-08T09:04:58.512Z"
   },
   {
    "duration": 9,
    "start_time": "2021-07-08T09:05:10.988Z"
   },
   {
    "duration": 11,
    "start_time": "2021-07-08T09:05:11.743Z"
   },
   {
    "duration": 7,
    "start_time": "2021-07-08T09:05:25.677Z"
   },
   {
    "duration": 13,
    "start_time": "2021-07-08T09:05:47.189Z"
   },
   {
    "duration": 13,
    "start_time": "2021-07-08T09:05:54.755Z"
   },
   {
    "duration": 4,
    "start_time": "2021-07-08T09:06:29.189Z"
   },
   {
    "duration": 244,
    "start_time": "2021-07-08T09:06:29.195Z"
   },
   {
    "duration": 91,
    "start_time": "2021-07-08T09:06:29.441Z"
   },
   {
    "duration": 4,
    "start_time": "2021-07-08T09:06:29.534Z"
   },
   {
    "duration": 28,
    "start_time": "2021-07-08T09:06:29.540Z"
   },
   {
    "duration": 6,
    "start_time": "2021-07-08T09:06:29.570Z"
   },
   {
    "duration": 18,
    "start_time": "2021-07-08T09:06:29.578Z"
   },
   {
    "duration": 5,
    "start_time": "2021-07-08T09:06:29.597Z"
   },
   {
    "duration": 13,
    "start_time": "2021-07-08T09:06:29.605Z"
   },
   {
    "duration": 8,
    "start_time": "2021-07-08T09:06:29.620Z"
   },
   {
    "duration": 7,
    "start_time": "2021-07-08T09:06:29.630Z"
   },
   {
    "duration": 63,
    "start_time": "2021-07-08T09:06:29.639Z"
   },
   {
    "duration": 17,
    "start_time": "2021-07-08T09:06:29.704Z"
   },
   {
    "duration": 20,
    "start_time": "2021-07-08T09:06:29.723Z"
   },
   {
    "duration": 6,
    "start_time": "2021-07-08T09:06:29.745Z"
   },
   {
    "duration": 3,
    "start_time": "2021-07-08T09:06:29.752Z"
   },
   {
    "duration": 7,
    "start_time": "2021-07-08T09:06:29.785Z"
   },
   {
    "duration": 11,
    "start_time": "2021-07-08T09:06:29.794Z"
   },
   {
    "duration": 15,
    "start_time": "2021-07-08T09:06:29.807Z"
   },
   {
    "duration": 8,
    "start_time": "2021-07-08T09:06:29.823Z"
   },
   {
    "duration": 70,
    "start_time": "2021-07-08T09:06:29.832Z"
   },
   {
    "duration": 17,
    "start_time": "2021-07-08T09:06:29.903Z"
   },
   {
    "duration": 9,
    "start_time": "2021-07-08T09:06:29.921Z"
   },
   {
    "duration": 9,
    "start_time": "2021-07-08T09:06:29.932Z"
   },
   {
    "duration": 57,
    "start_time": "2021-07-08T09:06:29.942Z"
   },
   {
    "duration": 11,
    "start_time": "2021-07-08T09:06:30.001Z"
   },
   {
    "duration": 19,
    "start_time": "2021-07-08T09:06:30.016Z"
   },
   {
    "duration": 217,
    "start_time": "2021-07-08T09:06:30.037Z"
   },
   {
    "duration": 6,
    "start_time": "2021-07-08T09:06:30.255Z"
   },
   {
    "duration": 205,
    "start_time": "2021-07-08T09:06:30.263Z"
   },
   {
    "duration": 27,
    "start_time": "2021-07-08T09:06:30.470Z"
   },
   {
    "duration": 11,
    "start_time": "2021-07-08T09:06:30.500Z"
   },
   {
    "duration": 31,
    "start_time": "2021-07-08T09:06:30.513Z"
   },
   {
    "duration": 18,
    "start_time": "2021-07-08T09:06:30.546Z"
   },
   {
    "duration": 11,
    "start_time": "2021-07-08T09:06:30.566Z"
   },
   {
    "duration": 19,
    "start_time": "2021-07-08T09:06:30.579Z"
   },
   {
    "duration": 20,
    "start_time": "2021-07-08T09:06:49.466Z"
   },
   {
    "duration": 9,
    "start_time": "2021-07-08T09:06:51.994Z"
   },
   {
    "duration": 20,
    "start_time": "2021-07-08T09:06:52.273Z"
   },
   {
    "duration": 246,
    "start_time": "2021-07-08T09:10:21.272Z"
   },
   {
    "duration": 84,
    "start_time": "2021-07-08T09:10:21.436Z"
   },
   {
    "duration": 7,
    "start_time": "2021-07-08T09:10:37.608Z"
   },
   {
    "duration": 189,
    "start_time": "2021-07-08T09:10:38.573Z"
   },
   {
    "duration": 185,
    "start_time": "2021-07-08T09:10:53.181Z"
   },
   {
    "duration": 11,
    "start_time": "2021-07-08T09:10:59.549Z"
   },
   {
    "duration": 42,
    "start_time": "2021-07-08T09:10:59.709Z"
   },
   {
    "duration": 12,
    "start_time": "2021-07-08T09:11:02.857Z"
   },
   {
    "duration": 28,
    "start_time": "2021-07-08T09:11:10.062Z"
   },
   {
    "duration": 249,
    "start_time": "2021-07-08T09:11:37.388Z"
   },
   {
    "duration": 232,
    "start_time": "2021-07-08T09:11:49.485Z"
   },
   {
    "duration": 453,
    "start_time": "2021-07-08T09:12:01.546Z"
   },
   {
    "duration": 440,
    "start_time": "2021-07-08T09:12:12.347Z"
   },
   {
    "duration": 213,
    "start_time": "2021-07-08T09:13:32.196Z"
   },
   {
    "duration": 172,
    "start_time": "2021-07-08T09:14:07.400Z"
   },
   {
    "duration": 185,
    "start_time": "2021-07-08T09:14:14.905Z"
   },
   {
    "duration": 209,
    "start_time": "2021-07-08T09:14:40.109Z"
   },
   {
    "duration": 201,
    "start_time": "2021-07-08T09:14:54.506Z"
   },
   {
    "duration": 622,
    "start_time": "2021-07-08T09:18:14.497Z"
   },
   {
    "duration": 220,
    "start_time": "2021-07-08T09:18:15.121Z"
   },
   {
    "duration": 79,
    "start_time": "2021-07-08T09:18:15.343Z"
   },
   {
    "duration": 4,
    "start_time": "2021-07-08T09:18:15.425Z"
   },
   {
    "duration": 24,
    "start_time": "2021-07-08T09:18:15.431Z"
   },
   {
    "duration": 8,
    "start_time": "2021-07-08T09:18:15.457Z"
   },
   {
    "duration": 16,
    "start_time": "2021-07-08T09:18:15.466Z"
   },
   {
    "duration": 5,
    "start_time": "2021-07-08T09:18:15.484Z"
   },
   {
    "duration": 10,
    "start_time": "2021-07-08T09:18:15.493Z"
   },
   {
    "duration": 8,
    "start_time": "2021-07-08T09:18:15.504Z"
   },
   {
    "duration": 7,
    "start_time": "2021-07-08T09:18:15.513Z"
   },
   {
    "duration": 26,
    "start_time": "2021-07-08T09:18:15.522Z"
   },
   {
    "duration": 49,
    "start_time": "2021-07-08T09:18:15.550Z"
   },
   {
    "duration": 21,
    "start_time": "2021-07-08T09:18:15.601Z"
   },
   {
    "duration": 8,
    "start_time": "2021-07-08T09:18:15.624Z"
   },
   {
    "duration": 3,
    "start_time": "2021-07-08T09:18:15.634Z"
   },
   {
    "duration": 8,
    "start_time": "2021-07-08T09:18:15.639Z"
   },
   {
    "duration": 45,
    "start_time": "2021-07-08T09:18:15.649Z"
   },
   {
    "duration": 13,
    "start_time": "2021-07-08T09:18:15.696Z"
   },
   {
    "duration": 10,
    "start_time": "2021-07-08T09:18:15.711Z"
   },
   {
    "duration": 64,
    "start_time": "2021-07-08T09:18:15.722Z"
   },
   {
    "duration": 19,
    "start_time": "2021-07-08T09:18:15.788Z"
   },
   {
    "duration": 9,
    "start_time": "2021-07-08T09:18:15.809Z"
   },
   {
    "duration": 9,
    "start_time": "2021-07-08T09:18:15.820Z"
   },
   {
    "duration": 18,
    "start_time": "2021-07-08T09:18:15.831Z"
   },
   {
    "duration": 43,
    "start_time": "2021-07-08T09:18:15.851Z"
   },
   {
    "duration": 12,
    "start_time": "2021-07-08T09:18:15.897Z"
   },
   {
    "duration": 219,
    "start_time": "2021-07-08T09:18:15.911Z"
   },
   {
    "duration": 8,
    "start_time": "2021-07-08T09:18:16.132Z"
   },
   {
    "duration": 199,
    "start_time": "2021-07-08T09:18:16.141Z"
   },
   {
    "duration": 18,
    "start_time": "2021-07-08T09:18:16.341Z"
   },
   {
    "duration": 24,
    "start_time": "2021-07-08T09:18:16.361Z"
   },
   {
    "duration": 24,
    "start_time": "2021-07-08T09:18:16.387Z"
   },
   {
    "duration": 211,
    "start_time": "2021-07-08T09:18:16.413Z"
   },
   {
    "duration": 18,
    "start_time": "2021-07-08T09:18:16.626Z"
   },
   {
    "duration": 596,
    "start_time": "2021-07-08T10:06:33.623Z"
   },
   {
    "duration": 181,
    "start_time": "2021-07-08T10:06:34.221Z"
   },
   {
    "duration": 176,
    "start_time": "2021-07-08T10:06:34.635Z"
   },
   {
    "duration": 239,
    "start_time": "2021-07-08T10:06:55.572Z"
   },
   {
    "duration": 6,
    "start_time": "2021-07-08T10:06:57.687Z"
   },
   {
    "duration": 4,
    "start_time": "2021-07-08T10:07:03.956Z"
   },
   {
    "duration": 4,
    "start_time": "2021-07-08T10:07:10.376Z"
   },
   {
    "duration": 4,
    "start_time": "2021-07-08T10:17:19.889Z"
   },
   {
    "duration": 3,
    "start_time": "2021-07-08T10:19:19.407Z"
   },
   {
    "duration": 197,
    "start_time": "2021-07-08T10:19:19.412Z"
   },
   {
    "duration": 127,
    "start_time": "2021-07-08T10:19:19.611Z"
   },
   {
    "duration": 4,
    "start_time": "2021-07-08T10:19:19.740Z"
   },
   {
    "duration": 27,
    "start_time": "2021-07-08T10:19:19.746Z"
   },
   {
    "duration": 7,
    "start_time": "2021-07-08T10:19:19.775Z"
   },
   {
    "duration": 30,
    "start_time": "2021-07-08T10:19:19.784Z"
   },
   {
    "duration": 7,
    "start_time": "2021-07-08T10:19:19.817Z"
   },
   {
    "duration": 26,
    "start_time": "2021-07-08T10:19:19.826Z"
   },
   {
    "duration": 18,
    "start_time": "2021-07-08T10:19:19.854Z"
   },
   {
    "duration": 14,
    "start_time": "2021-07-08T10:19:19.874Z"
   },
   {
    "duration": 48,
    "start_time": "2021-07-08T10:19:19.890Z"
   },
   {
    "duration": 17,
    "start_time": "2021-07-08T10:19:19.940Z"
   },
   {
    "duration": 38,
    "start_time": "2021-07-08T10:19:19.959Z"
   },
   {
    "duration": 8,
    "start_time": "2021-07-08T10:19:19.999Z"
   },
   {
    "duration": 15,
    "start_time": "2021-07-08T10:19:20.009Z"
   },
   {
    "duration": 22,
    "start_time": "2021-07-08T10:19:20.026Z"
   },
   {
    "duration": 10,
    "start_time": "2021-07-08T10:19:20.050Z"
   },
   {
    "duration": 10,
    "start_time": "2021-07-08T10:19:20.062Z"
   },
   {
    "duration": 20,
    "start_time": "2021-07-08T10:19:20.073Z"
   },
   {
    "duration": 29,
    "start_time": "2021-07-08T10:19:20.095Z"
   },
   {
    "duration": 17,
    "start_time": "2021-07-08T10:19:20.126Z"
   },
   {
    "duration": 40,
    "start_time": "2021-07-08T10:19:20.146Z"
   },
   {
    "duration": 15,
    "start_time": "2021-07-08T10:19:20.189Z"
   },
   {
    "duration": 19,
    "start_time": "2021-07-08T10:19:20.206Z"
   },
   {
    "duration": 10,
    "start_time": "2021-07-08T10:19:20.226Z"
   },
   {
    "duration": 11,
    "start_time": "2021-07-08T10:19:20.238Z"
   },
   {
    "duration": 297,
    "start_time": "2021-07-08T10:19:20.250Z"
   },
   {
    "duration": 6,
    "start_time": "2021-07-08T10:19:20.549Z"
   },
   {
    "duration": 191,
    "start_time": "2021-07-08T10:19:20.557Z"
   },
   {
    "duration": 19,
    "start_time": "2021-07-08T10:19:20.750Z"
   },
   {
    "duration": 20,
    "start_time": "2021-07-08T10:19:20.771Z"
   },
   {
    "duration": 15,
    "start_time": "2021-07-08T10:19:20.793Z"
   },
   {
    "duration": 222,
    "start_time": "2021-07-08T10:19:20.809Z"
   },
   {
    "duration": 20,
    "start_time": "2021-07-08T10:19:21.033Z"
   },
   {
    "duration": 27,
    "start_time": "2021-07-08T10:45:04.055Z"
   },
   {
    "duration": 8,
    "start_time": "2021-07-08T10:45:08.478Z"
   },
   {
    "duration": 8,
    "start_time": "2021-07-08T10:45:31.982Z"
   },
   {
    "duration": 10,
    "start_time": "2021-07-08T10:46:01.221Z"
   },
   {
    "duration": 17,
    "start_time": "2021-07-08T10:46:40.011Z"
   },
   {
    "duration": 193,
    "start_time": "2021-07-08T10:48:19.471Z"
   },
   {
    "duration": 225,
    "start_time": "2021-07-08T10:49:26.480Z"
   },
   {
    "duration": 204,
    "start_time": "2021-07-08T10:49:59.992Z"
   },
   {
    "duration": 435,
    "start_time": "2021-07-08T10:50:06.779Z"
   },
   {
    "duration": 199,
    "start_time": "2021-07-08T10:50:14.891Z"
   },
   {
    "duration": 204,
    "start_time": "2021-07-08T10:50:18.501Z"
   },
   {
    "duration": 244,
    "start_time": "2021-07-08T10:50:23.359Z"
   },
   {
    "duration": 192,
    "start_time": "2021-07-08T10:50:29.135Z"
   },
   {
    "duration": 218,
    "start_time": "2021-07-08T10:50:33.092Z"
   },
   {
    "duration": 207,
    "start_time": "2021-07-08T10:52:45.381Z"
   },
   {
    "duration": 5,
    "start_time": "2021-07-08T10:53:34.641Z"
   },
   {
    "duration": 196,
    "start_time": "2021-07-08T10:53:41.478Z"
   },
   {
    "duration": 43,
    "start_time": "2021-07-08T10:53:50.335Z"
   },
   {
    "duration": 32,
    "start_time": "2021-07-08T10:53:55.294Z"
   },
   {
    "duration": 55,
    "start_time": "2021-07-08T10:54:09.675Z"
   },
   {
    "duration": 16,
    "start_time": "2021-07-08T10:54:12.260Z"
   },
   {
    "duration": 15,
    "start_time": "2021-07-08T10:54:49.150Z"
   },
   {
    "duration": 20,
    "start_time": "2021-07-08T10:56:07.596Z"
   },
   {
    "duration": 16,
    "start_time": "2021-07-08T10:58:26.276Z"
   },
   {
    "duration": 22,
    "start_time": "2021-07-08T10:59:00.486Z"
   },
   {
    "duration": 18,
    "start_time": "2021-07-08T11:02:09.653Z"
   },
   {
    "duration": 10,
    "start_time": "2021-07-08T11:03:44.331Z"
   },
   {
    "duration": 10,
    "start_time": "2021-07-08T11:03:54.055Z"
   },
   {
    "duration": 12,
    "start_time": "2021-07-08T11:04:41.967Z"
   },
   {
    "duration": 24,
    "start_time": "2021-07-08T11:07:30.732Z"
   },
   {
    "duration": 6,
    "start_time": "2021-07-08T11:07:37.364Z"
   },
   {
    "duration": 16,
    "start_time": "2021-07-08T11:08:01.819Z"
   },
   {
    "duration": 17,
    "start_time": "2021-07-08T11:09:47.488Z"
   },
   {
    "duration": 246,
    "start_time": "2021-07-08T11:10:00.830Z"
   },
   {
    "duration": 18,
    "start_time": "2021-07-08T11:13:55.195Z"
   },
   {
    "duration": 204,
    "start_time": "2021-07-08T11:14:04.951Z"
   },
   {
    "duration": 19,
    "start_time": "2021-07-08T11:15:10.613Z"
   },
   {
    "duration": 680,
    "start_time": "2021-07-08T11:16:25.793Z"
   },
   {
    "duration": 451,
    "start_time": "2021-07-08T11:16:40.313Z"
   },
   {
    "duration": 469,
    "start_time": "2021-07-08T11:17:21.286Z"
   },
   {
    "duration": 20,
    "start_time": "2021-07-08T11:19:12.554Z"
   },
   {
    "duration": 35,
    "start_time": "2021-07-08T11:20:05.484Z"
   },
   {
    "duration": 53,
    "start_time": "2021-07-08T11:21:40.050Z"
   },
   {
    "duration": 13,
    "start_time": "2021-07-08T11:22:26.059Z"
   },
   {
    "duration": 19,
    "start_time": "2021-07-08T11:22:47.419Z"
   },
   {
    "duration": 25,
    "start_time": "2021-07-08T11:23:19.958Z"
   },
   {
    "duration": 29,
    "start_time": "2021-07-08T11:23:25.415Z"
   },
   {
    "duration": 10,
    "start_time": "2021-07-08T11:24:45.138Z"
   },
   {
    "duration": 19,
    "start_time": "2021-07-08T11:24:54.498Z"
   },
   {
    "duration": 12,
    "start_time": "2021-07-08T11:25:32.225Z"
   },
   {
    "duration": 19,
    "start_time": "2021-07-08T11:25:37.092Z"
   },
   {
    "duration": 17,
    "start_time": "2021-07-08T11:25:58.116Z"
   },
   {
    "duration": 15,
    "start_time": "2021-07-08T11:26:02.258Z"
   },
   {
    "duration": 8,
    "start_time": "2021-07-08T11:26:59.682Z"
   },
   {
    "duration": 184,
    "start_time": "2021-07-08T11:27:21.894Z"
   },
   {
    "duration": 8,
    "start_time": "2021-07-08T11:27:23.824Z"
   },
   {
    "duration": 202,
    "start_time": "2021-07-08T11:27:23.962Z"
   },
   {
    "duration": 360,
    "start_time": "2021-07-08T11:28:33.215Z"
   },
   {
    "duration": 231,
    "start_time": "2021-07-08T11:32:05.542Z"
   },
   {
    "duration": 607,
    "start_time": "2021-07-08T11:36:27.854Z"
   },
   {
    "duration": 241,
    "start_time": "2021-07-08T11:36:28.463Z"
   },
   {
    "duration": 67,
    "start_time": "2021-07-08T11:36:28.709Z"
   },
   {
    "duration": 5,
    "start_time": "2021-07-08T11:36:28.778Z"
   },
   {
    "duration": 32,
    "start_time": "2021-07-08T11:36:28.784Z"
   },
   {
    "duration": 11,
    "start_time": "2021-07-08T11:36:28.819Z"
   },
   {
    "duration": 20,
    "start_time": "2021-07-08T11:36:28.834Z"
   },
   {
    "duration": 36,
    "start_time": "2021-07-08T11:36:28.857Z"
   },
   {
    "duration": 16,
    "start_time": "2021-07-08T11:36:28.895Z"
   },
   {
    "duration": 14,
    "start_time": "2021-07-08T11:36:28.913Z"
   },
   {
    "duration": 9,
    "start_time": "2021-07-08T11:36:28.930Z"
   },
   {
    "duration": 55,
    "start_time": "2021-07-08T11:36:28.941Z"
   },
   {
    "duration": 27,
    "start_time": "2021-07-08T11:36:28.999Z"
   },
   {
    "duration": 30,
    "start_time": "2021-07-08T11:36:29.028Z"
   },
   {
    "duration": 31,
    "start_time": "2021-07-08T11:36:29.060Z"
   },
   {
    "duration": 3,
    "start_time": "2021-07-08T11:36:29.093Z"
   },
   {
    "duration": 12,
    "start_time": "2021-07-08T11:36:29.099Z"
   },
   {
    "duration": 11,
    "start_time": "2021-07-08T11:36:29.112Z"
   },
   {
    "duration": 12,
    "start_time": "2021-07-08T11:36:29.125Z"
   },
   {
    "duration": 9,
    "start_time": "2021-07-08T11:36:29.139Z"
   },
   {
    "duration": 31,
    "start_time": "2021-07-08T11:36:29.191Z"
   },
   {
    "duration": 17,
    "start_time": "2021-07-08T11:36:29.226Z"
   },
   {
    "duration": 7,
    "start_time": "2021-07-08T11:36:29.245Z"
   },
   {
    "duration": 10,
    "start_time": "2021-07-08T11:36:29.254Z"
   },
   {
    "duration": 30,
    "start_time": "2021-07-08T11:36:29.292Z"
   },
   {
    "duration": 11,
    "start_time": "2021-07-08T11:36:29.324Z"
   },
   {
    "duration": 11,
    "start_time": "2021-07-08T11:36:29.337Z"
   },
   {
    "duration": 230,
    "start_time": "2021-07-08T11:36:29.349Z"
   },
   {
    "duration": 13,
    "start_time": "2021-07-08T11:36:29.588Z"
   },
   {
    "duration": 205,
    "start_time": "2021-07-08T11:36:29.603Z"
   },
   {
    "duration": 20,
    "start_time": "2021-07-08T11:36:29.810Z"
   },
   {
    "duration": 9,
    "start_time": "2021-07-08T11:36:29.832Z"
   },
   {
    "duration": 16,
    "start_time": "2021-07-08T11:36:29.843Z"
   },
   {
    "duration": 283,
    "start_time": "2021-07-08T11:36:29.861Z"
   },
   {
    "duration": 50,
    "start_time": "2021-07-08T11:36:30.146Z"
   },
   {
    "duration": 14,
    "start_time": "2021-07-08T11:36:30.198Z"
   },
   {
    "duration": 11,
    "start_time": "2021-07-08T11:36:30.214Z"
   },
   {
    "duration": 245,
    "start_time": "2021-07-08T11:36:30.227Z"
   },
   {
    "duration": 439,
    "start_time": "2021-07-08T11:36:30.474Z"
   },
   {
    "duration": 210,
    "start_time": "2021-07-08T11:36:30.915Z"
   },
   {
    "duration": 15,
    "start_time": "2021-07-08T11:36:31.127Z"
   },
   {
    "duration": 17,
    "start_time": "2021-07-08T11:38:20.451Z"
   },
   {
    "duration": 642,
    "start_time": "2021-07-08T11:46:17.881Z"
   },
   {
    "duration": 210,
    "start_time": "2021-07-08T11:46:18.525Z"
   },
   {
    "duration": 104,
    "start_time": "2021-07-08T11:46:18.741Z"
   },
   {
    "duration": 8,
    "start_time": "2021-07-08T11:46:18.847Z"
   },
   {
    "duration": 25,
    "start_time": "2021-07-08T11:46:18.857Z"
   },
   {
    "duration": 14,
    "start_time": "2021-07-08T11:46:18.884Z"
   },
   {
    "duration": 22,
    "start_time": "2021-07-08T11:46:18.900Z"
   },
   {
    "duration": 5,
    "start_time": "2021-07-08T11:46:18.924Z"
   },
   {
    "duration": 13,
    "start_time": "2021-07-08T11:46:18.931Z"
   },
   {
    "duration": 45,
    "start_time": "2021-07-08T11:46:18.946Z"
   },
   {
    "duration": 12,
    "start_time": "2021-07-08T11:46:18.993Z"
   },
   {
    "duration": 38,
    "start_time": "2021-07-08T11:46:19.006Z"
   },
   {
    "duration": 50,
    "start_time": "2021-07-08T11:46:19.046Z"
   },
   {
    "duration": 29,
    "start_time": "2021-07-08T11:46:19.099Z"
   },
   {
    "duration": 7,
    "start_time": "2021-07-08T11:46:19.130Z"
   },
   {
    "duration": 3,
    "start_time": "2021-07-08T11:46:19.139Z"
   },
   {
    "duration": 11,
    "start_time": "2021-07-08T11:46:19.144Z"
   },
   {
    "duration": 40,
    "start_time": "2021-07-08T11:46:19.157Z"
   },
   {
    "duration": 15,
    "start_time": "2021-07-08T11:46:19.199Z"
   },
   {
    "duration": 10,
    "start_time": "2021-07-08T11:46:19.217Z"
   },
   {
    "duration": 68,
    "start_time": "2021-07-08T11:46:19.230Z"
   },
   {
    "duration": 17,
    "start_time": "2021-07-08T11:46:19.301Z"
   },
   {
    "duration": 7,
    "start_time": "2021-07-08T11:46:19.321Z"
   },
   {
    "duration": 11,
    "start_time": "2021-07-08T11:46:19.330Z"
   },
   {
    "duration": 59,
    "start_time": "2021-07-08T11:46:19.343Z"
   },
   {
    "duration": 17,
    "start_time": "2021-07-08T11:46:19.405Z"
   },
   {
    "duration": 16,
    "start_time": "2021-07-08T11:46:19.424Z"
   },
   {
    "duration": 252,
    "start_time": "2021-07-08T11:46:19.443Z"
   },
   {
    "duration": 9,
    "start_time": "2021-07-08T11:46:19.697Z"
   },
   {
    "duration": 224,
    "start_time": "2021-07-08T11:46:19.708Z"
   },
   {
    "duration": 21,
    "start_time": "2021-07-08T11:46:19.934Z"
   },
   {
    "duration": 9,
    "start_time": "2021-07-08T11:46:19.956Z"
   },
   {
    "duration": 32,
    "start_time": "2021-07-08T11:46:19.967Z"
   },
   {
    "duration": 288,
    "start_time": "2021-07-08T11:46:20.004Z"
   },
   {
    "duration": 23,
    "start_time": "2021-07-08T11:46:20.300Z"
   },
   {
    "duration": 11,
    "start_time": "2021-07-08T11:46:20.325Z"
   },
   {
    "duration": 11,
    "start_time": "2021-07-08T11:46:20.339Z"
   },
   {
    "duration": 259,
    "start_time": "2021-07-08T11:46:20.352Z"
   },
   {
    "duration": 438,
    "start_time": "2021-07-08T11:46:20.613Z"
   },
   {
    "duration": 207,
    "start_time": "2021-07-08T11:46:21.054Z"
   },
   {
    "duration": 27,
    "start_time": "2021-07-08T11:46:21.262Z"
   },
   {
    "duration": 19,
    "start_time": "2021-07-08T11:46:21.291Z"
   },
   {
    "duration": 820,
    "start_time": "2021-07-08T11:49:01.655Z"
   },
   {
    "duration": 372,
    "start_time": "2021-07-08T11:49:02.478Z"
   },
   {
    "duration": 98,
    "start_time": "2021-07-08T11:49:02.853Z"
   },
   {
    "duration": 6,
    "start_time": "2021-07-08T11:49:02.953Z"
   },
   {
    "duration": 39,
    "start_time": "2021-07-08T11:49:02.960Z"
   },
   {
    "duration": 9,
    "start_time": "2021-07-08T11:49:03.003Z"
   },
   {
    "duration": 23,
    "start_time": "2021-07-08T11:49:03.014Z"
   },
   {
    "duration": 6,
    "start_time": "2021-07-08T11:49:03.041Z"
   },
   {
    "duration": 20,
    "start_time": "2021-07-08T11:49:03.049Z"
   },
   {
    "duration": 18,
    "start_time": "2021-07-08T11:49:03.084Z"
   },
   {
    "duration": 14,
    "start_time": "2021-07-08T11:49:03.104Z"
   },
   {
    "duration": 39,
    "start_time": "2021-07-08T11:49:03.119Z"
   },
   {
    "duration": 38,
    "start_time": "2021-07-08T11:49:03.160Z"
   },
   {
    "duration": 26,
    "start_time": "2021-07-08T11:49:03.200Z"
   },
   {
    "duration": 7,
    "start_time": "2021-07-08T11:49:03.227Z"
   },
   {
    "duration": 4,
    "start_time": "2021-07-08T11:49:03.236Z"
   },
   {
    "duration": 15,
    "start_time": "2021-07-08T11:49:03.243Z"
   },
   {
    "duration": 21,
    "start_time": "2021-07-08T11:49:03.285Z"
   },
   {
    "duration": 17,
    "start_time": "2021-07-08T11:49:03.309Z"
   },
   {
    "duration": 10,
    "start_time": "2021-07-08T11:49:03.328Z"
   },
   {
    "duration": 65,
    "start_time": "2021-07-08T11:49:03.340Z"
   },
   {
    "duration": 18,
    "start_time": "2021-07-08T11:49:03.407Z"
   },
   {
    "duration": 8,
    "start_time": "2021-07-08T11:49:03.428Z"
   },
   {
    "duration": 15,
    "start_time": "2021-07-08T11:49:03.438Z"
   },
   {
    "duration": 40,
    "start_time": "2021-07-08T11:49:03.455Z"
   },
   {
    "duration": 12,
    "start_time": "2021-07-08T11:49:03.497Z"
   },
   {
    "duration": 29,
    "start_time": "2021-07-08T11:49:03.511Z"
   },
   {
    "duration": 285,
    "start_time": "2021-07-08T11:49:03.542Z"
   },
   {
    "duration": 8,
    "start_time": "2021-07-08T11:49:03.829Z"
   },
   {
    "duration": 227,
    "start_time": "2021-07-08T11:49:03.838Z"
   },
   {
    "duration": 40,
    "start_time": "2021-07-08T11:49:04.066Z"
   },
   {
    "duration": 10,
    "start_time": "2021-07-08T11:49:04.108Z"
   },
   {
    "duration": 26,
    "start_time": "2021-07-08T11:49:04.121Z"
   },
   {
    "duration": 290,
    "start_time": "2021-07-08T11:49:04.149Z"
   },
   {
    "duration": 26,
    "start_time": "2021-07-08T11:49:04.441Z"
   },
   {
    "duration": 31,
    "start_time": "2021-07-08T11:49:04.470Z"
   },
   {
    "duration": 14,
    "start_time": "2021-07-08T11:49:04.503Z"
   },
   {
    "duration": 259,
    "start_time": "2021-07-08T11:49:04.521Z"
   },
   {
    "duration": 480,
    "start_time": "2021-07-08T11:49:04.782Z"
   },
   {
    "duration": 225,
    "start_time": "2021-07-08T11:49:05.264Z"
   },
   {
    "duration": 22,
    "start_time": "2021-07-08T11:49:05.491Z"
   },
   {
    "duration": 24,
    "start_time": "2021-07-08T11:49:05.515Z"
   },
   {
    "duration": 634,
    "start_time": "2021-07-08T11:52:24.960Z"
   },
   {
    "duration": 199,
    "start_time": "2021-07-08T11:52:25.599Z"
   },
   {
    "duration": 106,
    "start_time": "2021-07-08T11:52:25.803Z"
   },
   {
    "duration": 7,
    "start_time": "2021-07-08T11:52:25.911Z"
   },
   {
    "duration": 29,
    "start_time": "2021-07-08T11:52:25.920Z"
   },
   {
    "duration": 7,
    "start_time": "2021-07-08T11:52:25.951Z"
   },
   {
    "duration": 26,
    "start_time": "2021-07-08T11:52:25.961Z"
   },
   {
    "duration": 11,
    "start_time": "2021-07-08T11:52:25.990Z"
   },
   {
    "duration": 29,
    "start_time": "2021-07-08T11:52:26.005Z"
   },
   {
    "duration": 9,
    "start_time": "2021-07-08T11:52:26.036Z"
   },
   {
    "duration": 8,
    "start_time": "2021-07-08T11:52:26.047Z"
   },
   {
    "duration": 63,
    "start_time": "2021-07-08T11:52:26.057Z"
   },
   {
    "duration": 17,
    "start_time": "2021-07-08T11:52:26.122Z"
   },
   {
    "duration": 43,
    "start_time": "2021-07-08T11:52:26.142Z"
   },
   {
    "duration": 17,
    "start_time": "2021-07-08T11:52:26.187Z"
   },
   {
    "duration": 5,
    "start_time": "2021-07-08T11:52:26.206Z"
   },
   {
    "duration": 12,
    "start_time": "2021-07-08T11:52:26.212Z"
   },
   {
    "duration": 11,
    "start_time": "2021-07-08T11:52:26.226Z"
   },
   {
    "duration": 12,
    "start_time": "2021-07-08T11:52:26.238Z"
   },
   {
    "duration": 38,
    "start_time": "2021-07-08T11:52:26.252Z"
   },
   {
    "duration": 40,
    "start_time": "2021-07-08T11:52:26.292Z"
   },
   {
    "duration": 17,
    "start_time": "2021-07-08T11:52:26.336Z"
   },
   {
    "duration": 39,
    "start_time": "2021-07-08T11:52:26.355Z"
   },
   {
    "duration": 11,
    "start_time": "2021-07-08T11:52:26.395Z"
   },
   {
    "duration": 23,
    "start_time": "2021-07-08T11:52:26.408Z"
   },
   {
    "duration": 12,
    "start_time": "2021-07-08T11:52:26.432Z"
   },
   {
    "duration": 41,
    "start_time": "2021-07-08T11:52:26.446Z"
   },
   {
    "duration": 215,
    "start_time": "2021-07-08T11:52:26.493Z"
   },
   {
    "duration": 8,
    "start_time": "2021-07-08T11:52:26.710Z"
   },
   {
    "duration": 228,
    "start_time": "2021-07-08T11:52:26.720Z"
   },
   {
    "duration": 18,
    "start_time": "2021-07-08T11:52:26.950Z"
   },
   {
    "duration": 35,
    "start_time": "2021-07-08T11:52:26.969Z"
   },
   {
    "duration": 23,
    "start_time": "2021-07-08T11:52:27.006Z"
   },
   {
    "duration": 258,
    "start_time": "2021-07-08T11:52:27.030Z"
   },
   {
    "duration": 24,
    "start_time": "2021-07-08T11:52:27.290Z"
   },
   {
    "duration": 12,
    "start_time": "2021-07-08T11:52:27.316Z"
   },
   {
    "duration": 10,
    "start_time": "2021-07-08T11:52:27.329Z"
   },
   {
    "duration": 298,
    "start_time": "2021-07-08T11:52:27.341Z"
   },
   {
    "duration": 436,
    "start_time": "2021-07-08T11:52:27.641Z"
   },
   {
    "duration": 216,
    "start_time": "2021-07-08T11:52:28.079Z"
   },
   {
    "duration": 20,
    "start_time": "2021-07-08T11:52:28.297Z"
   },
   {
    "duration": 17,
    "start_time": "2021-07-08T11:52:28.319Z"
   },
   {
    "duration": 1228,
    "start_time": "2023-04-25T13:35:34.318Z"
   },
   {
    "duration": 137,
    "start_time": "2023-04-25T13:38:35.283Z"
   },
   {
    "duration": 92,
    "start_time": "2023-04-25T14:00:14.482Z"
   },
   {
    "duration": 13,
    "start_time": "2023-04-25T14:04:07.622Z"
   },
   {
    "duration": 12,
    "start_time": "2023-04-25T14:04:28.406Z"
   },
   {
    "duration": 16,
    "start_time": "2023-04-25T14:06:17.638Z"
   },
   {
    "duration": 18,
    "start_time": "2023-04-25T14:07:01.142Z"
   },
   {
    "duration": 378,
    "start_time": "2023-04-25T14:13:24.504Z"
   },
   {
    "duration": 5,
    "start_time": "2023-04-25T14:16:04.122Z"
   },
   {
    "duration": 4,
    "start_time": "2023-04-25T14:19:41.774Z"
   },
   {
    "duration": 8,
    "start_time": "2023-04-25T14:20:18.998Z"
   },
   {
    "duration": 5,
    "start_time": "2023-04-25T14:21:05.691Z"
   },
   {
    "duration": 3,
    "start_time": "2023-04-25T14:23:16.343Z"
   },
   {
    "duration": 8,
    "start_time": "2023-04-25T14:23:42.636Z"
   },
   {
    "duration": 8,
    "start_time": "2023-04-25T14:24:22.131Z"
   },
   {
    "duration": 9,
    "start_time": "2023-04-25T14:24:47.380Z"
   },
   {
    "duration": 19,
    "start_time": "2023-04-25T14:25:28.407Z"
   },
   {
    "duration": 14,
    "start_time": "2023-04-25T15:17:04.608Z"
   },
   {
    "duration": 824,
    "start_time": "2023-04-25T15:17:15.992Z"
   },
   {
    "duration": 842,
    "start_time": "2023-04-25T15:18:14.737Z"
   },
   {
    "duration": 1149,
    "start_time": "2023-04-26T07:50:19.565Z"
   },
   {
    "duration": 106,
    "start_time": "2023-04-26T07:50:51.845Z"
   },
   {
    "duration": 117,
    "start_time": "2023-04-26T07:53:26.092Z"
   },
   {
    "duration": 5,
    "start_time": "2023-04-26T08:01:35.461Z"
   },
   {
    "duration": 6,
    "start_time": "2023-04-26T08:03:54.637Z"
   },
   {
    "duration": 26,
    "start_time": "2023-04-26T08:04:08.509Z"
   },
   {
    "duration": 29,
    "start_time": "2023-04-26T08:04:22.589Z"
   },
   {
    "duration": 26,
    "start_time": "2023-04-26T08:04:35.565Z"
   },
   {
    "duration": 16,
    "start_time": "2023-04-26T08:05:30.564Z"
   },
   {
    "duration": 15,
    "start_time": "2023-04-26T08:07:37.029Z"
   },
   {
    "duration": 14,
    "start_time": "2023-04-26T08:07:59.394Z"
   },
   {
    "duration": 10,
    "start_time": "2023-04-26T08:15:42.596Z"
   },
   {
    "duration": 29,
    "start_time": "2023-04-26T08:16:16.889Z"
   },
   {
    "duration": 6,
    "start_time": "2023-04-26T09:55:28.274Z"
   },
   {
    "duration": 5,
    "start_time": "2023-04-26T10:12:08.609Z"
   },
   {
    "duration": 22,
    "start_time": "2023-04-26T10:13:13.674Z"
   },
   {
    "duration": 4,
    "start_time": "2023-04-26T10:13:23.427Z"
   },
   {
    "duration": 20,
    "start_time": "2023-04-26T10:13:28.157Z"
   },
   {
    "duration": 748,
    "start_time": "2023-04-26T10:14:08.345Z"
   },
   {
    "duration": 21,
    "start_time": "2023-04-26T10:14:09.095Z"
   },
   {
    "duration": 76,
    "start_time": "2023-04-26T10:14:09.118Z"
   },
   {
    "duration": 16,
    "start_time": "2023-04-26T10:14:09.198Z"
   },
   {
    "duration": 53,
    "start_time": "2023-04-26T10:14:09.217Z"
   },
   {
    "duration": 41,
    "start_time": "2023-04-26T10:14:09.272Z"
   },
   {
    "duration": 38,
    "start_time": "2023-04-26T10:14:09.315Z"
   },
   {
    "duration": 48,
    "start_time": "2023-04-26T10:14:09.355Z"
   },
   {
    "duration": 14,
    "start_time": "2023-04-26T10:14:09.405Z"
   },
   {
    "duration": 34,
    "start_time": "2023-04-26T10:14:09.421Z"
   },
   {
    "duration": 86,
    "start_time": "2023-04-26T10:14:09.456Z"
   },
   {
    "duration": 38,
    "start_time": "2023-04-26T10:14:09.544Z"
   },
   {
    "duration": 58,
    "start_time": "2023-04-26T10:14:09.583Z"
   },
   {
    "duration": 60,
    "start_time": "2023-04-26T10:14:09.644Z"
   },
   {
    "duration": 62,
    "start_time": "2023-04-26T16:58:56.614Z"
   },
   {
    "duration": 8,
    "start_time": "2023-04-26T16:59:07.184Z"
   },
   {
    "duration": 7,
    "start_time": "2023-04-26T17:00:08.500Z"
   },
   {
    "duration": 945,
    "start_time": "2023-04-26T17:00:23.823Z"
   },
   {
    "duration": 17,
    "start_time": "2023-04-26T17:00:24.770Z"
   },
   {
    "duration": 107,
    "start_time": "2023-04-26T17:00:24.789Z"
   },
   {
    "duration": 9,
    "start_time": "2023-04-26T17:00:24.898Z"
   },
   {
    "duration": 18,
    "start_time": "2023-04-26T17:00:24.908Z"
   },
   {
    "duration": 10,
    "start_time": "2023-04-26T17:00:24.927Z"
   },
   {
    "duration": 22,
    "start_time": "2023-04-26T17:00:24.939Z"
   },
   {
    "duration": 21,
    "start_time": "2023-04-26T17:00:24.963Z"
   },
   {
    "duration": 13,
    "start_time": "2023-04-26T17:00:24.986Z"
   },
   {
    "duration": 6,
    "start_time": "2023-04-26T17:00:25.002Z"
   },
   {
    "duration": 74,
    "start_time": "2023-04-26T17:00:25.009Z"
   },
   {
    "duration": 0,
    "start_time": "2023-04-26T17:00:25.084Z"
   },
   {
    "duration": 0,
    "start_time": "2023-04-26T17:00:25.085Z"
   },
   {
    "duration": 15,
    "start_time": "2023-04-26T17:01:14.693Z"
   },
   {
    "duration": 7,
    "start_time": "2023-04-26T17:01:28.165Z"
   },
   {
    "duration": 4,
    "start_time": "2023-04-26T17:01:41.182Z"
   },
   {
    "duration": 4,
    "start_time": "2023-04-26T17:02:25.698Z"
   },
   {
    "duration": 11,
    "start_time": "2023-04-26T17:11:44.852Z"
   },
   {
    "duration": 4,
    "start_time": "2023-04-26T17:16:41.702Z"
   },
   {
    "duration": 5,
    "start_time": "2023-04-26T17:17:40.828Z"
   },
   {
    "duration": 5,
    "start_time": "2023-04-26T17:18:19.201Z"
   },
   {
    "duration": 5,
    "start_time": "2023-04-26T17:18:29.009Z"
   },
   {
    "duration": 7,
    "start_time": "2023-04-26T17:28:33.119Z"
   },
   {
    "duration": 6,
    "start_time": "2023-04-26T17:29:11.952Z"
   },
   {
    "duration": 5,
    "start_time": "2023-04-26T17:34:09.852Z"
   },
   {
    "duration": 9,
    "start_time": "2023-04-26T17:34:48.984Z"
   },
   {
    "duration": 8,
    "start_time": "2023-04-26T17:36:48.284Z"
   },
   {
    "duration": 6,
    "start_time": "2023-04-26T17:37:03.286Z"
   },
   {
    "duration": 8,
    "start_time": "2023-04-26T17:39:28.586Z"
   },
   {
    "duration": 6,
    "start_time": "2023-04-26T17:43:29.089Z"
   },
   {
    "duration": 5,
    "start_time": "2023-04-26T17:44:19.887Z"
   },
   {
    "duration": 4,
    "start_time": "2023-04-26T17:44:24.968Z"
   },
   {
    "duration": 5,
    "start_time": "2023-04-26T17:45:24.185Z"
   },
   {
    "duration": 4,
    "start_time": "2023-04-26T17:45:35.367Z"
   },
   {
    "duration": 5,
    "start_time": "2023-04-26T17:45:43.718Z"
   },
   {
    "duration": 5,
    "start_time": "2023-04-26T17:46:57.468Z"
   },
   {
    "duration": 6,
    "start_time": "2023-04-26T17:47:56.286Z"
   },
   {
    "duration": 5,
    "start_time": "2023-04-26T17:48:33.203Z"
   },
   {
    "duration": 6,
    "start_time": "2023-04-26T17:49:06.759Z"
   },
   {
    "duration": 5,
    "start_time": "2023-04-26T17:49:12.246Z"
   },
   {
    "duration": 5,
    "start_time": "2023-04-26T17:50:12.487Z"
   },
   {
    "duration": 7,
    "start_time": "2023-04-26T17:52:09.017Z"
   },
   {
    "duration": 6,
    "start_time": "2023-04-26T17:52:17.573Z"
   },
   {
    "duration": 6,
    "start_time": "2023-04-26T17:52:27.499Z"
   },
   {
    "duration": 5,
    "start_time": "2023-04-26T17:56:10.220Z"
   },
   {
    "duration": 5,
    "start_time": "2023-04-26T17:56:21.700Z"
   },
   {
    "duration": 6,
    "start_time": "2023-04-26T17:57:36.059Z"
   },
   {
    "duration": 4,
    "start_time": "2023-04-26T17:58:08.368Z"
   },
   {
    "duration": 12,
    "start_time": "2023-04-26T18:00:38.127Z"
   },
   {
    "duration": 8,
    "start_time": "2023-04-26T18:01:55.226Z"
   },
   {
    "duration": 5,
    "start_time": "2023-04-26T18:16:04.810Z"
   },
   {
    "duration": 6,
    "start_time": "2023-04-26T18:16:13.485Z"
   },
   {
    "duration": 17,
    "start_time": "2023-04-26T18:17:03.377Z"
   },
   {
    "duration": 18,
    "start_time": "2023-04-26T18:18:36.412Z"
   },
   {
    "duration": 12,
    "start_time": "2023-04-26T18:19:41.150Z"
   },
   {
    "duration": 5,
    "start_time": "2023-04-26T18:21:27.749Z"
   },
   {
    "duration": 8,
    "start_time": "2023-04-26T18:21:31.064Z"
   },
   {
    "duration": 12,
    "start_time": "2023-04-26T18:22:15.765Z"
   },
   {
    "duration": 5,
    "start_time": "2023-04-26T18:23:38.022Z"
   },
   {
    "duration": 6,
    "start_time": "2023-04-26T18:23:41.523Z"
   },
   {
    "duration": 5,
    "start_time": "2023-04-26T18:23:56.665Z"
   },
   {
    "duration": 8,
    "start_time": "2023-04-26T18:36:02.421Z"
   },
   {
    "duration": 9,
    "start_time": "2023-04-26T18:37:06.795Z"
   },
   {
    "duration": 664,
    "start_time": "2023-04-26T18:37:24.696Z"
   },
   {
    "duration": 14,
    "start_time": "2023-04-26T18:37:25.362Z"
   },
   {
    "duration": 41,
    "start_time": "2023-04-26T18:37:25.377Z"
   },
   {
    "duration": 9,
    "start_time": "2023-04-26T18:37:25.420Z"
   },
   {
    "duration": 14,
    "start_time": "2023-04-26T18:37:25.431Z"
   },
   {
    "duration": 7,
    "start_time": "2023-04-26T18:37:25.447Z"
   },
   {
    "duration": 16,
    "start_time": "2023-04-26T18:37:25.455Z"
   },
   {
    "duration": 20,
    "start_time": "2023-04-26T18:37:25.472Z"
   },
   {
    "duration": 12,
    "start_time": "2023-04-26T18:37:25.493Z"
   },
   {
    "duration": 6,
    "start_time": "2023-04-26T18:37:25.506Z"
   },
   {
    "duration": 20,
    "start_time": "2023-04-26T18:37:25.513Z"
   },
   {
    "duration": 4,
    "start_time": "2023-04-26T18:37:25.535Z"
   },
   {
    "duration": 9,
    "start_time": "2023-04-26T18:37:25.540Z"
   },
   {
    "duration": 65,
    "start_time": "2023-04-26T18:37:25.552Z"
   },
   {
    "duration": 0,
    "start_time": "2023-04-26T18:37:25.618Z"
   },
   {
    "duration": 0,
    "start_time": "2023-04-26T18:37:25.619Z"
   },
   {
    "duration": 0,
    "start_time": "2023-04-26T18:37:25.620Z"
   },
   {
    "duration": 0,
    "start_time": "2023-04-26T18:37:25.633Z"
   },
   {
    "duration": 0,
    "start_time": "2023-04-26T18:37:25.634Z"
   },
   {
    "duration": 661,
    "start_time": "2023-04-26T18:38:14.965Z"
   },
   {
    "duration": 15,
    "start_time": "2023-04-26T18:38:15.628Z"
   },
   {
    "duration": 46,
    "start_time": "2023-04-26T18:38:15.644Z"
   },
   {
    "duration": 9,
    "start_time": "2023-04-26T18:38:15.692Z"
   },
   {
    "duration": 38,
    "start_time": "2023-04-26T18:38:15.703Z"
   },
   {
    "duration": 8,
    "start_time": "2023-04-26T18:38:15.742Z"
   },
   {
    "duration": 5,
    "start_time": "2023-04-26T18:38:15.752Z"
   },
   {
    "duration": 22,
    "start_time": "2023-04-26T18:38:15.759Z"
   },
   {
    "duration": 14,
    "start_time": "2023-04-26T18:38:15.783Z"
   },
   {
    "duration": 4,
    "start_time": "2023-04-26T18:38:15.799Z"
   },
   {
    "duration": 33,
    "start_time": "2023-04-26T18:38:15.804Z"
   },
   {
    "duration": 4,
    "start_time": "2023-04-26T18:38:15.839Z"
   },
   {
    "duration": 14,
    "start_time": "2023-04-26T18:38:15.844Z"
   },
   {
    "duration": 11,
    "start_time": "2023-04-26T18:38:15.861Z"
   },
   {
    "duration": 12,
    "start_time": "2023-04-26T18:38:15.874Z"
   },
   {
    "duration": 7,
    "start_time": "2023-04-26T18:38:15.888Z"
   },
   {
    "duration": 10,
    "start_time": "2023-04-26T18:38:15.897Z"
   },
   {
    "duration": 25,
    "start_time": "2023-04-26T18:38:15.908Z"
   },
   {
    "duration": 4,
    "start_time": "2023-04-26T18:40:54.438Z"
   },
   {
    "duration": 23,
    "start_time": "2023-04-26T18:52:24.329Z"
   },
   {
    "duration": 14,
    "start_time": "2023-04-26T18:53:37.705Z"
   },
   {
    "duration": 5,
    "start_time": "2023-04-26T18:53:40.322Z"
   },
   {
    "duration": 5,
    "start_time": "2023-04-26T18:53:57.206Z"
   },
   {
    "duration": 5,
    "start_time": "2023-04-26T18:54:07.355Z"
   },
   {
    "duration": 11,
    "start_time": "2023-04-26T18:57:15.796Z"
   },
   {
    "duration": 5,
    "start_time": "2023-04-26T18:57:19.788Z"
   },
   {
    "duration": 780,
    "start_time": "2023-04-26T18:58:09.415Z"
   },
   {
    "duration": 14,
    "start_time": "2023-04-26T18:58:10.196Z"
   },
   {
    "duration": 59,
    "start_time": "2023-04-26T18:58:10.211Z"
   },
   {
    "duration": 9,
    "start_time": "2023-04-26T18:58:10.272Z"
   },
   {
    "duration": 26,
    "start_time": "2023-04-26T18:58:10.282Z"
   },
   {
    "duration": 42,
    "start_time": "2023-04-26T18:58:10.310Z"
   },
   {
    "duration": 11,
    "start_time": "2023-04-26T18:58:10.353Z"
   },
   {
    "duration": 57,
    "start_time": "2023-04-26T18:58:10.366Z"
   },
   {
    "duration": 18,
    "start_time": "2023-04-26T18:58:10.424Z"
   },
   {
    "duration": 31,
    "start_time": "2023-04-26T18:58:10.447Z"
   },
   {
    "duration": 30,
    "start_time": "2023-04-26T18:58:10.481Z"
   },
   {
    "duration": 4,
    "start_time": "2023-04-26T18:58:10.513Z"
   },
   {
    "duration": 28,
    "start_time": "2023-04-26T18:58:10.519Z"
   },
   {
    "duration": 11,
    "start_time": "2023-04-26T18:58:10.549Z"
   },
   {
    "duration": 6,
    "start_time": "2023-04-26T18:58:10.562Z"
   },
   {
    "duration": 5,
    "start_time": "2023-04-26T18:58:10.569Z"
   },
   {
    "duration": 8,
    "start_time": "2023-04-26T18:58:10.575Z"
   },
   {
    "duration": 16,
    "start_time": "2023-04-26T18:58:10.584Z"
   },
   {
    "duration": 6,
    "start_time": "2023-04-26T18:58:10.601Z"
   },
   {
    "duration": 20,
    "start_time": "2023-04-26T18:58:10.608Z"
   },
   {
    "duration": 34,
    "start_time": "2023-04-26T18:58:10.629Z"
   },
   {
    "duration": 75,
    "start_time": "2023-04-26T18:59:26.246Z"
   },
   {
    "duration": 15,
    "start_time": "2023-04-26T18:59:57.606Z"
   },
   {
    "duration": 4,
    "start_time": "2023-04-26T18:59:58.982Z"
   },
   {
    "duration": 4,
    "start_time": "2023-04-26T19:00:05.578Z"
   },
   {
    "duration": 1049,
    "start_time": "2023-04-27T06:15:06.011Z"
   },
   {
    "duration": 18,
    "start_time": "2023-04-27T06:15:07.062Z"
   },
   {
    "duration": 112,
    "start_time": "2023-04-27T06:15:07.082Z"
   },
   {
    "duration": 12,
    "start_time": "2023-04-27T06:15:07.196Z"
   },
   {
    "duration": 37,
    "start_time": "2023-04-27T06:15:07.210Z"
   },
   {
    "duration": 25,
    "start_time": "2023-04-27T06:15:07.249Z"
   },
   {
    "duration": 29,
    "start_time": "2023-04-27T06:15:07.276Z"
   },
   {
    "duration": 39,
    "start_time": "2023-04-27T06:15:07.306Z"
   },
   {
    "duration": 17,
    "start_time": "2023-04-27T06:15:07.347Z"
   },
   {
    "duration": 13,
    "start_time": "2023-04-27T06:15:07.365Z"
   },
   {
    "duration": 43,
    "start_time": "2023-04-27T06:15:07.380Z"
   },
   {
    "duration": 28,
    "start_time": "2023-04-27T06:15:07.425Z"
   },
   {
    "duration": 39,
    "start_time": "2023-04-27T06:15:07.455Z"
   },
   {
    "duration": 22,
    "start_time": "2023-04-27T06:15:07.496Z"
   },
   {
    "duration": 25,
    "start_time": "2023-04-27T06:15:07.520Z"
   },
   {
    "duration": 25,
    "start_time": "2023-04-27T06:15:07.546Z"
   },
   {
    "duration": 32,
    "start_time": "2023-04-27T06:15:07.573Z"
   },
   {
    "duration": 32,
    "start_time": "2023-04-27T06:15:07.607Z"
   },
   {
    "duration": 19,
    "start_time": "2023-04-27T06:15:07.641Z"
   },
   {
    "duration": 30,
    "start_time": "2023-04-27T06:15:07.662Z"
   },
   {
    "duration": 26,
    "start_time": "2023-04-27T06:15:07.694Z"
   },
   {
    "duration": 43,
    "start_time": "2023-04-27T06:15:07.722Z"
   },
   {
    "duration": 7,
    "start_time": "2023-04-27T06:18:01.591Z"
   },
   {
    "duration": 7,
    "start_time": "2023-04-27T06:18:07.272Z"
   },
   {
    "duration": 8,
    "start_time": "2023-04-27T06:18:49.041Z"
   },
   {
    "duration": 799,
    "start_time": "2023-04-27T06:38:11.954Z"
   },
   {
    "duration": 18,
    "start_time": "2023-04-27T06:38:12.755Z"
   },
   {
    "duration": 53,
    "start_time": "2023-04-27T06:38:12.775Z"
   },
   {
    "duration": 11,
    "start_time": "2023-04-27T06:38:12.829Z"
   },
   {
    "duration": 31,
    "start_time": "2023-04-27T06:38:12.842Z"
   },
   {
    "duration": 20,
    "start_time": "2023-04-27T06:38:12.875Z"
   },
   {
    "duration": 8,
    "start_time": "2023-04-27T06:38:12.897Z"
   },
   {
    "duration": 43,
    "start_time": "2023-04-27T06:38:12.907Z"
   },
   {
    "duration": 15,
    "start_time": "2023-04-27T06:38:12.951Z"
   },
   {
    "duration": 15,
    "start_time": "2023-04-27T06:38:12.968Z"
   },
   {
    "duration": 20,
    "start_time": "2023-04-27T06:38:12.985Z"
   },
   {
    "duration": 11,
    "start_time": "2023-04-27T06:38:13.006Z"
   },
   {
    "duration": 18,
    "start_time": "2023-04-27T06:38:13.019Z"
   },
   {
    "duration": 19,
    "start_time": "2023-04-27T06:38:13.040Z"
   },
   {
    "duration": 21,
    "start_time": "2023-04-27T06:38:13.061Z"
   },
   {
    "duration": 31,
    "start_time": "2023-04-27T06:38:13.084Z"
   },
   {
    "duration": 5,
    "start_time": "2023-04-27T06:38:13.117Z"
   },
   {
    "duration": 50,
    "start_time": "2023-04-27T06:38:13.124Z"
   },
   {
    "duration": 28,
    "start_time": "2023-04-27T06:38:13.176Z"
   },
   {
    "duration": 5,
    "start_time": "2023-04-27T06:38:13.205Z"
   },
   {
    "duration": 31,
    "start_time": "2023-04-27T06:38:13.212Z"
   },
   {
    "duration": 5,
    "start_time": "2023-04-27T06:39:31.641Z"
   },
   {
    "duration": 15,
    "start_time": "2023-04-27T06:40:44.839Z"
   },
   {
    "duration": 3,
    "start_time": "2023-04-27T06:47:47.639Z"
   },
   {
    "duration": 6,
    "start_time": "2023-04-27T06:48:07.753Z"
   },
   {
    "duration": 866,
    "start_time": "2023-04-27T06:49:10.936Z"
   },
   {
    "duration": 25,
    "start_time": "2023-04-27T06:49:11.804Z"
   },
   {
    "duration": 63,
    "start_time": "2023-04-27T06:49:11.831Z"
   },
   {
    "duration": 12,
    "start_time": "2023-04-27T06:49:11.896Z"
   },
   {
    "duration": 60,
    "start_time": "2023-04-27T06:49:11.911Z"
   },
   {
    "duration": 35,
    "start_time": "2023-04-27T06:49:11.972Z"
   },
   {
    "duration": 21,
    "start_time": "2023-04-27T06:49:12.009Z"
   },
   {
    "duration": 71,
    "start_time": "2023-04-27T06:49:12.032Z"
   },
   {
    "duration": 27,
    "start_time": "2023-04-27T06:49:12.105Z"
   },
   {
    "duration": 12,
    "start_time": "2023-04-27T06:49:12.134Z"
   },
   {
    "duration": 51,
    "start_time": "2023-04-27T06:49:12.148Z"
   },
   {
    "duration": 18,
    "start_time": "2023-04-27T06:49:12.201Z"
   },
   {
    "duration": 35,
    "start_time": "2023-04-27T06:49:12.220Z"
   },
   {
    "duration": 19,
    "start_time": "2023-04-27T06:49:12.257Z"
   },
   {
    "duration": 18,
    "start_time": "2023-04-27T06:49:12.277Z"
   },
   {
    "duration": 19,
    "start_time": "2023-04-27T06:49:12.297Z"
   },
   {
    "duration": 28,
    "start_time": "2023-04-27T06:49:12.318Z"
   },
   {
    "duration": 5,
    "start_time": "2023-04-27T06:49:12.348Z"
   },
   {
    "duration": 15,
    "start_time": "2023-04-27T06:49:12.355Z"
   },
   {
    "duration": 16,
    "start_time": "2023-04-27T06:53:47.083Z"
   },
   {
    "duration": 13,
    "start_time": "2023-04-27T06:54:01.411Z"
   },
   {
    "duration": 6,
    "start_time": "2023-04-27T07:02:23.442Z"
   },
   {
    "duration": 7,
    "start_time": "2023-04-27T07:12:18.841Z"
   },
   {
    "duration": 7,
    "start_time": "2023-04-27T07:13:40.962Z"
   },
   {
    "duration": 7,
    "start_time": "2023-04-27T07:14:13.751Z"
   },
   {
    "duration": 774,
    "start_time": "2023-04-27T07:14:45.657Z"
   },
   {
    "duration": 18,
    "start_time": "2023-04-27T07:14:46.433Z"
   },
   {
    "duration": 54,
    "start_time": "2023-04-27T07:14:46.453Z"
   },
   {
    "duration": 11,
    "start_time": "2023-04-27T07:14:46.509Z"
   },
   {
    "duration": 22,
    "start_time": "2023-04-27T07:14:46.522Z"
   },
   {
    "duration": 15,
    "start_time": "2023-04-27T07:14:46.546Z"
   },
   {
    "duration": 11,
    "start_time": "2023-04-27T07:14:46.563Z"
   },
   {
    "duration": 32,
    "start_time": "2023-04-27T07:14:46.576Z"
   },
   {
    "duration": 20,
    "start_time": "2023-04-27T07:14:46.610Z"
   },
   {
    "duration": 16,
    "start_time": "2023-04-27T07:14:46.631Z"
   },
   {
    "duration": 30,
    "start_time": "2023-04-27T07:14:46.649Z"
   },
   {
    "duration": 23,
    "start_time": "2023-04-27T07:14:46.681Z"
   },
   {
    "duration": 31,
    "start_time": "2023-04-27T07:14:46.706Z"
   },
   {
    "duration": 33,
    "start_time": "2023-04-27T07:14:46.740Z"
   },
   {
    "duration": 23,
    "start_time": "2023-04-27T07:14:46.775Z"
   },
   {
    "duration": 26,
    "start_time": "2023-04-27T07:14:46.800Z"
   },
   {
    "duration": 32,
    "start_time": "2023-04-27T07:14:46.828Z"
   },
   {
    "duration": 33,
    "start_time": "2023-04-27T07:14:46.861Z"
   },
   {
    "duration": 34,
    "start_time": "2023-04-27T07:14:46.895Z"
   },
   {
    "duration": 31,
    "start_time": "2023-04-27T07:14:46.931Z"
   },
   {
    "duration": 13,
    "start_time": "2023-04-27T07:20:00.353Z"
   },
   {
    "duration": 14,
    "start_time": "2023-04-27T07:21:08.039Z"
   },
   {
    "duration": 806,
    "start_time": "2023-04-27T07:22:50.128Z"
   },
   {
    "duration": 19,
    "start_time": "2023-04-27T07:22:50.936Z"
   },
   {
    "duration": 71,
    "start_time": "2023-04-27T07:22:50.957Z"
   },
   {
    "duration": 23,
    "start_time": "2023-04-27T07:22:51.029Z"
   },
   {
    "duration": 43,
    "start_time": "2023-04-27T07:22:51.054Z"
   },
   {
    "duration": 50,
    "start_time": "2023-04-27T07:22:51.099Z"
   },
   {
    "duration": 26,
    "start_time": "2023-04-27T07:22:51.152Z"
   },
   {
    "duration": 63,
    "start_time": "2023-04-27T07:22:51.180Z"
   },
   {
    "duration": 41,
    "start_time": "2023-04-27T07:22:51.245Z"
   },
   {
    "duration": 33,
    "start_time": "2023-04-27T07:22:51.288Z"
   },
   {
    "duration": 41,
    "start_time": "2023-04-27T07:22:51.322Z"
   },
   {
    "duration": 20,
    "start_time": "2023-04-27T07:22:51.364Z"
   },
   {
    "duration": 50,
    "start_time": "2023-04-27T07:22:51.386Z"
   },
   {
    "duration": 27,
    "start_time": "2023-04-27T07:22:51.439Z"
   },
   {
    "duration": 30,
    "start_time": "2023-04-27T07:22:51.468Z"
   },
   {
    "duration": 23,
    "start_time": "2023-04-27T07:22:51.500Z"
   },
   {
    "duration": 27,
    "start_time": "2023-04-27T07:22:51.525Z"
   },
   {
    "duration": 47,
    "start_time": "2023-04-27T07:22:51.554Z"
   },
   {
    "duration": 11,
    "start_time": "2023-04-27T07:22:51.603Z"
   },
   {
    "duration": 63,
    "start_time": "2023-04-27T07:22:51.616Z"
   },
   {
    "duration": 29,
    "start_time": "2023-04-27T07:33:50.161Z"
   },
   {
    "duration": 9,
    "start_time": "2023-04-27T07:34:05.712Z"
   },
   {
    "duration": 8,
    "start_time": "2023-04-27T07:34:45.272Z"
   },
   {
    "duration": 5,
    "start_time": "2023-04-27T07:35:43.560Z"
   },
   {
    "duration": 5,
    "start_time": "2023-04-27T07:35:53.481Z"
   },
   {
    "duration": 717,
    "start_time": "2023-04-27T07:36:02.938Z"
   },
   {
    "duration": 17,
    "start_time": "2023-04-27T07:36:03.657Z"
   },
   {
    "duration": 74,
    "start_time": "2023-04-27T07:36:03.676Z"
   },
   {
    "duration": 11,
    "start_time": "2023-04-27T07:36:03.752Z"
   },
   {
    "duration": 66,
    "start_time": "2023-04-27T07:36:03.765Z"
   },
   {
    "duration": 47,
    "start_time": "2023-04-27T07:36:03.833Z"
   },
   {
    "duration": 47,
    "start_time": "2023-04-27T07:36:03.882Z"
   },
   {
    "duration": 55,
    "start_time": "2023-04-27T07:36:03.931Z"
   },
   {
    "duration": 72,
    "start_time": "2023-04-27T07:36:03.988Z"
   },
   {
    "duration": 64,
    "start_time": "2023-04-27T07:36:04.062Z"
   },
   {
    "duration": 34,
    "start_time": "2023-04-27T07:36:04.127Z"
   },
   {
    "duration": 47,
    "start_time": "2023-04-27T07:36:04.163Z"
   },
   {
    "duration": 55,
    "start_time": "2023-04-27T07:36:04.212Z"
   },
   {
    "duration": 43,
    "start_time": "2023-04-27T07:36:04.270Z"
   },
   {
    "duration": 28,
    "start_time": "2023-04-27T07:36:04.315Z"
   },
   {
    "duration": 27,
    "start_time": "2023-04-27T07:36:04.345Z"
   },
   {
    "duration": 41,
    "start_time": "2023-04-27T07:36:04.374Z"
   },
   {
    "duration": 31,
    "start_time": "2023-04-27T07:36:04.417Z"
   },
   {
    "duration": 49,
    "start_time": "2023-04-27T07:36:04.449Z"
   },
   {
    "duration": 44,
    "start_time": "2023-04-27T07:36:04.500Z"
   },
   {
    "duration": 54,
    "start_time": "2023-04-27T07:36:04.546Z"
   },
   {
    "duration": 11,
    "start_time": "2023-04-27T07:47:26.043Z"
   },
   {
    "duration": 6,
    "start_time": "2023-04-27T07:48:40.113Z"
   },
   {
    "duration": 5,
    "start_time": "2023-04-27T07:49:07.042Z"
   },
   {
    "duration": 18,
    "start_time": "2023-04-27T07:55:32.326Z"
   },
   {
    "duration": 6,
    "start_time": "2023-04-27T07:57:31.754Z"
   },
   {
    "duration": 7,
    "start_time": "2023-04-27T07:58:12.275Z"
   },
   {
    "duration": 8,
    "start_time": "2023-04-27T08:03:55.085Z"
   },
   {
    "duration": 5,
    "start_time": "2023-04-27T08:06:06.773Z"
   },
   {
    "duration": 14,
    "start_time": "2023-04-27T08:06:41.163Z"
   },
   {
    "duration": 10,
    "start_time": "2023-04-27T08:07:14.196Z"
   },
   {
    "duration": 9,
    "start_time": "2023-04-27T08:09:27.284Z"
   },
   {
    "duration": 5,
    "start_time": "2023-04-27T08:11:05.283Z"
   },
   {
    "duration": 6,
    "start_time": "2023-04-27T08:11:17.763Z"
   },
   {
    "duration": 6,
    "start_time": "2023-04-27T08:12:21.162Z"
   },
   {
    "duration": 796,
    "start_time": "2023-04-27T08:12:49.889Z"
   },
   {
    "duration": 17,
    "start_time": "2023-04-27T08:12:50.687Z"
   },
   {
    "duration": 62,
    "start_time": "2023-04-27T08:12:50.706Z"
   },
   {
    "duration": 9,
    "start_time": "2023-04-27T08:12:50.770Z"
   },
   {
    "duration": 27,
    "start_time": "2023-04-27T08:12:50.782Z"
   },
   {
    "duration": 22,
    "start_time": "2023-04-27T08:12:50.811Z"
   },
   {
    "duration": 25,
    "start_time": "2023-04-27T08:12:50.835Z"
   },
   {
    "duration": 43,
    "start_time": "2023-04-27T08:12:50.861Z"
   },
   {
    "duration": 65,
    "start_time": "2023-04-27T08:12:50.906Z"
   },
   {
    "duration": 31,
    "start_time": "2023-04-27T08:12:50.972Z"
   },
   {
    "duration": 43,
    "start_time": "2023-04-27T08:12:51.005Z"
   },
   {
    "duration": 17,
    "start_time": "2023-04-27T08:12:51.050Z"
   },
   {
    "duration": 36,
    "start_time": "2023-04-27T08:12:51.070Z"
   },
   {
    "duration": 48,
    "start_time": "2023-04-27T08:12:51.109Z"
   },
   {
    "duration": 32,
    "start_time": "2023-04-27T08:12:51.159Z"
   },
   {
    "duration": 13,
    "start_time": "2023-04-27T08:12:51.193Z"
   },
   {
    "duration": 27,
    "start_time": "2023-04-27T08:12:51.208Z"
   },
   {
    "duration": 16,
    "start_time": "2023-04-27T08:12:51.237Z"
   },
   {
    "duration": 29,
    "start_time": "2023-04-27T08:12:51.254Z"
   },
   {
    "duration": 13,
    "start_time": "2023-04-27T08:12:51.284Z"
   },
   {
    "duration": 27,
    "start_time": "2023-04-27T08:12:51.299Z"
   },
   {
    "duration": 28,
    "start_time": "2023-04-27T08:12:51.328Z"
   },
   {
    "duration": 17,
    "start_time": "2023-04-27T08:12:51.358Z"
   },
   {
    "duration": 58,
    "start_time": "2023-04-27T08:12:51.377Z"
   },
   {
    "duration": 4,
    "start_time": "2023-04-27T08:12:51.436Z"
   },
   {
    "duration": 21,
    "start_time": "2023-04-27T08:12:51.442Z"
   },
   {
    "duration": 6,
    "start_time": "2023-04-27T08:26:36.205Z"
   },
   {
    "duration": 9,
    "start_time": "2023-04-27T08:27:15.523Z"
   },
   {
    "duration": 292,
    "start_time": "2023-04-27T08:28:59.127Z"
   },
   {
    "duration": 5,
    "start_time": "2023-04-27T08:30:29.933Z"
   },
   {
    "duration": 76,
    "start_time": "2023-04-27T08:33:33.524Z"
   },
   {
    "duration": 14,
    "start_time": "2023-04-27T08:36:18.075Z"
   },
   {
    "duration": 11,
    "start_time": "2023-04-27T08:36:36.683Z"
   },
   {
    "duration": 6,
    "start_time": "2023-04-27T08:43:02.486Z"
   },
   {
    "duration": 10,
    "start_time": "2023-04-27T08:43:09.883Z"
   },
   {
    "duration": 882,
    "start_time": "2023-04-27T08:44:24.134Z"
   },
   {
    "duration": 17,
    "start_time": "2023-04-27T08:44:25.018Z"
   },
   {
    "duration": 48,
    "start_time": "2023-04-27T08:44:25.037Z"
   },
   {
    "duration": 10,
    "start_time": "2023-04-27T08:44:25.089Z"
   },
   {
    "duration": 17,
    "start_time": "2023-04-27T08:44:25.102Z"
   },
   {
    "duration": 14,
    "start_time": "2023-04-27T08:44:25.120Z"
   },
   {
    "duration": 9,
    "start_time": "2023-04-27T08:44:25.135Z"
   },
   {
    "duration": 28,
    "start_time": "2023-04-27T08:44:25.145Z"
   },
   {
    "duration": 19,
    "start_time": "2023-04-27T08:44:25.175Z"
   },
   {
    "duration": 22,
    "start_time": "2023-04-27T08:44:25.197Z"
   },
   {
    "duration": 19,
    "start_time": "2023-04-27T08:44:25.221Z"
   },
   {
    "duration": 6,
    "start_time": "2023-04-27T08:44:25.242Z"
   },
   {
    "duration": 27,
    "start_time": "2023-04-27T08:44:25.251Z"
   },
   {
    "duration": 5,
    "start_time": "2023-04-27T08:44:25.280Z"
   },
   {
    "duration": 40,
    "start_time": "2023-04-27T08:44:25.286Z"
   },
   {
    "duration": 7,
    "start_time": "2023-04-27T08:44:25.328Z"
   },
   {
    "duration": 11,
    "start_time": "2023-04-27T08:44:25.337Z"
   },
   {
    "duration": 12,
    "start_time": "2023-04-27T08:44:25.350Z"
   },
   {
    "duration": 20,
    "start_time": "2023-04-27T08:44:25.364Z"
   },
   {
    "duration": 7,
    "start_time": "2023-04-27T08:44:25.386Z"
   },
   {
    "duration": 26,
    "start_time": "2023-04-27T08:44:25.394Z"
   },
   {
    "duration": 5,
    "start_time": "2023-04-27T08:44:25.421Z"
   },
   {
    "duration": 28,
    "start_time": "2023-04-27T08:44:25.428Z"
   },
   {
    "duration": 29,
    "start_time": "2023-04-27T08:44:25.458Z"
   },
   {
    "duration": 5,
    "start_time": "2023-04-27T08:44:25.488Z"
   },
   {
    "duration": 29,
    "start_time": "2023-04-27T08:44:25.495Z"
   },
   {
    "duration": 4,
    "start_time": "2023-04-27T08:44:25.526Z"
   },
   {
    "duration": 9,
    "start_time": "2023-04-27T08:44:25.533Z"
   },
   {
    "duration": 16,
    "start_time": "2023-04-27T08:44:25.543Z"
   },
   {
    "duration": 287,
    "start_time": "2023-04-27T08:44:25.561Z"
   },
   {
    "duration": 5,
    "start_time": "2023-04-27T08:46:45.204Z"
   },
   {
    "duration": 10,
    "start_time": "2023-04-27T08:46:47.754Z"
   },
   {
    "duration": 10,
    "start_time": "2023-04-27T08:54:52.050Z"
   },
   {
    "duration": 81,
    "start_time": "2023-04-27T08:57:27.835Z"
   },
   {
    "duration": 1086,
    "start_time": "2023-04-27T08:58:07.075Z"
   },
   {
    "duration": 28,
    "start_time": "2023-04-27T08:58:08.163Z"
   },
   {
    "duration": 66,
    "start_time": "2023-04-27T08:58:08.193Z"
   },
   {
    "duration": 14,
    "start_time": "2023-04-27T08:58:08.262Z"
   },
   {
    "duration": 80,
    "start_time": "2023-04-27T08:58:08.278Z"
   },
   {
    "duration": 33,
    "start_time": "2023-04-27T08:58:08.360Z"
   },
   {
    "duration": 31,
    "start_time": "2023-04-27T08:58:08.395Z"
   },
   {
    "duration": 65,
    "start_time": "2023-04-27T08:58:08.429Z"
   },
   {
    "duration": 19,
    "start_time": "2023-04-27T08:58:08.496Z"
   },
   {
    "duration": 30,
    "start_time": "2023-04-27T08:58:08.518Z"
   },
   {
    "duration": 39,
    "start_time": "2023-04-27T08:58:08.551Z"
   },
   {
    "duration": 25,
    "start_time": "2023-04-27T08:58:08.592Z"
   },
   {
    "duration": 41,
    "start_time": "2023-04-27T08:58:08.618Z"
   },
   {
    "duration": 46,
    "start_time": "2023-04-27T08:58:08.661Z"
   },
   {
    "duration": 50,
    "start_time": "2023-04-27T08:58:08.709Z"
   },
   {
    "duration": 40,
    "start_time": "2023-04-27T08:58:08.761Z"
   },
   {
    "duration": 39,
    "start_time": "2023-04-27T08:58:08.803Z"
   },
   {
    "duration": 40,
    "start_time": "2023-04-27T08:58:08.844Z"
   },
   {
    "duration": 67,
    "start_time": "2023-04-27T08:58:08.887Z"
   },
   {
    "duration": 146,
    "start_time": "2023-04-27T08:58:08.957Z"
   },
   {
    "duration": 0,
    "start_time": "2023-04-27T08:58:09.106Z"
   },
   {
    "duration": 0,
    "start_time": "2023-04-27T08:58:09.107Z"
   },
   {
    "duration": 0,
    "start_time": "2023-04-27T08:58:09.109Z"
   },
   {
    "duration": 0,
    "start_time": "2023-04-27T08:58:09.111Z"
   },
   {
    "duration": 1,
    "start_time": "2023-04-27T08:58:09.112Z"
   },
   {
    "duration": 0,
    "start_time": "2023-04-27T08:58:09.113Z"
   },
   {
    "duration": 0,
    "start_time": "2023-04-27T08:58:09.118Z"
   },
   {
    "duration": 0,
    "start_time": "2023-04-27T08:58:09.119Z"
   },
   {
    "duration": 0,
    "start_time": "2023-04-27T08:58:09.120Z"
   },
   {
    "duration": 0,
    "start_time": "2023-04-27T08:58:09.122Z"
   },
   {
    "duration": 8,
    "start_time": "2023-04-27T09:03:01.753Z"
   },
   {
    "duration": 8,
    "start_time": "2023-04-27T09:03:34.003Z"
   },
   {
    "duration": 753,
    "start_time": "2023-04-27T09:04:05.434Z"
   },
   {
    "duration": 17,
    "start_time": "2023-04-27T09:04:06.189Z"
   },
   {
    "duration": 52,
    "start_time": "2023-04-27T09:04:06.217Z"
   },
   {
    "duration": 11,
    "start_time": "2023-04-27T09:04:06.271Z"
   },
   {
    "duration": 36,
    "start_time": "2023-04-27T09:04:06.285Z"
   },
   {
    "duration": 41,
    "start_time": "2023-04-27T09:04:06.322Z"
   },
   {
    "duration": 61,
    "start_time": "2023-04-27T09:04:06.365Z"
   },
   {
    "duration": 63,
    "start_time": "2023-04-27T09:04:06.427Z"
   },
   {
    "duration": 47,
    "start_time": "2023-04-27T09:04:06.492Z"
   },
   {
    "duration": 48,
    "start_time": "2023-04-27T09:04:06.541Z"
   },
   {
    "duration": 42,
    "start_time": "2023-04-27T09:04:06.591Z"
   },
   {
    "duration": 21,
    "start_time": "2023-04-27T09:04:06.635Z"
   },
   {
    "duration": 25,
    "start_time": "2023-04-27T09:04:06.658Z"
   },
   {
    "duration": 17,
    "start_time": "2023-04-27T09:04:06.686Z"
   },
   {
    "duration": 26,
    "start_time": "2023-04-27T09:04:06.705Z"
   },
   {
    "duration": 18,
    "start_time": "2023-04-27T09:04:06.733Z"
   },
   {
    "duration": 25,
    "start_time": "2023-04-27T09:04:06.753Z"
   },
   {
    "duration": 38,
    "start_time": "2023-04-27T09:04:06.780Z"
   },
   {
    "duration": 38,
    "start_time": "2023-04-27T09:04:06.820Z"
   },
   {
    "duration": 83,
    "start_time": "2023-04-27T09:04:06.860Z"
   },
   {
    "duration": 0,
    "start_time": "2023-04-27T09:04:06.944Z"
   },
   {
    "duration": 0,
    "start_time": "2023-04-27T09:04:06.946Z"
   },
   {
    "duration": 0,
    "start_time": "2023-04-27T09:04:06.947Z"
   },
   {
    "duration": 1,
    "start_time": "2023-04-27T09:04:06.948Z"
   },
   {
    "duration": 0,
    "start_time": "2023-04-27T09:04:06.949Z"
   },
   {
    "duration": 0,
    "start_time": "2023-04-27T09:04:06.951Z"
   },
   {
    "duration": 0,
    "start_time": "2023-04-27T09:04:06.953Z"
   },
   {
    "duration": 0,
    "start_time": "2023-04-27T09:04:06.954Z"
   },
   {
    "duration": 0,
    "start_time": "2023-04-27T09:04:06.957Z"
   },
   {
    "duration": 9,
    "start_time": "2023-04-27T09:04:58.836Z"
   },
   {
    "duration": 902,
    "start_time": "2023-04-27T09:05:13.955Z"
   },
   {
    "duration": 20,
    "start_time": "2023-04-27T09:05:14.859Z"
   },
   {
    "duration": 49,
    "start_time": "2023-04-27T09:05:14.880Z"
   },
   {
    "duration": 11,
    "start_time": "2023-04-27T09:05:14.931Z"
   },
   {
    "duration": 28,
    "start_time": "2023-04-27T09:05:14.945Z"
   },
   {
    "duration": 13,
    "start_time": "2023-04-27T09:05:14.975Z"
   },
   {
    "duration": 49,
    "start_time": "2023-04-27T09:05:14.990Z"
   },
   {
    "duration": 47,
    "start_time": "2023-04-27T09:05:15.041Z"
   },
   {
    "duration": 15,
    "start_time": "2023-04-27T09:05:15.090Z"
   },
   {
    "duration": 50,
    "start_time": "2023-04-27T09:05:15.107Z"
   },
   {
    "duration": 19,
    "start_time": "2023-04-27T09:05:15.159Z"
   },
   {
    "duration": 20,
    "start_time": "2023-04-27T09:05:15.179Z"
   },
   {
    "duration": 25,
    "start_time": "2023-04-27T09:05:15.201Z"
   },
   {
    "duration": 6,
    "start_time": "2023-04-27T09:05:15.229Z"
   },
   {
    "duration": 17,
    "start_time": "2023-04-27T09:05:15.236Z"
   },
   {
    "duration": 6,
    "start_time": "2023-04-27T09:05:15.255Z"
   },
   {
    "duration": 13,
    "start_time": "2023-04-27T09:05:15.263Z"
   },
   {
    "duration": 13,
    "start_time": "2023-04-27T09:05:15.277Z"
   },
   {
    "duration": 30,
    "start_time": "2023-04-27T09:05:15.291Z"
   },
   {
    "duration": 93,
    "start_time": "2023-04-27T09:05:15.323Z"
   },
   {
    "duration": 0,
    "start_time": "2023-04-27T09:05:15.417Z"
   },
   {
    "duration": 0,
    "start_time": "2023-04-27T09:05:15.419Z"
   },
   {
    "duration": 0,
    "start_time": "2023-04-27T09:05:15.420Z"
   },
   {
    "duration": 0,
    "start_time": "2023-04-27T09:05:15.421Z"
   },
   {
    "duration": 0,
    "start_time": "2023-04-27T09:05:15.422Z"
   },
   {
    "duration": 0,
    "start_time": "2023-04-27T09:05:15.424Z"
   },
   {
    "duration": 0,
    "start_time": "2023-04-27T09:05:15.425Z"
   },
   {
    "duration": 0,
    "start_time": "2023-04-27T09:05:15.425Z"
   },
   {
    "duration": 0,
    "start_time": "2023-04-27T09:05:15.427Z"
   },
   {
    "duration": 9,
    "start_time": "2023-04-27T09:06:08.890Z"
   },
   {
    "duration": 864,
    "start_time": "2023-04-27T09:06:40.235Z"
   },
   {
    "duration": 21,
    "start_time": "2023-04-27T09:06:41.102Z"
   },
   {
    "duration": 67,
    "start_time": "2023-04-27T09:06:41.125Z"
   },
   {
    "duration": 13,
    "start_time": "2023-04-27T09:06:41.194Z"
   },
   {
    "duration": 34,
    "start_time": "2023-04-27T09:06:41.209Z"
   },
   {
    "duration": 31,
    "start_time": "2023-04-27T09:06:41.245Z"
   },
   {
    "duration": 17,
    "start_time": "2023-04-27T09:06:41.278Z"
   },
   {
    "duration": 55,
    "start_time": "2023-04-27T09:06:41.297Z"
   },
   {
    "duration": 19,
    "start_time": "2023-04-27T09:06:41.355Z"
   },
   {
    "duration": 6,
    "start_time": "2023-04-27T09:06:41.376Z"
   },
   {
    "duration": 26,
    "start_time": "2023-04-27T09:06:41.383Z"
   },
   {
    "duration": 25,
    "start_time": "2023-04-27T09:06:41.411Z"
   },
   {
    "duration": 29,
    "start_time": "2023-04-27T09:06:41.438Z"
   },
   {
    "duration": 5,
    "start_time": "2023-04-27T09:06:41.470Z"
   },
   {
    "duration": 22,
    "start_time": "2023-04-27T09:06:41.477Z"
   },
   {
    "duration": 14,
    "start_time": "2023-04-27T09:06:41.500Z"
   },
   {
    "duration": 19,
    "start_time": "2023-04-27T09:06:41.516Z"
   },
   {
    "duration": 17,
    "start_time": "2023-04-27T09:06:41.536Z"
   },
   {
    "duration": 19,
    "start_time": "2023-04-27T09:06:41.555Z"
   },
   {
    "duration": 80,
    "start_time": "2023-04-27T09:06:41.576Z"
   },
   {
    "duration": 0,
    "start_time": "2023-04-27T09:06:41.659Z"
   },
   {
    "duration": 0,
    "start_time": "2023-04-27T09:06:41.661Z"
   },
   {
    "duration": 0,
    "start_time": "2023-04-27T09:06:41.662Z"
   },
   {
    "duration": 0,
    "start_time": "2023-04-27T09:06:41.664Z"
   },
   {
    "duration": 0,
    "start_time": "2023-04-27T09:06:41.665Z"
   },
   {
    "duration": 0,
    "start_time": "2023-04-27T09:06:41.667Z"
   },
   {
    "duration": 0,
    "start_time": "2023-04-27T09:06:41.669Z"
   },
   {
    "duration": 0,
    "start_time": "2023-04-27T09:06:41.670Z"
   },
   {
    "duration": 0,
    "start_time": "2023-04-27T09:06:41.672Z"
   },
   {
    "duration": 7,
    "start_time": "2023-04-27T09:08:16.308Z"
   },
   {
    "duration": 816,
    "start_time": "2023-04-27T09:16:07.922Z"
   },
   {
    "duration": 26,
    "start_time": "2023-04-27T09:16:08.740Z"
   },
   {
    "duration": 46,
    "start_time": "2023-04-27T09:16:08.768Z"
   },
   {
    "duration": 11,
    "start_time": "2023-04-27T09:16:08.817Z"
   },
   {
    "duration": 39,
    "start_time": "2023-04-27T09:16:08.830Z"
   },
   {
    "duration": 55,
    "start_time": "2023-04-27T09:16:08.872Z"
   },
   {
    "duration": 42,
    "start_time": "2023-04-27T09:16:08.929Z"
   },
   {
    "duration": 56,
    "start_time": "2023-04-27T09:16:08.973Z"
   },
   {
    "duration": 24,
    "start_time": "2023-04-27T09:16:09.032Z"
   },
   {
    "duration": 8,
    "start_time": "2023-04-27T09:16:09.059Z"
   },
   {
    "duration": 38,
    "start_time": "2023-04-27T09:16:09.069Z"
   },
   {
    "duration": 6,
    "start_time": "2023-04-27T09:16:09.118Z"
   },
   {
    "duration": 31,
    "start_time": "2023-04-27T09:16:09.126Z"
   },
   {
    "duration": 6,
    "start_time": "2023-04-27T09:16:09.159Z"
   },
   {
    "duration": 17,
    "start_time": "2023-04-27T09:16:09.167Z"
   },
   {
    "duration": 33,
    "start_time": "2023-04-27T09:16:09.186Z"
   },
   {
    "duration": 27,
    "start_time": "2023-04-27T09:16:09.221Z"
   },
   {
    "duration": 10,
    "start_time": "2023-04-27T09:16:09.250Z"
   },
   {
    "duration": 15,
    "start_time": "2023-04-27T09:16:09.262Z"
   },
   {
    "duration": 84,
    "start_time": "2023-04-27T09:16:09.279Z"
   },
   {
    "duration": 0,
    "start_time": "2023-04-27T09:16:09.365Z"
   },
   {
    "duration": 0,
    "start_time": "2023-04-27T09:16:09.367Z"
   },
   {
    "duration": 0,
    "start_time": "2023-04-27T09:16:09.368Z"
   },
   {
    "duration": 0,
    "start_time": "2023-04-27T09:16:09.370Z"
   },
   {
    "duration": 0,
    "start_time": "2023-04-27T09:16:09.371Z"
   },
   {
    "duration": 0,
    "start_time": "2023-04-27T09:16:09.372Z"
   },
   {
    "duration": 0,
    "start_time": "2023-04-27T09:16:09.373Z"
   },
   {
    "duration": 0,
    "start_time": "2023-04-27T09:16:09.374Z"
   },
   {
    "duration": 0,
    "start_time": "2023-04-27T09:16:09.376Z"
   },
   {
    "duration": 780,
    "start_time": "2023-04-27T09:17:43.281Z"
   },
   {
    "duration": 17,
    "start_time": "2023-04-27T09:17:44.063Z"
   },
   {
    "duration": 53,
    "start_time": "2023-04-27T09:17:44.082Z"
   },
   {
    "duration": 10,
    "start_time": "2023-04-27T09:17:44.137Z"
   },
   {
    "duration": 34,
    "start_time": "2023-04-27T09:17:44.149Z"
   },
   {
    "duration": 25,
    "start_time": "2023-04-27T09:17:44.185Z"
   },
   {
    "duration": 10,
    "start_time": "2023-04-27T09:17:44.211Z"
   },
   {
    "duration": 49,
    "start_time": "2023-04-27T09:17:44.223Z"
   },
   {
    "duration": 15,
    "start_time": "2023-04-27T09:17:44.274Z"
   },
   {
    "duration": 5,
    "start_time": "2023-04-27T09:17:44.291Z"
   },
   {
    "duration": 30,
    "start_time": "2023-04-27T09:17:44.298Z"
   },
   {
    "duration": 17,
    "start_time": "2023-04-27T09:17:44.330Z"
   },
   {
    "duration": 17,
    "start_time": "2023-04-27T09:17:44.349Z"
   },
   {
    "duration": 24,
    "start_time": "2023-04-27T09:17:44.369Z"
   },
   {
    "duration": 19,
    "start_time": "2023-04-27T09:17:44.395Z"
   },
   {
    "duration": 14,
    "start_time": "2023-04-27T09:17:44.416Z"
   },
   {
    "duration": 23,
    "start_time": "2023-04-27T09:17:44.431Z"
   },
   {
    "duration": 24,
    "start_time": "2023-04-27T09:17:44.456Z"
   },
   {
    "duration": 27,
    "start_time": "2023-04-27T09:17:44.482Z"
   },
   {
    "duration": 73,
    "start_time": "2023-04-27T09:17:44.511Z"
   },
   {
    "duration": 0,
    "start_time": "2023-04-27T09:17:44.586Z"
   },
   {
    "duration": 0,
    "start_time": "2023-04-27T09:17:44.587Z"
   },
   {
    "duration": 0,
    "start_time": "2023-04-27T09:17:44.589Z"
   },
   {
    "duration": 0,
    "start_time": "2023-04-27T09:17:44.590Z"
   },
   {
    "duration": 0,
    "start_time": "2023-04-27T09:17:44.591Z"
   },
   {
    "duration": 0,
    "start_time": "2023-04-27T09:17:44.592Z"
   },
   {
    "duration": 0,
    "start_time": "2023-04-27T09:17:44.594Z"
   },
   {
    "duration": 0,
    "start_time": "2023-04-27T09:17:44.595Z"
   },
   {
    "duration": 0,
    "start_time": "2023-04-27T09:17:44.596Z"
   },
   {
    "duration": 3,
    "start_time": "2023-04-27T09:18:00.075Z"
   },
   {
    "duration": 8,
    "start_time": "2023-04-27T09:18:01.201Z"
   },
   {
    "duration": 8,
    "start_time": "2023-04-27T09:18:08.410Z"
   },
   {
    "duration": 808,
    "start_time": "2023-04-27T09:18:15.074Z"
   },
   {
    "duration": 20,
    "start_time": "2023-04-27T09:18:15.884Z"
   },
   {
    "duration": 46,
    "start_time": "2023-04-27T09:18:15.917Z"
   },
   {
    "duration": 12,
    "start_time": "2023-04-27T09:18:15.965Z"
   },
   {
    "duration": 27,
    "start_time": "2023-04-27T09:18:15.979Z"
   },
   {
    "duration": 20,
    "start_time": "2023-04-27T09:18:16.007Z"
   },
   {
    "duration": 8,
    "start_time": "2023-04-27T09:18:16.030Z"
   },
   {
    "duration": 38,
    "start_time": "2023-04-27T09:18:16.040Z"
   },
   {
    "duration": 22,
    "start_time": "2023-04-27T09:18:16.080Z"
   },
   {
    "duration": 14,
    "start_time": "2023-04-27T09:18:16.104Z"
   },
   {
    "duration": 24,
    "start_time": "2023-04-27T09:18:16.120Z"
   },
   {
    "duration": 9,
    "start_time": "2023-04-27T09:18:16.146Z"
   },
   {
    "duration": 33,
    "start_time": "2023-04-27T09:18:16.157Z"
   },
   {
    "duration": 23,
    "start_time": "2023-04-27T09:18:16.193Z"
   },
   {
    "duration": 23,
    "start_time": "2023-04-27T09:18:16.219Z"
   },
   {
    "duration": 18,
    "start_time": "2023-04-27T09:18:16.244Z"
   },
   {
    "duration": 27,
    "start_time": "2023-04-27T09:18:16.264Z"
   },
   {
    "duration": 9,
    "start_time": "2023-04-27T09:18:16.293Z"
   },
   {
    "duration": 23,
    "start_time": "2023-04-27T09:18:16.304Z"
   },
   {
    "duration": 77,
    "start_time": "2023-04-27T09:18:16.329Z"
   },
   {
    "duration": 0,
    "start_time": "2023-04-27T09:18:16.408Z"
   },
   {
    "duration": 0,
    "start_time": "2023-04-27T09:18:16.417Z"
   },
   {
    "duration": 0,
    "start_time": "2023-04-27T09:18:16.418Z"
   },
   {
    "duration": 0,
    "start_time": "2023-04-27T09:18:16.420Z"
   },
   {
    "duration": 0,
    "start_time": "2023-04-27T09:18:16.421Z"
   },
   {
    "duration": 0,
    "start_time": "2023-04-27T09:18:16.423Z"
   },
   {
    "duration": 0,
    "start_time": "2023-04-27T09:18:16.425Z"
   },
   {
    "duration": 0,
    "start_time": "2023-04-27T09:18:16.427Z"
   },
   {
    "duration": 0,
    "start_time": "2023-04-27T09:18:16.428Z"
   },
   {
    "duration": 101,
    "start_time": "2023-04-27T09:27:31.112Z"
   },
   {
    "duration": 55,
    "start_time": "2023-04-27T09:27:53.456Z"
   },
   {
    "duration": 740,
    "start_time": "2023-04-27T09:28:29.456Z"
   },
   {
    "duration": 24,
    "start_time": "2023-04-27T09:28:30.198Z"
   },
   {
    "duration": 54,
    "start_time": "2023-04-27T09:28:30.224Z"
   },
   {
    "duration": 11,
    "start_time": "2023-04-27T09:28:30.280Z"
   },
   {
    "duration": 37,
    "start_time": "2023-04-27T09:28:30.294Z"
   },
   {
    "duration": 37,
    "start_time": "2023-04-27T09:28:30.333Z"
   },
   {
    "duration": 39,
    "start_time": "2023-04-27T09:28:30.372Z"
   },
   {
    "duration": 55,
    "start_time": "2023-04-27T09:28:30.414Z"
   },
   {
    "duration": 32,
    "start_time": "2023-04-27T09:28:30.472Z"
   },
   {
    "duration": 48,
    "start_time": "2023-04-27T09:28:30.506Z"
   },
   {
    "duration": 61,
    "start_time": "2023-04-27T09:28:30.556Z"
   },
   {
    "duration": 35,
    "start_time": "2023-04-27T09:28:30.619Z"
   },
   {
    "duration": 41,
    "start_time": "2023-04-27T09:28:30.656Z"
   },
   {
    "duration": 31,
    "start_time": "2023-04-27T09:28:30.700Z"
   },
   {
    "duration": 44,
    "start_time": "2023-04-27T09:28:30.732Z"
   },
   {
    "duration": 41,
    "start_time": "2023-04-27T09:28:30.777Z"
   },
   {
    "duration": 48,
    "start_time": "2023-04-27T09:28:30.819Z"
   },
   {
    "duration": 35,
    "start_time": "2023-04-27T09:28:30.869Z"
   },
   {
    "duration": 41,
    "start_time": "2023-04-27T09:28:30.906Z"
   },
   {
    "duration": 86,
    "start_time": "2023-04-27T09:28:30.949Z"
   },
   {
    "duration": 0,
    "start_time": "2023-04-27T09:28:31.037Z"
   },
   {
    "duration": 1,
    "start_time": "2023-04-27T09:28:31.038Z"
   },
   {
    "duration": 0,
    "start_time": "2023-04-27T09:28:31.040Z"
   },
   {
    "duration": 0,
    "start_time": "2023-04-27T09:28:31.041Z"
   },
   {
    "duration": 0,
    "start_time": "2023-04-27T09:28:31.042Z"
   },
   {
    "duration": 0,
    "start_time": "2023-04-27T09:28:31.044Z"
   },
   {
    "duration": 0,
    "start_time": "2023-04-27T09:28:31.045Z"
   },
   {
    "duration": 0,
    "start_time": "2023-04-27T09:28:31.046Z"
   },
   {
    "duration": 0,
    "start_time": "2023-04-27T09:28:31.047Z"
   },
   {
    "duration": 8,
    "start_time": "2023-04-27T09:32:55.889Z"
   },
   {
    "duration": 785,
    "start_time": "2023-04-27T09:33:07.131Z"
   },
   {
    "duration": 20,
    "start_time": "2023-04-27T09:33:07.918Z"
   },
   {
    "duration": 70,
    "start_time": "2023-04-27T09:33:07.940Z"
   },
   {
    "duration": 11,
    "start_time": "2023-04-27T09:33:08.011Z"
   },
   {
    "duration": 36,
    "start_time": "2023-04-27T09:33:08.024Z"
   },
   {
    "duration": 22,
    "start_time": "2023-04-27T09:33:08.061Z"
   },
   {
    "duration": 19,
    "start_time": "2023-04-27T09:33:08.084Z"
   },
   {
    "duration": 41,
    "start_time": "2023-04-27T09:33:08.105Z"
   },
   {
    "duration": 31,
    "start_time": "2023-04-27T09:33:08.148Z"
   },
   {
    "duration": 18,
    "start_time": "2023-04-27T09:33:08.180Z"
   },
   {
    "duration": 23,
    "start_time": "2023-04-27T09:33:08.199Z"
   },
   {
    "duration": 18,
    "start_time": "2023-04-27T09:33:08.224Z"
   },
   {
    "duration": 24,
    "start_time": "2023-04-27T09:33:08.244Z"
   },
   {
    "duration": 6,
    "start_time": "2023-04-27T09:33:08.271Z"
   },
   {
    "duration": 28,
    "start_time": "2023-04-27T09:33:08.278Z"
   },
   {
    "duration": 7,
    "start_time": "2023-04-27T09:33:08.308Z"
   },
   {
    "duration": 16,
    "start_time": "2023-04-27T09:33:08.317Z"
   },
   {
    "duration": 11,
    "start_time": "2023-04-27T09:33:08.335Z"
   },
   {
    "duration": 21,
    "start_time": "2023-04-27T09:33:08.348Z"
   },
   {
    "duration": 22,
    "start_time": "2023-04-27T09:33:08.371Z"
   },
   {
    "duration": 13,
    "start_time": "2023-04-27T09:33:08.395Z"
   },
   {
    "duration": 38,
    "start_time": "2023-04-27T09:33:08.410Z"
   },
   {
    "duration": 39,
    "start_time": "2023-04-27T09:33:08.450Z"
   },
   {
    "duration": 11,
    "start_time": "2023-04-27T09:33:08.491Z"
   },
   {
    "duration": 14,
    "start_time": "2023-04-27T09:33:08.504Z"
   },
   {
    "duration": 14,
    "start_time": "2023-04-27T09:33:08.520Z"
   },
   {
    "duration": 10,
    "start_time": "2023-04-27T09:33:08.536Z"
   },
   {
    "duration": 17,
    "start_time": "2023-04-27T09:33:08.548Z"
   },
   {
    "duration": 256,
    "start_time": "2023-04-27T09:33:08.567Z"
   },
   {
    "duration": 10,
    "start_time": "2023-04-27T09:35:30.513Z"
   },
   {
    "duration": 79,
    "start_time": "2023-04-27T09:35:32.249Z"
   },
   {
    "duration": 744,
    "start_time": "2023-04-27T09:36:30.754Z"
   },
   {
    "duration": 25,
    "start_time": "2023-04-27T09:36:31.500Z"
   },
   {
    "duration": 45,
    "start_time": "2023-04-27T09:36:31.526Z"
   },
   {
    "duration": 10,
    "start_time": "2023-04-27T09:36:31.574Z"
   },
   {
    "duration": 19,
    "start_time": "2023-04-27T09:36:31.585Z"
   },
   {
    "duration": 29,
    "start_time": "2023-04-27T09:36:31.605Z"
   },
   {
    "duration": 18,
    "start_time": "2023-04-27T09:36:31.636Z"
   },
   {
    "duration": 31,
    "start_time": "2023-04-27T09:36:31.656Z"
   },
   {
    "duration": 15,
    "start_time": "2023-04-27T09:36:31.689Z"
   },
   {
    "duration": 7,
    "start_time": "2023-04-27T09:36:31.707Z"
   },
   {
    "duration": 19,
    "start_time": "2023-04-27T09:36:31.715Z"
   },
   {
    "duration": 5,
    "start_time": "2023-04-27T09:36:31.736Z"
   },
   {
    "duration": 42,
    "start_time": "2023-04-27T09:36:31.742Z"
   },
   {
    "duration": 10,
    "start_time": "2023-04-27T09:36:31.786Z"
   },
   {
    "duration": 49,
    "start_time": "2023-04-27T09:36:31.798Z"
   },
   {
    "duration": 16,
    "start_time": "2023-04-27T09:36:31.848Z"
   },
   {
    "duration": 22,
    "start_time": "2023-04-27T09:36:31.866Z"
   },
   {
    "duration": 10,
    "start_time": "2023-04-27T09:36:31.890Z"
   },
   {
    "duration": 23,
    "start_time": "2023-04-27T09:36:31.903Z"
   },
   {
    "duration": 6,
    "start_time": "2023-04-27T09:36:31.928Z"
   },
   {
    "duration": 26,
    "start_time": "2023-04-27T09:36:31.936Z"
   },
   {
    "duration": 29,
    "start_time": "2023-04-27T09:36:31.965Z"
   },
   {
    "duration": 26,
    "start_time": "2023-04-27T09:36:31.996Z"
   },
   {
    "duration": 5,
    "start_time": "2023-04-27T09:36:32.023Z"
   },
   {
    "duration": 24,
    "start_time": "2023-04-27T09:36:32.030Z"
   },
   {
    "duration": 16,
    "start_time": "2023-04-27T09:36:32.055Z"
   },
   {
    "duration": 22,
    "start_time": "2023-04-27T09:36:32.072Z"
   },
   {
    "duration": 29,
    "start_time": "2023-04-27T09:36:32.097Z"
   },
   {
    "duration": 263,
    "start_time": "2023-04-27T09:36:32.128Z"
   },
   {
    "duration": 1616,
    "start_time": "2023-04-27T09:46:14.967Z"
   },
   {
    "duration": 307,
    "start_time": "2023-04-27T09:49:37.354Z"
   },
   {
    "duration": 1697,
    "start_time": "2023-04-27T09:50:26.995Z"
   },
   {
    "duration": 7,
    "start_time": "2023-04-27T09:52:13.683Z"
   },
   {
    "duration": 13,
    "start_time": "2023-04-27T09:52:36.513Z"
   },
   {
    "duration": 422,
    "start_time": "2023-04-27T09:57:11.611Z"
   },
   {
    "duration": 5,
    "start_time": "2023-04-27T10:15:30.354Z"
   },
   {
    "duration": 6,
    "start_time": "2023-04-27T10:20:01.892Z"
   },
   {
    "duration": 7,
    "start_time": "2023-04-27T10:20:13.873Z"
   },
   {
    "duration": 265,
    "start_time": "2023-04-27T10:20:23.755Z"
   },
   {
    "duration": 6,
    "start_time": "2023-04-27T10:20:33.035Z"
   },
   {
    "duration": 249,
    "start_time": "2023-04-27T10:21:15.289Z"
   },
   {
    "duration": 782,
    "start_time": "2023-04-27T10:22:17.907Z"
   },
   {
    "duration": 17,
    "start_time": "2023-04-27T10:22:18.691Z"
   },
   {
    "duration": 44,
    "start_time": "2023-04-27T10:22:18.718Z"
   },
   {
    "duration": 12,
    "start_time": "2023-04-27T10:22:18.763Z"
   },
   {
    "duration": 17,
    "start_time": "2023-04-27T10:22:18.777Z"
   },
   {
    "duration": 14,
    "start_time": "2023-04-27T10:22:18.796Z"
   },
   {
    "duration": 8,
    "start_time": "2023-04-27T10:22:18.812Z"
   },
   {
    "duration": 30,
    "start_time": "2023-04-27T10:22:18.822Z"
   },
   {
    "duration": 16,
    "start_time": "2023-04-27T10:22:18.854Z"
   },
   {
    "duration": 10,
    "start_time": "2023-04-27T10:22:18.871Z"
   },
   {
    "duration": 13,
    "start_time": "2023-04-27T10:22:18.883Z"
   },
   {
    "duration": 28,
    "start_time": "2023-04-27T10:22:18.899Z"
   },
   {
    "duration": 29,
    "start_time": "2023-04-27T10:22:18.929Z"
   },
   {
    "duration": 5,
    "start_time": "2023-04-27T10:22:18.962Z"
   },
   {
    "duration": 19,
    "start_time": "2023-04-27T10:22:18.969Z"
   },
   {
    "duration": 8,
    "start_time": "2023-04-27T10:22:18.991Z"
   },
   {
    "duration": 24,
    "start_time": "2023-04-27T10:22:19.001Z"
   },
   {
    "duration": 28,
    "start_time": "2023-04-27T10:22:19.027Z"
   },
   {
    "duration": 24,
    "start_time": "2023-04-27T10:22:19.057Z"
   },
   {
    "duration": 5,
    "start_time": "2023-04-27T10:22:19.084Z"
   },
   {
    "duration": 7,
    "start_time": "2023-04-27T10:22:19.091Z"
   },
   {
    "duration": 18,
    "start_time": "2023-04-27T10:22:19.100Z"
   },
   {
    "duration": 30,
    "start_time": "2023-04-27T10:22:19.120Z"
   },
   {
    "duration": 5,
    "start_time": "2023-04-27T10:22:19.152Z"
   },
   {
    "duration": 20,
    "start_time": "2023-04-27T10:22:19.159Z"
   },
   {
    "duration": 7,
    "start_time": "2023-04-27T10:22:19.181Z"
   },
   {
    "duration": 28,
    "start_time": "2023-04-27T10:22:19.190Z"
   },
   {
    "duration": 10,
    "start_time": "2023-04-27T10:22:19.220Z"
   },
   {
    "duration": 283,
    "start_time": "2023-04-27T10:22:19.232Z"
   },
   {
    "duration": 6,
    "start_time": "2023-04-27T10:22:19.518Z"
   },
   {
    "duration": 278,
    "start_time": "2023-04-27T10:22:19.526Z"
   },
   {
    "duration": 5,
    "start_time": "2023-04-27T10:22:19.805Z"
   },
   {
    "duration": 6,
    "start_time": "2023-04-27T10:22:19.818Z"
   },
   {
    "duration": 24,
    "start_time": "2023-04-27T10:22:19.826Z"
   },
   {
    "duration": 328,
    "start_time": "2023-04-27T10:22:19.852Z"
   },
   {
    "duration": 6,
    "start_time": "2023-04-27T10:22:20.182Z"
   },
   {
    "duration": 280,
    "start_time": "2023-04-27T10:22:20.189Z"
   },
   {
    "duration": 5,
    "start_time": "2023-04-27T10:23:41.842Z"
   },
   {
    "duration": 5,
    "start_time": "2023-04-27T10:25:21.276Z"
   },
   {
    "duration": 5,
    "start_time": "2023-04-27T10:30:51.196Z"
   },
   {
    "duration": 8,
    "start_time": "2023-04-27T10:30:53.677Z"
   },
   {
    "duration": 8,
    "start_time": "2023-04-27T10:31:29.675Z"
   },
   {
    "duration": 261,
    "start_time": "2023-04-27T10:31:38.573Z"
   },
   {
    "duration": 6,
    "start_time": "2023-04-27T10:31:48.501Z"
   },
   {
    "duration": 240,
    "start_time": "2023-04-27T10:32:12.836Z"
   },
   {
    "duration": 5,
    "start_time": "2023-04-27T10:32:25.930Z"
   },
   {
    "duration": 6,
    "start_time": "2023-04-27T10:32:28.604Z"
   },
   {
    "duration": 8,
    "start_time": "2023-04-27T10:32:35.317Z"
   },
   {
    "duration": 240,
    "start_time": "2023-04-27T10:33:24.027Z"
   },
   {
    "duration": 6,
    "start_time": "2023-04-27T10:33:55.515Z"
   },
   {
    "duration": 311,
    "start_time": "2023-04-27T10:34:33.073Z"
   },
   {
    "duration": 20,
    "start_time": "2023-04-27T12:26:12.755Z"
   },
   {
    "duration": 8,
    "start_time": "2023-04-27T12:27:28.115Z"
   },
   {
    "duration": 5,
    "start_time": "2023-04-27T12:27:47.050Z"
   },
   {
    "duration": 7,
    "start_time": "2023-04-27T12:42:14.701Z"
   },
   {
    "duration": 1099,
    "start_time": "2023-04-27T13:00:12.051Z"
   },
   {
    "duration": 28,
    "start_time": "2023-04-27T13:00:13.154Z"
   },
   {
    "duration": 89,
    "start_time": "2023-04-27T13:00:13.184Z"
   },
   {
    "duration": 11,
    "start_time": "2023-04-27T13:00:13.275Z"
   },
   {
    "duration": 83,
    "start_time": "2023-04-27T13:00:13.288Z"
   },
   {
    "duration": 15,
    "start_time": "2023-04-27T13:00:13.373Z"
   },
   {
    "duration": 14,
    "start_time": "2023-04-27T13:00:13.390Z"
   },
   {
    "duration": 52,
    "start_time": "2023-04-27T13:00:13.406Z"
   },
   {
    "duration": 72,
    "start_time": "2023-04-27T13:00:13.459Z"
   },
   {
    "duration": 56,
    "start_time": "2023-04-27T13:00:13.533Z"
   },
   {
    "duration": 29,
    "start_time": "2023-04-27T13:00:13.591Z"
   },
   {
    "duration": 43,
    "start_time": "2023-04-27T13:00:13.629Z"
   },
   {
    "duration": 30,
    "start_time": "2023-04-27T13:00:13.674Z"
   },
   {
    "duration": 46,
    "start_time": "2023-04-27T13:00:13.707Z"
   },
   {
    "duration": 50,
    "start_time": "2023-04-27T13:00:13.755Z"
   },
   {
    "duration": 60,
    "start_time": "2023-04-27T13:00:13.807Z"
   },
   {
    "duration": 22,
    "start_time": "2023-04-27T13:00:13.869Z"
   },
   {
    "duration": 14,
    "start_time": "2023-04-27T13:00:13.893Z"
   },
   {
    "duration": 64,
    "start_time": "2023-04-27T13:00:13.909Z"
   },
   {
    "duration": 14,
    "start_time": "2023-04-27T13:00:13.975Z"
   },
   {
    "duration": 24,
    "start_time": "2023-04-27T13:00:13.991Z"
   },
   {
    "duration": 57,
    "start_time": "2023-04-27T13:00:14.017Z"
   },
   {
    "duration": 66,
    "start_time": "2023-04-27T13:00:14.076Z"
   },
   {
    "duration": 7,
    "start_time": "2023-04-27T13:00:14.147Z"
   },
   {
    "duration": 28,
    "start_time": "2023-04-27T13:00:14.156Z"
   },
   {
    "duration": 8,
    "start_time": "2023-04-27T13:00:14.186Z"
   },
   {
    "duration": 9,
    "start_time": "2023-04-27T13:00:14.196Z"
   },
   {
    "duration": 65,
    "start_time": "2023-04-27T13:00:14.208Z"
   },
   {
    "duration": 435,
    "start_time": "2023-04-27T13:00:14.275Z"
   },
   {
    "duration": 22,
    "start_time": "2023-04-27T13:00:14.711Z"
   },
   {
    "duration": 396,
    "start_time": "2023-04-27T13:00:14.736Z"
   },
   {
    "duration": 15,
    "start_time": "2023-04-27T13:00:15.139Z"
   },
   {
    "duration": 44,
    "start_time": "2023-04-27T13:00:15.155Z"
   },
   {
    "duration": 77,
    "start_time": "2023-04-27T13:00:15.201Z"
   },
   {
    "duration": 372,
    "start_time": "2023-04-27T13:00:15.280Z"
   },
   {
    "duration": 6,
    "start_time": "2023-04-27T13:00:15.654Z"
   },
   {
    "duration": 333,
    "start_time": "2023-04-27T13:00:15.665Z"
   },
   {
    "duration": 4,
    "start_time": "2023-04-27T13:00:16.000Z"
   },
   {
    "duration": 41,
    "start_time": "2023-04-27T13:00:16.019Z"
   },
   {
    "duration": 23,
    "start_time": "2023-04-27T13:00:16.062Z"
   },
   {
    "duration": 289,
    "start_time": "2023-04-27T13:00:16.090Z"
   },
   {
    "duration": 5,
    "start_time": "2023-04-27T13:00:16.381Z"
   },
   {
    "duration": 286,
    "start_time": "2023-04-27T13:00:16.387Z"
   },
   {
    "duration": 5,
    "start_time": "2023-04-27T13:00:16.676Z"
   },
   {
    "duration": 72,
    "start_time": "2023-04-27T13:00:16.683Z"
   },
   {
    "duration": 29,
    "start_time": "2023-04-27T13:00:16.756Z"
   },
   {
    "duration": 319,
    "start_time": "2023-04-27T13:00:16.786Z"
   },
   {
    "duration": 27,
    "start_time": "2023-04-27T13:00:17.107Z"
   },
   {
    "duration": 414,
    "start_time": "2023-04-27T13:00:17.136Z"
   },
   {
    "duration": 6,
    "start_time": "2023-04-27T13:00:17.561Z"
   },
   {
    "duration": 1224,
    "start_time": "2023-04-27T17:51:00.407Z"
   },
   {
    "duration": 24,
    "start_time": "2023-04-27T17:51:01.633Z"
   },
   {
    "duration": 149,
    "start_time": "2023-04-27T17:51:01.658Z"
   },
   {
    "duration": 11,
    "start_time": "2023-04-27T17:51:01.810Z"
   },
   {
    "duration": 68,
    "start_time": "2023-04-27T17:51:01.823Z"
   },
   {
    "duration": 17,
    "start_time": "2023-04-27T17:51:01.893Z"
   },
   {
    "duration": 14,
    "start_time": "2023-04-27T17:51:01.912Z"
   },
   {
    "duration": 45,
    "start_time": "2023-04-27T17:51:01.927Z"
   },
   {
    "duration": 18,
    "start_time": "2023-04-27T17:51:01.974Z"
   },
   {
    "duration": 9,
    "start_time": "2023-04-27T17:51:01.996Z"
   },
   {
    "duration": 30,
    "start_time": "2023-04-27T17:51:02.008Z"
   },
   {
    "duration": 31,
    "start_time": "2023-04-27T17:51:02.047Z"
   },
   {
    "duration": 23,
    "start_time": "2023-04-27T17:51:02.080Z"
   },
   {
    "duration": 5,
    "start_time": "2023-04-27T17:51:02.105Z"
   },
   {
    "duration": 13,
    "start_time": "2023-04-27T17:51:02.112Z"
   },
   {
    "duration": 6,
    "start_time": "2023-04-27T17:51:02.126Z"
   },
   {
    "duration": 33,
    "start_time": "2023-04-27T17:51:02.133Z"
   },
   {
    "duration": 26,
    "start_time": "2023-04-27T17:51:02.168Z"
   },
   {
    "duration": 22,
    "start_time": "2023-04-27T17:51:02.196Z"
   },
   {
    "duration": 4,
    "start_time": "2023-04-27T17:51:02.220Z"
   },
   {
    "duration": 28,
    "start_time": "2023-04-27T17:51:02.226Z"
   },
   {
    "duration": 15,
    "start_time": "2023-04-27T17:51:02.255Z"
   },
   {
    "duration": 37,
    "start_time": "2023-04-27T17:51:02.272Z"
   },
   {
    "duration": 4,
    "start_time": "2023-04-27T17:51:02.311Z"
   },
   {
    "duration": 14,
    "start_time": "2023-04-27T17:51:02.316Z"
   },
   {
    "duration": 30,
    "start_time": "2023-04-27T17:51:02.332Z"
   },
   {
    "duration": 30,
    "start_time": "2023-04-27T17:51:02.364Z"
   },
   {
    "duration": 19,
    "start_time": "2023-04-27T17:51:02.399Z"
   },
   {
    "duration": 249,
    "start_time": "2023-04-27T17:51:02.420Z"
   },
   {
    "duration": 6,
    "start_time": "2023-04-27T17:51:02.672Z"
   },
   {
    "duration": 238,
    "start_time": "2023-04-27T17:51:02.680Z"
   },
   {
    "duration": 4,
    "start_time": "2023-04-27T17:51:02.919Z"
   },
   {
    "duration": 33,
    "start_time": "2023-04-27T17:51:02.925Z"
   },
   {
    "duration": 11,
    "start_time": "2023-04-27T17:51:02.960Z"
   },
   {
    "duration": 356,
    "start_time": "2023-04-27T17:51:02.973Z"
   },
   {
    "duration": 16,
    "start_time": "2023-04-27T17:51:03.331Z"
   },
   {
    "duration": 230,
    "start_time": "2023-04-27T17:51:03.358Z"
   },
   {
    "duration": 4,
    "start_time": "2023-04-27T17:51:03.590Z"
   },
   {
    "duration": 14,
    "start_time": "2023-04-27T17:51:03.595Z"
   },
   {
    "duration": 16,
    "start_time": "2023-04-27T17:51:03.610Z"
   },
   {
    "duration": 240,
    "start_time": "2023-04-27T17:51:03.634Z"
   },
   {
    "duration": 7,
    "start_time": "2023-04-27T17:51:03.876Z"
   },
   {
    "duration": 277,
    "start_time": "2023-04-27T17:51:03.885Z"
   },
   {
    "duration": 5,
    "start_time": "2023-04-27T17:51:04.165Z"
   },
   {
    "duration": 11,
    "start_time": "2023-04-27T17:51:04.172Z"
   },
   {
    "duration": 13,
    "start_time": "2023-04-27T17:51:04.185Z"
   },
   {
    "duration": 258,
    "start_time": "2023-04-27T17:51:04.200Z"
   },
   {
    "duration": 5,
    "start_time": "2023-04-27T17:51:04.460Z"
   },
   {
    "duration": 289,
    "start_time": "2023-04-27T17:51:04.466Z"
   },
   {
    "duration": 6,
    "start_time": "2023-04-27T17:51:04.757Z"
   },
   {
    "duration": 10,
    "start_time": "2023-04-27T18:33:03.513Z"
   },
   {
    "duration": 27,
    "start_time": "2023-04-27T18:41:29.954Z"
   },
   {
    "duration": 29,
    "start_time": "2023-04-27T18:42:36.768Z"
   },
   {
    "duration": 7,
    "start_time": "2023-04-27T18:43:12.260Z"
   },
   {
    "duration": 6,
    "start_time": "2023-04-27T18:43:33.567Z"
   },
   {
    "duration": 6,
    "start_time": "2023-04-27T18:44:30.183Z"
   },
   {
    "duration": 6,
    "start_time": "2023-04-27T18:44:53.833Z"
   },
   {
    "duration": 715,
    "start_time": "2023-04-27T18:46:04.960Z"
   },
   {
    "duration": 16,
    "start_time": "2023-04-27T18:46:05.677Z"
   },
   {
    "duration": 68,
    "start_time": "2023-04-27T18:46:05.696Z"
   },
   {
    "duration": 10,
    "start_time": "2023-04-27T18:46:05.766Z"
   },
   {
    "duration": 17,
    "start_time": "2023-04-27T18:46:05.778Z"
   },
   {
    "duration": 12,
    "start_time": "2023-04-27T18:46:05.797Z"
   },
   {
    "duration": 7,
    "start_time": "2023-04-27T18:46:05.810Z"
   },
   {
    "duration": 35,
    "start_time": "2023-04-27T18:46:05.818Z"
   },
   {
    "duration": 22,
    "start_time": "2023-04-27T18:46:05.854Z"
   },
   {
    "duration": 4,
    "start_time": "2023-04-27T18:46:05.878Z"
   },
   {
    "duration": 10,
    "start_time": "2023-04-27T18:46:05.883Z"
   },
   {
    "duration": 6,
    "start_time": "2023-04-27T18:46:05.894Z"
   },
   {
    "duration": 15,
    "start_time": "2023-04-27T18:46:05.903Z"
   },
   {
    "duration": 32,
    "start_time": "2023-04-27T18:46:05.919Z"
   },
   {
    "duration": 21,
    "start_time": "2023-04-27T18:46:05.954Z"
   },
   {
    "duration": 5,
    "start_time": "2023-04-27T18:46:05.976Z"
   },
   {
    "duration": 8,
    "start_time": "2023-04-27T18:46:05.983Z"
   },
   {
    "duration": 7,
    "start_time": "2023-04-27T18:46:05.993Z"
   },
   {
    "duration": 13,
    "start_time": "2023-04-27T18:46:06.001Z"
   },
   {
    "duration": 4,
    "start_time": "2023-04-27T18:46:06.016Z"
   },
   {
    "duration": 14,
    "start_time": "2023-04-27T18:46:06.022Z"
   },
   {
    "duration": 34,
    "start_time": "2023-04-27T18:46:06.038Z"
   },
   {
    "duration": 39,
    "start_time": "2023-04-27T18:46:06.074Z"
   },
   {
    "duration": 5,
    "start_time": "2023-04-27T18:46:06.114Z"
   },
   {
    "duration": 47,
    "start_time": "2023-04-27T18:46:06.121Z"
   },
   {
    "duration": 29,
    "start_time": "2023-04-27T18:46:06.169Z"
   },
   {
    "duration": 23,
    "start_time": "2023-04-27T18:46:06.200Z"
   },
   {
    "duration": 49,
    "start_time": "2023-04-27T18:46:06.225Z"
   },
   {
    "duration": 249,
    "start_time": "2023-04-27T18:46:06.276Z"
   },
   {
    "duration": 20,
    "start_time": "2023-04-27T18:46:06.527Z"
   },
   {
    "duration": 315,
    "start_time": "2023-04-27T18:46:06.552Z"
   },
   {
    "duration": 5,
    "start_time": "2023-04-27T18:46:06.869Z"
   },
   {
    "duration": 64,
    "start_time": "2023-04-27T18:46:06.876Z"
   },
   {
    "duration": 42,
    "start_time": "2023-04-27T18:46:06.943Z"
   },
   {
    "duration": 355,
    "start_time": "2023-04-27T18:46:06.988Z"
   },
   {
    "duration": 14,
    "start_time": "2023-04-27T18:46:07.348Z"
   },
   {
    "duration": 283,
    "start_time": "2023-04-27T18:46:07.363Z"
   },
   {
    "duration": 10,
    "start_time": "2023-04-27T18:46:07.652Z"
   },
   {
    "duration": 35,
    "start_time": "2023-04-27T18:46:07.663Z"
   },
   {
    "duration": 36,
    "start_time": "2023-04-27T18:46:07.702Z"
   },
   {
    "duration": 251,
    "start_time": "2023-04-27T18:46:07.740Z"
   },
   {
    "duration": 8,
    "start_time": "2023-04-27T18:46:07.993Z"
   },
   {
    "duration": 251,
    "start_time": "2023-04-27T18:46:08.002Z"
   },
   {
    "duration": 4,
    "start_time": "2023-04-27T18:46:08.261Z"
   },
   {
    "duration": 41,
    "start_time": "2023-04-27T18:46:08.267Z"
   },
   {
    "duration": 24,
    "start_time": "2023-04-27T18:46:08.309Z"
   },
   {
    "duration": 240,
    "start_time": "2023-04-27T18:46:08.337Z"
   },
   {
    "duration": 5,
    "start_time": "2023-04-27T18:46:08.579Z"
   },
   {
    "duration": 324,
    "start_time": "2023-04-27T18:46:08.586Z"
   },
   {
    "duration": 5,
    "start_time": "2023-04-27T18:46:08.912Z"
   },
   {
    "duration": 23,
    "start_time": "2023-04-27T18:46:08.919Z"
   },
   {
    "duration": 1361,
    "start_time": "2023-04-28T05:48:22.080Z"
   },
   {
    "duration": 15,
    "start_time": "2023-04-28T05:48:23.443Z"
   },
   {
    "duration": 96,
    "start_time": "2023-04-28T05:48:23.460Z"
   },
   {
    "duration": 11,
    "start_time": "2023-04-28T05:48:23.558Z"
   },
   {
    "duration": 25,
    "start_time": "2023-04-28T05:48:23.571Z"
   },
   {
    "duration": 6,
    "start_time": "2023-04-28T05:48:23.598Z"
   },
   {
    "duration": 5,
    "start_time": "2023-04-28T05:48:23.606Z"
   },
   {
    "duration": 27,
    "start_time": "2023-04-28T05:48:23.612Z"
   },
   {
    "duration": 13,
    "start_time": "2023-04-28T05:48:23.641Z"
   },
   {
    "duration": 4,
    "start_time": "2023-04-28T05:48:23.656Z"
   },
   {
    "duration": 34,
    "start_time": "2023-04-28T05:48:23.661Z"
   },
   {
    "duration": 4,
    "start_time": "2023-04-28T05:48:23.697Z"
   },
   {
    "duration": 15,
    "start_time": "2023-04-28T05:48:23.702Z"
   },
   {
    "duration": 4,
    "start_time": "2023-04-28T05:48:23.719Z"
   },
   {
    "duration": 9,
    "start_time": "2023-04-28T05:48:23.725Z"
   },
   {
    "duration": 4,
    "start_time": "2023-04-28T05:48:23.736Z"
   },
   {
    "duration": 5,
    "start_time": "2023-04-28T05:48:23.742Z"
   },
   {
    "duration": 5,
    "start_time": "2023-04-28T05:48:23.748Z"
   },
   {
    "duration": 48,
    "start_time": "2023-04-28T05:48:23.754Z"
   },
   {
    "duration": 5,
    "start_time": "2023-04-28T05:48:23.804Z"
   },
   {
    "duration": 5,
    "start_time": "2023-04-28T05:48:23.810Z"
   },
   {
    "duration": 11,
    "start_time": "2023-04-28T05:48:23.817Z"
   },
   {
    "duration": 23,
    "start_time": "2023-04-28T05:48:23.829Z"
   },
   {
    "duration": 4,
    "start_time": "2023-04-28T05:48:23.854Z"
   },
   {
    "duration": 182,
    "start_time": "2023-04-28T05:48:23.860Z"
   },
   {
    "duration": 11,
    "start_time": "2023-04-28T05:48:24.044Z"
   },
   {
    "duration": 6,
    "start_time": "2023-04-28T05:48:24.057Z"
   },
   {
    "duration": 9,
    "start_time": "2023-04-28T05:48:24.065Z"
   },
   {
    "duration": 272,
    "start_time": "2023-04-28T05:48:24.076Z"
   },
   {
    "duration": 5,
    "start_time": "2023-04-28T05:48:24.349Z"
   },
   {
    "duration": 252,
    "start_time": "2023-04-28T05:48:24.356Z"
   },
   {
    "duration": 5,
    "start_time": "2023-04-28T05:48:24.610Z"
   },
   {
    "duration": 6,
    "start_time": "2023-04-28T05:48:24.617Z"
   },
   {
    "duration": 7,
    "start_time": "2023-04-28T05:48:24.624Z"
   },
   {
    "duration": 325,
    "start_time": "2023-04-28T05:48:24.633Z"
   },
   {
    "duration": 6,
    "start_time": "2023-04-28T05:48:24.963Z"
   },
   {
    "duration": 249,
    "start_time": "2023-04-28T05:48:24.970Z"
   },
   {
    "duration": 3,
    "start_time": "2023-04-28T05:48:25.221Z"
   },
   {
    "duration": 13,
    "start_time": "2023-04-28T05:48:25.226Z"
   },
   {
    "duration": 8,
    "start_time": "2023-04-28T05:48:25.241Z"
   },
   {
    "duration": 233,
    "start_time": "2023-04-28T05:48:25.252Z"
   },
   {
    "duration": 11,
    "start_time": "2023-04-28T05:48:25.486Z"
   },
   {
    "duration": 216,
    "start_time": "2023-04-28T05:48:25.498Z"
   },
   {
    "duration": 4,
    "start_time": "2023-04-28T05:48:25.715Z"
   },
   {
    "duration": 7,
    "start_time": "2023-04-28T05:48:25.721Z"
   },
   {
    "duration": 9,
    "start_time": "2023-04-28T05:48:25.729Z"
   },
   {
    "duration": 233,
    "start_time": "2023-04-28T05:48:25.740Z"
   },
   {
    "duration": 7,
    "start_time": "2023-04-28T05:48:25.975Z"
   },
   {
    "duration": 300,
    "start_time": "2023-04-28T05:48:25.984Z"
   },
   {
    "duration": 11,
    "start_time": "2023-04-28T05:48:26.286Z"
   },
   {
    "duration": 10,
    "start_time": "2023-04-28T05:48:26.298Z"
   },
   {
    "duration": 10,
    "start_time": "2023-04-28T06:02:45.557Z"
   },
   {
    "duration": 15,
    "start_time": "2023-04-28T06:06:34.232Z"
   },
   {
    "duration": 11,
    "start_time": "2023-04-28T06:06:59.527Z"
   },
   {
    "duration": 967,
    "start_time": "2023-04-28T08:33:47.770Z"
   },
   {
    "duration": 14,
    "start_time": "2023-04-28T08:33:48.739Z"
   },
   {
    "duration": 87,
    "start_time": "2023-04-28T08:33:48.755Z"
   },
   {
    "duration": 9,
    "start_time": "2023-04-28T08:33:48.843Z"
   },
   {
    "duration": 15,
    "start_time": "2023-04-28T08:33:48.853Z"
   },
   {
    "duration": 13,
    "start_time": "2023-04-28T08:33:48.869Z"
   },
   {
    "duration": 4,
    "start_time": "2023-04-28T08:33:48.884Z"
   },
   {
    "duration": 36,
    "start_time": "2023-04-28T08:33:48.889Z"
   },
   {
    "duration": 12,
    "start_time": "2023-04-28T08:33:48.926Z"
   },
   {
    "duration": 3,
    "start_time": "2023-04-28T08:33:48.940Z"
   },
   {
    "duration": 10,
    "start_time": "2023-04-28T08:33:48.948Z"
   },
   {
    "duration": 4,
    "start_time": "2023-04-28T08:33:48.959Z"
   },
   {
    "duration": 14,
    "start_time": "2023-04-28T08:33:48.964Z"
   },
   {
    "duration": 4,
    "start_time": "2023-04-28T08:33:48.981Z"
   },
   {
    "duration": 10,
    "start_time": "2023-04-28T08:33:48.986Z"
   },
   {
    "duration": 4,
    "start_time": "2023-04-28T08:33:48.997Z"
   },
   {
    "duration": 7,
    "start_time": "2023-04-28T08:33:49.003Z"
   },
   {
    "duration": 40,
    "start_time": "2023-04-28T08:33:49.011Z"
   },
   {
    "duration": 13,
    "start_time": "2023-04-28T08:33:49.053Z"
   },
   {
    "duration": 5,
    "start_time": "2023-04-28T08:33:49.067Z"
   },
   {
    "duration": 8,
    "start_time": "2023-04-28T08:33:49.073Z"
   },
   {
    "duration": 9,
    "start_time": "2023-04-28T08:33:49.082Z"
   },
   {
    "duration": 29,
    "start_time": "2023-04-28T08:33:49.092Z"
   },
   {
    "duration": 4,
    "start_time": "2023-04-28T08:33:49.122Z"
   },
   {
    "duration": 24,
    "start_time": "2023-04-28T08:33:49.128Z"
   },
   {
    "duration": 4,
    "start_time": "2023-04-28T08:33:49.154Z"
   },
   {
    "duration": 7,
    "start_time": "2023-04-28T08:33:49.160Z"
   },
   {
    "duration": 14,
    "start_time": "2023-04-28T08:33:49.169Z"
   },
   {
    "duration": 228,
    "start_time": "2023-04-28T08:33:49.184Z"
   },
   {
    "duration": 5,
    "start_time": "2023-04-28T08:33:49.414Z"
   },
   {
    "duration": 219,
    "start_time": "2023-04-28T08:33:49.420Z"
   },
   {
    "duration": 7,
    "start_time": "2023-04-28T08:33:49.641Z"
   },
   {
    "duration": 10,
    "start_time": "2023-04-28T08:33:49.650Z"
   },
   {
    "duration": 8,
    "start_time": "2023-04-28T08:33:49.662Z"
   },
   {
    "duration": 277,
    "start_time": "2023-04-28T08:33:49.672Z"
   },
   {
    "duration": 5,
    "start_time": "2023-04-28T08:33:49.950Z"
   },
   {
    "duration": 239,
    "start_time": "2023-04-28T08:33:49.957Z"
   },
   {
    "duration": 3,
    "start_time": "2023-04-28T08:33:50.197Z"
   },
   {
    "duration": 11,
    "start_time": "2023-04-28T08:33:50.202Z"
   },
   {
    "duration": 7,
    "start_time": "2023-04-28T08:33:50.215Z"
   },
   {
    "duration": 203,
    "start_time": "2023-04-28T08:33:50.225Z"
   },
   {
    "duration": 4,
    "start_time": "2023-04-28T08:33:50.430Z"
   },
   {
    "duration": 202,
    "start_time": "2023-04-28T08:33:50.436Z"
   },
   {
    "duration": 4,
    "start_time": "2023-04-28T08:33:50.639Z"
   },
   {
    "duration": 5,
    "start_time": "2023-04-28T08:33:50.649Z"
   },
   {
    "duration": 19,
    "start_time": "2023-04-28T08:33:50.655Z"
   },
   {
    "duration": 191,
    "start_time": "2023-04-28T08:33:50.676Z"
   },
   {
    "duration": 5,
    "start_time": "2023-04-28T08:33:50.868Z"
   },
   {
    "duration": 270,
    "start_time": "2023-04-28T08:33:50.874Z"
   },
   {
    "duration": 7,
    "start_time": "2023-04-28T08:33:51.145Z"
   },
   {
    "duration": 24,
    "start_time": "2023-04-28T08:33:51.154Z"
   },
   {
    "duration": 12,
    "start_time": "2023-04-28T08:33:51.179Z"
   },
   {
    "duration": 9,
    "start_time": "2023-04-28T08:34:02.886Z"
   },
   {
    "duration": 6,
    "start_time": "2023-04-28T08:36:54.551Z"
   },
   {
    "duration": 5,
    "start_time": "2023-04-28T08:38:48.558Z"
   },
   {
    "duration": 7,
    "start_time": "2023-04-28T08:47:54.687Z"
   },
   {
    "duration": 5,
    "start_time": "2023-04-28T08:48:03.684Z"
   },
   {
    "duration": 78,
    "start_time": "2023-04-28T08:48:34.526Z"
   },
   {
    "duration": 5,
    "start_time": "2023-04-28T08:48:45.596Z"
   },
   {
    "duration": 5,
    "start_time": "2023-04-28T08:49:05.007Z"
   },
   {
    "duration": 6,
    "start_time": "2023-04-28T08:50:34.737Z"
   },
   {
    "duration": 5,
    "start_time": "2023-04-28T08:51:32.984Z"
   },
   {
    "duration": 6,
    "start_time": "2023-04-28T08:51:44.305Z"
   },
   {
    "duration": 7,
    "start_time": "2023-04-28T08:51:51.526Z"
   },
   {
    "duration": 5,
    "start_time": "2023-04-28T08:52:47.832Z"
   },
   {
    "duration": 90,
    "start_time": "2023-04-28T09:41:08.263Z"
   },
   {
    "duration": 97,
    "start_time": "2023-04-28T09:44:07.950Z"
   },
   {
    "duration": 131,
    "start_time": "2023-04-28T09:44:46.209Z"
   },
   {
    "duration": 223,
    "start_time": "2023-04-28T09:45:12.230Z"
   },
   {
    "duration": 87,
    "start_time": "2023-04-28T09:45:56.350Z"
   },
   {
    "duration": 98,
    "start_time": "2023-04-28T09:46:09.271Z"
   },
   {
    "duration": 91,
    "start_time": "2023-04-28T09:57:22.309Z"
   },
   {
    "duration": 8,
    "start_time": "2023-04-28T09:57:36.662Z"
   },
   {
    "duration": 9,
    "start_time": "2023-04-28T09:57:51.989Z"
   },
   {
    "duration": 9,
    "start_time": "2023-04-28T09:58:11.789Z"
   },
   {
    "duration": 5,
    "start_time": "2023-04-28T09:59:46.440Z"
   },
   {
    "duration": 378,
    "start_time": "2023-04-28T10:02:00.591Z"
   },
   {
    "duration": 12,
    "start_time": "2023-04-28T10:09:58.752Z"
   },
   {
    "duration": 11,
    "start_time": "2023-04-28T10:14:45.030Z"
   },
   {
    "duration": 5,
    "start_time": "2023-04-28T11:04:20.953Z"
   },
   {
    "duration": 8,
    "start_time": "2023-04-28T11:05:02.983Z"
   },
   {
    "duration": 8,
    "start_time": "2023-04-28T11:05:34.083Z"
   },
   {
    "duration": 6,
    "start_time": "2023-04-28T11:05:48.823Z"
   },
   {
    "duration": 10,
    "start_time": "2023-04-28T11:06:48.438Z"
   },
   {
    "duration": 8,
    "start_time": "2023-04-28T11:07:38.909Z"
   },
   {
    "duration": 780,
    "start_time": "2023-04-28T11:08:31.969Z"
   },
   {
    "duration": 16,
    "start_time": "2023-04-28T11:08:32.751Z"
   },
   {
    "duration": 56,
    "start_time": "2023-04-28T11:08:32.768Z"
   },
   {
    "duration": 10,
    "start_time": "2023-04-28T11:08:32.826Z"
   },
   {
    "duration": 34,
    "start_time": "2023-04-28T11:08:32.838Z"
   },
   {
    "duration": 19,
    "start_time": "2023-04-28T11:08:32.873Z"
   },
   {
    "duration": 10,
    "start_time": "2023-04-28T11:08:32.893Z"
   },
   {
    "duration": 43,
    "start_time": "2023-04-28T11:08:32.905Z"
   },
   {
    "duration": 14,
    "start_time": "2023-04-28T11:08:32.950Z"
   },
   {
    "duration": 6,
    "start_time": "2023-04-28T11:08:32.967Z"
   },
   {
    "duration": 14,
    "start_time": "2023-04-28T11:08:32.974Z"
   },
   {
    "duration": 5,
    "start_time": "2023-04-28T11:08:32.989Z"
   },
   {
    "duration": 19,
    "start_time": "2023-04-28T11:08:32.995Z"
   },
   {
    "duration": 4,
    "start_time": "2023-04-28T11:08:33.016Z"
   },
   {
    "duration": 32,
    "start_time": "2023-04-28T11:08:33.021Z"
   },
   {
    "duration": 6,
    "start_time": "2023-04-28T11:08:33.055Z"
   },
   {
    "duration": 14,
    "start_time": "2023-04-28T11:08:33.062Z"
   },
   {
    "duration": 10,
    "start_time": "2023-04-28T11:08:33.078Z"
   },
   {
    "duration": 23,
    "start_time": "2023-04-28T11:08:33.090Z"
   },
   {
    "duration": 7,
    "start_time": "2023-04-28T11:08:33.114Z"
   },
   {
    "duration": 8,
    "start_time": "2023-04-28T11:08:33.122Z"
   },
   {
    "duration": 18,
    "start_time": "2023-04-28T11:08:33.132Z"
   },
   {
    "duration": 28,
    "start_time": "2023-04-28T11:08:33.151Z"
   },
   {
    "duration": 4,
    "start_time": "2023-04-28T11:08:33.180Z"
   },
   {
    "duration": 11,
    "start_time": "2023-04-28T11:08:33.185Z"
   },
   {
    "duration": 5,
    "start_time": "2023-04-28T11:08:33.198Z"
   },
   {
    "duration": 12,
    "start_time": "2023-04-28T11:08:33.204Z"
   },
   {
    "duration": 20,
    "start_time": "2023-04-28T11:08:33.219Z"
   },
   {
    "duration": 223,
    "start_time": "2023-04-28T11:08:33.249Z"
   },
   {
    "duration": 6,
    "start_time": "2023-04-28T11:08:33.473Z"
   },
   {
    "duration": 226,
    "start_time": "2023-04-28T11:08:33.480Z"
   },
   {
    "duration": 4,
    "start_time": "2023-04-28T11:08:33.708Z"
   },
   {
    "duration": 10,
    "start_time": "2023-04-28T11:08:33.713Z"
   },
   {
    "duration": 24,
    "start_time": "2023-04-28T11:08:33.725Z"
   },
   {
    "duration": 287,
    "start_time": "2023-04-28T11:08:33.751Z"
   },
   {
    "duration": 12,
    "start_time": "2023-04-28T11:08:34.040Z"
   },
   {
    "duration": 228,
    "start_time": "2023-04-28T11:08:34.054Z"
   },
   {
    "duration": 5,
    "start_time": "2023-04-28T11:08:34.284Z"
   },
   {
    "duration": 67,
    "start_time": "2023-04-28T11:08:34.290Z"
   },
   {
    "duration": 25,
    "start_time": "2023-04-28T11:08:34.359Z"
   },
   {
    "duration": 321,
    "start_time": "2023-04-28T11:08:34.386Z"
   },
   {
    "duration": 7,
    "start_time": "2023-04-28T11:08:34.709Z"
   },
   {
    "duration": 226,
    "start_time": "2023-04-28T11:08:34.717Z"
   },
   {
    "duration": 5,
    "start_time": "2023-04-28T11:08:34.945Z"
   },
   {
    "duration": 17,
    "start_time": "2023-04-28T11:08:34.952Z"
   },
   {
    "duration": 8,
    "start_time": "2023-04-28T11:08:34.970Z"
   },
   {
    "duration": 219,
    "start_time": "2023-04-28T11:08:34.980Z"
   },
   {
    "duration": 6,
    "start_time": "2023-04-28T11:08:35.201Z"
   },
   {
    "duration": 282,
    "start_time": "2023-04-28T11:08:35.208Z"
   },
   {
    "duration": 6,
    "start_time": "2023-04-28T11:08:35.492Z"
   },
   {
    "duration": 14,
    "start_time": "2023-04-28T11:08:35.500Z"
   },
   {
    "duration": 29,
    "start_time": "2023-04-28T11:08:35.516Z"
   },
   {
    "duration": 17,
    "start_time": "2023-04-28T11:08:35.546Z"
   },
   {
    "duration": 19,
    "start_time": "2023-04-28T11:08:35.565Z"
   },
   {
    "duration": 14,
    "start_time": "2023-04-28T11:08:35.586Z"
   },
   {
    "duration": 18,
    "start_time": "2023-04-28T11:08:35.601Z"
   },
   {
    "duration": 15,
    "start_time": "2023-04-28T11:08:35.621Z"
   },
   {
    "duration": 7,
    "start_time": "2023-04-28T11:10:52.391Z"
   },
   {
    "duration": 5,
    "start_time": "2023-04-28T11:11:23.231Z"
   },
   {
    "duration": 7,
    "start_time": "2023-04-28T11:12:01.190Z"
   },
   {
    "duration": 6,
    "start_time": "2023-04-28T11:12:58.722Z"
   },
   {
    "duration": 6,
    "start_time": "2023-04-28T11:13:09.951Z"
   },
   {
    "duration": 872,
    "start_time": "2023-04-28T11:14:23.004Z"
   },
   {
    "duration": 15,
    "start_time": "2023-04-28T11:14:23.878Z"
   },
   {
    "duration": 53,
    "start_time": "2023-04-28T11:14:23.894Z"
   },
   {
    "duration": 11,
    "start_time": "2023-04-28T11:14:23.950Z"
   },
   {
    "duration": 21,
    "start_time": "2023-04-28T11:14:23.962Z"
   },
   {
    "duration": 7,
    "start_time": "2023-04-28T11:14:23.985Z"
   },
   {
    "duration": 5,
    "start_time": "2023-04-28T11:14:23.994Z"
   },
   {
    "duration": 31,
    "start_time": "2023-04-28T11:14:24.000Z"
   },
   {
    "duration": 33,
    "start_time": "2023-04-28T11:14:24.033Z"
   },
   {
    "duration": 6,
    "start_time": "2023-04-28T11:14:24.070Z"
   },
   {
    "duration": 14,
    "start_time": "2023-04-28T11:14:24.078Z"
   },
   {
    "duration": 5,
    "start_time": "2023-04-28T11:14:24.095Z"
   },
   {
    "duration": 16,
    "start_time": "2023-04-28T11:14:24.102Z"
   },
   {
    "duration": 31,
    "start_time": "2023-04-28T11:14:24.119Z"
   },
   {
    "duration": 25,
    "start_time": "2023-04-28T11:14:24.152Z"
   },
   {
    "duration": 7,
    "start_time": "2023-04-28T11:14:24.178Z"
   },
   {
    "duration": 7,
    "start_time": "2023-04-28T11:14:24.186Z"
   },
   {
    "duration": 7,
    "start_time": "2023-04-28T11:14:24.195Z"
   },
   {
    "duration": 15,
    "start_time": "2023-04-28T11:14:24.204Z"
   },
   {
    "duration": 6,
    "start_time": "2023-04-28T11:14:24.221Z"
   },
   {
    "duration": 21,
    "start_time": "2023-04-28T11:14:24.228Z"
   },
   {
    "duration": 13,
    "start_time": "2023-04-28T11:14:24.251Z"
   },
   {
    "duration": 28,
    "start_time": "2023-04-28T11:14:24.266Z"
   },
   {
    "duration": 4,
    "start_time": "2023-04-28T11:14:24.296Z"
   },
   {
    "duration": 12,
    "start_time": "2023-04-28T11:14:24.301Z"
   },
   {
    "duration": 17,
    "start_time": "2023-04-28T11:14:24.315Z"
   },
   {
    "duration": 15,
    "start_time": "2023-04-28T11:14:24.334Z"
   },
   {
    "duration": 10,
    "start_time": "2023-04-28T11:14:24.353Z"
   },
   {
    "duration": 287,
    "start_time": "2023-04-28T11:14:24.364Z"
   },
   {
    "duration": 6,
    "start_time": "2023-04-28T11:14:24.652Z"
   },
   {
    "duration": 314,
    "start_time": "2023-04-28T11:14:24.660Z"
   },
   {
    "duration": 5,
    "start_time": "2023-04-28T11:14:24.975Z"
   },
   {
    "duration": 11,
    "start_time": "2023-04-28T11:14:24.981Z"
   },
   {
    "duration": 9,
    "start_time": "2023-04-28T11:14:24.994Z"
   },
   {
    "duration": 313,
    "start_time": "2023-04-28T11:14:25.004Z"
   },
   {
    "duration": 5,
    "start_time": "2023-04-28T11:14:25.318Z"
   },
   {
    "duration": 232,
    "start_time": "2023-04-28T11:14:25.325Z"
   },
   {
    "duration": 5,
    "start_time": "2023-04-28T11:14:25.559Z"
   },
   {
    "duration": 21,
    "start_time": "2023-04-28T11:14:25.566Z"
   },
   {
    "duration": 11,
    "start_time": "2023-04-28T11:14:25.589Z"
   },
   {
    "duration": 244,
    "start_time": "2023-04-28T11:14:25.602Z"
   },
   {
    "duration": 6,
    "start_time": "2023-04-28T11:14:25.848Z"
   },
   {
    "duration": 229,
    "start_time": "2023-04-28T11:14:25.856Z"
   },
   {
    "duration": 4,
    "start_time": "2023-04-28T11:14:26.086Z"
   },
   {
    "duration": 9,
    "start_time": "2023-04-28T11:14:26.092Z"
   },
   {
    "duration": 15,
    "start_time": "2023-04-28T11:14:26.102Z"
   },
   {
    "duration": 238,
    "start_time": "2023-04-28T11:14:26.118Z"
   },
   {
    "duration": 7,
    "start_time": "2023-04-28T11:14:26.358Z"
   },
   {
    "duration": 304,
    "start_time": "2023-04-28T11:14:26.367Z"
   },
   {
    "duration": 6,
    "start_time": "2023-04-28T11:14:26.673Z"
   },
   {
    "duration": 14,
    "start_time": "2023-04-28T11:14:26.680Z"
   },
   {
    "duration": 11,
    "start_time": "2023-04-28T11:14:26.695Z"
   },
   {
    "duration": 10,
    "start_time": "2023-04-28T11:14:26.708Z"
   },
   {
    "duration": 35,
    "start_time": "2023-04-28T11:14:26.720Z"
   },
   {
    "duration": 16,
    "start_time": "2023-04-28T11:14:26.757Z"
   },
   {
    "duration": 9,
    "start_time": "2023-04-28T11:14:26.774Z"
   },
   {
    "duration": 11,
    "start_time": "2023-04-28T11:14:26.785Z"
   },
   {
    "duration": 1561,
    "start_time": "2023-04-30T12:28:56.222Z"
   },
   {
    "duration": 30,
    "start_time": "2023-04-30T12:28:57.787Z"
   },
   {
    "duration": 96,
    "start_time": "2023-04-30T12:28:57.820Z"
   },
   {
    "duration": 10,
    "start_time": "2023-04-30T12:28:57.918Z"
   },
   {
    "duration": 26,
    "start_time": "2023-04-30T12:28:57.930Z"
   },
   {
    "duration": 19,
    "start_time": "2023-04-30T12:28:57.959Z"
   },
   {
    "duration": 18,
    "start_time": "2023-04-30T12:28:57.980Z"
   },
   {
    "duration": 40,
    "start_time": "2023-04-30T12:28:57.999Z"
   },
   {
    "duration": 25,
    "start_time": "2023-04-30T12:28:58.042Z"
   },
   {
    "duration": 7,
    "start_time": "2023-04-30T12:28:58.072Z"
   },
   {
    "duration": 23,
    "start_time": "2023-04-30T12:28:58.081Z"
   },
   {
    "duration": 31,
    "start_time": "2023-04-30T12:28:58.106Z"
   },
   {
    "duration": 41,
    "start_time": "2023-04-30T12:28:58.139Z"
   },
   {
    "duration": 26,
    "start_time": "2023-04-30T12:28:58.183Z"
   },
   {
    "duration": 28,
    "start_time": "2023-04-30T12:28:58.211Z"
   },
   {
    "duration": 6,
    "start_time": "2023-04-30T12:28:58.242Z"
   },
   {
    "duration": 7,
    "start_time": "2023-04-30T12:28:58.250Z"
   },
   {
    "duration": 14,
    "start_time": "2023-04-30T12:28:58.259Z"
   },
   {
    "duration": 17,
    "start_time": "2023-04-30T12:28:58.275Z"
   },
   {
    "duration": 10,
    "start_time": "2023-04-30T12:28:58.294Z"
   },
   {
    "duration": 13,
    "start_time": "2023-04-30T12:28:58.306Z"
   },
   {
    "duration": 20,
    "start_time": "2023-04-30T12:28:58.322Z"
   },
   {
    "duration": 42,
    "start_time": "2023-04-30T12:28:58.344Z"
   },
   {
    "duration": 7,
    "start_time": "2023-04-30T12:28:58.389Z"
   },
   {
    "duration": 9,
    "start_time": "2023-04-30T12:28:58.399Z"
   },
   {
    "duration": 5,
    "start_time": "2023-04-30T12:28:58.410Z"
   },
   {
    "duration": 6,
    "start_time": "2023-04-30T12:28:58.418Z"
   },
   {
    "duration": 9,
    "start_time": "2023-04-30T12:28:58.430Z"
   },
   {
    "duration": 341,
    "start_time": "2023-04-30T12:28:58.441Z"
   },
   {
    "duration": 14,
    "start_time": "2023-04-30T12:28:58.784Z"
   },
   {
    "duration": 321,
    "start_time": "2023-04-30T12:28:58.800Z"
   },
   {
    "duration": 4,
    "start_time": "2023-04-30T12:28:59.123Z"
   },
   {
    "duration": 15,
    "start_time": "2023-04-30T12:28:59.128Z"
   },
   {
    "duration": 24,
    "start_time": "2023-04-30T12:28:59.144Z"
   },
   {
    "duration": 372,
    "start_time": "2023-04-30T12:28:59.169Z"
   },
   {
    "duration": 6,
    "start_time": "2023-04-30T12:28:59.543Z"
   },
   {
    "duration": 323,
    "start_time": "2023-04-30T12:28:59.551Z"
   },
   {
    "duration": 12,
    "start_time": "2023-04-30T12:28:59.876Z"
   },
   {
    "duration": 14,
    "start_time": "2023-04-30T12:28:59.890Z"
   },
   {
    "duration": 10,
    "start_time": "2023-04-30T12:28:59.906Z"
   },
   {
    "duration": 299,
    "start_time": "2023-04-30T12:28:59.918Z"
   },
   {
    "duration": 7,
    "start_time": "2023-04-30T12:29:00.220Z"
   },
   {
    "duration": 307,
    "start_time": "2023-04-30T12:29:00.229Z"
   },
   {
    "duration": 4,
    "start_time": "2023-04-30T12:29:00.538Z"
   },
   {
    "duration": 41,
    "start_time": "2023-04-30T12:29:00.544Z"
   },
   {
    "duration": 33,
    "start_time": "2023-04-30T12:29:00.587Z"
   },
   {
    "duration": 336,
    "start_time": "2023-04-30T12:29:00.622Z"
   },
   {
    "duration": 6,
    "start_time": "2023-04-30T12:29:00.959Z"
   },
   {
    "duration": 401,
    "start_time": "2023-04-30T12:29:00.967Z"
   },
   {
    "duration": 9,
    "start_time": "2023-04-30T12:29:01.369Z"
   },
   {
    "duration": 20,
    "start_time": "2023-04-30T12:29:01.393Z"
   },
   {
    "duration": 50,
    "start_time": "2023-04-30T12:29:01.415Z"
   },
   {
    "duration": 51,
    "start_time": "2023-04-30T12:29:01.468Z"
   },
   {
    "duration": 49,
    "start_time": "2023-04-30T12:29:01.521Z"
   },
   {
    "duration": 37,
    "start_time": "2023-04-30T12:29:01.573Z"
   },
   {
    "duration": 53,
    "start_time": "2023-04-30T12:29:01.612Z"
   },
   {
    "duration": 39,
    "start_time": "2023-04-30T12:29:01.668Z"
   },
   {
    "duration": 7,
    "start_time": "2023-04-30T12:31:57.618Z"
   },
   {
    "duration": 17,
    "start_time": "2023-04-30T12:33:35.818Z"
   },
   {
    "duration": 12,
    "start_time": "2023-04-30T12:34:01.255Z"
   },
   {
    "duration": 10,
    "start_time": "2023-04-30T12:35:14.258Z"
   },
   {
    "duration": 7,
    "start_time": "2023-04-30T12:36:16.923Z"
   },
   {
    "duration": 133,
    "start_time": "2023-04-30T12:36:42.565Z"
   },
   {
    "duration": 22,
    "start_time": "2023-04-30T12:36:57.375Z"
   },
   {
    "duration": 43,
    "start_time": "2023-04-30T12:38:02.211Z"
   },
   {
    "duration": 9,
    "start_time": "2023-04-30T12:38:09.874Z"
   },
   {
    "duration": 22,
    "start_time": "2023-04-30T12:39:43.777Z"
   },
   {
    "duration": 18,
    "start_time": "2023-04-30T12:40:50.319Z"
   },
   {
    "duration": 19,
    "start_time": "2023-04-30T12:41:21.962Z"
   },
   {
    "duration": 20,
    "start_time": "2023-04-30T12:42:00.858Z"
   },
   {
    "duration": 7,
    "start_time": "2023-04-30T12:42:15.842Z"
   },
   {
    "duration": 7,
    "start_time": "2023-04-30T12:43:15.957Z"
   },
   {
    "duration": 9,
    "start_time": "2023-04-30T12:51:30.959Z"
   },
   {
    "duration": 8,
    "start_time": "2023-04-30T12:51:58.969Z"
   },
   {
    "duration": 8,
    "start_time": "2023-04-30T12:55:26.930Z"
   },
   {
    "duration": 8,
    "start_time": "2023-04-30T12:55:37.265Z"
   },
   {
    "duration": 8,
    "start_time": "2023-04-30T12:56:50.523Z"
   },
   {
    "duration": 10,
    "start_time": "2023-04-30T13:02:08.560Z"
   },
   {
    "duration": 12,
    "start_time": "2023-04-30T13:02:24.756Z"
   },
   {
    "duration": 7,
    "start_time": "2023-04-30T13:03:44.832Z"
   },
   {
    "duration": 10,
    "start_time": "2023-04-30T13:07:03.123Z"
   },
   {
    "duration": 43,
    "start_time": "2023-04-30T13:08:10.424Z"
   },
   {
    "duration": 11,
    "start_time": "2023-04-30T13:08:16.334Z"
   },
   {
    "duration": 28,
    "start_time": "2023-04-30T13:10:45.731Z"
   },
   {
    "duration": 10,
    "start_time": "2023-04-30T13:14:35.357Z"
   },
   {
    "duration": 32,
    "start_time": "2023-04-30T13:18:00.858Z"
   },
   {
    "duration": 20,
    "start_time": "2023-04-30T14:08:14.454Z"
   },
   {
    "duration": 15,
    "start_time": "2023-04-30T14:09:42.186Z"
   },
   {
    "duration": 719,
    "start_time": "2023-04-30T14:09:48.913Z"
   },
   {
    "duration": 24,
    "start_time": "2023-04-30T14:09:49.635Z"
   },
   {
    "duration": 42,
    "start_time": "2023-04-30T14:09:49.661Z"
   },
   {
    "duration": 12,
    "start_time": "2023-04-30T14:09:49.705Z"
   },
   {
    "duration": 18,
    "start_time": "2023-04-30T14:09:49.719Z"
   },
   {
    "duration": 7,
    "start_time": "2023-04-30T14:09:49.738Z"
   },
   {
    "duration": 8,
    "start_time": "2023-04-30T14:09:49.747Z"
   },
   {
    "duration": 48,
    "start_time": "2023-04-30T14:09:49.757Z"
   },
   {
    "duration": 20,
    "start_time": "2023-04-30T14:09:49.807Z"
   },
   {
    "duration": 5,
    "start_time": "2023-04-30T14:09:49.829Z"
   },
   {
    "duration": 14,
    "start_time": "2023-04-30T14:09:49.836Z"
   },
   {
    "duration": 36,
    "start_time": "2023-04-30T14:09:49.852Z"
   },
   {
    "duration": 25,
    "start_time": "2023-04-30T14:09:49.890Z"
   },
   {
    "duration": 8,
    "start_time": "2023-04-30T14:09:49.919Z"
   },
   {
    "duration": 26,
    "start_time": "2023-04-30T14:09:49.930Z"
   },
   {
    "duration": 30,
    "start_time": "2023-04-30T14:09:49.957Z"
   },
   {
    "duration": 6,
    "start_time": "2023-04-30T14:09:49.989Z"
   },
   {
    "duration": 7,
    "start_time": "2023-04-30T14:09:49.997Z"
   },
   {
    "duration": 13,
    "start_time": "2023-04-30T14:09:50.006Z"
   },
   {
    "duration": 6,
    "start_time": "2023-04-30T14:09:50.021Z"
   },
   {
    "duration": 14,
    "start_time": "2023-04-30T14:09:50.029Z"
   },
   {
    "duration": 44,
    "start_time": "2023-04-30T14:09:50.046Z"
   },
   {
    "duration": 32,
    "start_time": "2023-04-30T14:09:50.092Z"
   },
   {
    "duration": 6,
    "start_time": "2023-04-30T14:09:50.126Z"
   },
   {
    "duration": 19,
    "start_time": "2023-04-30T14:09:50.134Z"
   },
   {
    "duration": 6,
    "start_time": "2023-04-30T14:09:50.155Z"
   },
   {
    "duration": 6,
    "start_time": "2023-04-30T14:09:50.185Z"
   },
   {
    "duration": 8,
    "start_time": "2023-04-30T14:09:50.193Z"
   },
   {
    "duration": 276,
    "start_time": "2023-04-30T14:09:50.202Z"
   },
   {
    "duration": 7,
    "start_time": "2023-04-30T14:09:50.484Z"
   },
   {
    "duration": 279,
    "start_time": "2023-04-30T14:09:50.493Z"
   },
   {
    "duration": 5,
    "start_time": "2023-04-30T14:09:50.774Z"
   },
   {
    "duration": 12,
    "start_time": "2023-04-30T14:09:50.786Z"
   },
   {
    "duration": 12,
    "start_time": "2023-04-30T14:09:50.800Z"
   },
   {
    "duration": 385,
    "start_time": "2023-04-30T14:09:50.814Z"
   },
   {
    "duration": 6,
    "start_time": "2023-04-30T14:09:51.201Z"
   },
   {
    "duration": 275,
    "start_time": "2023-04-30T14:09:51.210Z"
   },
   {
    "duration": 5,
    "start_time": "2023-04-30T14:09:51.487Z"
   },
   {
    "duration": 12,
    "start_time": "2023-04-30T14:09:51.494Z"
   },
   {
    "duration": 13,
    "start_time": "2023-04-30T14:09:51.507Z"
   },
   {
    "duration": 26,
    "start_time": "2023-04-30T14:09:51.525Z"
   },
   {
    "duration": 47,
    "start_time": "2023-04-30T14:09:51.553Z"
   },
   {
    "duration": 0,
    "start_time": "2023-04-30T14:09:51.602Z"
   },
   {
    "duration": 0,
    "start_time": "2023-04-30T14:09:51.603Z"
   },
   {
    "duration": 0,
    "start_time": "2023-04-30T14:09:51.605Z"
   },
   {
    "duration": 0,
    "start_time": "2023-04-30T14:09:51.606Z"
   },
   {
    "duration": 0,
    "start_time": "2023-04-30T14:09:51.608Z"
   },
   {
    "duration": 0,
    "start_time": "2023-04-30T14:09:51.609Z"
   },
   {
    "duration": 0,
    "start_time": "2023-04-30T14:09:51.611Z"
   },
   {
    "duration": 0,
    "start_time": "2023-04-30T14:09:51.612Z"
   },
   {
    "duration": 0,
    "start_time": "2023-04-30T14:09:51.613Z"
   },
   {
    "duration": 0,
    "start_time": "2023-04-30T14:09:51.613Z"
   },
   {
    "duration": 0,
    "start_time": "2023-04-30T14:09:51.615Z"
   },
   {
    "duration": 0,
    "start_time": "2023-04-30T14:09:51.616Z"
   },
   {
    "duration": 0,
    "start_time": "2023-04-30T14:09:51.617Z"
   },
   {
    "duration": 0,
    "start_time": "2023-04-30T14:09:51.619Z"
   },
   {
    "duration": 0,
    "start_time": "2023-04-30T14:09:51.620Z"
   },
   {
    "duration": 0,
    "start_time": "2023-04-30T14:09:51.622Z"
   },
   {
    "duration": 0,
    "start_time": "2023-04-30T14:09:51.623Z"
   },
   {
    "duration": 0,
    "start_time": "2023-04-30T14:09:51.624Z"
   },
   {
    "duration": 0,
    "start_time": "2023-04-30T14:09:51.626Z"
   },
   {
    "duration": 0,
    "start_time": "2023-04-30T14:09:51.627Z"
   },
   {
    "duration": 0,
    "start_time": "2023-04-30T14:09:51.628Z"
   },
   {
    "duration": 12,
    "start_time": "2023-04-30T14:10:37.585Z"
   },
   {
    "duration": 97,
    "start_time": "2023-04-30T14:18:28.229Z"
   },
   {
    "duration": 15,
    "start_time": "2023-04-30T14:18:42.623Z"
   },
   {
    "duration": 846,
    "start_time": "2023-04-30T14:19:13.960Z"
   },
   {
    "duration": 20,
    "start_time": "2023-04-30T14:19:14.809Z"
   },
   {
    "duration": 44,
    "start_time": "2023-04-30T14:19:14.831Z"
   },
   {
    "duration": 15,
    "start_time": "2023-04-30T14:19:14.877Z"
   },
   {
    "duration": 21,
    "start_time": "2023-04-30T14:19:14.894Z"
   },
   {
    "duration": 12,
    "start_time": "2023-04-30T14:19:14.917Z"
   },
   {
    "duration": 7,
    "start_time": "2023-04-30T14:19:14.930Z"
   },
   {
    "duration": 49,
    "start_time": "2023-04-30T14:19:14.938Z"
   },
   {
    "duration": 20,
    "start_time": "2023-04-30T14:19:14.989Z"
   },
   {
    "duration": 26,
    "start_time": "2023-04-30T14:19:15.014Z"
   },
   {
    "duration": 25,
    "start_time": "2023-04-30T14:19:15.042Z"
   },
   {
    "duration": 7,
    "start_time": "2023-04-30T14:19:15.069Z"
   },
   {
    "duration": 23,
    "start_time": "2023-04-30T14:19:15.086Z"
   },
   {
    "duration": 6,
    "start_time": "2023-04-30T14:19:15.111Z"
   },
   {
    "duration": 31,
    "start_time": "2023-04-30T14:19:15.118Z"
   },
   {
    "duration": 6,
    "start_time": "2023-04-30T14:19:15.151Z"
   },
   {
    "duration": 29,
    "start_time": "2023-04-30T14:19:15.159Z"
   },
   {
    "duration": 16,
    "start_time": "2023-04-30T14:19:15.189Z"
   },
   {
    "duration": 16,
    "start_time": "2023-04-30T14:19:15.207Z"
   },
   {
    "duration": 6,
    "start_time": "2023-04-30T14:19:15.225Z"
   },
   {
    "duration": 7,
    "start_time": "2023-04-30T14:19:15.233Z"
   },
   {
    "duration": 45,
    "start_time": "2023-04-30T14:19:15.242Z"
   },
   {
    "duration": 34,
    "start_time": "2023-04-30T14:19:15.290Z"
   },
   {
    "duration": 5,
    "start_time": "2023-04-30T14:19:15.327Z"
   },
   {
    "duration": 11,
    "start_time": "2023-04-30T14:19:15.335Z"
   },
   {
    "duration": 6,
    "start_time": "2023-04-30T14:19:15.348Z"
   },
   {
    "duration": 7,
    "start_time": "2023-04-30T14:19:15.386Z"
   },
   {
    "duration": 19,
    "start_time": "2023-04-30T14:19:15.398Z"
   },
   {
    "duration": 390,
    "start_time": "2023-04-30T14:19:15.420Z"
   },
   {
    "duration": 8,
    "start_time": "2023-04-30T14:19:15.812Z"
   },
   {
    "duration": 443,
    "start_time": "2023-04-30T14:19:15.822Z"
   },
   {
    "duration": 7,
    "start_time": "2023-04-30T14:19:16.267Z"
   },
   {
    "duration": 16,
    "start_time": "2023-04-30T14:19:16.276Z"
   },
   {
    "duration": 10,
    "start_time": "2023-04-30T14:19:16.294Z"
   },
   {
    "duration": 377,
    "start_time": "2023-04-30T14:19:16.306Z"
   },
   {
    "duration": 7,
    "start_time": "2023-04-30T14:19:16.686Z"
   },
   {
    "duration": 324,
    "start_time": "2023-04-30T14:19:16.694Z"
   },
   {
    "duration": 5,
    "start_time": "2023-04-30T14:19:17.020Z"
   },
   {
    "duration": 9,
    "start_time": "2023-04-30T14:19:17.027Z"
   },
   {
    "duration": 12,
    "start_time": "2023-04-30T14:19:17.038Z"
   },
   {
    "duration": 58,
    "start_time": "2023-04-30T14:19:17.052Z"
   },
   {
    "duration": 49,
    "start_time": "2023-04-30T14:19:17.112Z"
   },
   {
    "duration": 0,
    "start_time": "2023-04-30T14:19:17.163Z"
   },
   {
    "duration": 0,
    "start_time": "2023-04-30T14:19:17.165Z"
   },
   {
    "duration": 0,
    "start_time": "2023-04-30T14:19:17.167Z"
   },
   {
    "duration": 0,
    "start_time": "2023-04-30T14:19:17.169Z"
   },
   {
    "duration": 0,
    "start_time": "2023-04-30T14:19:17.170Z"
   },
   {
    "duration": 0,
    "start_time": "2023-04-30T14:19:17.172Z"
   },
   {
    "duration": 0,
    "start_time": "2023-04-30T14:19:17.173Z"
   },
   {
    "duration": 0,
    "start_time": "2023-04-30T14:19:17.175Z"
   },
   {
    "duration": 0,
    "start_time": "2023-04-30T14:19:17.176Z"
   },
   {
    "duration": 0,
    "start_time": "2023-04-30T14:19:17.177Z"
   },
   {
    "duration": 0,
    "start_time": "2023-04-30T14:19:17.179Z"
   },
   {
    "duration": 0,
    "start_time": "2023-04-30T14:19:17.180Z"
   },
   {
    "duration": 0,
    "start_time": "2023-04-30T14:19:17.182Z"
   },
   {
    "duration": 0,
    "start_time": "2023-04-30T14:19:17.183Z"
   },
   {
    "duration": 0,
    "start_time": "2023-04-30T14:19:17.185Z"
   },
   {
    "duration": 0,
    "start_time": "2023-04-30T14:19:17.187Z"
   },
   {
    "duration": 0,
    "start_time": "2023-04-30T14:19:17.189Z"
   },
   {
    "duration": 0,
    "start_time": "2023-04-30T14:19:17.190Z"
   },
   {
    "duration": 0,
    "start_time": "2023-04-30T14:19:17.192Z"
   },
   {
    "duration": 0,
    "start_time": "2023-04-30T14:19:17.193Z"
   },
   {
    "duration": 0,
    "start_time": "2023-04-30T14:19:17.194Z"
   },
   {
    "duration": 867,
    "start_time": "2023-04-30T14:22:19.319Z"
   },
   {
    "duration": 21,
    "start_time": "2023-04-30T14:22:20.188Z"
   },
   {
    "duration": 45,
    "start_time": "2023-04-30T14:22:20.211Z"
   },
   {
    "duration": 11,
    "start_time": "2023-04-30T14:22:20.258Z"
   },
   {
    "duration": 15,
    "start_time": "2023-04-30T14:22:20.272Z"
   },
   {
    "duration": 16,
    "start_time": "2023-04-30T14:22:20.289Z"
   },
   {
    "duration": 8,
    "start_time": "2023-04-30T14:22:20.307Z"
   },
   {
    "duration": 37,
    "start_time": "2023-04-30T14:22:20.317Z"
   },
   {
    "duration": 36,
    "start_time": "2023-04-30T14:22:20.355Z"
   },
   {
    "duration": 6,
    "start_time": "2023-04-30T14:22:20.393Z"
   },
   {
    "duration": 15,
    "start_time": "2023-04-30T14:22:20.400Z"
   },
   {
    "duration": 6,
    "start_time": "2023-04-30T14:22:20.417Z"
   },
   {
    "duration": 24,
    "start_time": "2023-04-30T14:22:20.425Z"
   },
   {
    "duration": 7,
    "start_time": "2023-04-30T14:22:20.487Z"
   },
   {
    "duration": 25,
    "start_time": "2023-04-30T14:22:20.496Z"
   },
   {
    "duration": 33,
    "start_time": "2023-04-30T14:22:20.523Z"
   },
   {
    "duration": 10,
    "start_time": "2023-04-30T14:22:20.559Z"
   },
   {
    "duration": 9,
    "start_time": "2023-04-30T14:22:20.571Z"
   },
   {
    "duration": 31,
    "start_time": "2023-04-30T14:22:20.582Z"
   },
   {
    "duration": 14,
    "start_time": "2023-04-30T14:22:20.615Z"
   },
   {
    "duration": 13,
    "start_time": "2023-04-30T14:22:20.630Z"
   },
   {
    "duration": 21,
    "start_time": "2023-04-30T14:22:20.645Z"
   },
   {
    "duration": 35,
    "start_time": "2023-04-30T14:22:20.668Z"
   },
   {
    "duration": 6,
    "start_time": "2023-04-30T14:22:20.705Z"
   },
   {
    "duration": 16,
    "start_time": "2023-04-30T14:22:20.713Z"
   },
   {
    "duration": 8,
    "start_time": "2023-04-30T14:22:20.731Z"
   },
   {
    "duration": 14,
    "start_time": "2023-04-30T14:22:20.741Z"
   },
   {
    "duration": 9,
    "start_time": "2023-04-30T14:22:20.757Z"
   },
   {
    "duration": 263,
    "start_time": "2023-04-30T14:22:20.785Z"
   },
   {
    "duration": 8,
    "start_time": "2023-04-30T14:22:21.049Z"
   },
   {
    "duration": 312,
    "start_time": "2023-04-30T14:22:21.058Z"
   },
   {
    "duration": 13,
    "start_time": "2023-04-30T14:22:21.372Z"
   },
   {
    "duration": 24,
    "start_time": "2023-04-30T14:22:21.387Z"
   },
   {
    "duration": 29,
    "start_time": "2023-04-30T14:22:21.413Z"
   },
   {
    "duration": 318,
    "start_time": "2023-04-30T14:22:21.445Z"
   },
   {
    "duration": 8,
    "start_time": "2023-04-30T14:22:21.765Z"
   },
   {
    "duration": 307,
    "start_time": "2023-04-30T14:22:21.784Z"
   },
   {
    "duration": 5,
    "start_time": "2023-04-30T14:22:22.094Z"
   },
   {
    "duration": 19,
    "start_time": "2023-04-30T14:22:22.101Z"
   },
   {
    "duration": 31,
    "start_time": "2023-04-30T14:22:22.122Z"
   },
   {
    "duration": 29,
    "start_time": "2023-04-30T14:22:22.159Z"
   },
   {
    "duration": 279,
    "start_time": "2023-04-30T14:22:22.190Z"
   },
   {
    "duration": 17,
    "start_time": "2023-04-30T14:22:22.471Z"
   },
   {
    "duration": 256,
    "start_time": "2023-04-30T14:22:22.490Z"
   },
   {
    "duration": 6,
    "start_time": "2023-04-30T14:22:22.748Z"
   },
   {
    "duration": 30,
    "start_time": "2023-04-30T14:22:22.756Z"
   },
   {
    "duration": 20,
    "start_time": "2023-04-30T14:22:22.789Z"
   },
   {
    "duration": 275,
    "start_time": "2023-04-30T14:22:22.812Z"
   },
   {
    "duration": 7,
    "start_time": "2023-04-30T14:22:23.089Z"
   },
   {
    "duration": 394,
    "start_time": "2023-04-30T14:22:23.098Z"
   },
   {
    "duration": 7,
    "start_time": "2023-04-30T14:22:23.494Z"
   },
   {
    "duration": 7,
    "start_time": "2023-04-30T14:22:23.503Z"
   },
   {
    "duration": 12,
    "start_time": "2023-04-30T14:22:23.512Z"
   },
   {
    "duration": 6,
    "start_time": "2023-04-30T14:22:23.526Z"
   },
   {
    "duration": 12,
    "start_time": "2023-04-30T14:22:23.534Z"
   },
   {
    "duration": 43,
    "start_time": "2023-04-30T14:22:23.547Z"
   },
   {
    "duration": 12,
    "start_time": "2023-04-30T14:22:23.593Z"
   },
   {
    "duration": 11,
    "start_time": "2023-04-30T14:22:23.607Z"
   },
   {
    "duration": 10,
    "start_time": "2023-04-30T14:22:23.620Z"
   },
   {
    "duration": 7,
    "start_time": "2023-04-30T14:22:23.632Z"
   },
   {
    "duration": 14,
    "start_time": "2023-04-30T14:22:23.641Z"
   },
   {
    "duration": 15,
    "start_time": "2023-04-30T14:22:23.686Z"
   },
   {
    "duration": 17,
    "start_time": "2023-04-30T14:24:41.575Z"
   },
   {
    "duration": 5,
    "start_time": "2023-04-30T14:25:24.276Z"
   },
   {
    "duration": 17,
    "start_time": "2023-04-30T14:25:41.130Z"
   },
   {
    "duration": 6,
    "start_time": "2023-04-30T14:27:39.325Z"
   },
   {
    "duration": 18,
    "start_time": "2023-04-30T14:27:46.051Z"
   },
   {
    "duration": 820,
    "start_time": "2023-04-30T14:29:01.924Z"
   },
   {
    "duration": 28,
    "start_time": "2023-04-30T14:29:02.746Z"
   },
   {
    "duration": 40,
    "start_time": "2023-04-30T14:29:02.776Z"
   },
   {
    "duration": 11,
    "start_time": "2023-04-30T14:29:02.818Z"
   },
   {
    "duration": 20,
    "start_time": "2023-04-30T14:29:02.832Z"
   },
   {
    "duration": 8,
    "start_time": "2023-04-30T14:29:02.855Z"
   },
   {
    "duration": 22,
    "start_time": "2023-04-30T14:29:02.865Z"
   },
   {
    "duration": 44,
    "start_time": "2023-04-30T14:29:02.890Z"
   },
   {
    "duration": 20,
    "start_time": "2023-04-30T14:29:02.936Z"
   },
   {
    "duration": 9,
    "start_time": "2023-04-30T14:29:02.958Z"
   },
   {
    "duration": 28,
    "start_time": "2023-04-30T14:29:02.969Z"
   },
   {
    "duration": 16,
    "start_time": "2023-04-30T14:29:02.999Z"
   },
   {
    "duration": 30,
    "start_time": "2023-04-30T14:29:03.018Z"
   },
   {
    "duration": 18,
    "start_time": "2023-04-30T14:29:03.051Z"
   },
   {
    "duration": 52,
    "start_time": "2023-04-30T14:29:03.071Z"
   },
   {
    "duration": 15,
    "start_time": "2023-04-30T14:29:03.125Z"
   },
   {
    "duration": 27,
    "start_time": "2023-04-30T14:29:03.142Z"
   },
   {
    "duration": 17,
    "start_time": "2023-04-30T14:29:03.171Z"
   },
   {
    "duration": 26,
    "start_time": "2023-04-30T14:29:03.190Z"
   },
   {
    "duration": 7,
    "start_time": "2023-04-30T14:29:03.218Z"
   },
   {
    "duration": 29,
    "start_time": "2023-04-30T14:29:03.227Z"
   },
   {
    "duration": 28,
    "start_time": "2023-04-30T14:29:03.258Z"
   },
   {
    "duration": 38,
    "start_time": "2023-04-30T14:29:03.289Z"
   },
   {
    "duration": 5,
    "start_time": "2023-04-30T14:29:03.329Z"
   },
   {
    "duration": 16,
    "start_time": "2023-04-30T14:29:03.336Z"
   },
   {
    "duration": 5,
    "start_time": "2023-04-30T14:29:03.354Z"
   },
   {
    "duration": 8,
    "start_time": "2023-04-30T14:29:03.384Z"
   },
   {
    "duration": 10,
    "start_time": "2023-04-30T14:29:03.395Z"
   },
   {
    "duration": 300,
    "start_time": "2023-04-30T14:29:03.406Z"
   },
   {
    "duration": 6,
    "start_time": "2023-04-30T14:29:03.708Z"
   },
   {
    "duration": 387,
    "start_time": "2023-04-30T14:29:03.716Z"
   },
   {
    "duration": 5,
    "start_time": "2023-04-30T14:29:04.107Z"
   },
   {
    "duration": 9,
    "start_time": "2023-04-30T14:29:04.115Z"
   },
   {
    "duration": 12,
    "start_time": "2023-04-30T14:29:04.127Z"
   },
   {
    "duration": 405,
    "start_time": "2023-04-30T14:29:04.141Z"
   },
   {
    "duration": 6,
    "start_time": "2023-04-30T14:29:04.548Z"
   },
   {
    "duration": 288,
    "start_time": "2023-04-30T14:29:04.556Z"
   },
   {
    "duration": 5,
    "start_time": "2023-04-30T14:29:04.846Z"
   },
   {
    "duration": 23,
    "start_time": "2023-04-30T14:29:04.853Z"
   },
   {
    "duration": 12,
    "start_time": "2023-04-30T14:29:04.879Z"
   },
   {
    "duration": 273,
    "start_time": "2023-04-30T14:29:04.897Z"
   },
   {
    "duration": 14,
    "start_time": "2023-04-30T14:29:05.173Z"
   },
   {
    "duration": 252,
    "start_time": "2023-04-30T14:29:05.189Z"
   },
   {
    "duration": 5,
    "start_time": "2023-04-30T14:29:05.443Z"
   },
   {
    "duration": 14,
    "start_time": "2023-04-30T14:29:05.452Z"
   },
   {
    "duration": 23,
    "start_time": "2023-04-30T14:29:05.468Z"
   },
   {
    "duration": 256,
    "start_time": "2023-04-30T14:29:05.493Z"
   },
   {
    "duration": 7,
    "start_time": "2023-04-30T14:29:05.751Z"
   },
   {
    "duration": 348,
    "start_time": "2023-04-30T14:29:05.760Z"
   },
   {
    "duration": 7,
    "start_time": "2023-04-30T14:29:06.110Z"
   },
   {
    "duration": 8,
    "start_time": "2023-04-30T14:29:06.119Z"
   },
   {
    "duration": 12,
    "start_time": "2023-04-30T14:29:06.129Z"
   },
   {
    "duration": 7,
    "start_time": "2023-04-30T14:29:06.142Z"
   },
   {
    "duration": 43,
    "start_time": "2023-04-30T14:29:06.151Z"
   },
   {
    "duration": 8,
    "start_time": "2023-04-30T14:29:06.196Z"
   },
   {
    "duration": 29,
    "start_time": "2023-04-30T14:29:06.205Z"
   },
   {
    "duration": 7,
    "start_time": "2023-04-30T14:29:06.236Z"
   },
   {
    "duration": 10,
    "start_time": "2023-04-30T14:29:06.245Z"
   },
   {
    "duration": 5,
    "start_time": "2023-04-30T14:29:06.257Z"
   },
   {
    "duration": 27,
    "start_time": "2023-04-30T14:29:06.263Z"
   },
   {
    "duration": 12,
    "start_time": "2023-04-30T14:29:06.293Z"
   },
   {
    "duration": 90,
    "start_time": "2023-04-30T14:36:39.053Z"
   },
   {
    "duration": 15,
    "start_time": "2023-04-30T14:40:08.240Z"
   },
   {
    "duration": 17,
    "start_time": "2023-04-30T14:43:48.619Z"
   },
   {
    "duration": 15,
    "start_time": "2023-04-30T14:44:05.651Z"
   },
   {
    "duration": 24,
    "start_time": "2023-04-30T14:50:17.626Z"
   },
   {
    "duration": 764,
    "start_time": "2023-04-30T15:15:12.629Z"
   },
   {
    "duration": 1331,
    "start_time": "2023-04-30T15:15:23.863Z"
   },
   {
    "duration": 17,
    "start_time": "2023-04-30T15:15:25.196Z"
   },
   {
    "duration": 42,
    "start_time": "2023-04-30T15:15:25.214Z"
   },
   {
    "duration": 13,
    "start_time": "2023-04-30T15:15:25.259Z"
   },
   {
    "duration": 22,
    "start_time": "2023-04-30T15:15:25.274Z"
   },
   {
    "duration": 9,
    "start_time": "2023-04-30T15:15:25.297Z"
   },
   {
    "duration": 5,
    "start_time": "2023-04-30T15:15:25.309Z"
   },
   {
    "duration": 29,
    "start_time": "2023-04-30T15:15:25.316Z"
   },
   {
    "duration": 16,
    "start_time": "2023-04-30T15:15:25.347Z"
   },
   {
    "duration": 6,
    "start_time": "2023-04-30T15:15:25.384Z"
   },
   {
    "duration": 11,
    "start_time": "2023-04-30T15:15:25.392Z"
   },
   {
    "duration": 6,
    "start_time": "2023-04-30T15:15:25.404Z"
   },
   {
    "duration": 18,
    "start_time": "2023-04-30T15:15:25.412Z"
   },
   {
    "duration": 7,
    "start_time": "2023-04-30T15:15:25.432Z"
   },
   {
    "duration": 47,
    "start_time": "2023-04-30T15:15:25.440Z"
   },
   {
    "duration": 13,
    "start_time": "2023-04-30T15:15:25.488Z"
   },
   {
    "duration": 5,
    "start_time": "2023-04-30T15:15:25.503Z"
   },
   {
    "duration": 7,
    "start_time": "2023-04-30T15:15:25.510Z"
   },
   {
    "duration": 18,
    "start_time": "2023-04-30T15:15:25.519Z"
   },
   {
    "duration": 6,
    "start_time": "2023-04-30T15:15:25.539Z"
   },
   {
    "duration": 4,
    "start_time": "2023-04-30T15:15:25.547Z"
   },
   {
    "duration": 36,
    "start_time": "2023-04-30T15:15:25.553Z"
   },
   {
    "duration": 25,
    "start_time": "2023-04-30T15:15:25.590Z"
   },
   {
    "duration": 6,
    "start_time": "2023-04-30T15:15:25.617Z"
   },
   {
    "duration": 9,
    "start_time": "2023-04-30T15:15:25.624Z"
   },
   {
    "duration": 4,
    "start_time": "2023-04-30T15:15:25.635Z"
   },
   {
    "duration": 5,
    "start_time": "2023-04-30T15:15:25.641Z"
   },
   {
    "duration": 9,
    "start_time": "2023-04-30T15:15:25.689Z"
   },
   {
    "duration": 286,
    "start_time": "2023-04-30T15:15:25.700Z"
   },
   {
    "duration": 7,
    "start_time": "2023-04-30T15:15:25.988Z"
   },
   {
    "duration": 291,
    "start_time": "2023-04-30T15:15:25.999Z"
   },
   {
    "duration": 6,
    "start_time": "2023-04-30T15:15:26.292Z"
   },
   {
    "duration": 6,
    "start_time": "2023-04-30T15:15:26.300Z"
   },
   {
    "duration": 9,
    "start_time": "2023-04-30T15:15:26.308Z"
   },
   {
    "duration": 315,
    "start_time": "2023-04-30T15:15:26.318Z"
   },
   {
    "duration": 7,
    "start_time": "2023-04-30T15:15:26.635Z"
   },
   {
    "duration": 289,
    "start_time": "2023-04-30T15:15:26.644Z"
   },
   {
    "duration": 5,
    "start_time": "2023-04-30T15:15:26.935Z"
   },
   {
    "duration": 9,
    "start_time": "2023-04-30T15:15:26.942Z"
   },
   {
    "duration": 10,
    "start_time": "2023-04-30T15:15:26.953Z"
   },
   {
    "duration": 350,
    "start_time": "2023-04-30T15:15:26.986Z"
   },
   {
    "duration": 6,
    "start_time": "2023-04-30T15:15:27.338Z"
   },
   {
    "duration": 250,
    "start_time": "2023-04-30T15:15:27.346Z"
   },
   {
    "duration": 5,
    "start_time": "2023-04-30T15:15:27.597Z"
   },
   {
    "duration": 6,
    "start_time": "2023-04-30T15:15:27.603Z"
   },
   {
    "duration": 8,
    "start_time": "2023-04-30T15:15:27.611Z"
   },
   {
    "duration": 252,
    "start_time": "2023-04-30T15:15:27.620Z"
   },
   {
    "duration": 15,
    "start_time": "2023-04-30T15:15:27.874Z"
   },
   {
    "duration": 246,
    "start_time": "2023-04-30T15:15:27.891Z"
   },
   {
    "duration": 6,
    "start_time": "2023-04-30T15:15:28.139Z"
   },
   {
    "duration": 6,
    "start_time": "2023-04-30T15:15:28.147Z"
   },
   {
    "duration": 12,
    "start_time": "2023-04-30T15:15:28.155Z"
   },
   {
    "duration": 6,
    "start_time": "2023-04-30T15:15:28.186Z"
   },
   {
    "duration": 11,
    "start_time": "2023-04-30T15:15:28.194Z"
   },
   {
    "duration": 8,
    "start_time": "2023-04-30T15:15:28.206Z"
   },
   {
    "duration": 8,
    "start_time": "2023-04-30T15:15:28.216Z"
   },
   {
    "duration": 19,
    "start_time": "2023-04-30T15:15:28.226Z"
   },
   {
    "duration": 123,
    "start_time": "2023-04-30T16:48:44.634Z"
   },
   {
    "duration": 144,
    "start_time": "2023-04-30T16:49:38.242Z"
   },
   {
    "duration": 148,
    "start_time": "2023-04-30T16:50:07.051Z"
   },
   {
    "duration": 572,
    "start_time": "2023-04-30T16:56:26.275Z"
   },
   {
    "duration": 472,
    "start_time": "2023-04-30T16:57:08.712Z"
   },
   {
    "duration": 21,
    "start_time": "2023-04-30T17:13:54.268Z"
   },
   {
    "duration": 13,
    "start_time": "2023-04-30T17:20:40.508Z"
   },
   {
    "duration": 21,
    "start_time": "2023-04-30T17:58:30.777Z"
   },
   {
    "duration": 5,
    "start_time": "2023-04-30T18:02:38.386Z"
   },
   {
    "duration": 50,
    "start_time": "2023-04-30T18:03:04.844Z"
   },
   {
    "duration": 30,
    "start_time": "2023-04-30T18:04:21.952Z"
   },
   {
    "duration": 306,
    "start_time": "2023-04-30T18:07:06.318Z"
   },
   {
    "duration": 23,
    "start_time": "2023-04-30T18:07:33.484Z"
   },
   {
    "duration": 1377,
    "start_time": "2023-04-30T18:12:47.258Z"
   },
   {
    "duration": 18,
    "start_time": "2023-04-30T18:12:48.637Z"
   },
   {
    "duration": 63,
    "start_time": "2023-04-30T18:12:48.657Z"
   },
   {
    "duration": 13,
    "start_time": "2023-04-30T18:12:48.723Z"
   },
   {
    "duration": 23,
    "start_time": "2023-04-30T18:12:48.738Z"
   },
   {
    "duration": 8,
    "start_time": "2023-04-30T18:12:48.762Z"
   },
   {
    "duration": 9,
    "start_time": "2023-04-30T18:12:48.772Z"
   },
   {
    "duration": 28,
    "start_time": "2023-04-30T18:12:48.782Z"
   },
   {
    "duration": 23,
    "start_time": "2023-04-30T18:12:48.813Z"
   },
   {
    "duration": 9,
    "start_time": "2023-04-30T18:12:48.840Z"
   },
   {
    "duration": 41,
    "start_time": "2023-04-30T18:12:48.851Z"
   },
   {
    "duration": 7,
    "start_time": "2023-04-30T18:12:48.894Z"
   },
   {
    "duration": 26,
    "start_time": "2023-04-30T18:12:48.904Z"
   },
   {
    "duration": 11,
    "start_time": "2023-04-30T18:12:48.934Z"
   },
   {
    "duration": 51,
    "start_time": "2023-04-30T18:12:48.947Z"
   },
   {
    "duration": 8,
    "start_time": "2023-04-30T18:12:49.000Z"
   },
   {
    "duration": 11,
    "start_time": "2023-04-30T18:12:49.010Z"
   },
   {
    "duration": 92,
    "start_time": "2023-04-30T18:12:49.023Z"
   },
   {
    "duration": 30,
    "start_time": "2023-04-30T18:12:49.118Z"
   },
   {
    "duration": 7,
    "start_time": "2023-04-30T18:12:49.150Z"
   },
   {
    "duration": 7,
    "start_time": "2023-04-30T18:12:49.159Z"
   },
   {
    "duration": 48,
    "start_time": "2023-04-30T18:12:49.168Z"
   },
   {
    "duration": 47,
    "start_time": "2023-04-30T18:12:49.219Z"
   },
   {
    "duration": 5,
    "start_time": "2023-04-30T18:12:49.268Z"
   },
   {
    "duration": 9,
    "start_time": "2023-04-30T18:12:49.275Z"
   },
   {
    "duration": 5,
    "start_time": "2023-04-30T18:12:49.286Z"
   },
   {
    "duration": 5,
    "start_time": "2023-04-30T18:12:49.293Z"
   },
   {
    "duration": 9,
    "start_time": "2023-04-30T18:12:49.302Z"
   },
   {
    "duration": 300,
    "start_time": "2023-04-30T18:12:49.312Z"
   },
   {
    "duration": 7,
    "start_time": "2023-04-30T18:12:49.614Z"
   },
   {
    "duration": 268,
    "start_time": "2023-04-30T18:12:49.622Z"
   },
   {
    "duration": 5,
    "start_time": "2023-04-30T18:12:49.891Z"
   },
   {
    "duration": 7,
    "start_time": "2023-04-30T18:12:49.898Z"
   },
   {
    "duration": 14,
    "start_time": "2023-04-30T18:12:49.907Z"
   },
   {
    "duration": 291,
    "start_time": "2023-04-30T18:12:49.924Z"
   },
   {
    "duration": 7,
    "start_time": "2023-04-30T18:12:50.216Z"
   },
   {
    "duration": 306,
    "start_time": "2023-04-30T18:12:50.225Z"
   },
   {
    "duration": 4,
    "start_time": "2023-04-30T18:12:50.533Z"
   },
   {
    "duration": 25,
    "start_time": "2023-04-30T18:12:50.539Z"
   },
   {
    "duration": 20,
    "start_time": "2023-04-30T18:12:50.566Z"
   },
   {
    "duration": 346,
    "start_time": "2023-04-30T18:12:50.588Z"
   },
   {
    "duration": 6,
    "start_time": "2023-04-30T18:12:50.936Z"
   },
   {
    "duration": 276,
    "start_time": "2023-04-30T18:12:50.944Z"
   },
   {
    "duration": 7,
    "start_time": "2023-04-30T18:12:51.222Z"
   },
   {
    "duration": 7,
    "start_time": "2023-04-30T18:12:51.232Z"
   },
   {
    "duration": 13,
    "start_time": "2023-04-30T18:12:51.241Z"
   },
   {
    "duration": 269,
    "start_time": "2023-04-30T18:12:51.256Z"
   },
   {
    "duration": 7,
    "start_time": "2023-04-30T18:12:51.527Z"
   },
   {
    "duration": 246,
    "start_time": "2023-04-30T18:12:51.536Z"
   },
   {
    "duration": 6,
    "start_time": "2023-04-30T18:12:51.786Z"
   },
   {
    "duration": 8,
    "start_time": "2023-04-30T18:12:51.794Z"
   },
   {
    "duration": 11,
    "start_time": "2023-04-30T18:12:51.803Z"
   },
   {
    "duration": 14,
    "start_time": "2023-04-30T18:12:51.816Z"
   },
   {
    "duration": 15,
    "start_time": "2023-04-30T18:12:51.832Z"
   },
   {
    "duration": 38,
    "start_time": "2023-04-30T18:12:51.849Z"
   },
   {
    "duration": 11,
    "start_time": "2023-04-30T18:12:51.889Z"
   },
   {
    "duration": 22,
    "start_time": "2023-04-30T18:12:51.902Z"
   },
   {
    "duration": 21,
    "start_time": "2023-04-30T18:12:51.926Z"
   },
   {
    "duration": 60,
    "start_time": "2023-04-30T18:12:51.949Z"
   },
   {
    "duration": 1641,
    "start_time": "2023-05-01T07:28:45.781Z"
   },
   {
    "duration": 17,
    "start_time": "2023-05-01T07:28:47.424Z"
   },
   {
    "duration": 95,
    "start_time": "2023-05-01T07:28:47.443Z"
   },
   {
    "duration": 11,
    "start_time": "2023-05-01T07:28:47.540Z"
   },
   {
    "duration": 21,
    "start_time": "2023-05-01T07:28:47.553Z"
   },
   {
    "duration": 21,
    "start_time": "2023-05-01T07:28:47.576Z"
   },
   {
    "duration": 16,
    "start_time": "2023-05-01T07:28:47.599Z"
   },
   {
    "duration": 33,
    "start_time": "2023-05-01T07:28:47.617Z"
   },
   {
    "duration": 18,
    "start_time": "2023-05-01T07:28:47.652Z"
   },
   {
    "duration": 16,
    "start_time": "2023-05-01T07:28:47.673Z"
   },
   {
    "duration": 20,
    "start_time": "2023-05-01T07:28:47.691Z"
   },
   {
    "duration": 10,
    "start_time": "2023-05-01T07:28:47.713Z"
   },
   {
    "duration": 20,
    "start_time": "2023-05-01T07:28:47.725Z"
   },
   {
    "duration": 18,
    "start_time": "2023-05-01T07:28:47.747Z"
   },
   {
    "duration": 23,
    "start_time": "2023-05-01T07:28:47.767Z"
   },
   {
    "duration": 17,
    "start_time": "2023-05-01T07:28:47.791Z"
   },
   {
    "duration": 16,
    "start_time": "2023-05-01T07:28:47.810Z"
   },
   {
    "duration": 29,
    "start_time": "2023-05-01T07:28:47.828Z"
   },
   {
    "duration": 19,
    "start_time": "2023-05-01T07:28:47.859Z"
   },
   {
    "duration": 6,
    "start_time": "2023-05-01T07:28:47.879Z"
   },
   {
    "duration": 4,
    "start_time": "2023-05-01T07:28:47.887Z"
   },
   {
    "duration": 22,
    "start_time": "2023-05-01T07:28:47.892Z"
   },
   {
    "duration": 25,
    "start_time": "2023-05-01T07:28:47.916Z"
   },
   {
    "duration": 5,
    "start_time": "2023-05-01T07:28:47.943Z"
   },
   {
    "duration": 11,
    "start_time": "2023-05-01T07:28:47.949Z"
   },
   {
    "duration": 4,
    "start_time": "2023-05-01T07:28:47.962Z"
   },
   {
    "duration": 24,
    "start_time": "2023-05-01T07:28:47.968Z"
   },
   {
    "duration": 11,
    "start_time": "2023-05-01T07:28:47.996Z"
   },
   {
    "duration": 286,
    "start_time": "2023-05-01T07:28:48.009Z"
   },
   {
    "duration": 7,
    "start_time": "2023-05-01T07:28:48.296Z"
   },
   {
    "duration": 294,
    "start_time": "2023-05-01T07:28:48.305Z"
   },
   {
    "duration": 4,
    "start_time": "2023-05-01T07:28:48.601Z"
   },
   {
    "duration": 8,
    "start_time": "2023-05-01T07:28:48.607Z"
   },
   {
    "duration": 11,
    "start_time": "2023-05-01T07:28:48.617Z"
   },
   {
    "duration": 315,
    "start_time": "2023-05-01T07:28:48.630Z"
   },
   {
    "duration": 8,
    "start_time": "2023-05-01T07:28:48.946Z"
   },
   {
    "duration": 299,
    "start_time": "2023-05-01T07:28:48.956Z"
   },
   {
    "duration": 5,
    "start_time": "2023-05-01T07:28:49.257Z"
   },
   {
    "duration": 15,
    "start_time": "2023-05-01T07:28:49.264Z"
   },
   {
    "duration": 9,
    "start_time": "2023-05-01T07:28:49.288Z"
   },
   {
    "duration": 362,
    "start_time": "2023-05-01T07:28:49.300Z"
   },
   {
    "duration": 6,
    "start_time": "2023-05-01T07:28:49.664Z"
   },
   {
    "duration": 270,
    "start_time": "2023-05-01T07:28:49.672Z"
   },
   {
    "duration": 4,
    "start_time": "2023-05-01T07:28:49.944Z"
   },
   {
    "duration": 13,
    "start_time": "2023-05-01T07:28:49.949Z"
   },
   {
    "duration": 14,
    "start_time": "2023-05-01T07:28:49.963Z"
   },
   {
    "duration": 298,
    "start_time": "2023-05-01T07:28:49.979Z"
   },
   {
    "duration": 16,
    "start_time": "2023-05-01T07:28:50.279Z"
   },
   {
    "duration": 271,
    "start_time": "2023-05-01T07:28:50.298Z"
   },
   {
    "duration": 7,
    "start_time": "2023-05-01T07:28:50.571Z"
   },
   {
    "duration": 5,
    "start_time": "2023-05-01T07:28:50.589Z"
   },
   {
    "duration": 20,
    "start_time": "2023-05-01T07:28:50.596Z"
   },
   {
    "duration": 7,
    "start_time": "2023-05-01T07:28:50.617Z"
   },
   {
    "duration": 14,
    "start_time": "2023-05-01T07:28:50.625Z"
   },
   {
    "duration": 21,
    "start_time": "2023-05-01T07:28:50.641Z"
   },
   {
    "duration": 15,
    "start_time": "2023-05-01T07:28:50.664Z"
   },
   {
    "duration": 21,
    "start_time": "2023-05-01T07:28:50.689Z"
   },
   {
    "duration": 16,
    "start_time": "2023-05-01T07:28:50.712Z"
   },
   {
    "duration": 22,
    "start_time": "2023-05-01T07:28:50.730Z"
   },
   {
    "duration": 211,
    "start_time": "2023-05-01T07:32:19.766Z"
   },
   {
    "duration": 174,
    "start_time": "2023-05-01T07:35:00.499Z"
   },
   {
    "duration": 215,
    "start_time": "2023-05-01T08:17:41.333Z"
   },
   {
    "duration": 443,
    "start_time": "2023-05-01T08:20:48.125Z"
   },
   {
    "duration": 187,
    "start_time": "2023-05-01T08:21:21.248Z"
   },
   {
    "duration": 187,
    "start_time": "2023-05-01T08:21:32.963Z"
   },
   {
    "duration": 235,
    "start_time": "2023-05-01T08:22:50.116Z"
   },
   {
    "duration": 204,
    "start_time": "2023-05-01T08:23:03.910Z"
   },
   {
    "duration": 181,
    "start_time": "2023-05-01T08:36:22.339Z"
   },
   {
    "duration": 285,
    "start_time": "2023-05-01T08:38:42.380Z"
   },
   {
    "duration": 169,
    "start_time": "2023-05-01T08:41:41.381Z"
   },
   {
    "duration": 219,
    "start_time": "2023-05-01T08:51:37.811Z"
   },
   {
    "duration": 205,
    "start_time": "2023-05-01T08:53:16.907Z"
   },
   {
    "duration": 303,
    "start_time": "2023-05-01T08:53:52.402Z"
   },
   {
    "duration": 189,
    "start_time": "2023-05-01T08:54:07.782Z"
   },
   {
    "duration": 207,
    "start_time": "2023-05-01T09:07:59.916Z"
   },
   {
    "duration": 203,
    "start_time": "2023-05-01T09:10:26.676Z"
   },
   {
    "duration": 220,
    "start_time": "2023-05-01T09:12:49.719Z"
   },
   {
    "duration": 853,
    "start_time": "2023-05-01T09:27:08.633Z"
   },
   {
    "duration": 201,
    "start_time": "2023-05-01T09:27:39.979Z"
   },
   {
    "duration": 201,
    "start_time": "2023-05-01T09:30:27.316Z"
   },
   {
    "duration": 208,
    "start_time": "2023-05-01T09:42:18.401Z"
   },
   {
    "duration": 190,
    "start_time": "2023-05-01T09:42:59.047Z"
   },
   {
    "duration": 216,
    "start_time": "2023-05-01T09:43:09.283Z"
   },
   {
    "duration": 177,
    "start_time": "2023-05-01T09:43:38.286Z"
   },
   {
    "duration": 263,
    "start_time": "2023-05-01T09:51:15.900Z"
   },
   {
    "duration": 183,
    "start_time": "2023-05-01T09:56:42.334Z"
   },
   {
    "duration": 180,
    "start_time": "2023-05-01T10:43:03.606Z"
   },
   {
    "duration": 24,
    "start_time": "2023-05-01T11:11:37.556Z"
   },
   {
    "duration": 6,
    "start_time": "2023-05-01T11:50:03.652Z"
   },
   {
    "duration": 22,
    "start_time": "2023-05-01T12:39:07.062Z"
   },
   {
    "duration": 23,
    "start_time": "2023-05-01T12:42:23.841Z"
   },
   {
    "duration": 24,
    "start_time": "2023-05-01T12:43:52.315Z"
   },
   {
    "duration": 18,
    "start_time": "2023-05-01T12:46:13.026Z"
   },
   {
    "duration": 43,
    "start_time": "2023-05-01T12:46:23.105Z"
   },
   {
    "duration": 874,
    "start_time": "2023-05-01T13:00:17.675Z"
   },
   {
    "duration": 27,
    "start_time": "2023-05-01T13:00:32.726Z"
   },
   {
    "duration": 18,
    "start_time": "2023-05-01T13:00:41.141Z"
   },
   {
    "duration": 22,
    "start_time": "2023-05-01T13:01:37.822Z"
   },
   {
    "duration": 22,
    "start_time": "2023-05-01T13:02:50.602Z"
   },
   {
    "duration": 821,
    "start_time": "2023-05-01T13:03:06.702Z"
   },
   {
    "duration": 23,
    "start_time": "2023-05-01T13:03:28.407Z"
   },
   {
    "duration": 22,
    "start_time": "2023-05-01T13:06:55.302Z"
   },
   {
    "duration": 269,
    "start_time": "2023-05-01T13:23:19.074Z"
   },
   {
    "duration": 260,
    "start_time": "2023-05-01T13:24:02.085Z"
   },
   {
    "duration": 852,
    "start_time": "2023-05-01T13:31:03.728Z"
   },
   {
    "duration": 234,
    "start_time": "2023-05-01T13:32:25.615Z"
   },
   {
    "duration": 256,
    "start_time": "2023-05-01T13:36:17.409Z"
   },
   {
    "duration": 270,
    "start_time": "2023-05-01T13:39:16.731Z"
   },
   {
    "duration": 277,
    "start_time": "2023-05-01T13:40:23.841Z"
   },
   {
    "duration": 1190,
    "start_time": "2023-05-01T13:41:40.084Z"
   },
   {
    "duration": 239,
    "start_time": "2023-05-01T13:42:08.328Z"
   },
   {
    "duration": 318,
    "start_time": "2023-05-01T13:42:40.513Z"
   },
   {
    "duration": 1601,
    "start_time": "2023-05-01T13:45:01.729Z"
   },
   {
    "duration": 18,
    "start_time": "2023-05-01T13:45:03.331Z"
   },
   {
    "duration": 21,
    "start_time": "2023-05-01T13:45:03.351Z"
   },
   {
    "duration": 12,
    "start_time": "2023-05-01T13:45:03.375Z"
   },
   {
    "duration": 30,
    "start_time": "2023-05-01T13:45:03.396Z"
   },
   {
    "duration": 6,
    "start_time": "2023-05-01T13:45:03.428Z"
   },
   {
    "duration": 7,
    "start_time": "2023-05-01T13:45:03.436Z"
   },
   {
    "duration": 33,
    "start_time": "2023-05-01T13:45:03.445Z"
   },
   {
    "duration": 26,
    "start_time": "2023-05-01T13:45:03.494Z"
   },
   {
    "duration": 7,
    "start_time": "2023-05-01T13:45:03.527Z"
   },
   {
    "duration": 13,
    "start_time": "2023-05-01T13:45:03.536Z"
   },
   {
    "duration": 5,
    "start_time": "2023-05-01T13:45:03.551Z"
   },
   {
    "duration": 45,
    "start_time": "2023-05-01T13:45:03.558Z"
   },
   {
    "duration": 15,
    "start_time": "2023-05-01T13:45:03.605Z"
   },
   {
    "duration": 20,
    "start_time": "2023-05-01T13:45:03.622Z"
   },
   {
    "duration": 7,
    "start_time": "2023-05-01T13:45:03.644Z"
   },
   {
    "duration": 10,
    "start_time": "2023-05-01T13:45:03.652Z"
   },
   {
    "duration": 30,
    "start_time": "2023-05-01T13:45:03.664Z"
   },
   {
    "duration": 29,
    "start_time": "2023-05-01T13:45:03.696Z"
   },
   {
    "duration": 15,
    "start_time": "2023-05-01T13:45:03.728Z"
   },
   {
    "duration": 20,
    "start_time": "2023-05-01T13:45:03.745Z"
   },
   {
    "duration": 60,
    "start_time": "2023-05-01T13:45:03.767Z"
   },
   {
    "duration": 49,
    "start_time": "2023-05-01T13:45:03.829Z"
   },
   {
    "duration": 7,
    "start_time": "2023-05-01T13:45:03.879Z"
   },
   {
    "duration": 36,
    "start_time": "2023-05-01T13:45:03.888Z"
   },
   {
    "duration": 6,
    "start_time": "2023-05-01T13:45:03.926Z"
   },
   {
    "duration": 16,
    "start_time": "2023-05-01T13:45:03.935Z"
   },
   {
    "duration": 19,
    "start_time": "2023-05-01T13:45:03.955Z"
   },
   {
    "duration": 297,
    "start_time": "2023-05-01T13:45:03.976Z"
   },
   {
    "duration": 7,
    "start_time": "2023-05-01T13:45:04.275Z"
   },
   {
    "duration": 309,
    "start_time": "2023-05-01T13:45:04.293Z"
   },
   {
    "duration": 13,
    "start_time": "2023-05-01T13:45:04.611Z"
   },
   {
    "duration": 25,
    "start_time": "2023-05-01T13:45:04.626Z"
   },
   {
    "duration": 11,
    "start_time": "2023-05-01T13:45:04.652Z"
   },
   {
    "duration": 303,
    "start_time": "2023-05-01T13:45:04.666Z"
   },
   {
    "duration": 6,
    "start_time": "2023-05-01T13:45:04.971Z"
   },
   {
    "duration": 342,
    "start_time": "2023-05-01T13:45:04.979Z"
   },
   {
    "duration": 7,
    "start_time": "2023-05-01T13:45:05.323Z"
   },
   {
    "duration": 21,
    "start_time": "2023-05-01T13:45:05.333Z"
   },
   {
    "duration": 20,
    "start_time": "2023-05-01T13:45:05.356Z"
   },
   {
    "duration": 386,
    "start_time": "2023-05-01T13:45:05.378Z"
   },
   {
    "duration": 6,
    "start_time": "2023-05-01T13:45:05.766Z"
   },
   {
    "duration": 321,
    "start_time": "2023-05-01T13:45:05.774Z"
   },
   {
    "duration": 20,
    "start_time": "2023-05-01T13:45:06.097Z"
   },
   {
    "duration": 6,
    "start_time": "2023-05-01T13:45:06.119Z"
   },
   {
    "duration": 11,
    "start_time": "2023-05-01T13:45:06.127Z"
   },
   {
    "duration": 290,
    "start_time": "2023-05-01T13:45:06.140Z"
   },
   {
    "duration": 6,
    "start_time": "2023-05-01T13:45:06.432Z"
   },
   {
    "duration": 301,
    "start_time": "2023-05-01T13:45:06.440Z"
   },
   {
    "duration": 7,
    "start_time": "2023-05-01T13:45:06.742Z"
   },
   {
    "duration": 12,
    "start_time": "2023-05-01T13:45:06.751Z"
   },
   {
    "duration": 45,
    "start_time": "2023-05-01T13:45:06.765Z"
   },
   {
    "duration": 7,
    "start_time": "2023-05-01T13:45:06.817Z"
   },
   {
    "duration": 31,
    "start_time": "2023-05-01T13:45:06.827Z"
   },
   {
    "duration": 9,
    "start_time": "2023-05-01T13:45:06.860Z"
   },
   {
    "duration": 10,
    "start_time": "2023-05-01T13:45:06.871Z"
   },
   {
    "duration": 49,
    "start_time": "2023-05-01T13:45:06.883Z"
   },
   {
    "duration": 190,
    "start_time": "2023-05-01T13:45:06.940Z"
   },
   {
    "duration": 22,
    "start_time": "2023-05-01T13:45:07.132Z"
   },
   {
    "duration": 184,
    "start_time": "2023-05-01T13:45:07.155Z"
   },
   {
    "duration": 25,
    "start_time": "2023-05-01T13:45:07.340Z"
   },
   {
    "duration": 40,
    "start_time": "2023-05-01T13:45:07.366Z"
   },
   {
    "duration": 33,
    "start_time": "2023-05-01T13:45:07.415Z"
   },
   {
    "duration": 277,
    "start_time": "2023-05-01T13:45:07.450Z"
   },
   {
    "duration": 29,
    "start_time": "2023-05-01T15:05:17.069Z"
   },
   {
    "duration": 118,
    "start_time": "2023-05-01T15:14:44.260Z"
   },
   {
    "duration": 23,
    "start_time": "2023-05-01T15:17:33.882Z"
   },
   {
    "duration": 17,
    "start_time": "2023-05-01T15:21:58.753Z"
   },
   {
    "duration": 254,
    "start_time": "2023-05-01T15:28:35.362Z"
   },
   {
    "duration": 1374,
    "start_time": "2023-05-01T15:36:48.176Z"
   },
   {
    "duration": 18,
    "start_time": "2023-05-01T15:36:49.552Z"
   },
   {
    "duration": 42,
    "start_time": "2023-05-01T15:36:49.572Z"
   },
   {
    "duration": 14,
    "start_time": "2023-05-01T15:36:49.618Z"
   },
   {
    "duration": 24,
    "start_time": "2023-05-01T15:36:49.634Z"
   },
   {
    "duration": 12,
    "start_time": "2023-05-01T15:36:49.660Z"
   },
   {
    "duration": 20,
    "start_time": "2023-05-01T15:36:49.674Z"
   },
   {
    "duration": 36,
    "start_time": "2023-05-01T15:36:49.696Z"
   },
   {
    "duration": 25,
    "start_time": "2023-05-01T15:36:49.734Z"
   },
   {
    "duration": 5,
    "start_time": "2023-05-01T15:36:49.762Z"
   },
   {
    "duration": 31,
    "start_time": "2023-05-01T15:36:49.769Z"
   },
   {
    "duration": 9,
    "start_time": "2023-05-01T15:36:49.802Z"
   },
   {
    "duration": 20,
    "start_time": "2023-05-01T15:36:49.813Z"
   },
   {
    "duration": 7,
    "start_time": "2023-05-01T15:36:49.835Z"
   },
   {
    "duration": 13,
    "start_time": "2023-05-01T15:36:49.844Z"
   },
   {
    "duration": 6,
    "start_time": "2023-05-01T15:36:49.891Z"
   },
   {
    "duration": 8,
    "start_time": "2023-05-01T15:36:49.899Z"
   },
   {
    "duration": 7,
    "start_time": "2023-05-01T15:36:49.910Z"
   },
   {
    "duration": 14,
    "start_time": "2023-05-01T15:36:49.918Z"
   },
   {
    "duration": 6,
    "start_time": "2023-05-01T15:36:49.933Z"
   },
   {
    "duration": 49,
    "start_time": "2023-05-01T15:36:49.940Z"
   },
   {
    "duration": 13,
    "start_time": "2023-05-01T15:36:49.992Z"
   },
   {
    "duration": 26,
    "start_time": "2023-05-01T15:36:50.007Z"
   },
   {
    "duration": 6,
    "start_time": "2023-05-01T15:36:50.035Z"
   },
   {
    "duration": 23,
    "start_time": "2023-05-01T15:36:50.043Z"
   },
   {
    "duration": 43,
    "start_time": "2023-05-01T15:36:50.068Z"
   },
   {
    "duration": 13,
    "start_time": "2023-05-01T15:36:50.113Z"
   },
   {
    "duration": 11,
    "start_time": "2023-05-01T15:36:50.130Z"
   },
   {
    "duration": 355,
    "start_time": "2023-05-01T15:36:50.143Z"
   },
   {
    "duration": 6,
    "start_time": "2023-05-01T15:36:50.501Z"
   },
   {
    "duration": 318,
    "start_time": "2023-05-01T15:36:50.510Z"
   },
   {
    "duration": 6,
    "start_time": "2023-05-01T15:36:50.830Z"
   },
   {
    "duration": 32,
    "start_time": "2023-05-01T15:36:50.837Z"
   },
   {
    "duration": 19,
    "start_time": "2023-05-01T15:36:50.871Z"
   },
   {
    "duration": 293,
    "start_time": "2023-05-01T15:36:50.892Z"
   },
   {
    "duration": 6,
    "start_time": "2023-05-01T15:36:51.189Z"
   },
   {
    "duration": 301,
    "start_time": "2023-05-01T15:36:51.196Z"
   },
   {
    "duration": 5,
    "start_time": "2023-05-01T15:36:51.499Z"
   },
   {
    "duration": 24,
    "start_time": "2023-05-01T15:36:51.506Z"
   },
   {
    "duration": 31,
    "start_time": "2023-05-01T15:36:51.532Z"
   },
   {
    "duration": 391,
    "start_time": "2023-05-01T15:36:51.565Z"
   },
   {
    "duration": 7,
    "start_time": "2023-05-01T15:36:51.958Z"
   },
   {
    "duration": 260,
    "start_time": "2023-05-01T15:36:51.967Z"
   },
   {
    "duration": 5,
    "start_time": "2023-05-01T15:36:52.229Z"
   },
   {
    "duration": 50,
    "start_time": "2023-05-01T15:36:52.236Z"
   },
   {
    "duration": 23,
    "start_time": "2023-05-01T15:36:52.289Z"
   },
   {
    "duration": 246,
    "start_time": "2023-05-01T15:36:52.314Z"
   },
   {
    "duration": 6,
    "start_time": "2023-05-01T15:36:52.562Z"
   },
   {
    "duration": 271,
    "start_time": "2023-05-01T15:36:52.570Z"
   },
   {
    "duration": 8,
    "start_time": "2023-05-01T15:36:52.843Z"
   },
   {
    "duration": 8,
    "start_time": "2023-05-01T15:36:52.853Z"
   },
   {
    "duration": 27,
    "start_time": "2023-05-01T15:36:52.863Z"
   },
   {
    "duration": 5,
    "start_time": "2023-05-01T15:36:52.892Z"
   },
   {
    "duration": 13,
    "start_time": "2023-05-01T15:36:52.899Z"
   },
   {
    "duration": 7,
    "start_time": "2023-05-01T15:36:52.914Z"
   },
   {
    "duration": 12,
    "start_time": "2023-05-01T15:36:52.923Z"
   },
   {
    "duration": 21,
    "start_time": "2023-05-01T15:36:52.936Z"
   },
   {
    "duration": 214,
    "start_time": "2023-05-01T15:36:52.958Z"
   },
   {
    "duration": 26,
    "start_time": "2023-05-01T15:36:53.173Z"
   },
   {
    "duration": 169,
    "start_time": "2023-05-01T15:36:53.201Z"
   },
   {
    "duration": 29,
    "start_time": "2023-05-01T15:36:53.372Z"
   },
   {
    "duration": 7,
    "start_time": "2023-05-01T15:36:53.403Z"
   },
   {
    "duration": 22,
    "start_time": "2023-05-01T15:36:53.412Z"
   },
   {
    "duration": 54,
    "start_time": "2023-05-01T15:36:53.436Z"
   },
   {
    "duration": 265,
    "start_time": "2023-05-01T15:36:53.492Z"
   },
   {
    "duration": 366,
    "start_time": "2023-05-01T15:36:53.759Z"
   },
   {
    "duration": 6,
    "start_time": "2023-05-01T15:39:14.232Z"
   },
   {
    "duration": 6,
    "start_time": "2023-05-01T15:39:40.124Z"
   },
   {
    "duration": 1576,
    "start_time": "2023-05-02T06:23:04.989Z"
   },
   {
    "duration": 14,
    "start_time": "2023-05-02T06:23:06.567Z"
   },
   {
    "duration": 52,
    "start_time": "2023-05-02T06:23:06.582Z"
   },
   {
    "duration": 10,
    "start_time": "2023-05-02T06:23:06.636Z"
   },
   {
    "duration": 15,
    "start_time": "2023-05-02T06:23:06.648Z"
   },
   {
    "duration": 17,
    "start_time": "2023-05-02T06:23:06.664Z"
   },
   {
    "duration": 29,
    "start_time": "2023-05-02T06:23:06.683Z"
   },
   {
    "duration": 27,
    "start_time": "2023-05-02T06:23:06.714Z"
   },
   {
    "duration": 15,
    "start_time": "2023-05-02T06:23:06.742Z"
   },
   {
    "duration": 5,
    "start_time": "2023-05-02T06:23:06.759Z"
   },
   {
    "duration": 13,
    "start_time": "2023-05-02T06:23:06.766Z"
   },
   {
    "duration": 4,
    "start_time": "2023-05-02T06:23:06.781Z"
   },
   {
    "duration": 22,
    "start_time": "2023-05-02T06:23:06.786Z"
   },
   {
    "duration": 10,
    "start_time": "2023-05-02T06:23:06.811Z"
   },
   {
    "duration": 16,
    "start_time": "2023-05-02T06:23:06.823Z"
   },
   {
    "duration": 19,
    "start_time": "2023-05-02T06:23:06.841Z"
   },
   {
    "duration": 20,
    "start_time": "2023-05-02T06:23:06.861Z"
   },
   {
    "duration": 11,
    "start_time": "2023-05-02T06:23:06.883Z"
   },
   {
    "duration": 24,
    "start_time": "2023-05-02T06:23:06.896Z"
   },
   {
    "duration": 4,
    "start_time": "2023-05-02T06:23:06.922Z"
   },
   {
    "duration": 13,
    "start_time": "2023-05-02T06:23:06.928Z"
   },
   {
    "duration": 26,
    "start_time": "2023-05-02T06:23:06.943Z"
   },
   {
    "duration": 46,
    "start_time": "2023-05-02T06:23:06.971Z"
   },
   {
    "duration": 4,
    "start_time": "2023-05-02T06:23:07.018Z"
   },
   {
    "duration": 15,
    "start_time": "2023-05-02T06:23:07.024Z"
   },
   {
    "duration": 10,
    "start_time": "2023-05-02T06:23:07.040Z"
   },
   {
    "duration": 14,
    "start_time": "2023-05-02T06:23:07.052Z"
   },
   {
    "duration": 22,
    "start_time": "2023-05-02T06:23:07.068Z"
   },
   {
    "duration": 251,
    "start_time": "2023-05-02T06:23:07.092Z"
   },
   {
    "duration": 6,
    "start_time": "2023-05-02T06:23:07.345Z"
   },
   {
    "duration": 266,
    "start_time": "2023-05-02T06:23:07.352Z"
   },
   {
    "duration": 3,
    "start_time": "2023-05-02T06:23:07.620Z"
   },
   {
    "duration": 13,
    "start_time": "2023-05-02T06:23:07.625Z"
   },
   {
    "duration": 15,
    "start_time": "2023-05-02T06:23:07.639Z"
   },
   {
    "duration": 277,
    "start_time": "2023-05-02T06:23:07.656Z"
   },
   {
    "duration": 5,
    "start_time": "2023-05-02T06:23:07.935Z"
   },
   {
    "duration": 281,
    "start_time": "2023-05-02T06:23:07.942Z"
   },
   {
    "duration": 5,
    "start_time": "2023-05-02T06:23:08.227Z"
   },
   {
    "duration": 10,
    "start_time": "2023-05-02T06:23:08.234Z"
   },
   {
    "duration": 20,
    "start_time": "2023-05-02T06:23:08.246Z"
   },
   {
    "duration": 323,
    "start_time": "2023-05-02T06:23:08.270Z"
   },
   {
    "duration": 5,
    "start_time": "2023-05-02T06:23:08.594Z"
   },
   {
    "duration": 240,
    "start_time": "2023-05-02T06:23:08.601Z"
   },
   {
    "duration": 4,
    "start_time": "2023-05-02T06:23:08.843Z"
   },
   {
    "duration": 8,
    "start_time": "2023-05-02T06:23:08.848Z"
   },
   {
    "duration": 8,
    "start_time": "2023-05-02T06:23:08.857Z"
   },
   {
    "duration": 250,
    "start_time": "2023-05-02T06:23:08.866Z"
   },
   {
    "duration": 7,
    "start_time": "2023-05-02T06:23:09.117Z"
   },
   {
    "duration": 253,
    "start_time": "2023-05-02T06:23:09.125Z"
   },
   {
    "duration": 15,
    "start_time": "2023-05-02T06:23:09.380Z"
   },
   {
    "duration": 5,
    "start_time": "2023-05-02T06:23:09.397Z"
   },
   {
    "duration": 11,
    "start_time": "2023-05-02T06:23:09.404Z"
   },
   {
    "duration": 7,
    "start_time": "2023-05-02T06:23:09.416Z"
   },
   {
    "duration": 13,
    "start_time": "2023-05-02T06:23:09.424Z"
   },
   {
    "duration": 6,
    "start_time": "2023-05-02T06:23:09.439Z"
   },
   {
    "duration": 8,
    "start_time": "2023-05-02T06:23:09.447Z"
   },
   {
    "duration": 59,
    "start_time": "2023-05-02T06:23:09.457Z"
   },
   {
    "duration": 156,
    "start_time": "2023-05-02T06:23:09.517Z"
   },
   {
    "duration": 23,
    "start_time": "2023-05-02T06:23:09.674Z"
   },
   {
    "duration": 153,
    "start_time": "2023-05-02T06:23:09.698Z"
   },
   {
    "duration": 22,
    "start_time": "2023-05-02T06:23:09.853Z"
   },
   {
    "duration": 21,
    "start_time": "2023-05-02T06:23:09.877Z"
   },
   {
    "duration": 21,
    "start_time": "2023-05-02T06:23:09.899Z"
   },
   {
    "duration": 19,
    "start_time": "2023-05-02T06:23:09.922Z"
   },
   {
    "duration": 246,
    "start_time": "2023-05-02T06:23:09.943Z"
   },
   {
    "duration": 334,
    "start_time": "2023-05-02T06:23:10.191Z"
   },
   {
    "duration": 4,
    "start_time": "2023-05-02T06:23:10.527Z"
   },
   {
    "duration": 4,
    "start_time": "2023-05-02T06:24:49.485Z"
   },
   {
    "duration": 6,
    "start_time": "2023-05-02T06:25:04.332Z"
   },
   {
    "duration": 1230,
    "start_time": "2023-05-02T06:25:39.951Z"
   },
   {
    "duration": 17,
    "start_time": "2023-05-02T06:25:41.183Z"
   },
   {
    "duration": 36,
    "start_time": "2023-05-02T06:25:41.202Z"
   },
   {
    "duration": 11,
    "start_time": "2023-05-02T06:25:41.239Z"
   },
   {
    "duration": 13,
    "start_time": "2023-05-02T06:25:41.252Z"
   },
   {
    "duration": 13,
    "start_time": "2023-05-02T06:25:41.267Z"
   },
   {
    "duration": 5,
    "start_time": "2023-05-02T06:25:41.282Z"
   },
   {
    "duration": 28,
    "start_time": "2023-05-02T06:25:41.289Z"
   },
   {
    "duration": 14,
    "start_time": "2023-05-02T06:25:41.319Z"
   },
   {
    "duration": 5,
    "start_time": "2023-05-02T06:25:41.334Z"
   },
   {
    "duration": 15,
    "start_time": "2023-05-02T06:25:41.340Z"
   },
   {
    "duration": 4,
    "start_time": "2023-05-02T06:25:41.357Z"
   },
   {
    "duration": 43,
    "start_time": "2023-05-02T06:25:41.363Z"
   },
   {
    "duration": 5,
    "start_time": "2023-05-02T06:25:41.410Z"
   },
   {
    "duration": 14,
    "start_time": "2023-05-02T06:25:41.417Z"
   },
   {
    "duration": 13,
    "start_time": "2023-05-02T06:25:41.432Z"
   },
   {
    "duration": 16,
    "start_time": "2023-05-02T06:25:41.447Z"
   },
   {
    "duration": 27,
    "start_time": "2023-05-02T06:25:41.464Z"
   },
   {
    "duration": 15,
    "start_time": "2023-05-02T06:25:41.493Z"
   },
   {
    "duration": 8,
    "start_time": "2023-05-02T06:25:41.510Z"
   },
   {
    "duration": 20,
    "start_time": "2023-05-02T06:25:41.520Z"
   },
   {
    "duration": 23,
    "start_time": "2023-05-02T06:25:41.542Z"
   },
   {
    "duration": 37,
    "start_time": "2023-05-02T06:25:41.566Z"
   },
   {
    "duration": 5,
    "start_time": "2023-05-02T06:25:41.605Z"
   },
   {
    "duration": 10,
    "start_time": "2023-05-02T06:25:41.611Z"
   },
   {
    "duration": 22,
    "start_time": "2023-05-02T06:25:41.622Z"
   },
   {
    "duration": 6,
    "start_time": "2023-05-02T06:25:41.646Z"
   },
   {
    "duration": 8,
    "start_time": "2023-05-02T06:25:41.653Z"
   },
   {
    "duration": 283,
    "start_time": "2023-05-02T06:25:41.662Z"
   },
   {
    "duration": 6,
    "start_time": "2023-05-02T06:25:41.946Z"
   },
   {
    "duration": 259,
    "start_time": "2023-05-02T06:25:41.953Z"
   },
   {
    "duration": 4,
    "start_time": "2023-05-02T06:25:42.213Z"
   },
   {
    "duration": 7,
    "start_time": "2023-05-02T06:25:42.218Z"
   },
   {
    "duration": 11,
    "start_time": "2023-05-02T06:25:42.227Z"
   },
   {
    "duration": 281,
    "start_time": "2023-05-02T06:25:42.240Z"
   },
   {
    "duration": 6,
    "start_time": "2023-05-02T06:25:42.522Z"
   },
   {
    "duration": 256,
    "start_time": "2023-05-02T06:25:42.529Z"
   },
   {
    "duration": 9,
    "start_time": "2023-05-02T06:25:42.786Z"
   },
   {
    "duration": 10,
    "start_time": "2023-05-02T06:25:42.796Z"
   },
   {
    "duration": 16,
    "start_time": "2023-05-02T06:25:42.807Z"
   },
   {
    "duration": 306,
    "start_time": "2023-05-02T06:25:42.826Z"
   },
   {
    "duration": 5,
    "start_time": "2023-05-02T06:25:43.133Z"
   },
   {
    "duration": 238,
    "start_time": "2023-05-02T06:25:43.140Z"
   },
   {
    "duration": 13,
    "start_time": "2023-05-02T06:25:43.380Z"
   },
   {
    "duration": 4,
    "start_time": "2023-05-02T06:25:43.394Z"
   },
   {
    "duration": 13,
    "start_time": "2023-05-02T06:25:43.400Z"
   },
   {
    "duration": 237,
    "start_time": "2023-05-02T06:25:43.415Z"
   },
   {
    "duration": 6,
    "start_time": "2023-05-02T06:25:43.653Z"
   },
   {
    "duration": 248,
    "start_time": "2023-05-02T06:25:43.660Z"
   },
   {
    "duration": 6,
    "start_time": "2023-05-02T06:25:43.910Z"
   },
   {
    "duration": 9,
    "start_time": "2023-05-02T06:25:43.918Z"
   },
   {
    "duration": 9,
    "start_time": "2023-05-02T06:25:43.928Z"
   },
   {
    "duration": 6,
    "start_time": "2023-05-02T06:25:43.939Z"
   },
   {
    "duration": 25,
    "start_time": "2023-05-02T06:25:43.947Z"
   },
   {
    "duration": 8,
    "start_time": "2023-05-02T06:25:43.974Z"
   },
   {
    "duration": 15,
    "start_time": "2023-05-02T06:25:43.993Z"
   },
   {
    "duration": 19,
    "start_time": "2023-05-02T06:25:44.010Z"
   },
   {
    "duration": 176,
    "start_time": "2023-05-02T06:25:44.031Z"
   },
   {
    "duration": 16,
    "start_time": "2023-05-02T06:25:44.209Z"
   },
   {
    "duration": 159,
    "start_time": "2023-05-02T06:25:44.227Z"
   },
   {
    "duration": 22,
    "start_time": "2023-05-02T06:25:44.388Z"
   },
   {
    "duration": 4,
    "start_time": "2023-05-02T06:25:44.412Z"
   },
   {
    "duration": 34,
    "start_time": "2023-05-02T06:25:44.417Z"
   },
   {
    "duration": 18,
    "start_time": "2023-05-02T06:25:44.453Z"
   },
   {
    "duration": 233,
    "start_time": "2023-05-02T06:25:44.472Z"
   },
   {
    "duration": 335,
    "start_time": "2023-05-02T06:25:44.706Z"
   },
   {
    "duration": 6,
    "start_time": "2023-05-02T06:25:45.043Z"
   },
   {
    "duration": 22,
    "start_time": "2023-05-02T06:25:45.051Z"
   },
   {
    "duration": 107,
    "start_time": "2023-05-02T06:26:19.890Z"
   },
   {
    "duration": 6,
    "start_time": "2023-05-02T06:32:16.456Z"
   },
   {
    "duration": 5,
    "start_time": "2023-05-02T06:32:30.428Z"
   },
   {
    "duration": 4,
    "start_time": "2023-05-02T06:34:37.950Z"
   },
   {
    "duration": 7,
    "start_time": "2023-05-02T06:34:40.825Z"
   },
   {
    "duration": 6,
    "start_time": "2023-05-02T06:34:45.082Z"
   },
   {
    "duration": 9,
    "start_time": "2023-05-02T06:43:10.527Z"
   },
   {
    "duration": 16,
    "start_time": "2023-05-02T06:43:37.787Z"
   },
   {
    "duration": 79,
    "start_time": "2023-05-02T06:43:51.590Z"
   },
   {
    "duration": 44,
    "start_time": "2023-05-02T06:44:07.840Z"
   },
   {
    "duration": 21,
    "start_time": "2023-05-02T06:47:15.661Z"
   },
   {
    "duration": 10,
    "start_time": "2023-05-02T06:47:39.949Z"
   },
   {
    "duration": 41,
    "start_time": "2023-05-02T06:48:26.084Z"
   },
   {
    "duration": 8,
    "start_time": "2023-05-02T06:48:49.532Z"
   },
   {
    "duration": 39,
    "start_time": "2023-05-02T06:58:12.389Z"
   },
   {
    "duration": 22,
    "start_time": "2023-05-02T06:58:44.023Z"
   },
   {
    "duration": 18,
    "start_time": "2023-05-02T06:58:58.049Z"
   },
   {
    "duration": 12,
    "start_time": "2023-05-02T07:03:09.486Z"
   },
   {
    "duration": 10,
    "start_time": "2023-05-02T07:08:10.430Z"
   },
   {
    "duration": 19,
    "start_time": "2023-05-02T07:08:56.544Z"
   },
   {
    "duration": 16,
    "start_time": "2023-05-02T07:09:50.490Z"
   },
   {
    "duration": 12,
    "start_time": "2023-05-02T07:13:01.316Z"
   },
   {
    "duration": 12,
    "start_time": "2023-05-02T07:14:03.117Z"
   },
   {
    "duration": 9,
    "start_time": "2023-05-02T07:15:50.122Z"
   },
   {
    "duration": 17,
    "start_time": "2023-05-02T07:17:49.213Z"
   },
   {
    "duration": 7,
    "start_time": "2023-05-02T07:22:32.933Z"
   },
   {
    "duration": 10,
    "start_time": "2023-05-02T07:33:49.896Z"
   },
   {
    "duration": 10,
    "start_time": "2023-05-02T07:34:10.489Z"
   },
   {
    "duration": 6,
    "start_time": "2023-05-02T07:54:23.543Z"
   },
   {
    "duration": 218,
    "start_time": "2023-05-02T08:30:24.807Z"
   },
   {
    "duration": 236,
    "start_time": "2023-05-02T08:30:49.209Z"
   },
   {
    "duration": 259,
    "start_time": "2023-05-02T08:32:41.642Z"
   },
   {
    "duration": 9,
    "start_time": "2023-05-02T08:34:07.276Z"
   },
   {
    "duration": 7,
    "start_time": "2023-05-02T08:53:22.488Z"
   },
   {
    "duration": 10,
    "start_time": "2023-05-02T08:55:06.518Z"
   },
   {
    "duration": 1133,
    "start_time": "2023-05-02T08:59:42.416Z"
   },
   {
    "duration": 8,
    "start_time": "2023-05-02T08:59:58.220Z"
   },
   {
    "duration": 7,
    "start_time": "2023-05-02T09:00:40.383Z"
   },
   {
    "duration": 8,
    "start_time": "2023-05-02T09:02:53.289Z"
   },
   {
    "duration": 19,
    "start_time": "2023-05-02T09:14:53.948Z"
   },
   {
    "duration": 7,
    "start_time": "2023-05-02T09:21:08.482Z"
   },
   {
    "duration": 48,
    "start_time": "2023-05-02T09:22:22.377Z"
   },
   {
    "duration": 7,
    "start_time": "2023-05-02T09:22:31.118Z"
   },
   {
    "duration": 6,
    "start_time": "2023-05-02T09:25:16.333Z"
   },
   {
    "duration": 1340,
    "start_time": "2023-05-02T09:28:37.740Z"
   },
   {
    "duration": 280,
    "start_time": "2023-05-02T09:29:00.917Z"
   },
   {
    "duration": 8,
    "start_time": "2023-05-02T09:31:26.853Z"
   },
   {
    "duration": 11,
    "start_time": "2023-05-02T09:35:38.977Z"
   },
   {
    "duration": 11,
    "start_time": "2023-05-02T09:36:36.978Z"
   },
   {
    "duration": 13,
    "start_time": "2023-05-02T09:37:20.119Z"
   },
   {
    "duration": 296,
    "start_time": "2023-05-02T09:39:45.542Z"
   },
   {
    "duration": 386,
    "start_time": "2023-05-02T09:40:34.604Z"
   },
   {
    "duration": 170,
    "start_time": "2023-05-02T09:44:10.028Z"
   },
   {
    "duration": 734,
    "start_time": "2023-05-02T09:45:23.761Z"
   },
   {
    "duration": 173,
    "start_time": "2023-05-02T09:46:21.523Z"
   },
   {
    "duration": 27,
    "start_time": "2023-05-02T09:57:10.938Z"
   },
   {
    "duration": 15,
    "start_time": "2023-05-02T09:59:05.740Z"
   },
   {
    "duration": 16,
    "start_time": "2023-05-02T10:01:34.241Z"
   },
   {
    "duration": 8,
    "start_time": "2023-05-02T10:04:52.802Z"
   },
   {
    "duration": 29,
    "start_time": "2023-05-02T10:12:10.833Z"
   },
   {
    "duration": 26,
    "start_time": "2023-05-02T10:12:20.314Z"
   },
   {
    "duration": 28,
    "start_time": "2023-05-02T10:12:34.733Z"
   },
   {
    "duration": 24,
    "start_time": "2023-05-02T10:13:10.415Z"
   },
   {
    "duration": 25,
    "start_time": "2023-05-02T10:18:26.312Z"
   },
   {
    "duration": 25,
    "start_time": "2023-05-02T10:19:50.164Z"
   },
   {
    "duration": 36,
    "start_time": "2023-05-02T10:22:51.803Z"
   },
   {
    "duration": 26,
    "start_time": "2023-05-02T10:23:50.138Z"
   },
   {
    "duration": 19,
    "start_time": "2023-05-02T10:31:32.204Z"
   },
   {
    "duration": 31,
    "start_time": "2023-05-02T10:38:27.074Z"
   },
   {
    "duration": 416,
    "start_time": "2023-05-02T10:39:12.583Z"
   },
   {
    "duration": 392,
    "start_time": "2023-05-02T10:39:32.524Z"
   },
   {
    "duration": 401,
    "start_time": "2023-05-02T10:39:54.821Z"
   },
   {
    "duration": 152,
    "start_time": "2023-05-02T10:46:57.230Z"
   },
   {
    "duration": 167,
    "start_time": "2023-05-02T10:49:15.018Z"
   },
   {
    "duration": 165,
    "start_time": "2023-05-02T10:49:50.250Z"
   },
   {
    "duration": 183,
    "start_time": "2023-05-02T10:52:30.244Z"
   },
   {
    "duration": 554,
    "start_time": "2023-05-02T10:53:41.563Z"
   },
   {
    "duration": 44,
    "start_time": "2023-05-02T12:18:44.416Z"
   },
   {
    "duration": 2007,
    "start_time": "2023-05-02T12:41:29.365Z"
   },
   {
    "duration": 35,
    "start_time": "2023-05-02T12:41:31.379Z"
   },
   {
    "duration": 139,
    "start_time": "2023-05-02T12:41:31.416Z"
   },
   {
    "duration": 13,
    "start_time": "2023-05-02T12:41:31.563Z"
   },
   {
    "duration": 85,
    "start_time": "2023-05-02T12:41:31.579Z"
   },
   {
    "duration": 9,
    "start_time": "2023-05-02T12:41:31.666Z"
   },
   {
    "duration": 87,
    "start_time": "2023-05-02T12:41:31.680Z"
   },
   {
    "duration": 90,
    "start_time": "2023-05-02T12:41:31.771Z"
   },
   {
    "duration": 37,
    "start_time": "2023-05-02T12:41:31.864Z"
   },
   {
    "duration": 10,
    "start_time": "2023-05-02T12:41:31.903Z"
   },
   {
    "duration": 24,
    "start_time": "2023-05-02T12:41:31.916Z"
   },
   {
    "duration": 47,
    "start_time": "2023-05-02T12:41:31.942Z"
   },
   {
    "duration": 62,
    "start_time": "2023-05-02T12:41:31.992Z"
   },
   {
    "duration": 53,
    "start_time": "2023-05-02T12:41:32.057Z"
   },
   {
    "duration": 34,
    "start_time": "2023-05-02T12:41:32.117Z"
   },
   {
    "duration": 58,
    "start_time": "2023-05-02T12:41:32.153Z"
   },
   {
    "duration": 50,
    "start_time": "2023-05-02T12:41:32.213Z"
   },
   {
    "duration": 23,
    "start_time": "2023-05-02T12:41:32.266Z"
   },
   {
    "duration": 49,
    "start_time": "2023-05-02T12:41:32.291Z"
   },
   {
    "duration": 22,
    "start_time": "2023-05-02T12:41:32.342Z"
   },
   {
    "duration": 6,
    "start_time": "2023-05-02T12:41:32.370Z"
   },
   {
    "duration": 48,
    "start_time": "2023-05-02T12:41:32.381Z"
   },
   {
    "duration": 49,
    "start_time": "2023-05-02T12:41:32.433Z"
   },
   {
    "duration": 11,
    "start_time": "2023-05-02T12:41:32.484Z"
   },
   {
    "duration": 32,
    "start_time": "2023-05-02T12:41:32.508Z"
   },
   {
    "duration": 8,
    "start_time": "2023-05-02T12:41:32.543Z"
   },
   {
    "duration": 22,
    "start_time": "2023-05-02T12:41:32.555Z"
   },
   {
    "duration": 38,
    "start_time": "2023-05-02T12:41:32.579Z"
   },
   {
    "duration": 398,
    "start_time": "2023-05-02T12:41:32.622Z"
   },
   {
    "duration": 17,
    "start_time": "2023-05-02T12:41:33.026Z"
   },
   {
    "duration": 409,
    "start_time": "2023-05-02T12:41:33.054Z"
   },
   {
    "duration": 15,
    "start_time": "2023-05-02T12:41:33.469Z"
   },
   {
    "duration": 66,
    "start_time": "2023-05-02T12:41:33.486Z"
   },
   {
    "duration": 16,
    "start_time": "2023-05-02T12:41:33.561Z"
   },
   {
    "duration": 464,
    "start_time": "2023-05-02T12:41:33.580Z"
   },
   {
    "duration": 18,
    "start_time": "2023-05-02T12:41:34.056Z"
   },
   {
    "duration": 405,
    "start_time": "2023-05-02T12:41:34.077Z"
   },
   {
    "duration": 5,
    "start_time": "2023-05-02T12:41:34.484Z"
   },
   {
    "duration": 53,
    "start_time": "2023-05-02T12:41:34.491Z"
   },
   {
    "duration": 13,
    "start_time": "2023-05-02T12:41:34.555Z"
   },
   {
    "duration": 552,
    "start_time": "2023-05-02T12:41:34.575Z"
   },
   {
    "duration": 7,
    "start_time": "2023-05-02T12:41:35.133Z"
   },
   {
    "duration": 418,
    "start_time": "2023-05-02T12:41:35.142Z"
   },
   {
    "duration": 5,
    "start_time": "2023-05-02T12:41:35.562Z"
   },
   {
    "duration": 34,
    "start_time": "2023-05-02T12:41:35.569Z"
   },
   {
    "duration": 44,
    "start_time": "2023-05-02T12:41:35.605Z"
   },
   {
    "duration": 329,
    "start_time": "2023-05-02T12:41:35.651Z"
   },
   {
    "duration": 16,
    "start_time": "2023-05-02T12:41:35.982Z"
   },
   {
    "duration": 450,
    "start_time": "2023-05-02T12:41:36.000Z"
   },
   {
    "duration": 11,
    "start_time": "2023-05-02T12:41:36.464Z"
   },
   {
    "duration": 13,
    "start_time": "2023-05-02T12:41:36.477Z"
   },
   {
    "duration": 64,
    "start_time": "2023-05-02T12:41:36.492Z"
   },
   {
    "duration": 13,
    "start_time": "2023-05-02T12:41:36.561Z"
   },
   {
    "duration": 92,
    "start_time": "2023-05-02T12:41:36.576Z"
   },
   {
    "duration": 10,
    "start_time": "2023-05-02T12:41:36.670Z"
   },
   {
    "duration": 53,
    "start_time": "2023-05-02T12:41:36.682Z"
   },
   {
    "duration": 49,
    "start_time": "2023-05-02T12:41:36.737Z"
   },
   {
    "duration": 249,
    "start_time": "2023-05-02T12:41:36.788Z"
   },
   {
    "duration": 22,
    "start_time": "2023-05-02T12:41:37.039Z"
   },
   {
    "duration": 212,
    "start_time": "2023-05-02T12:41:37.063Z"
   },
   {
    "duration": 33,
    "start_time": "2023-05-02T12:41:37.277Z"
   },
   {
    "duration": 6,
    "start_time": "2023-05-02T12:41:37.312Z"
   },
   {
    "duration": 30,
    "start_time": "2023-05-02T12:41:37.320Z"
   },
   {
    "duration": 58,
    "start_time": "2023-05-02T12:41:37.351Z"
   },
   {
    "duration": 322,
    "start_time": "2023-05-02T12:41:37.415Z"
   },
   {
    "duration": 491,
    "start_time": "2023-05-02T12:41:37.739Z"
   },
   {
    "duration": 17,
    "start_time": "2023-05-02T12:41:38.235Z"
   },
   {
    "duration": 13,
    "start_time": "2023-05-02T12:41:38.260Z"
   },
   {
    "duration": 15,
    "start_time": "2023-05-02T12:41:38.275Z"
   },
   {
    "duration": 31,
    "start_time": "2023-05-02T12:41:38.292Z"
   },
   {
    "duration": 23,
    "start_time": "2023-05-02T12:41:38.325Z"
   },
   {
    "duration": 62,
    "start_time": "2023-05-02T12:41:38.350Z"
   },
   {
    "duration": 16,
    "start_time": "2023-05-02T12:41:38.414Z"
   },
   {
    "duration": 17,
    "start_time": "2023-05-02T12:41:38.432Z"
   },
   {
    "duration": 380,
    "start_time": "2023-05-02T12:41:38.455Z"
   },
   {
    "duration": 13,
    "start_time": "2023-05-02T12:41:38.843Z"
   },
   {
    "duration": 12,
    "start_time": "2023-05-02T12:41:38.858Z"
   },
   {
    "duration": 53,
    "start_time": "2023-05-02T12:41:38.872Z"
   },
   {
    "duration": 13,
    "start_time": "2023-05-02T12:41:38.927Z"
   },
   {
    "duration": 23,
    "start_time": "2023-05-02T12:41:38.947Z"
   },
   {
    "duration": 362,
    "start_time": "2023-05-02T12:41:38.971Z"
   },
   {
    "duration": 16,
    "start_time": "2023-05-02T12:41:39.337Z"
   },
   {
    "duration": 12,
    "start_time": "2023-05-02T12:41:39.355Z"
   },
   {
    "duration": 1621,
    "start_time": "2023-05-02T12:41:39.369Z"
   },
   {
    "duration": 0,
    "start_time": "2023-05-02T12:41:40.992Z"
   },
   {
    "duration": 0,
    "start_time": "2023-05-02T12:41:40.993Z"
   },
   {
    "duration": 0,
    "start_time": "2023-05-02T12:41:40.994Z"
   },
   {
    "duration": 0,
    "start_time": "2023-05-02T12:41:40.994Z"
   },
   {
    "duration": 0,
    "start_time": "2023-05-02T12:41:40.995Z"
   },
   {
    "duration": 0,
    "start_time": "2023-05-02T12:41:41.008Z"
   },
   {
    "duration": 0,
    "start_time": "2023-05-02T12:41:41.015Z"
   },
   {
    "duration": 0,
    "start_time": "2023-05-02T12:41:41.024Z"
   },
   {
    "duration": 5,
    "start_time": "2023-05-02T12:43:54.646Z"
   },
   {
    "duration": 1746,
    "start_time": "2023-05-02T12:43:59.431Z"
   },
   {
    "duration": 1538,
    "start_time": "2023-05-02T12:48:12.232Z"
   },
   {
    "duration": 1650,
    "start_time": "2023-05-02T12:49:27.665Z"
   },
   {
    "duration": 29,
    "start_time": "2023-05-02T12:49:29.324Z"
   },
   {
    "duration": 84,
    "start_time": "2023-05-02T12:49:29.355Z"
   },
   {
    "duration": 16,
    "start_time": "2023-05-02T12:49:29.441Z"
   },
   {
    "duration": 16,
    "start_time": "2023-05-02T12:49:29.463Z"
   },
   {
    "duration": 7,
    "start_time": "2023-05-02T12:49:29.480Z"
   },
   {
    "duration": 26,
    "start_time": "2023-05-02T12:49:29.489Z"
   },
   {
    "duration": 66,
    "start_time": "2023-05-02T12:49:29.517Z"
   },
   {
    "duration": 37,
    "start_time": "2023-05-02T12:49:29.586Z"
   },
   {
    "duration": 9,
    "start_time": "2023-05-02T12:49:29.626Z"
   },
   {
    "duration": 29,
    "start_time": "2023-05-02T12:49:29.640Z"
   },
   {
    "duration": 7,
    "start_time": "2023-05-02T12:49:29.675Z"
   },
   {
    "duration": 41,
    "start_time": "2023-05-02T12:49:29.683Z"
   },
   {
    "duration": 35,
    "start_time": "2023-05-02T12:49:29.728Z"
   },
   {
    "duration": 17,
    "start_time": "2023-05-02T12:49:29.765Z"
   },
   {
    "duration": 7,
    "start_time": "2023-05-02T12:49:29.784Z"
   },
   {
    "duration": 42,
    "start_time": "2023-05-02T12:49:29.793Z"
   },
   {
    "duration": 24,
    "start_time": "2023-05-02T12:49:29.844Z"
   },
   {
    "duration": 16,
    "start_time": "2023-05-02T12:49:29.870Z"
   },
   {
    "duration": 9,
    "start_time": "2023-05-02T12:49:29.888Z"
   },
   {
    "duration": 28,
    "start_time": "2023-05-02T12:49:29.899Z"
   },
   {
    "duration": 30,
    "start_time": "2023-05-02T12:49:29.929Z"
   },
   {
    "duration": 33,
    "start_time": "2023-05-02T12:49:29.961Z"
   },
   {
    "duration": 6,
    "start_time": "2023-05-02T12:49:29.996Z"
   },
   {
    "duration": 60,
    "start_time": "2023-05-02T12:49:30.005Z"
   },
   {
    "duration": 16,
    "start_time": "2023-05-02T12:49:30.067Z"
   },
   {
    "duration": 19,
    "start_time": "2023-05-02T12:49:30.085Z"
   },
   {
    "duration": 53,
    "start_time": "2023-05-02T12:49:30.106Z"
   },
   {
    "duration": 376,
    "start_time": "2023-05-02T12:49:30.163Z"
   },
   {
    "duration": 16,
    "start_time": "2023-05-02T12:49:30.541Z"
   },
   {
    "duration": 454,
    "start_time": "2023-05-02T12:49:30.560Z"
   },
   {
    "duration": 8,
    "start_time": "2023-05-02T12:49:31.019Z"
   },
   {
    "duration": 30,
    "start_time": "2023-05-02T12:49:31.035Z"
   },
   {
    "duration": 45,
    "start_time": "2023-05-02T12:49:31.068Z"
   },
   {
    "duration": 454,
    "start_time": "2023-05-02T12:49:31.122Z"
   },
   {
    "duration": 7,
    "start_time": "2023-05-02T12:49:31.578Z"
   },
   {
    "duration": 444,
    "start_time": "2023-05-02T12:49:31.587Z"
   },
   {
    "duration": 11,
    "start_time": "2023-05-02T12:49:32.033Z"
   },
   {
    "duration": 44,
    "start_time": "2023-05-02T12:49:32.045Z"
   },
   {
    "duration": 44,
    "start_time": "2023-05-02T12:49:32.090Z"
   },
   {
    "duration": 524,
    "start_time": "2023-05-02T12:49:32.143Z"
   },
   {
    "duration": 14,
    "start_time": "2023-05-02T12:49:32.669Z"
   },
   {
    "duration": 396,
    "start_time": "2023-05-02T12:49:32.685Z"
   },
   {
    "duration": 17,
    "start_time": "2023-05-02T12:49:33.084Z"
   },
   {
    "duration": 9,
    "start_time": "2023-05-02T12:49:33.103Z"
   },
   {
    "duration": 29,
    "start_time": "2023-05-02T12:49:33.114Z"
   },
   {
    "duration": 357,
    "start_time": "2023-05-02T12:49:33.145Z"
   },
   {
    "duration": 7,
    "start_time": "2023-05-02T12:49:33.504Z"
   },
   {
    "duration": 389,
    "start_time": "2023-05-02T12:49:33.513Z"
   },
   {
    "duration": 11,
    "start_time": "2023-05-02T12:49:33.910Z"
   },
   {
    "duration": 25,
    "start_time": "2023-05-02T12:49:33.926Z"
   },
   {
    "duration": 16,
    "start_time": "2023-05-02T12:49:33.957Z"
   },
   {
    "duration": 31,
    "start_time": "2023-05-02T12:49:33.976Z"
   },
   {
    "duration": 25,
    "start_time": "2023-05-02T12:49:34.010Z"
   },
   {
    "duration": 32,
    "start_time": "2023-05-02T12:49:34.038Z"
   },
   {
    "duration": 29,
    "start_time": "2023-05-02T12:49:34.073Z"
   },
   {
    "duration": 53,
    "start_time": "2023-05-02T12:49:34.111Z"
   },
   {
    "duration": 218,
    "start_time": "2023-05-02T12:49:34.167Z"
   },
   {
    "duration": 28,
    "start_time": "2023-05-02T12:49:34.387Z"
   },
   {
    "duration": 204,
    "start_time": "2023-05-02T12:49:34.423Z"
   },
   {
    "duration": 45,
    "start_time": "2023-05-02T12:49:34.629Z"
   },
   {
    "duration": 7,
    "start_time": "2023-05-02T12:49:34.679Z"
   },
   {
    "duration": 58,
    "start_time": "2023-05-02T12:49:34.688Z"
   },
   {
    "duration": 33,
    "start_time": "2023-05-02T12:49:34.751Z"
   },
   {
    "duration": 349,
    "start_time": "2023-05-02T12:49:34.786Z"
   },
   {
    "duration": 481,
    "start_time": "2023-05-02T12:49:35.137Z"
   },
   {
    "duration": 9,
    "start_time": "2023-05-02T12:49:35.624Z"
   },
   {
    "duration": 35,
    "start_time": "2023-05-02T12:49:35.640Z"
   },
   {
    "duration": 53,
    "start_time": "2023-05-02T12:49:35.677Z"
   },
   {
    "duration": 36,
    "start_time": "2023-05-02T12:49:35.732Z"
   },
   {
    "duration": 23,
    "start_time": "2023-05-02T12:49:35.769Z"
   },
   {
    "duration": 77,
    "start_time": "2023-05-02T12:49:35.794Z"
   },
   {
    "duration": 7,
    "start_time": "2023-05-02T12:49:35.874Z"
   },
   {
    "duration": 47,
    "start_time": "2023-05-02T12:49:35.883Z"
   },
   {
    "duration": 333,
    "start_time": "2023-05-02T12:49:35.941Z"
   },
   {
    "duration": 12,
    "start_time": "2023-05-02T12:49:36.279Z"
   },
   {
    "duration": 38,
    "start_time": "2023-05-02T12:49:36.292Z"
   },
   {
    "duration": 35,
    "start_time": "2023-05-02T12:49:36.336Z"
   },
   {
    "duration": 8,
    "start_time": "2023-05-02T12:49:36.375Z"
   },
   {
    "duration": 26,
    "start_time": "2023-05-02T12:49:36.385Z"
   },
   {
    "duration": 375,
    "start_time": "2023-05-02T12:49:36.413Z"
   },
   {
    "duration": 15,
    "start_time": "2023-05-02T12:49:36.790Z"
   },
   {
    "duration": 23,
    "start_time": "2023-05-02T12:49:36.807Z"
   },
   {
    "duration": 1840,
    "start_time": "2023-05-02T12:49:36.832Z"
   },
   {
    "duration": 0,
    "start_time": "2023-05-02T12:49:38.675Z"
   },
   {
    "duration": 0,
    "start_time": "2023-05-02T12:49:38.676Z"
   },
   {
    "duration": 0,
    "start_time": "2023-05-02T12:49:38.677Z"
   },
   {
    "duration": 0,
    "start_time": "2023-05-02T12:49:38.679Z"
   },
   {
    "duration": 0,
    "start_time": "2023-05-02T12:49:38.682Z"
   },
   {
    "duration": 0,
    "start_time": "2023-05-02T12:49:38.683Z"
   },
   {
    "duration": 0,
    "start_time": "2023-05-02T12:49:38.685Z"
   },
   {
    "duration": 0,
    "start_time": "2023-05-02T12:49:38.685Z"
   },
   {
    "duration": 61,
    "start_time": "2023-05-02T13:03:37.314Z"
   },
   {
    "duration": 31,
    "start_time": "2023-05-02T13:03:40.424Z"
   },
   {
    "duration": 1603,
    "start_time": "2023-05-02T13:04:20.255Z"
   },
   {
    "duration": 35,
    "start_time": "2023-05-02T13:04:21.860Z"
   },
   {
    "duration": 77,
    "start_time": "2023-05-02T13:04:21.897Z"
   },
   {
    "duration": 12,
    "start_time": "2023-05-02T13:04:21.975Z"
   },
   {
    "duration": 37,
    "start_time": "2023-05-02T13:04:21.990Z"
   },
   {
    "duration": 11,
    "start_time": "2023-05-02T13:04:22.029Z"
   },
   {
    "duration": 9,
    "start_time": "2023-05-02T13:04:22.046Z"
   },
   {
    "duration": 39,
    "start_time": "2023-05-02T13:04:22.064Z"
   },
   {
    "duration": 29,
    "start_time": "2023-05-02T13:04:22.105Z"
   },
   {
    "duration": 13,
    "start_time": "2023-05-02T13:04:22.137Z"
   },
   {
    "duration": 26,
    "start_time": "2023-05-02T13:04:22.152Z"
   },
   {
    "duration": 6,
    "start_time": "2023-05-02T13:04:22.182Z"
   },
   {
    "duration": 43,
    "start_time": "2023-05-02T13:04:22.191Z"
   },
   {
    "duration": 12,
    "start_time": "2023-05-02T13:04:22.245Z"
   },
   {
    "duration": 29,
    "start_time": "2023-05-02T13:04:22.259Z"
   },
   {
    "duration": 11,
    "start_time": "2023-05-02T13:04:22.290Z"
   },
   {
    "duration": 52,
    "start_time": "2023-05-02T13:04:22.303Z"
   },
   {
    "duration": 22,
    "start_time": "2023-05-02T13:04:22.359Z"
   },
   {
    "duration": 58,
    "start_time": "2023-05-02T13:04:22.384Z"
   },
   {
    "duration": 14,
    "start_time": "2023-05-02T13:04:22.460Z"
   },
   {
    "duration": 11,
    "start_time": "2023-05-02T13:04:22.475Z"
   },
   {
    "duration": 48,
    "start_time": "2023-05-02T13:04:22.491Z"
   },
   {
    "duration": 46,
    "start_time": "2023-05-02T13:04:22.543Z"
   },
   {
    "duration": 18,
    "start_time": "2023-05-02T13:04:22.591Z"
   },
   {
    "duration": 34,
    "start_time": "2023-05-02T13:04:22.615Z"
   },
   {
    "duration": 14,
    "start_time": "2023-05-02T13:04:22.653Z"
   },
   {
    "duration": 16,
    "start_time": "2023-05-02T13:04:22.669Z"
   },
   {
    "duration": 48,
    "start_time": "2023-05-02T13:04:22.687Z"
   },
   {
    "duration": 419,
    "start_time": "2023-05-02T13:04:22.742Z"
   },
   {
    "duration": 14,
    "start_time": "2023-05-02T13:04:23.163Z"
   },
   {
    "duration": 456,
    "start_time": "2023-05-02T13:04:23.187Z"
   },
   {
    "duration": 10,
    "start_time": "2023-05-02T13:04:23.647Z"
   },
   {
    "duration": 11,
    "start_time": "2023-05-02T13:04:23.663Z"
   },
   {
    "duration": 10,
    "start_time": "2023-05-02T13:04:23.676Z"
   },
   {
    "duration": 417,
    "start_time": "2023-05-02T13:04:23.687Z"
   },
   {
    "duration": 9,
    "start_time": "2023-05-02T13:04:24.106Z"
   },
   {
    "duration": 402,
    "start_time": "2023-05-02T13:04:24.117Z"
   },
   {
    "duration": 9,
    "start_time": "2023-05-02T13:04:24.523Z"
   },
   {
    "duration": 17,
    "start_time": "2023-05-02T13:04:24.534Z"
   },
   {
    "duration": 15,
    "start_time": "2023-05-02T13:04:24.555Z"
   },
   {
    "duration": 502,
    "start_time": "2023-05-02T13:04:24.580Z"
   },
   {
    "duration": 21,
    "start_time": "2023-05-02T13:04:25.085Z"
   },
   {
    "duration": 355,
    "start_time": "2023-05-02T13:04:25.119Z"
   },
   {
    "duration": 6,
    "start_time": "2023-05-02T13:04:25.476Z"
   },
   {
    "duration": 5,
    "start_time": "2023-05-02T13:04:25.484Z"
   },
   {
    "duration": 23,
    "start_time": "2023-05-02T13:04:25.490Z"
   },
   {
    "duration": 335,
    "start_time": "2023-05-02T13:04:25.515Z"
   },
   {
    "duration": 6,
    "start_time": "2023-05-02T13:04:25.852Z"
   },
   {
    "duration": 379,
    "start_time": "2023-05-02T13:04:25.860Z"
   },
   {
    "duration": 12,
    "start_time": "2023-05-02T13:04:26.252Z"
   },
   {
    "duration": 7,
    "start_time": "2023-05-02T13:04:26.275Z"
   },
   {
    "duration": 27,
    "start_time": "2023-05-02T13:04:26.284Z"
   },
   {
    "duration": 15,
    "start_time": "2023-05-02T13:04:26.313Z"
   },
   {
    "duration": 24,
    "start_time": "2023-05-02T13:04:26.331Z"
   },
   {
    "duration": 12,
    "start_time": "2023-05-02T13:04:26.362Z"
   },
   {
    "duration": 9,
    "start_time": "2023-05-02T13:04:26.381Z"
   },
   {
    "duration": 27,
    "start_time": "2023-05-02T13:04:26.392Z"
   },
   {
    "duration": 219,
    "start_time": "2023-05-02T13:04:26.432Z"
   },
   {
    "duration": 21,
    "start_time": "2023-05-02T13:04:26.653Z"
   },
   {
    "duration": 208,
    "start_time": "2023-05-02T13:04:26.675Z"
   },
   {
    "duration": 29,
    "start_time": "2023-05-02T13:04:26.885Z"
   },
   {
    "duration": 11,
    "start_time": "2023-05-02T13:04:26.916Z"
   },
   {
    "duration": 35,
    "start_time": "2023-05-02T13:04:26.932Z"
   },
   {
    "duration": 38,
    "start_time": "2023-05-02T13:04:26.973Z"
   },
   {
    "duration": 316,
    "start_time": "2023-05-02T13:04:27.013Z"
   },
   {
    "duration": 431,
    "start_time": "2023-05-02T13:04:27.336Z"
   },
   {
    "duration": 9,
    "start_time": "2023-05-02T13:04:27.769Z"
   },
   {
    "duration": 39,
    "start_time": "2023-05-02T13:04:27.780Z"
   },
   {
    "duration": 23,
    "start_time": "2023-05-02T13:04:27.835Z"
   },
   {
    "duration": 27,
    "start_time": "2023-05-02T13:04:27.860Z"
   },
   {
    "duration": 33,
    "start_time": "2023-05-02T13:04:27.890Z"
   },
   {
    "duration": 54,
    "start_time": "2023-05-02T13:04:27.925Z"
   },
   {
    "duration": 8,
    "start_time": "2023-05-02T13:04:27.981Z"
   },
   {
    "duration": 36,
    "start_time": "2023-05-02T13:04:27.991Z"
   },
   {
    "duration": 326,
    "start_time": "2023-05-02T13:04:28.035Z"
   },
   {
    "duration": 19,
    "start_time": "2023-05-02T13:04:28.366Z"
   },
   {
    "duration": 20,
    "start_time": "2023-05-02T13:04:28.403Z"
   },
   {
    "duration": 40,
    "start_time": "2023-05-02T13:04:28.425Z"
   },
   {
    "duration": 13,
    "start_time": "2023-05-02T13:04:28.468Z"
   },
   {
    "duration": 6,
    "start_time": "2023-05-02T13:04:28.483Z"
   },
   {
    "duration": 335,
    "start_time": "2023-05-02T13:04:28.491Z"
   },
   {
    "duration": 10,
    "start_time": "2023-05-02T13:04:28.828Z"
   },
   {
    "duration": 10,
    "start_time": "2023-05-02T13:04:28.840Z"
   },
   {
    "duration": 2156,
    "start_time": "2023-05-02T13:04:28.852Z"
   },
   {
    "duration": 0,
    "start_time": "2023-05-02T13:04:31.010Z"
   },
   {
    "duration": 0,
    "start_time": "2023-05-02T13:04:31.011Z"
   },
   {
    "duration": 0,
    "start_time": "2023-05-02T13:04:31.013Z"
   },
   {
    "duration": 0,
    "start_time": "2023-05-02T13:04:31.014Z"
   },
   {
    "duration": 0,
    "start_time": "2023-05-02T13:04:31.020Z"
   },
   {
    "duration": 0,
    "start_time": "2023-05-02T13:04:31.021Z"
   },
   {
    "duration": 0,
    "start_time": "2023-05-02T13:04:31.023Z"
   },
   {
    "duration": 0,
    "start_time": "2023-05-02T13:04:31.031Z"
   },
   {
    "duration": 11,
    "start_time": "2023-05-02T13:06:29.994Z"
   },
   {
    "duration": 15,
    "start_time": "2023-05-02T13:07:29.512Z"
   },
   {
    "duration": 43,
    "start_time": "2023-05-02T13:07:42.111Z"
   },
   {
    "duration": 30,
    "start_time": "2023-05-02T13:08:08.445Z"
   },
   {
    "duration": 39,
    "start_time": "2023-05-02T13:08:39.129Z"
   },
   {
    "duration": 46,
    "start_time": "2023-05-02T13:10:51.234Z"
   },
   {
    "duration": 2612,
    "start_time": "2023-05-02T13:11:48.161Z"
   },
   {
    "duration": 1660,
    "start_time": "2023-05-02T13:12:00.453Z"
   },
   {
    "duration": 39,
    "start_time": "2023-05-02T13:12:02.115Z"
   },
   {
    "duration": 113,
    "start_time": "2023-05-02T13:12:02.156Z"
   },
   {
    "duration": 18,
    "start_time": "2023-05-02T13:12:02.274Z"
   },
   {
    "duration": 74,
    "start_time": "2023-05-02T13:12:02.294Z"
   },
   {
    "duration": 8,
    "start_time": "2023-05-02T13:12:02.370Z"
   },
   {
    "duration": 37,
    "start_time": "2023-05-02T13:12:02.380Z"
   },
   {
    "duration": 110,
    "start_time": "2023-05-02T13:12:02.420Z"
   },
   {
    "duration": 34,
    "start_time": "2023-05-02T13:12:02.533Z"
   },
   {
    "duration": 5,
    "start_time": "2023-05-02T13:12:02.569Z"
   },
   {
    "duration": 38,
    "start_time": "2023-05-02T13:12:02.576Z"
   },
   {
    "duration": 6,
    "start_time": "2023-05-02T13:12:02.623Z"
   },
   {
    "duration": 55,
    "start_time": "2023-05-02T13:12:02.632Z"
   },
   {
    "duration": 27,
    "start_time": "2023-05-02T13:12:02.698Z"
   },
   {
    "duration": 41,
    "start_time": "2023-05-02T13:12:02.735Z"
   },
   {
    "duration": 8,
    "start_time": "2023-05-02T13:12:02.782Z"
   },
   {
    "duration": 44,
    "start_time": "2023-05-02T13:12:02.792Z"
   },
   {
    "duration": 10,
    "start_time": "2023-05-02T13:12:02.842Z"
   },
   {
    "duration": 70,
    "start_time": "2023-05-02T13:12:02.857Z"
   },
   {
    "duration": 23,
    "start_time": "2023-05-02T13:12:02.933Z"
   },
   {
    "duration": 17,
    "start_time": "2023-05-02T13:12:02.961Z"
   },
   {
    "duration": 39,
    "start_time": "2023-05-02T13:12:02.981Z"
   },
   {
    "duration": 67,
    "start_time": "2023-05-02T13:12:03.022Z"
   },
   {
    "duration": 16,
    "start_time": "2023-05-02T13:12:03.093Z"
   },
   {
    "duration": 40,
    "start_time": "2023-05-02T13:12:03.111Z"
   },
   {
    "duration": 10,
    "start_time": "2023-05-02T13:12:03.157Z"
   },
   {
    "duration": 8,
    "start_time": "2023-05-02T13:12:03.173Z"
   },
   {
    "duration": 51,
    "start_time": "2023-05-02T13:12:03.183Z"
   },
   {
    "duration": 417,
    "start_time": "2023-05-02T13:12:03.240Z"
   },
   {
    "duration": 9,
    "start_time": "2023-05-02T13:12:03.665Z"
   },
   {
    "duration": 382,
    "start_time": "2023-05-02T13:12:03.675Z"
   },
   {
    "duration": 8,
    "start_time": "2023-05-02T13:12:04.065Z"
   },
   {
    "duration": 6,
    "start_time": "2023-05-02T13:12:04.075Z"
   },
   {
    "duration": 8,
    "start_time": "2023-05-02T13:12:04.083Z"
   },
   {
    "duration": 384,
    "start_time": "2023-05-02T13:12:04.095Z"
   },
   {
    "duration": 8,
    "start_time": "2023-05-02T13:12:04.483Z"
   },
   {
    "duration": 346,
    "start_time": "2023-05-02T13:12:04.501Z"
   },
   {
    "duration": 4,
    "start_time": "2023-05-02T13:12:04.849Z"
   },
   {
    "duration": 19,
    "start_time": "2023-05-02T13:12:04.855Z"
   },
   {
    "duration": 10,
    "start_time": "2023-05-02T13:12:04.876Z"
   },
   {
    "duration": 462,
    "start_time": "2023-05-02T13:12:04.893Z"
   },
   {
    "duration": 8,
    "start_time": "2023-05-02T13:12:05.357Z"
   },
   {
    "duration": 363,
    "start_time": "2023-05-02T13:12:05.368Z"
   },
   {
    "duration": 7,
    "start_time": "2023-05-02T13:12:05.739Z"
   },
   {
    "duration": 23,
    "start_time": "2023-05-02T13:12:05.748Z"
   },
   {
    "duration": 12,
    "start_time": "2023-05-02T13:12:05.773Z"
   },
   {
    "duration": 360,
    "start_time": "2023-05-02T13:12:05.787Z"
   },
   {
    "duration": 14,
    "start_time": "2023-05-02T13:12:06.159Z"
   },
   {
    "duration": 390,
    "start_time": "2023-05-02T13:12:06.174Z"
   },
   {
    "duration": 8,
    "start_time": "2023-05-02T13:12:06.570Z"
   },
   {
    "duration": 6,
    "start_time": "2023-05-02T13:12:06.579Z"
   },
   {
    "duration": 57,
    "start_time": "2023-05-02T13:12:06.586Z"
   },
   {
    "duration": 31,
    "start_time": "2023-05-02T13:12:06.645Z"
   },
   {
    "duration": 12,
    "start_time": "2023-05-02T13:12:06.677Z"
   },
   {
    "duration": 29,
    "start_time": "2023-05-02T13:12:06.691Z"
   },
   {
    "duration": 22,
    "start_time": "2023-05-02T13:12:06.722Z"
   },
   {
    "duration": 41,
    "start_time": "2023-05-02T13:12:06.746Z"
   },
   {
    "duration": 55,
    "start_time": "2023-05-02T13:12:06.788Z"
   },
   {
    "duration": 208,
    "start_time": "2023-05-02T13:12:06.850Z"
   },
   {
    "duration": 17,
    "start_time": "2023-05-02T13:12:07.062Z"
   },
   {
    "duration": 202,
    "start_time": "2023-05-02T13:12:07.081Z"
   },
   {
    "duration": 35,
    "start_time": "2023-05-02T13:12:07.285Z"
   },
   {
    "duration": 6,
    "start_time": "2023-05-02T13:12:07.322Z"
   },
   {
    "duration": 35,
    "start_time": "2023-05-02T13:12:07.331Z"
   },
   {
    "duration": 46,
    "start_time": "2023-05-02T13:12:07.373Z"
   },
   {
    "duration": 384,
    "start_time": "2023-05-02T13:12:07.432Z"
   },
   {
    "duration": 451,
    "start_time": "2023-05-02T13:12:07.817Z"
   },
   {
    "duration": 13,
    "start_time": "2023-05-02T13:12:08.274Z"
   },
   {
    "duration": 25,
    "start_time": "2023-05-02T13:12:08.290Z"
   },
   {
    "duration": 34,
    "start_time": "2023-05-02T13:12:08.324Z"
   },
   {
    "duration": 15,
    "start_time": "2023-05-02T13:12:08.370Z"
   },
   {
    "duration": 12,
    "start_time": "2023-05-02T13:12:08.389Z"
   },
   {
    "duration": 60,
    "start_time": "2023-05-02T13:12:08.403Z"
   },
   {
    "duration": 11,
    "start_time": "2023-05-02T13:12:08.465Z"
   },
   {
    "duration": 8,
    "start_time": "2023-05-02T13:12:08.479Z"
   },
   {
    "duration": 378,
    "start_time": "2023-05-02T13:12:08.489Z"
   },
   {
    "duration": 12,
    "start_time": "2023-05-02T13:12:08.869Z"
   },
   {
    "duration": 8,
    "start_time": "2023-05-02T13:12:08.883Z"
   },
   {
    "duration": 55,
    "start_time": "2023-05-02T13:12:08.903Z"
   },
   {
    "duration": 8,
    "start_time": "2023-05-02T13:12:08.961Z"
   },
   {
    "duration": 10,
    "start_time": "2023-05-02T13:12:08.971Z"
   },
   {
    "duration": 378,
    "start_time": "2023-05-02T13:12:08.983Z"
   },
   {
    "duration": 7,
    "start_time": "2023-05-02T13:12:09.368Z"
   },
   {
    "duration": 10,
    "start_time": "2023-05-02T13:12:09.379Z"
   },
   {
    "duration": 25,
    "start_time": "2023-05-02T13:12:09.391Z"
   },
   {
    "duration": 599,
    "start_time": "2023-05-02T13:12:09.419Z"
   },
   {
    "duration": 51,
    "start_time": "2023-05-02T13:12:10.019Z"
   },
   {
    "duration": 75,
    "start_time": "2023-05-02T13:12:10.072Z"
   },
   {
    "duration": 31,
    "start_time": "2023-05-02T13:12:10.156Z"
   },
   {
    "duration": 25,
    "start_time": "2023-05-02T13:12:10.189Z"
   },
   {
    "duration": 523,
    "start_time": "2023-05-02T13:12:10.224Z"
   },
   {
    "duration": 232,
    "start_time": "2023-05-02T13:12:10.753Z"
   },
   {
    "duration": 276,
    "start_time": "2023-05-02T13:12:10.987Z"
   },
   {
    "duration": 1700,
    "start_time": "2023-05-02T17:43:55.524Z"
   },
   {
    "duration": 16,
    "start_time": "2023-05-02T17:43:57.226Z"
   },
   {
    "duration": 180,
    "start_time": "2023-05-02T17:43:57.243Z"
   },
   {
    "duration": 10,
    "start_time": "2023-05-02T17:43:57.425Z"
   },
   {
    "duration": 23,
    "start_time": "2023-05-02T17:43:57.437Z"
   },
   {
    "duration": 22,
    "start_time": "2023-05-02T17:43:57.462Z"
   },
   {
    "duration": 13,
    "start_time": "2023-05-02T17:43:57.486Z"
   },
   {
    "duration": 37,
    "start_time": "2023-05-02T17:43:57.501Z"
   },
   {
    "duration": 14,
    "start_time": "2023-05-02T17:43:57.539Z"
   },
   {
    "duration": 7,
    "start_time": "2023-05-02T17:43:57.556Z"
   },
   {
    "duration": 14,
    "start_time": "2023-05-02T17:43:57.564Z"
   },
   {
    "duration": 5,
    "start_time": "2023-05-02T17:43:57.580Z"
   },
   {
    "duration": 24,
    "start_time": "2023-05-02T17:43:57.586Z"
   },
   {
    "duration": 26,
    "start_time": "2023-05-02T17:43:57.611Z"
   },
   {
    "duration": 19,
    "start_time": "2023-05-02T17:43:57.639Z"
   },
   {
    "duration": 9,
    "start_time": "2023-05-02T17:43:57.660Z"
   },
   {
    "duration": 12,
    "start_time": "2023-05-02T17:43:57.671Z"
   },
   {
    "duration": 11,
    "start_time": "2023-05-02T17:43:57.685Z"
   },
   {
    "duration": 25,
    "start_time": "2023-05-02T17:43:57.697Z"
   },
   {
    "duration": 10,
    "start_time": "2023-05-02T17:43:57.724Z"
   },
   {
    "duration": 8,
    "start_time": "2023-05-02T17:43:57.736Z"
   },
   {
    "duration": 21,
    "start_time": "2023-05-02T17:43:57.745Z"
   },
   {
    "duration": 27,
    "start_time": "2023-05-02T17:43:57.767Z"
   },
   {
    "duration": 4,
    "start_time": "2023-05-02T17:43:57.795Z"
   },
   {
    "duration": 16,
    "start_time": "2023-05-02T17:43:57.801Z"
   },
   {
    "duration": 15,
    "start_time": "2023-05-02T17:43:57.819Z"
   },
   {
    "duration": 9,
    "start_time": "2023-05-02T17:43:57.835Z"
   },
   {
    "duration": 10,
    "start_time": "2023-05-02T17:43:57.848Z"
   },
   {
    "duration": 294,
    "start_time": "2023-05-02T17:43:57.860Z"
   },
   {
    "duration": 7,
    "start_time": "2023-05-02T17:43:58.156Z"
   },
   {
    "duration": 261,
    "start_time": "2023-05-02T17:43:58.165Z"
   },
   {
    "duration": 7,
    "start_time": "2023-05-02T17:43:58.428Z"
   },
   {
    "duration": 14,
    "start_time": "2023-05-02T17:43:58.437Z"
   },
   {
    "duration": 13,
    "start_time": "2023-05-02T17:43:58.453Z"
   },
   {
    "duration": 245,
    "start_time": "2023-05-02T17:43:58.468Z"
   },
   {
    "duration": 6,
    "start_time": "2023-05-02T17:43:58.715Z"
   },
   {
    "duration": 254,
    "start_time": "2023-05-02T17:43:58.723Z"
   },
   {
    "duration": 5,
    "start_time": "2023-05-02T17:43:58.979Z"
   },
   {
    "duration": 9,
    "start_time": "2023-05-02T17:43:58.986Z"
   },
   {
    "duration": 18,
    "start_time": "2023-05-02T17:43:58.997Z"
   },
   {
    "duration": 314,
    "start_time": "2023-05-02T17:43:59.016Z"
   },
   {
    "duration": 6,
    "start_time": "2023-05-02T17:43:59.332Z"
   },
   {
    "duration": 218,
    "start_time": "2023-05-02T17:43:59.339Z"
   },
   {
    "duration": 5,
    "start_time": "2023-05-02T17:43:59.559Z"
   },
   {
    "duration": 15,
    "start_time": "2023-05-02T17:43:59.565Z"
   },
   {
    "duration": 12,
    "start_time": "2023-05-02T17:43:59.583Z"
   },
   {
    "duration": 241,
    "start_time": "2023-05-02T17:43:59.596Z"
   },
   {
    "duration": 8,
    "start_time": "2023-05-02T17:43:59.839Z"
   },
   {
    "duration": 277,
    "start_time": "2023-05-02T17:43:59.849Z"
   },
   {
    "duration": 10,
    "start_time": "2023-05-02T17:44:00.128Z"
   },
   {
    "duration": 6,
    "start_time": "2023-05-02T17:44:00.140Z"
   },
   {
    "duration": 17,
    "start_time": "2023-05-02T17:44:00.148Z"
   },
   {
    "duration": 25,
    "start_time": "2023-05-02T17:44:00.167Z"
   },
   {
    "duration": 25,
    "start_time": "2023-05-02T17:44:00.194Z"
   },
   {
    "duration": 21,
    "start_time": "2023-05-02T17:44:00.220Z"
   },
   {
    "duration": 20,
    "start_time": "2023-05-02T17:44:00.243Z"
   },
   {
    "duration": 32,
    "start_time": "2023-05-02T17:44:00.265Z"
   },
   {
    "duration": 20,
    "start_time": "2023-05-02T17:44:00.299Z"
   },
   {
    "duration": 179,
    "start_time": "2023-05-02T17:44:00.321Z"
   },
   {
    "duration": 15,
    "start_time": "2023-05-02T17:44:00.502Z"
   },
   {
    "duration": 183,
    "start_time": "2023-05-02T17:44:00.519Z"
   },
   {
    "duration": 30,
    "start_time": "2023-05-02T17:44:00.704Z"
   },
   {
    "duration": 16,
    "start_time": "2023-05-02T17:44:00.736Z"
   },
   {
    "duration": 55,
    "start_time": "2023-05-02T17:44:00.754Z"
   },
   {
    "duration": 19,
    "start_time": "2023-05-02T17:44:00.810Z"
   },
   {
    "duration": 241,
    "start_time": "2023-05-02T17:44:00.831Z"
   },
   {
    "duration": 314,
    "start_time": "2023-05-02T17:44:01.074Z"
   },
   {
    "duration": 4,
    "start_time": "2023-05-02T17:44:01.390Z"
   },
   {
    "duration": 25,
    "start_time": "2023-05-02T17:44:01.395Z"
   },
   {
    "duration": 33,
    "start_time": "2023-05-02T17:44:01.422Z"
   },
   {
    "duration": 37,
    "start_time": "2023-05-02T17:44:01.456Z"
   },
   {
    "duration": 28,
    "start_time": "2023-05-02T17:44:01.495Z"
   },
   {
    "duration": 40,
    "start_time": "2023-05-02T17:44:01.525Z"
   },
   {
    "duration": 39,
    "start_time": "2023-05-02T17:44:01.566Z"
   },
   {
    "duration": 11,
    "start_time": "2023-05-02T17:44:01.606Z"
   },
   {
    "duration": 215,
    "start_time": "2023-05-02T17:44:01.619Z"
   },
   {
    "duration": 9,
    "start_time": "2023-05-02T17:44:01.835Z"
   },
   {
    "duration": 42,
    "start_time": "2023-05-02T17:44:01.845Z"
   },
   {
    "duration": 53,
    "start_time": "2023-05-02T17:44:01.889Z"
   },
   {
    "duration": 52,
    "start_time": "2023-05-02T17:44:01.944Z"
   },
   {
    "duration": 26,
    "start_time": "2023-05-02T17:44:01.998Z"
   },
   {
    "duration": 225,
    "start_time": "2023-05-02T17:44:02.030Z"
   },
   {
    "duration": 7,
    "start_time": "2023-05-02T17:44:02.257Z"
   },
   {
    "duration": 17,
    "start_time": "2023-05-02T17:44:02.266Z"
   },
   {
    "duration": 24,
    "start_time": "2023-05-02T17:44:02.285Z"
   },
   {
    "duration": 342,
    "start_time": "2023-05-02T17:44:02.311Z"
   },
   {
    "duration": 17,
    "start_time": "2023-05-02T17:44:02.654Z"
   },
   {
    "duration": 42,
    "start_time": "2023-05-02T17:44:02.673Z"
   },
   {
    "duration": 30,
    "start_time": "2023-05-02T17:44:02.717Z"
   },
   {
    "duration": 11,
    "start_time": "2023-05-02T17:44:02.748Z"
   },
   {
    "duration": 482,
    "start_time": "2023-05-02T17:44:02.760Z"
   },
   {
    "duration": 170,
    "start_time": "2023-05-02T17:44:03.244Z"
   },
   {
    "duration": 160,
    "start_time": "2023-05-02T17:44:03.416Z"
   },
   {
    "duration": 250,
    "start_time": "2023-05-02T18:54:56.855Z"
   },
   {
    "duration": 2022,
    "start_time": "2023-05-03T10:14:20.882Z"
   },
   {
    "duration": 32,
    "start_time": "2023-05-03T10:14:22.907Z"
   },
   {
    "duration": 120,
    "start_time": "2023-05-03T10:14:22.942Z"
   },
   {
    "duration": 12,
    "start_time": "2023-05-03T10:14:23.064Z"
   },
   {
    "duration": 21,
    "start_time": "2023-05-03T10:14:23.078Z"
   },
   {
    "duration": 43,
    "start_time": "2023-05-03T10:14:23.100Z"
   },
   {
    "duration": 27,
    "start_time": "2023-05-03T10:14:23.146Z"
   },
   {
    "duration": 49,
    "start_time": "2023-05-03T10:14:23.175Z"
   },
   {
    "duration": 27,
    "start_time": "2023-05-03T10:14:23.232Z"
   },
   {
    "duration": 12,
    "start_time": "2023-05-03T10:14:23.264Z"
   },
   {
    "duration": 35,
    "start_time": "2023-05-03T10:14:23.278Z"
   },
   {
    "duration": 8,
    "start_time": "2023-05-03T10:14:23.316Z"
   },
   {
    "duration": 48,
    "start_time": "2023-05-03T10:14:23.327Z"
   },
   {
    "duration": 13,
    "start_time": "2023-05-03T10:14:23.377Z"
   },
   {
    "duration": 26,
    "start_time": "2023-05-03T10:14:23.392Z"
   },
   {
    "duration": 24,
    "start_time": "2023-05-03T10:14:23.421Z"
   },
   {
    "duration": 13,
    "start_time": "2023-05-03T10:14:23.447Z"
   },
   {
    "duration": 12,
    "start_time": "2023-05-03T10:14:23.462Z"
   },
   {
    "duration": 18,
    "start_time": "2023-05-03T10:14:23.476Z"
   },
   {
    "duration": 6,
    "start_time": "2023-05-03T10:14:23.496Z"
   },
   {
    "duration": 28,
    "start_time": "2023-05-03T10:14:23.504Z"
   },
   {
    "duration": 33,
    "start_time": "2023-05-03T10:14:23.535Z"
   },
   {
    "duration": 30,
    "start_time": "2023-05-03T10:14:23.571Z"
   },
   {
    "duration": 5,
    "start_time": "2023-05-03T10:14:23.603Z"
   },
   {
    "duration": 20,
    "start_time": "2023-05-03T10:14:23.611Z"
   },
   {
    "duration": 17,
    "start_time": "2023-05-03T10:14:23.634Z"
   },
   {
    "duration": 10,
    "start_time": "2023-05-03T10:14:23.653Z"
   },
   {
    "duration": 24,
    "start_time": "2023-05-03T10:14:23.667Z"
   },
   {
    "duration": 298,
    "start_time": "2023-05-03T10:14:23.692Z"
   },
   {
    "duration": 6,
    "start_time": "2023-05-03T10:14:23.992Z"
   },
   {
    "duration": 310,
    "start_time": "2023-05-03T10:14:24.000Z"
   },
   {
    "duration": 10,
    "start_time": "2023-05-03T10:14:24.312Z"
   },
   {
    "duration": 26,
    "start_time": "2023-05-03T10:14:24.326Z"
   },
   {
    "duration": 17,
    "start_time": "2023-05-03T10:14:24.355Z"
   },
   {
    "duration": 315,
    "start_time": "2023-05-03T10:14:24.373Z"
   },
   {
    "duration": 6,
    "start_time": "2023-05-03T10:14:24.690Z"
   },
   {
    "duration": 310,
    "start_time": "2023-05-03T10:14:24.698Z"
   },
   {
    "duration": 15,
    "start_time": "2023-05-03T10:14:25.010Z"
   },
   {
    "duration": 20,
    "start_time": "2023-05-03T10:14:25.029Z"
   },
   {
    "duration": 17,
    "start_time": "2023-05-03T10:14:25.051Z"
   },
   {
    "duration": 399,
    "start_time": "2023-05-03T10:14:25.070Z"
   },
   {
    "duration": 6,
    "start_time": "2023-05-03T10:14:25.470Z"
   },
   {
    "duration": 302,
    "start_time": "2023-05-03T10:14:25.478Z"
   },
   {
    "duration": 6,
    "start_time": "2023-05-03T10:14:25.782Z"
   },
   {
    "duration": 30,
    "start_time": "2023-05-03T10:14:25.790Z"
   },
   {
    "duration": 24,
    "start_time": "2023-05-03T10:14:25.823Z"
   },
   {
    "duration": 283,
    "start_time": "2023-05-03T10:14:25.849Z"
   },
   {
    "duration": 12,
    "start_time": "2023-05-03T10:14:26.135Z"
   },
   {
    "duration": 300,
    "start_time": "2023-05-03T10:14:26.149Z"
   },
   {
    "duration": 7,
    "start_time": "2023-05-03T10:14:26.451Z"
   },
   {
    "duration": 34,
    "start_time": "2023-05-03T10:14:26.460Z"
   },
   {
    "duration": 24,
    "start_time": "2023-05-03T10:14:26.495Z"
   },
   {
    "duration": 51,
    "start_time": "2023-05-03T10:14:26.522Z"
   },
   {
    "duration": 30,
    "start_time": "2023-05-03T10:14:26.575Z"
   },
   {
    "duration": 39,
    "start_time": "2023-05-03T10:14:26.607Z"
   },
   {
    "duration": 20,
    "start_time": "2023-05-03T10:14:26.649Z"
   },
   {
    "duration": 38,
    "start_time": "2023-05-03T10:14:26.671Z"
   },
   {
    "duration": 36,
    "start_time": "2023-05-03T10:14:26.711Z"
   },
   {
    "duration": 205,
    "start_time": "2023-05-03T10:14:26.748Z"
   },
   {
    "duration": 17,
    "start_time": "2023-05-03T10:14:26.955Z"
   },
   {
    "duration": 202,
    "start_time": "2023-05-03T10:14:26.974Z"
   },
   {
    "duration": 25,
    "start_time": "2023-05-03T10:14:27.179Z"
   },
   {
    "duration": 13,
    "start_time": "2023-05-03T10:14:27.218Z"
   },
   {
    "duration": 32,
    "start_time": "2023-05-03T10:14:27.233Z"
   },
   {
    "duration": 21,
    "start_time": "2023-05-03T10:14:27.267Z"
   },
   {
    "duration": 297,
    "start_time": "2023-05-03T10:14:27.290Z"
   },
   {
    "duration": 389,
    "start_time": "2023-05-03T10:14:27.589Z"
   },
   {
    "duration": 5,
    "start_time": "2023-05-03T10:14:27.979Z"
   },
   {
    "duration": 18,
    "start_time": "2023-05-03T10:14:27.986Z"
   },
   {
    "duration": 18,
    "start_time": "2023-05-03T10:14:28.006Z"
   },
   {
    "duration": 12,
    "start_time": "2023-05-03T10:14:28.026Z"
   },
   {
    "duration": 18,
    "start_time": "2023-05-03T10:14:28.040Z"
   },
   {
    "duration": 67,
    "start_time": "2023-05-03T10:14:28.060Z"
   },
   {
    "duration": 38,
    "start_time": "2023-05-03T10:14:28.130Z"
   },
   {
    "duration": 19,
    "start_time": "2023-05-03T10:14:28.170Z"
   },
   {
    "duration": 262,
    "start_time": "2023-05-03T10:14:28.192Z"
   },
   {
    "duration": 11,
    "start_time": "2023-05-03T10:14:28.457Z"
   },
   {
    "duration": 17,
    "start_time": "2023-05-03T10:14:28.470Z"
   },
   {
    "duration": 50,
    "start_time": "2023-05-03T10:14:28.489Z"
   },
   {
    "duration": 75,
    "start_time": "2023-05-03T10:14:28.542Z"
   },
   {
    "duration": 34,
    "start_time": "2023-05-03T10:14:28.619Z"
   },
   {
    "duration": 299,
    "start_time": "2023-05-03T10:14:28.659Z"
   },
   {
    "duration": 7,
    "start_time": "2023-05-03T10:14:28.960Z"
   },
   {
    "duration": 23,
    "start_time": "2023-05-03T10:14:28.969Z"
   },
   {
    "duration": 33,
    "start_time": "2023-05-03T10:14:28.993Z"
   },
   {
    "duration": 577,
    "start_time": "2023-05-03T10:14:29.028Z"
   },
   {
    "duration": 24,
    "start_time": "2023-05-03T10:14:29.607Z"
   },
   {
    "duration": 47,
    "start_time": "2023-05-03T10:14:29.633Z"
   },
   {
    "duration": 39,
    "start_time": "2023-05-03T10:14:29.682Z"
   },
   {
    "duration": 41,
    "start_time": "2023-05-03T10:14:29.723Z"
   },
   {
    "duration": 503,
    "start_time": "2023-05-03T10:14:29.765Z"
   },
   {
    "duration": 206,
    "start_time": "2023-05-03T10:14:30.271Z"
   },
   {
    "duration": 351,
    "start_time": "2023-05-03T10:14:30.479Z"
   },
   {
    "duration": 1510,
    "start_time": "2023-05-03T14:22:06.365Z"
   },
   {
    "duration": 24,
    "start_time": "2023-05-03T14:22:07.878Z"
   },
   {
    "duration": 105,
    "start_time": "2023-05-03T14:22:07.905Z"
   },
   {
    "duration": 26,
    "start_time": "2023-05-03T14:22:08.013Z"
   },
   {
    "duration": 48,
    "start_time": "2023-05-03T14:22:08.041Z"
   },
   {
    "duration": 39,
    "start_time": "2023-05-03T14:22:08.092Z"
   },
   {
    "duration": 55,
    "start_time": "2023-05-03T14:22:08.132Z"
   },
   {
    "duration": 67,
    "start_time": "2023-05-03T14:22:08.189Z"
   },
   {
    "duration": 45,
    "start_time": "2023-05-03T14:22:08.258Z"
   },
   {
    "duration": 45,
    "start_time": "2023-05-03T14:22:08.305Z"
   },
   {
    "duration": 53,
    "start_time": "2023-05-03T14:22:08.354Z"
   },
   {
    "duration": 72,
    "start_time": "2023-05-03T14:22:08.409Z"
   },
   {
    "duration": 29,
    "start_time": "2023-05-03T14:22:08.483Z"
   },
   {
    "duration": 50,
    "start_time": "2023-05-03T14:22:08.517Z"
   },
   {
    "duration": 31,
    "start_time": "2023-05-03T14:22:08.569Z"
   },
   {
    "duration": 17,
    "start_time": "2023-05-03T14:22:08.601Z"
   },
   {
    "duration": 67,
    "start_time": "2023-05-03T14:22:08.620Z"
   },
   {
    "duration": 29,
    "start_time": "2023-05-03T14:22:08.689Z"
   },
   {
    "duration": 65,
    "start_time": "2023-05-03T14:22:08.719Z"
   },
   {
    "duration": 6,
    "start_time": "2023-05-03T14:22:08.786Z"
   },
   {
    "duration": 16,
    "start_time": "2023-05-03T14:22:08.795Z"
   },
   {
    "duration": 69,
    "start_time": "2023-05-03T14:22:08.813Z"
   },
   {
    "duration": 59,
    "start_time": "2023-05-03T14:22:08.884Z"
   },
   {
    "duration": 18,
    "start_time": "2023-05-03T14:22:08.947Z"
   },
   {
    "duration": 28,
    "start_time": "2023-05-03T14:22:08.967Z"
   },
   {
    "duration": 19,
    "start_time": "2023-05-03T14:22:08.997Z"
   },
   {
    "duration": 71,
    "start_time": "2023-05-03T14:22:09.021Z"
   },
   {
    "duration": 41,
    "start_time": "2023-05-03T14:22:09.094Z"
   },
   {
    "duration": 429,
    "start_time": "2023-05-03T14:22:09.137Z"
   },
   {
    "duration": 7,
    "start_time": "2023-05-03T14:22:09.568Z"
   },
   {
    "duration": 330,
    "start_time": "2023-05-03T14:22:09.578Z"
   },
   {
    "duration": 17,
    "start_time": "2023-05-03T14:22:09.911Z"
   },
   {
    "duration": 45,
    "start_time": "2023-05-03T14:22:09.930Z"
   },
   {
    "duration": 21,
    "start_time": "2023-05-03T14:22:09.977Z"
   },
   {
    "duration": 372,
    "start_time": "2023-05-03T14:22:10.000Z"
   },
   {
    "duration": 9,
    "start_time": "2023-05-03T14:22:10.374Z"
   },
   {
    "duration": 399,
    "start_time": "2023-05-03T14:22:10.384Z"
   },
   {
    "duration": 6,
    "start_time": "2023-05-03T14:22:10.785Z"
   },
   {
    "duration": 27,
    "start_time": "2023-05-03T14:22:10.793Z"
   },
   {
    "duration": 53,
    "start_time": "2023-05-03T14:22:10.822Z"
   },
   {
    "duration": 401,
    "start_time": "2023-05-03T14:22:10.882Z"
   },
   {
    "duration": 8,
    "start_time": "2023-05-03T14:22:11.285Z"
   },
   {
    "duration": 284,
    "start_time": "2023-05-03T14:22:11.295Z"
   },
   {
    "duration": 5,
    "start_time": "2023-05-03T14:22:11.582Z"
   },
   {
    "duration": 15,
    "start_time": "2023-05-03T14:22:11.588Z"
   },
   {
    "duration": 56,
    "start_time": "2023-05-03T14:22:11.605Z"
   },
   {
    "duration": 329,
    "start_time": "2023-05-03T14:22:11.663Z"
   },
   {
    "duration": 7,
    "start_time": "2023-05-03T14:22:11.998Z"
   },
   {
    "duration": 337,
    "start_time": "2023-05-03T14:22:12.019Z"
   },
   {
    "duration": 9,
    "start_time": "2023-05-03T14:22:12.360Z"
   },
   {
    "duration": 44,
    "start_time": "2023-05-03T14:22:12.371Z"
   },
   {
    "duration": 83,
    "start_time": "2023-05-03T14:22:12.420Z"
   },
   {
    "duration": 79,
    "start_time": "2023-05-03T14:22:12.505Z"
   },
   {
    "duration": 26,
    "start_time": "2023-05-03T14:22:12.586Z"
   },
   {
    "duration": 72,
    "start_time": "2023-05-03T14:22:12.615Z"
   },
   {
    "duration": 24,
    "start_time": "2023-05-03T14:22:12.689Z"
   },
   {
    "duration": 77,
    "start_time": "2023-05-03T14:22:12.716Z"
   },
   {
    "duration": 42,
    "start_time": "2023-05-03T14:22:12.796Z"
   },
   {
    "duration": 350,
    "start_time": "2023-05-03T14:22:12.839Z"
   },
   {
    "duration": 30,
    "start_time": "2023-05-03T14:22:13.192Z"
   },
   {
    "duration": 247,
    "start_time": "2023-05-03T14:22:13.237Z"
   },
   {
    "duration": 45,
    "start_time": "2023-05-03T14:22:13.486Z"
   },
   {
    "duration": 24,
    "start_time": "2023-05-03T14:22:13.539Z"
   },
   {
    "duration": 29,
    "start_time": "2023-05-03T14:22:13.564Z"
   },
   {
    "duration": 21,
    "start_time": "2023-05-03T14:22:13.594Z"
   },
   {
    "duration": 354,
    "start_time": "2023-05-03T14:22:13.617Z"
   },
   {
    "duration": 416,
    "start_time": "2023-05-03T14:22:13.974Z"
   },
   {
    "duration": 6,
    "start_time": "2023-05-03T14:22:14.392Z"
   },
   {
    "duration": 29,
    "start_time": "2023-05-03T14:22:14.400Z"
   },
   {
    "duration": 60,
    "start_time": "2023-05-03T14:22:14.432Z"
   },
   {
    "duration": 29,
    "start_time": "2023-05-03T14:22:14.495Z"
   },
   {
    "duration": 54,
    "start_time": "2023-05-03T14:22:14.528Z"
   },
   {
    "duration": 65,
    "start_time": "2023-05-03T14:22:14.585Z"
   },
   {
    "duration": 9,
    "start_time": "2023-05-03T14:22:14.659Z"
   },
   {
    "duration": 84,
    "start_time": "2023-05-03T14:22:14.670Z"
   },
   {
    "duration": 292,
    "start_time": "2023-05-03T14:22:14.758Z"
   },
   {
    "duration": 11,
    "start_time": "2023-05-03T14:22:15.054Z"
   },
   {
    "duration": 32,
    "start_time": "2023-05-03T14:22:15.067Z"
   },
   {
    "duration": 112,
    "start_time": "2023-05-03T14:22:15.101Z"
   },
   {
    "duration": 66,
    "start_time": "2023-05-03T14:22:15.215Z"
   },
   {
    "duration": 38,
    "start_time": "2023-05-03T14:22:15.283Z"
   },
   {
    "duration": 350,
    "start_time": "2023-05-03T14:22:15.323Z"
   },
   {
    "duration": 9,
    "start_time": "2023-05-03T14:22:15.678Z"
   },
   {
    "duration": 27,
    "start_time": "2023-05-03T14:22:15.689Z"
   },
   {
    "duration": 50,
    "start_time": "2023-05-03T14:22:15.731Z"
   },
   {
    "duration": 476,
    "start_time": "2023-05-03T14:22:15.783Z"
   },
   {
    "duration": 15,
    "start_time": "2023-05-03T14:22:16.261Z"
   },
   {
    "duration": 78,
    "start_time": "2023-05-03T14:22:16.278Z"
   },
   {
    "duration": 44,
    "start_time": "2023-05-03T14:22:16.358Z"
   },
   {
    "duration": 70,
    "start_time": "2023-05-03T14:22:16.404Z"
   },
   {
    "duration": 483,
    "start_time": "2023-05-03T14:22:16.476Z"
   },
   {
    "duration": 206,
    "start_time": "2023-05-03T14:22:16.961Z"
   },
   {
    "duration": 223,
    "start_time": "2023-05-03T14:22:17.169Z"
   },
   {
    "duration": 54,
    "start_time": "2023-05-03T18:19:28.047Z"
   },
   {
    "duration": 1961,
    "start_time": "2023-05-03T18:35:55.808Z"
   },
   {
    "duration": 16,
    "start_time": "2023-05-03T18:35:57.771Z"
   },
   {
    "duration": 53,
    "start_time": "2023-05-03T18:35:57.789Z"
   },
   {
    "duration": 12,
    "start_time": "2023-05-03T18:35:57.845Z"
   },
   {
    "duration": 27,
    "start_time": "2023-05-03T18:35:57.859Z"
   },
   {
    "duration": 13,
    "start_time": "2023-05-03T18:35:57.888Z"
   },
   {
    "duration": 7,
    "start_time": "2023-05-03T18:35:57.904Z"
   },
   {
    "duration": 32,
    "start_time": "2023-05-03T18:35:57.913Z"
   },
   {
    "duration": 16,
    "start_time": "2023-05-03T18:35:57.947Z"
   },
   {
    "duration": 23,
    "start_time": "2023-05-03T18:35:57.966Z"
   },
   {
    "duration": 24,
    "start_time": "2023-05-03T18:35:57.991Z"
   },
   {
    "duration": 7,
    "start_time": "2023-05-03T18:35:58.017Z"
   },
   {
    "duration": 18,
    "start_time": "2023-05-03T18:35:58.025Z"
   },
   {
    "duration": 5,
    "start_time": "2023-05-03T18:35:58.045Z"
   },
   {
    "duration": 39,
    "start_time": "2023-05-03T18:35:58.052Z"
   },
   {
    "duration": 6,
    "start_time": "2023-05-03T18:35:58.093Z"
   },
   {
    "duration": 14,
    "start_time": "2023-05-03T18:35:58.101Z"
   },
   {
    "duration": 18,
    "start_time": "2023-05-03T18:35:58.117Z"
   },
   {
    "duration": 24,
    "start_time": "2023-05-03T18:35:58.137Z"
   },
   {
    "duration": 5,
    "start_time": "2023-05-03T18:35:58.163Z"
   },
   {
    "duration": 19,
    "start_time": "2023-05-03T18:35:58.170Z"
   },
   {
    "duration": 26,
    "start_time": "2023-05-03T18:35:58.191Z"
   },
   {
    "duration": 26,
    "start_time": "2023-05-03T18:35:58.218Z"
   },
   {
    "duration": 5,
    "start_time": "2023-05-03T18:35:58.245Z"
   },
   {
    "duration": 12,
    "start_time": "2023-05-03T18:35:58.252Z"
   },
   {
    "duration": 28,
    "start_time": "2023-05-03T18:35:58.265Z"
   },
   {
    "duration": 7,
    "start_time": "2023-05-03T18:35:58.296Z"
   },
   {
    "duration": 8,
    "start_time": "2023-05-03T18:35:58.309Z"
   },
   {
    "duration": 301,
    "start_time": "2023-05-03T18:35:58.319Z"
   },
   {
    "duration": 7,
    "start_time": "2023-05-03T18:35:58.622Z"
   },
   {
    "duration": 294,
    "start_time": "2023-05-03T18:35:58.631Z"
   },
   {
    "duration": 6,
    "start_time": "2023-05-03T18:35:58.927Z"
   },
   {
    "duration": 9,
    "start_time": "2023-05-03T18:35:58.935Z"
   },
   {
    "duration": 19,
    "start_time": "2023-05-03T18:35:58.946Z"
   },
   {
    "duration": 322,
    "start_time": "2023-05-03T18:35:58.967Z"
   },
   {
    "duration": 7,
    "start_time": "2023-05-03T18:35:59.292Z"
   },
   {
    "duration": 292,
    "start_time": "2023-05-03T18:35:59.301Z"
   },
   {
    "duration": 6,
    "start_time": "2023-05-03T18:35:59.595Z"
   },
   {
    "duration": 14,
    "start_time": "2023-05-03T18:35:59.603Z"
   },
   {
    "duration": 11,
    "start_time": "2023-05-03T18:35:59.619Z"
   },
   {
    "duration": 385,
    "start_time": "2023-05-03T18:35:59.633Z"
   },
   {
    "duration": 8,
    "start_time": "2023-05-03T18:36:00.021Z"
   },
   {
    "duration": 268,
    "start_time": "2023-05-03T18:36:00.031Z"
   },
   {
    "duration": 6,
    "start_time": "2023-05-03T18:36:00.301Z"
   },
   {
    "duration": 51,
    "start_time": "2023-05-03T18:36:00.309Z"
   },
   {
    "duration": 35,
    "start_time": "2023-05-03T18:36:00.363Z"
   },
   {
    "duration": 392,
    "start_time": "2023-05-03T18:36:00.400Z"
   },
   {
    "duration": 6,
    "start_time": "2023-05-03T18:36:00.794Z"
   },
   {
    "duration": 317,
    "start_time": "2023-05-03T18:36:00.802Z"
   },
   {
    "duration": 8,
    "start_time": "2023-05-03T18:36:01.121Z"
   },
   {
    "duration": 86,
    "start_time": "2023-05-03T18:36:01.131Z"
   },
   {
    "duration": 79,
    "start_time": "2023-05-03T18:36:01.220Z"
   },
   {
    "duration": 76,
    "start_time": "2023-05-03T18:36:01.301Z"
   },
   {
    "duration": 75,
    "start_time": "2023-05-03T18:36:01.379Z"
   },
   {
    "duration": 53,
    "start_time": "2023-05-03T18:36:01.456Z"
   },
   {
    "duration": 64,
    "start_time": "2023-05-03T18:36:01.511Z"
   },
   {
    "duration": 138,
    "start_time": "2023-05-03T18:36:01.577Z"
   },
   {
    "duration": 102,
    "start_time": "2023-05-03T18:36:01.717Z"
   },
   {
    "duration": 186,
    "start_time": "2023-05-03T18:36:01.821Z"
   },
   {
    "duration": 18,
    "start_time": "2023-05-03T18:36:02.010Z"
   },
   {
    "duration": 193,
    "start_time": "2023-05-03T18:36:02.031Z"
   },
   {
    "duration": 25,
    "start_time": "2023-05-03T18:36:02.226Z"
   },
   {
    "duration": 6,
    "start_time": "2023-05-03T18:36:02.254Z"
   },
   {
    "duration": 28,
    "start_time": "2023-05-03T18:36:02.290Z"
   },
   {
    "duration": 35,
    "start_time": "2023-05-03T18:36:02.320Z"
   },
   {
    "duration": 272,
    "start_time": "2023-05-03T18:36:02.358Z"
   },
   {
    "duration": 368,
    "start_time": "2023-05-03T18:36:02.633Z"
   },
   {
    "duration": 5,
    "start_time": "2023-05-03T18:36:03.003Z"
   },
   {
    "duration": 9,
    "start_time": "2023-05-03T18:36:03.010Z"
   },
   {
    "duration": 11,
    "start_time": "2023-05-03T18:36:03.021Z"
   },
   {
    "duration": 56,
    "start_time": "2023-05-03T18:36:03.034Z"
   },
   {
    "duration": 9,
    "start_time": "2023-05-03T18:36:03.093Z"
   },
   {
    "duration": 31,
    "start_time": "2023-05-03T18:36:03.104Z"
   },
   {
    "duration": 8,
    "start_time": "2023-05-03T18:36:03.137Z"
   },
   {
    "duration": 43,
    "start_time": "2023-05-03T18:36:03.148Z"
   },
   {
    "duration": 256,
    "start_time": "2023-05-03T18:36:03.193Z"
   },
   {
    "duration": 10,
    "start_time": "2023-05-03T18:36:03.451Z"
   },
   {
    "duration": 29,
    "start_time": "2023-05-03T18:36:03.463Z"
   },
   {
    "duration": 29,
    "start_time": "2023-05-03T18:36:03.495Z"
   },
   {
    "duration": 8,
    "start_time": "2023-05-03T18:36:03.525Z"
   },
   {
    "duration": 10,
    "start_time": "2023-05-03T18:36:03.534Z"
   },
   {
    "duration": 280,
    "start_time": "2023-05-03T18:36:03.551Z"
   },
   {
    "duration": 7,
    "start_time": "2023-05-03T18:36:03.833Z"
   },
   {
    "duration": 17,
    "start_time": "2023-05-03T18:36:03.842Z"
   },
   {
    "duration": 29,
    "start_time": "2023-05-03T18:36:03.861Z"
   },
   {
    "duration": 414,
    "start_time": "2023-05-03T18:36:03.892Z"
   },
   {
    "duration": 17,
    "start_time": "2023-05-03T18:36:04.307Z"
   },
   {
    "duration": 32,
    "start_time": "2023-05-03T18:36:04.326Z"
   },
   {
    "duration": 46,
    "start_time": "2023-05-03T18:36:04.360Z"
   },
   {
    "duration": 12,
    "start_time": "2023-05-03T18:36:04.408Z"
   },
   {
    "duration": 507,
    "start_time": "2023-05-03T18:36:04.422Z"
   },
   {
    "duration": 186,
    "start_time": "2023-05-03T18:36:04.931Z"
   },
   {
    "duration": 193,
    "start_time": "2023-05-03T18:36:05.119Z"
   },
   {
    "duration": 49,
    "start_time": "2023-05-04T12:51:51.618Z"
   },
   {
    "duration": 1721,
    "start_time": "2023-05-04T12:52:32.720Z"
   },
   {
    "duration": 24,
    "start_time": "2023-05-04T12:52:34.442Z"
   },
   {
    "duration": 53,
    "start_time": "2023-05-04T12:52:34.467Z"
   },
   {
    "duration": 10,
    "start_time": "2023-05-04T12:52:34.522Z"
   },
   {
    "duration": 34,
    "start_time": "2023-05-04T12:52:34.534Z"
   },
   {
    "duration": 12,
    "start_time": "2023-05-04T12:52:34.571Z"
   },
   {
    "duration": 9,
    "start_time": "2023-05-04T12:52:34.585Z"
   },
   {
    "duration": 22,
    "start_time": "2023-05-04T12:52:34.596Z"
   },
   {
    "duration": 13,
    "start_time": "2023-05-04T12:52:34.620Z"
   },
   {
    "duration": 4,
    "start_time": "2023-05-04T12:52:34.635Z"
   },
   {
    "duration": 10,
    "start_time": "2023-05-04T12:52:34.667Z"
   },
   {
    "duration": 9,
    "start_time": "2023-05-04T12:52:34.679Z"
   },
   {
    "duration": 23,
    "start_time": "2023-05-04T12:52:34.690Z"
   },
   {
    "duration": 5,
    "start_time": "2023-05-04T12:52:34.717Z"
   },
   {
    "duration": 21,
    "start_time": "2023-05-04T12:52:34.724Z"
   },
   {
    "duration": 10,
    "start_time": "2023-05-04T12:52:34.747Z"
   },
   {
    "duration": 19,
    "start_time": "2023-05-04T12:52:34.762Z"
   },
   {
    "duration": 14,
    "start_time": "2023-05-04T12:52:34.783Z"
   },
   {
    "duration": 9,
    "start_time": "2023-05-04T12:52:34.799Z"
   },
   {
    "duration": 8,
    "start_time": "2023-05-04T12:52:34.811Z"
   },
   {
    "duration": 14,
    "start_time": "2023-05-04T12:52:34.821Z"
   },
   {
    "duration": 16,
    "start_time": "2023-05-04T12:52:34.837Z"
   },
   {
    "duration": 25,
    "start_time": "2023-05-04T12:52:34.857Z"
   },
   {
    "duration": 4,
    "start_time": "2023-05-04T12:52:34.883Z"
   },
   {
    "duration": 16,
    "start_time": "2023-05-04T12:52:34.889Z"
   },
   {
    "duration": 9,
    "start_time": "2023-05-04T12:52:34.907Z"
   },
   {
    "duration": 9,
    "start_time": "2023-05-04T12:52:34.918Z"
   },
   {
    "duration": 10,
    "start_time": "2023-05-04T12:52:34.929Z"
   },
   {
    "duration": 312,
    "start_time": "2023-05-04T12:52:34.941Z"
   },
   {
    "duration": 11,
    "start_time": "2023-05-04T12:52:35.255Z"
   },
   {
    "duration": 281,
    "start_time": "2023-05-04T12:52:35.270Z"
   },
   {
    "duration": 12,
    "start_time": "2023-05-04T12:52:35.556Z"
   },
   {
    "duration": 38,
    "start_time": "2023-05-04T12:52:35.570Z"
   },
   {
    "duration": 31,
    "start_time": "2023-05-04T12:52:35.610Z"
   },
   {
    "duration": 274,
    "start_time": "2023-05-04T12:52:35.643Z"
   },
   {
    "duration": 5,
    "start_time": "2023-05-04T12:52:35.919Z"
   },
   {
    "duration": 314,
    "start_time": "2023-05-04T12:52:35.927Z"
   },
   {
    "duration": 28,
    "start_time": "2023-05-04T12:52:36.244Z"
   },
   {
    "duration": 20,
    "start_time": "2023-05-04T12:52:36.274Z"
   },
   {
    "duration": 32,
    "start_time": "2023-05-04T12:52:36.295Z"
   },
   {
    "duration": 359,
    "start_time": "2023-05-04T12:52:36.332Z"
   },
   {
    "duration": 7,
    "start_time": "2023-05-04T12:52:36.692Z"
   },
   {
    "duration": 262,
    "start_time": "2023-05-04T12:52:36.700Z"
   },
   {
    "duration": 11,
    "start_time": "2023-05-04T12:52:36.963Z"
   },
   {
    "duration": 6,
    "start_time": "2023-05-04T12:52:36.977Z"
   },
   {
    "duration": 17,
    "start_time": "2023-05-04T12:52:36.985Z"
   },
   {
    "duration": 267,
    "start_time": "2023-05-04T12:52:37.004Z"
   },
   {
    "duration": 10,
    "start_time": "2023-05-04T12:52:37.272Z"
   },
   {
    "duration": 246,
    "start_time": "2023-05-04T12:52:37.284Z"
   },
   {
    "duration": 8,
    "start_time": "2023-05-04T12:52:37.532Z"
   },
   {
    "duration": 17,
    "start_time": "2023-05-04T12:52:37.542Z"
   },
   {
    "duration": 18,
    "start_time": "2023-05-04T12:52:37.560Z"
   },
   {
    "duration": 8,
    "start_time": "2023-05-04T12:52:37.580Z"
   },
   {
    "duration": 10,
    "start_time": "2023-05-04T12:52:37.589Z"
   },
   {
    "duration": 11,
    "start_time": "2023-05-04T12:52:37.601Z"
   },
   {
    "duration": 9,
    "start_time": "2023-05-04T12:52:37.615Z"
   },
   {
    "duration": 64,
    "start_time": "2023-05-04T12:52:37.626Z"
   },
   {
    "duration": 22,
    "start_time": "2023-05-04T12:52:37.692Z"
   },
   {
    "duration": 259,
    "start_time": "2023-05-04T12:52:37.716Z"
   },
   {
    "duration": 19,
    "start_time": "2023-05-04T12:52:37.976Z"
   },
   {
    "duration": 177,
    "start_time": "2023-05-04T12:52:37.997Z"
   },
   {
    "duration": 25,
    "start_time": "2023-05-04T12:52:38.179Z"
   },
   {
    "duration": 37,
    "start_time": "2023-05-04T12:52:38.206Z"
   },
   {
    "duration": 36,
    "start_time": "2023-05-04T12:52:38.245Z"
   },
   {
    "duration": 27,
    "start_time": "2023-05-04T12:52:38.283Z"
   },
   {
    "duration": 231,
    "start_time": "2023-05-04T12:52:38.313Z"
   },
   {
    "duration": 339,
    "start_time": "2023-05-04T12:52:38.546Z"
   },
   {
    "duration": 5,
    "start_time": "2023-05-04T12:52:38.887Z"
   },
   {
    "duration": 19,
    "start_time": "2023-05-04T12:52:38.894Z"
   },
   {
    "duration": 11,
    "start_time": "2023-05-04T12:52:38.915Z"
   },
   {
    "duration": 29,
    "start_time": "2023-05-04T12:52:38.927Z"
   },
   {
    "duration": 10,
    "start_time": "2023-05-04T12:52:38.962Z"
   },
   {
    "duration": 42,
    "start_time": "2023-05-04T12:52:38.974Z"
   },
   {
    "duration": 8,
    "start_time": "2023-05-04T12:52:39.017Z"
   },
   {
    "duration": 14,
    "start_time": "2023-05-04T12:52:39.027Z"
   },
   {
    "duration": 281,
    "start_time": "2023-05-04T12:52:39.042Z"
   },
   {
    "duration": 10,
    "start_time": "2023-05-04T12:52:39.325Z"
   },
   {
    "duration": 26,
    "start_time": "2023-05-04T12:52:39.337Z"
   },
   {
    "duration": 40,
    "start_time": "2023-05-04T12:52:39.367Z"
   },
   {
    "duration": 10,
    "start_time": "2023-05-04T12:52:39.409Z"
   },
   {
    "duration": 9,
    "start_time": "2023-05-04T12:52:39.421Z"
   },
   {
    "duration": 305,
    "start_time": "2023-05-04T12:52:39.432Z"
   },
   {
    "duration": 8,
    "start_time": "2023-05-04T12:52:39.739Z"
   },
   {
    "duration": 19,
    "start_time": "2023-05-04T12:52:39.748Z"
   },
   {
    "duration": 20,
    "start_time": "2023-05-04T12:52:39.768Z"
   },
   {
    "duration": 437,
    "start_time": "2023-05-04T12:52:39.790Z"
   },
   {
    "duration": 38,
    "start_time": "2023-05-04T12:52:40.230Z"
   },
   {
    "duration": 33,
    "start_time": "2023-05-04T12:52:40.270Z"
   },
   {
    "duration": 30,
    "start_time": "2023-05-04T12:52:40.306Z"
   },
   {
    "duration": 26,
    "start_time": "2023-05-04T12:52:40.338Z"
   },
   {
    "duration": 452,
    "start_time": "2023-05-04T12:52:40.366Z"
   },
   {
    "duration": 194,
    "start_time": "2023-05-04T12:52:40.820Z"
   },
   {
    "duration": 209,
    "start_time": "2023-05-04T12:52:41.017Z"
   },
   {
    "duration": 41,
    "start_time": "2023-05-04T12:54:15.870Z"
   },
   {
    "duration": 27,
    "start_time": "2023-05-04T12:54:22.539Z"
   },
   {
    "duration": 1424,
    "start_time": "2023-05-04T12:54:59.743Z"
   },
   {
    "duration": 17,
    "start_time": "2023-05-04T12:55:01.173Z"
   },
   {
    "duration": 90,
    "start_time": "2023-05-04T12:55:01.192Z"
   },
   {
    "duration": 40,
    "start_time": "2023-05-04T12:55:01.283Z"
   },
   {
    "duration": 94,
    "start_time": "2023-05-04T12:55:01.326Z"
   },
   {
    "duration": 144,
    "start_time": "2023-05-04T12:55:01.422Z"
   },
   {
    "duration": 154,
    "start_time": "2023-05-04T12:55:01.572Z"
   },
   {
    "duration": 63,
    "start_time": "2023-05-04T12:55:01.728Z"
   },
   {
    "duration": 48,
    "start_time": "2023-05-04T12:55:01.792Z"
   },
   {
    "duration": 70,
    "start_time": "2023-05-04T12:55:01.843Z"
   },
   {
    "duration": 65,
    "start_time": "2023-05-04T12:55:01.915Z"
   },
   {
    "duration": 106,
    "start_time": "2023-05-04T12:55:01.983Z"
   },
   {
    "duration": 137,
    "start_time": "2023-05-04T12:55:02.091Z"
   },
   {
    "duration": 44,
    "start_time": "2023-05-04T12:55:02.233Z"
   },
   {
    "duration": 25,
    "start_time": "2023-05-04T12:55:02.279Z"
   },
   {
    "duration": 65,
    "start_time": "2023-05-04T12:55:02.306Z"
   },
   {
    "duration": 26,
    "start_time": "2023-05-04T12:55:02.374Z"
   },
   {
    "duration": 45,
    "start_time": "2023-05-04T12:55:02.402Z"
   },
   {
    "duration": 42,
    "start_time": "2023-05-04T12:55:02.449Z"
   },
   {
    "duration": 13,
    "start_time": "2023-05-04T12:55:02.493Z"
   },
   {
    "duration": 13,
    "start_time": "2023-05-04T12:55:02.508Z"
   },
   {
    "duration": 28,
    "start_time": "2023-05-04T12:55:02.522Z"
   },
   {
    "duration": 55,
    "start_time": "2023-05-04T12:55:02.552Z"
   },
   {
    "duration": 8,
    "start_time": "2023-05-04T12:55:02.610Z"
   },
   {
    "duration": 16,
    "start_time": "2023-05-04T12:55:02.619Z"
   },
   {
    "duration": 14,
    "start_time": "2023-05-04T12:55:02.637Z"
   },
   {
    "duration": 49,
    "start_time": "2023-05-04T12:55:02.652Z"
   },
   {
    "duration": 66,
    "start_time": "2023-05-04T12:55:02.703Z"
   },
   {
    "duration": 264,
    "start_time": "2023-05-04T12:55:02.773Z"
   },
   {
    "duration": 7,
    "start_time": "2023-05-04T12:55:03.038Z"
   },
   {
    "duration": 280,
    "start_time": "2023-05-04T12:55:03.056Z"
   },
   {
    "duration": 4,
    "start_time": "2023-05-04T12:55:03.338Z"
   },
   {
    "duration": 23,
    "start_time": "2023-05-04T12:55:03.344Z"
   },
   {
    "duration": 19,
    "start_time": "2023-05-04T12:55:03.373Z"
   },
   {
    "duration": 290,
    "start_time": "2023-05-04T12:55:03.394Z"
   },
   {
    "duration": 7,
    "start_time": "2023-05-04T12:55:03.686Z"
   },
   {
    "duration": 330,
    "start_time": "2023-05-04T12:55:03.695Z"
   },
   {
    "duration": 6,
    "start_time": "2023-05-04T12:55:04.027Z"
   },
   {
    "duration": 26,
    "start_time": "2023-05-04T12:55:04.034Z"
   },
   {
    "duration": 18,
    "start_time": "2023-05-04T12:55:04.062Z"
   },
   {
    "duration": 447,
    "start_time": "2023-05-04T12:55:04.089Z"
   },
   {
    "duration": 7,
    "start_time": "2023-05-04T12:55:04.538Z"
   },
   {
    "duration": 258,
    "start_time": "2023-05-04T12:55:04.557Z"
   },
   {
    "duration": 5,
    "start_time": "2023-05-04T12:55:04.817Z"
   },
   {
    "duration": 6,
    "start_time": "2023-05-04T12:55:04.824Z"
   },
   {
    "duration": 40,
    "start_time": "2023-05-04T12:55:04.832Z"
   },
   {
    "duration": 258,
    "start_time": "2023-05-04T12:55:04.875Z"
   },
   {
    "duration": 8,
    "start_time": "2023-05-04T12:55:05.135Z"
   },
   {
    "duration": 279,
    "start_time": "2023-05-04T12:55:05.156Z"
   },
   {
    "duration": 7,
    "start_time": "2023-05-04T12:55:05.437Z"
   },
   {
    "duration": 16,
    "start_time": "2023-05-04T12:55:05.456Z"
   },
   {
    "duration": 24,
    "start_time": "2023-05-04T12:55:05.474Z"
   },
   {
    "duration": 12,
    "start_time": "2023-05-04T12:55:05.501Z"
   },
   {
    "duration": 16,
    "start_time": "2023-05-04T12:55:05.515Z"
   },
   {
    "duration": 42,
    "start_time": "2023-05-04T12:55:05.533Z"
   },
   {
    "duration": 7,
    "start_time": "2023-05-04T12:55:05.578Z"
   },
   {
    "duration": 24,
    "start_time": "2023-05-04T12:55:05.587Z"
   },
   {
    "duration": 19,
    "start_time": "2023-05-04T12:55:05.613Z"
   },
   {
    "duration": 189,
    "start_time": "2023-05-04T12:55:05.633Z"
   },
   {
    "duration": 14,
    "start_time": "2023-05-04T12:55:05.824Z"
   },
   {
    "duration": 192,
    "start_time": "2023-05-04T12:55:05.840Z"
   },
   {
    "duration": 36,
    "start_time": "2023-05-04T12:55:06.034Z"
   },
   {
    "duration": 5,
    "start_time": "2023-05-04T12:55:06.076Z"
   },
   {
    "duration": 24,
    "start_time": "2023-05-04T12:55:06.083Z"
   },
   {
    "duration": 18,
    "start_time": "2023-05-04T12:55:06.109Z"
   },
   {
    "duration": 235,
    "start_time": "2023-05-04T12:55:06.128Z"
   },
   {
    "duration": 370,
    "start_time": "2023-05-04T12:55:06.366Z"
   },
   {
    "duration": 7,
    "start_time": "2023-05-04T12:55:06.738Z"
   },
   {
    "duration": 16,
    "start_time": "2023-05-04T12:55:06.758Z"
   },
   {
    "duration": 12,
    "start_time": "2023-05-04T12:55:06.778Z"
   },
   {
    "duration": 14,
    "start_time": "2023-05-04T12:55:06.792Z"
   },
   {
    "duration": 7,
    "start_time": "2023-05-04T12:55:06.809Z"
   },
   {
    "duration": 63,
    "start_time": "2023-05-04T12:55:06.819Z"
   },
   {
    "duration": 6,
    "start_time": "2023-05-04T12:55:06.884Z"
   },
   {
    "duration": 8,
    "start_time": "2023-05-04T12:55:06.893Z"
   },
   {
    "duration": 270,
    "start_time": "2023-05-04T12:55:06.903Z"
   },
   {
    "duration": 9,
    "start_time": "2023-05-04T12:55:07.175Z"
   },
   {
    "duration": 23,
    "start_time": "2023-05-04T12:55:07.186Z"
   },
   {
    "duration": 25,
    "start_time": "2023-05-04T12:55:07.211Z"
   },
   {
    "duration": 10,
    "start_time": "2023-05-04T12:55:07.238Z"
   },
   {
    "duration": 17,
    "start_time": "2023-05-04T12:55:07.249Z"
   },
   {
    "duration": 246,
    "start_time": "2023-05-04T12:55:07.270Z"
   },
   {
    "duration": 7,
    "start_time": "2023-05-04T12:55:07.518Z"
   },
   {
    "duration": 15,
    "start_time": "2023-05-04T12:55:07.526Z"
   },
   {
    "duration": 29,
    "start_time": "2023-05-04T12:55:07.543Z"
   },
   {
    "duration": 399,
    "start_time": "2023-05-04T12:55:07.573Z"
   },
   {
    "duration": 23,
    "start_time": "2023-05-04T12:55:07.975Z"
   },
   {
    "duration": 27,
    "start_time": "2023-05-04T12:55:08.000Z"
   },
   {
    "duration": 49,
    "start_time": "2023-05-04T12:55:08.029Z"
   },
   {
    "duration": 11,
    "start_time": "2023-05-04T12:55:08.079Z"
   },
   {
    "duration": 390,
    "start_time": "2023-05-04T12:55:08.091Z"
   },
   {
    "duration": 158,
    "start_time": "2023-05-04T12:55:08.483Z"
   },
   {
    "duration": 178,
    "start_time": "2023-05-04T12:55:08.644Z"
   },
   {
    "duration": 6,
    "start_time": "2023-05-04T12:57:39.629Z"
   },
   {
    "duration": 29,
    "start_time": "2023-05-04T12:58:55.940Z"
   },
   {
    "duration": 6,
    "start_time": "2023-05-04T12:59:18.293Z"
   },
   {
    "duration": 8,
    "start_time": "2023-05-04T13:00:09.928Z"
   },
   {
    "duration": 13,
    "start_time": "2023-05-04T13:02:18.180Z"
   },
   {
    "duration": 150,
    "start_time": "2023-05-04T13:02:41.300Z"
   },
   {
    "duration": 99,
    "start_time": "2023-05-04T13:04:04.953Z"
   },
   {
    "duration": 128,
    "start_time": "2023-05-04T13:04:10.700Z"
   },
   {
    "duration": 8,
    "start_time": "2023-05-04T13:07:52.102Z"
   },
   {
    "duration": 36,
    "start_time": "2023-05-04T13:20:45.186Z"
   },
   {
    "duration": 12,
    "start_time": "2023-05-04T13:20:51.056Z"
   },
   {
    "duration": 25,
    "start_time": "2023-05-04T13:21:08.673Z"
   },
   {
    "duration": 6,
    "start_time": "2023-05-04T13:22:03.126Z"
   },
   {
    "duration": 58,
    "start_time": "2023-05-06T09:03:23.395Z"
   },
   {
    "duration": 1626,
    "start_time": "2023-05-06T09:03:34.114Z"
   },
   {
    "duration": 15,
    "start_time": "2023-05-06T09:03:35.742Z"
   },
   {
    "duration": 120,
    "start_time": "2023-05-06T09:03:35.758Z"
   },
   {
    "duration": 22,
    "start_time": "2023-05-06T09:03:35.880Z"
   },
   {
    "duration": 35,
    "start_time": "2023-05-06T09:03:35.905Z"
   },
   {
    "duration": 20,
    "start_time": "2023-05-06T09:03:35.942Z"
   },
   {
    "duration": 15,
    "start_time": "2023-05-06T09:03:35.964Z"
   },
   {
    "duration": 62,
    "start_time": "2023-05-06T09:03:35.980Z"
   },
   {
    "duration": 16,
    "start_time": "2023-05-06T09:03:36.044Z"
   },
   {
    "duration": 9,
    "start_time": "2023-05-06T09:03:36.061Z"
   },
   {
    "duration": 39,
    "start_time": "2023-05-06T09:03:36.072Z"
   },
   {
    "duration": 16,
    "start_time": "2023-05-06T09:03:36.113Z"
   },
   {
    "duration": 28,
    "start_time": "2023-05-06T09:03:36.131Z"
   },
   {
    "duration": 8,
    "start_time": "2023-05-06T09:03:36.162Z"
   },
   {
    "duration": 50,
    "start_time": "2023-05-06T09:03:36.172Z"
   },
   {
    "duration": 9,
    "start_time": "2023-05-06T09:03:36.224Z"
   },
   {
    "duration": 9,
    "start_time": "2023-05-06T09:03:36.235Z"
   },
   {
    "duration": 11,
    "start_time": "2023-05-06T09:03:36.246Z"
   },
   {
    "duration": 20,
    "start_time": "2023-05-06T09:03:36.258Z"
   },
   {
    "duration": 37,
    "start_time": "2023-05-06T09:03:36.280Z"
   },
   {
    "duration": 6,
    "start_time": "2023-05-06T09:03:36.319Z"
   },
   {
    "duration": 11,
    "start_time": "2023-05-06T09:03:36.326Z"
   },
   {
    "duration": 22,
    "start_time": "2023-05-06T09:03:36.339Z"
   },
   {
    "duration": 5,
    "start_time": "2023-05-06T09:03:36.363Z"
   },
   {
    "duration": 15,
    "start_time": "2023-05-06T09:03:36.369Z"
   },
   {
    "duration": 55,
    "start_time": "2023-05-06T09:03:36.387Z"
   },
   {
    "duration": 9,
    "start_time": "2023-05-06T09:03:36.443Z"
   },
   {
    "duration": 13,
    "start_time": "2023-05-06T09:03:36.453Z"
   },
   {
    "duration": 9,
    "start_time": "2023-05-06T09:03:36.468Z"
   },
   {
    "duration": 19,
    "start_time": "2023-05-06T09:03:36.478Z"
   },
   {
    "duration": 29,
    "start_time": "2023-05-06T09:03:36.499Z"
   },
   {
    "duration": 17,
    "start_time": "2023-05-06T09:03:36.529Z"
   },
   {
    "duration": 20,
    "start_time": "2023-05-06T09:03:36.547Z"
   },
   {
    "duration": 48,
    "start_time": "2023-05-06T09:03:36.568Z"
   },
   {
    "duration": 250,
    "start_time": "2023-05-06T09:03:36.617Z"
   },
   {
    "duration": 19,
    "start_time": "2023-05-06T09:03:36.868Z"
   },
   {
    "duration": 248,
    "start_time": "2023-05-06T09:03:36.888Z"
   },
   {
    "duration": 4,
    "start_time": "2023-05-06T09:03:37.138Z"
   },
   {
    "duration": 15,
    "start_time": "2023-05-06T09:03:37.143Z"
   },
   {
    "duration": 13,
    "start_time": "2023-05-06T09:03:37.160Z"
   },
   {
    "duration": 260,
    "start_time": "2023-05-06T09:03:37.184Z"
   },
   {
    "duration": 5,
    "start_time": "2023-05-06T09:03:37.446Z"
   },
   {
    "duration": 308,
    "start_time": "2023-05-06T09:03:37.453Z"
   },
   {
    "duration": 4,
    "start_time": "2023-05-06T09:03:37.763Z"
   },
   {
    "duration": 29,
    "start_time": "2023-05-06T09:03:37.769Z"
   },
   {
    "duration": 25,
    "start_time": "2023-05-06T09:03:37.802Z"
   },
   {
    "duration": 323,
    "start_time": "2023-05-06T09:03:37.829Z"
   },
   {
    "duration": 5,
    "start_time": "2023-05-06T09:03:38.155Z"
   },
   {
    "duration": 256,
    "start_time": "2023-05-06T09:03:38.161Z"
   },
   {
    "duration": 6,
    "start_time": "2023-05-06T09:03:38.418Z"
   },
   {
    "duration": 13,
    "start_time": "2023-05-06T09:03:38.425Z"
   },
   {
    "duration": 12,
    "start_time": "2023-05-06T09:03:38.439Z"
   },
   {
    "duration": 268,
    "start_time": "2023-05-06T09:03:38.452Z"
   },
   {
    "duration": 5,
    "start_time": "2023-05-06T09:03:38.722Z"
   },
   {
    "duration": 272,
    "start_time": "2023-05-06T09:03:38.729Z"
   },
   {
    "duration": 10,
    "start_time": "2023-05-06T09:03:39.003Z"
   },
   {
    "duration": 17,
    "start_time": "2023-05-06T09:03:39.016Z"
   },
   {
    "duration": 21,
    "start_time": "2023-05-06T09:03:39.035Z"
   },
   {
    "duration": 16,
    "start_time": "2023-05-06T09:03:39.058Z"
   },
   {
    "duration": 39,
    "start_time": "2023-05-06T09:03:39.076Z"
   },
   {
    "duration": 32,
    "start_time": "2023-05-06T09:03:39.118Z"
   },
   {
    "duration": 75,
    "start_time": "2023-05-06T09:03:39.152Z"
   },
   {
    "duration": 44,
    "start_time": "2023-05-06T09:03:39.229Z"
   },
   {
    "duration": 21,
    "start_time": "2023-05-06T09:03:39.275Z"
   },
   {
    "duration": 206,
    "start_time": "2023-05-06T09:03:39.297Z"
   },
   {
    "duration": 23,
    "start_time": "2023-05-06T09:03:39.504Z"
   },
   {
    "duration": 176,
    "start_time": "2023-05-06T09:03:39.529Z"
   },
   {
    "duration": 24,
    "start_time": "2023-05-06T09:03:39.706Z"
   },
   {
    "duration": 13,
    "start_time": "2023-05-06T09:03:39.732Z"
   },
   {
    "duration": 50,
    "start_time": "2023-05-06T09:03:39.747Z"
   },
   {
    "duration": 97,
    "start_time": "2023-05-06T09:03:39.800Z"
   },
   {
    "duration": 289,
    "start_time": "2023-05-06T09:03:39.900Z"
   },
   {
    "duration": 325,
    "start_time": "2023-05-06T09:03:40.191Z"
   },
   {
    "duration": 6,
    "start_time": "2023-05-06T09:03:40.519Z"
   },
   {
    "duration": 34,
    "start_time": "2023-05-06T09:03:40.527Z"
   },
   {
    "duration": 32,
    "start_time": "2023-05-06T09:03:40.563Z"
   },
   {
    "duration": 37,
    "start_time": "2023-05-06T09:03:40.600Z"
   },
   {
    "duration": 16,
    "start_time": "2023-05-06T09:03:40.639Z"
   },
   {
    "duration": 59,
    "start_time": "2023-05-06T09:03:40.657Z"
   },
   {
    "duration": 14,
    "start_time": "2023-05-06T09:03:40.718Z"
   },
   {
    "duration": 36,
    "start_time": "2023-05-06T09:03:40.734Z"
   },
   {
    "duration": 286,
    "start_time": "2023-05-06T09:03:40.772Z"
   },
   {
    "duration": 7,
    "start_time": "2023-05-06T09:03:41.060Z"
   },
   {
    "duration": 57,
    "start_time": "2023-05-06T09:03:41.068Z"
   },
   {
    "duration": 41,
    "start_time": "2023-05-06T09:03:41.126Z"
   },
   {
    "duration": 22,
    "start_time": "2023-05-06T09:03:41.169Z"
   },
   {
    "duration": 46,
    "start_time": "2023-05-06T09:03:41.193Z"
   },
   {
    "duration": 314,
    "start_time": "2023-05-06T09:03:41.242Z"
   },
   {
    "duration": 7,
    "start_time": "2023-05-06T09:03:41.558Z"
   },
   {
    "duration": 62,
    "start_time": "2023-05-06T09:03:41.567Z"
   },
   {
    "duration": 32,
    "start_time": "2023-05-06T09:03:41.631Z"
   },
   {
    "duration": 396,
    "start_time": "2023-05-06T09:03:41.665Z"
   },
   {
    "duration": 38,
    "start_time": "2023-05-06T09:03:42.062Z"
   },
   {
    "duration": 27,
    "start_time": "2023-05-06T09:03:42.103Z"
   },
   {
    "duration": 25,
    "start_time": "2023-05-06T09:03:42.132Z"
   },
   {
    "duration": 32,
    "start_time": "2023-05-06T09:03:42.159Z"
   },
   {
    "duration": 471,
    "start_time": "2023-05-06T09:03:42.195Z"
   },
   {
    "duration": 184,
    "start_time": "2023-05-06T09:03:42.669Z"
   },
   {
    "duration": 201,
    "start_time": "2023-05-06T09:03:42.855Z"
   },
   {
    "duration": 1358,
    "start_time": "2023-05-06T09:22:05.387Z"
   },
   {
    "duration": 14,
    "start_time": "2023-05-06T09:22:06.747Z"
   },
   {
    "duration": 92,
    "start_time": "2023-05-06T09:22:06.763Z"
   },
   {
    "duration": 9,
    "start_time": "2023-05-06T09:22:06.858Z"
   },
   {
    "duration": 24,
    "start_time": "2023-05-06T09:22:06.868Z"
   },
   {
    "duration": 37,
    "start_time": "2023-05-06T09:22:06.893Z"
   },
   {
    "duration": 32,
    "start_time": "2023-05-06T09:22:06.932Z"
   },
   {
    "duration": 79,
    "start_time": "2023-05-06T09:22:06.966Z"
   },
   {
    "duration": 33,
    "start_time": "2023-05-06T09:22:07.047Z"
   },
   {
    "duration": 31,
    "start_time": "2023-05-06T09:22:07.083Z"
   },
   {
    "duration": 27,
    "start_time": "2023-05-06T09:22:07.116Z"
   },
   {
    "duration": 13,
    "start_time": "2023-05-06T09:22:07.145Z"
   },
   {
    "duration": 37,
    "start_time": "2023-05-06T09:22:07.160Z"
   },
   {
    "duration": 44,
    "start_time": "2023-05-06T09:22:07.200Z"
   },
   {
    "duration": 14,
    "start_time": "2023-05-06T09:22:07.245Z"
   },
   {
    "duration": 6,
    "start_time": "2023-05-06T09:22:07.261Z"
   },
   {
    "duration": 10,
    "start_time": "2023-05-06T09:22:07.268Z"
   },
   {
    "duration": 41,
    "start_time": "2023-05-06T09:22:07.280Z"
   },
   {
    "duration": 14,
    "start_time": "2023-05-06T09:22:07.323Z"
   },
   {
    "duration": 4,
    "start_time": "2023-05-06T09:22:07.339Z"
   },
   {
    "duration": 8,
    "start_time": "2023-05-06T09:22:07.345Z"
   },
   {
    "duration": 16,
    "start_time": "2023-05-06T09:22:07.354Z"
   },
   {
    "duration": 30,
    "start_time": "2023-05-06T09:22:07.372Z"
   },
   {
    "duration": 14,
    "start_time": "2023-05-06T09:22:07.403Z"
   },
   {
    "duration": 8,
    "start_time": "2023-05-06T09:22:07.419Z"
   },
   {
    "duration": 16,
    "start_time": "2023-05-06T09:22:07.429Z"
   },
   {
    "duration": 10,
    "start_time": "2023-05-06T09:22:07.447Z"
   },
   {
    "duration": 15,
    "start_time": "2023-05-06T09:22:07.460Z"
   },
   {
    "duration": 9,
    "start_time": "2023-05-06T09:22:07.487Z"
   },
   {
    "duration": 28,
    "start_time": "2023-05-06T09:22:07.500Z"
   },
   {
    "duration": 13,
    "start_time": "2023-05-06T09:22:07.530Z"
   },
   {
    "duration": 5,
    "start_time": "2023-05-06T09:22:07.544Z"
   },
   {
    "duration": 8,
    "start_time": "2023-05-06T09:22:07.550Z"
   },
   {
    "duration": 10,
    "start_time": "2023-05-06T09:22:07.559Z"
   },
   {
    "duration": 258,
    "start_time": "2023-05-06T09:22:07.571Z"
   },
   {
    "duration": 5,
    "start_time": "2023-05-06T09:22:07.831Z"
   },
   {
    "duration": 300,
    "start_time": "2023-05-06T09:22:07.838Z"
   },
   {
    "duration": 5,
    "start_time": "2023-05-06T09:22:08.139Z"
   },
   {
    "duration": 18,
    "start_time": "2023-05-06T09:22:08.145Z"
   },
   {
    "duration": 53,
    "start_time": "2023-05-06T09:22:08.165Z"
   },
   {
    "duration": 309,
    "start_time": "2023-05-06T09:22:08.219Z"
   },
   {
    "duration": 7,
    "start_time": "2023-05-06T09:22:08.530Z"
   },
   {
    "duration": 293,
    "start_time": "2023-05-06T09:22:08.539Z"
   },
   {
    "duration": 4,
    "start_time": "2023-05-06T09:22:08.833Z"
   },
   {
    "duration": 34,
    "start_time": "2023-05-06T09:22:08.838Z"
   },
   {
    "duration": 57,
    "start_time": "2023-05-06T09:22:08.874Z"
   },
   {
    "duration": 356,
    "start_time": "2023-05-06T09:22:08.933Z"
   },
   {
    "duration": 13,
    "start_time": "2023-05-06T09:22:09.293Z"
   },
   {
    "duration": 280,
    "start_time": "2023-05-06T09:22:09.309Z"
   },
   {
    "duration": 4,
    "start_time": "2023-05-06T09:22:09.590Z"
   },
   {
    "duration": 44,
    "start_time": "2023-05-06T09:22:09.596Z"
   },
   {
    "duration": 40,
    "start_time": "2023-05-06T09:22:09.642Z"
   },
   {
    "duration": 342,
    "start_time": "2023-05-06T09:22:09.686Z"
   },
   {
    "duration": 11,
    "start_time": "2023-05-06T09:22:10.030Z"
   },
   {
    "duration": 290,
    "start_time": "2023-05-06T09:22:10.043Z"
   },
   {
    "duration": 6,
    "start_time": "2023-05-06T09:22:10.335Z"
   },
   {
    "duration": 37,
    "start_time": "2023-05-06T09:22:10.343Z"
   },
   {
    "duration": 60,
    "start_time": "2023-05-06T09:22:10.381Z"
   },
   {
    "duration": 20,
    "start_time": "2023-05-06T09:22:10.443Z"
   },
   {
    "duration": 69,
    "start_time": "2023-05-06T09:22:10.465Z"
   },
   {
    "duration": 22,
    "start_time": "2023-05-06T09:22:10.535Z"
   },
   {
    "duration": 60,
    "start_time": "2023-05-06T09:22:10.559Z"
   },
   {
    "duration": 33,
    "start_time": "2023-05-06T09:22:10.620Z"
   },
   {
    "duration": 40,
    "start_time": "2023-05-06T09:22:10.654Z"
   },
   {
    "duration": 224,
    "start_time": "2023-05-06T09:22:10.696Z"
   },
   {
    "duration": 23,
    "start_time": "2023-05-06T09:22:10.922Z"
   },
   {
    "duration": 182,
    "start_time": "2023-05-06T09:22:10.947Z"
   },
   {
    "duration": 22,
    "start_time": "2023-05-06T09:22:11.130Z"
   },
   {
    "duration": 21,
    "start_time": "2023-05-06T09:22:11.155Z"
   },
   {
    "duration": 56,
    "start_time": "2023-05-06T09:22:11.178Z"
   },
   {
    "duration": 69,
    "start_time": "2023-05-06T09:22:11.236Z"
   },
   {
    "duration": 310,
    "start_time": "2023-05-06T09:22:11.311Z"
   },
   {
    "duration": 348,
    "start_time": "2023-05-06T09:22:11.623Z"
   },
   {
    "duration": 20,
    "start_time": "2023-05-06T09:22:11.973Z"
   },
   {
    "duration": 78,
    "start_time": "2023-05-06T09:22:11.994Z"
   },
   {
    "duration": 62,
    "start_time": "2023-05-06T09:22:12.074Z"
   },
   {
    "duration": 39,
    "start_time": "2023-05-06T09:22:12.138Z"
   },
   {
    "duration": 62,
    "start_time": "2023-05-06T09:22:12.179Z"
   },
   {
    "duration": 51,
    "start_time": "2023-05-06T09:22:12.243Z"
   },
   {
    "duration": 26,
    "start_time": "2023-05-06T09:22:12.295Z"
   },
   {
    "duration": 33,
    "start_time": "2023-05-06T09:22:12.323Z"
   },
   {
    "duration": 276,
    "start_time": "2023-05-06T09:22:12.360Z"
   },
   {
    "duration": 9,
    "start_time": "2023-05-06T09:22:12.638Z"
   },
   {
    "duration": 17,
    "start_time": "2023-05-06T09:22:12.648Z"
   },
   {
    "duration": 39,
    "start_time": "2023-05-06T09:22:12.666Z"
   },
   {
    "duration": 11,
    "start_time": "2023-05-06T09:22:12.706Z"
   },
   {
    "duration": 12,
    "start_time": "2023-05-06T09:22:12.719Z"
   },
   {
    "duration": 248,
    "start_time": "2023-05-06T09:22:12.732Z"
   },
   {
    "duration": 16,
    "start_time": "2023-05-06T09:22:12.985Z"
   },
   {
    "duration": 28,
    "start_time": "2023-05-06T09:22:13.004Z"
   },
   {
    "duration": 28,
    "start_time": "2023-05-06T09:22:13.034Z"
   },
   {
    "duration": 375,
    "start_time": "2023-05-06T09:22:13.064Z"
   },
   {
    "duration": 15,
    "start_time": "2023-05-06T09:22:13.441Z"
   },
   {
    "duration": 43,
    "start_time": "2023-05-06T09:22:13.458Z"
   },
   {
    "duration": 30,
    "start_time": "2023-05-06T09:22:13.503Z"
   },
   {
    "duration": 12,
    "start_time": "2023-05-06T09:22:13.534Z"
   },
   {
    "duration": 410,
    "start_time": "2023-05-06T09:22:13.548Z"
   },
   {
    "duration": 186,
    "start_time": "2023-05-06T09:22:13.960Z"
   },
   {
    "duration": 180,
    "start_time": "2023-05-06T09:22:14.147Z"
   },
   {
    "duration": 10,
    "start_time": "2023-05-06T09:42:42.511Z"
   },
   {
    "duration": 120,
    "start_time": "2023-05-06T09:43:13.408Z"
   },
   {
    "duration": 13,
    "start_time": "2023-05-06T09:44:15.482Z"
   },
   {
    "duration": 28,
    "start_time": "2023-05-06T09:57:45.616Z"
   },
   {
    "duration": 23,
    "start_time": "2023-05-06T09:59:31.343Z"
   },
   {
    "duration": 11,
    "start_time": "2023-05-06T10:06:31.809Z"
   },
   {
    "duration": 10,
    "start_time": "2023-05-06T10:07:04.255Z"
   },
   {
    "duration": 1336,
    "start_time": "2023-05-06T11:03:16.374Z"
   },
   {
    "duration": 19,
    "start_time": "2023-05-06T11:03:17.713Z"
   },
   {
    "duration": 40,
    "start_time": "2023-05-06T11:03:17.734Z"
   },
   {
    "duration": 18,
    "start_time": "2023-05-06T11:03:17.776Z"
   },
   {
    "duration": 39,
    "start_time": "2023-05-06T11:03:17.796Z"
   },
   {
    "duration": 9,
    "start_time": "2023-05-06T11:03:17.837Z"
   },
   {
    "duration": 11,
    "start_time": "2023-05-06T11:03:17.847Z"
   },
   {
    "duration": 41,
    "start_time": "2023-05-06T11:03:17.860Z"
   },
   {
    "duration": 23,
    "start_time": "2023-05-06T11:03:17.902Z"
   },
   {
    "duration": 6,
    "start_time": "2023-05-06T11:03:17.929Z"
   },
   {
    "duration": 14,
    "start_time": "2023-05-06T11:03:17.937Z"
   },
   {
    "duration": 8,
    "start_time": "2023-05-06T11:03:17.953Z"
   },
   {
    "duration": 39,
    "start_time": "2023-05-06T11:03:17.963Z"
   },
   {
    "duration": 26,
    "start_time": "2023-05-06T11:03:18.003Z"
   },
   {
    "duration": 35,
    "start_time": "2023-05-06T11:03:18.031Z"
   },
   {
    "duration": 8,
    "start_time": "2023-05-06T11:03:18.068Z"
   },
   {
    "duration": 38,
    "start_time": "2023-05-06T11:03:18.078Z"
   },
   {
    "duration": 8,
    "start_time": "2023-05-06T11:03:18.118Z"
   },
   {
    "duration": 15,
    "start_time": "2023-05-06T11:03:18.127Z"
   },
   {
    "duration": 5,
    "start_time": "2023-05-06T11:03:18.144Z"
   },
   {
    "duration": 7,
    "start_time": "2023-05-06T11:03:18.151Z"
   },
   {
    "duration": 11,
    "start_time": "2023-05-06T11:03:18.160Z"
   },
   {
    "duration": 38,
    "start_time": "2023-05-06T11:03:18.173Z"
   },
   {
    "duration": 5,
    "start_time": "2023-05-06T11:03:18.214Z"
   },
   {
    "duration": 10,
    "start_time": "2023-05-06T11:03:18.220Z"
   },
   {
    "duration": 17,
    "start_time": "2023-05-06T11:03:18.232Z"
   },
   {
    "duration": 10,
    "start_time": "2023-05-06T11:03:18.251Z"
   },
   {
    "duration": 23,
    "start_time": "2023-05-06T11:03:18.265Z"
   },
   {
    "duration": 25,
    "start_time": "2023-05-06T11:03:18.290Z"
   },
   {
    "duration": 5,
    "start_time": "2023-05-06T11:03:18.317Z"
   },
   {
    "duration": 9,
    "start_time": "2023-05-06T11:03:18.323Z"
   },
   {
    "duration": 7,
    "start_time": "2023-05-06T11:03:18.333Z"
   },
   {
    "duration": 6,
    "start_time": "2023-05-06T11:03:18.342Z"
   },
   {
    "duration": 10,
    "start_time": "2023-05-06T11:03:18.349Z"
   },
   {
    "duration": 292,
    "start_time": "2023-05-06T11:03:18.360Z"
   },
   {
    "duration": 5,
    "start_time": "2023-05-06T11:03:18.654Z"
   },
   {
    "duration": 278,
    "start_time": "2023-05-06T11:03:18.661Z"
   },
   {
    "duration": 4,
    "start_time": "2023-05-06T11:03:18.941Z"
   },
   {
    "duration": 7,
    "start_time": "2023-05-06T11:03:18.946Z"
   },
   {
    "duration": 10,
    "start_time": "2023-05-06T11:03:18.955Z"
   },
   {
    "duration": 283,
    "start_time": "2023-05-06T11:03:18.967Z"
   },
   {
    "duration": 5,
    "start_time": "2023-05-06T11:03:19.251Z"
   },
   {
    "duration": 275,
    "start_time": "2023-05-06T11:03:19.258Z"
   },
   {
    "duration": 4,
    "start_time": "2023-05-06T11:03:19.534Z"
   },
   {
    "duration": 10,
    "start_time": "2023-05-06T11:03:19.539Z"
   },
   {
    "duration": 9,
    "start_time": "2023-05-06T11:03:19.551Z"
   },
   {
    "duration": 379,
    "start_time": "2023-05-06T11:03:19.561Z"
   },
   {
    "duration": 6,
    "start_time": "2023-05-06T11:03:19.942Z"
   },
   {
    "duration": 271,
    "start_time": "2023-05-06T11:03:19.949Z"
   },
   {
    "duration": 4,
    "start_time": "2023-05-06T11:03:20.223Z"
   },
   {
    "duration": 19,
    "start_time": "2023-05-06T11:03:20.229Z"
   },
   {
    "duration": 15,
    "start_time": "2023-05-06T11:03:20.249Z"
   },
   {
    "duration": 275,
    "start_time": "2023-05-06T11:03:20.266Z"
   },
   {
    "duration": 8,
    "start_time": "2023-05-06T11:03:20.543Z"
   },
   {
    "duration": 273,
    "start_time": "2023-05-06T11:03:20.553Z"
   },
   {
    "duration": 7,
    "start_time": "2023-05-06T11:03:20.828Z"
   },
   {
    "duration": 8,
    "start_time": "2023-05-06T11:03:20.836Z"
   },
   {
    "duration": 14,
    "start_time": "2023-05-06T11:03:20.846Z"
   },
   {
    "duration": 40,
    "start_time": "2023-05-06T11:03:20.862Z"
   },
   {
    "duration": 25,
    "start_time": "2023-05-06T11:03:20.907Z"
   },
   {
    "duration": 15,
    "start_time": "2023-05-06T11:03:20.933Z"
   },
   {
    "duration": 22,
    "start_time": "2023-05-06T11:03:20.949Z"
   },
   {
    "duration": 24,
    "start_time": "2023-05-06T11:03:20.973Z"
   },
   {
    "duration": 32,
    "start_time": "2023-05-06T11:03:21.001Z"
   },
   {
    "duration": 165,
    "start_time": "2023-05-06T11:03:21.034Z"
   },
   {
    "duration": 23,
    "start_time": "2023-05-06T11:03:21.200Z"
   },
   {
    "duration": 187,
    "start_time": "2023-05-06T11:03:21.225Z"
   },
   {
    "duration": 21,
    "start_time": "2023-05-06T11:03:21.414Z"
   },
   {
    "duration": 5,
    "start_time": "2023-05-06T11:03:21.437Z"
   },
   {
    "duration": 32,
    "start_time": "2023-05-06T11:03:21.444Z"
   },
   {
    "duration": 34,
    "start_time": "2023-05-06T11:03:21.482Z"
   },
   {
    "duration": 235,
    "start_time": "2023-05-06T11:03:21.518Z"
   },
   {
    "duration": 336,
    "start_time": "2023-05-06T11:03:21.755Z"
   },
   {
    "duration": 9,
    "start_time": "2023-05-06T11:03:22.093Z"
   },
   {
    "duration": 26,
    "start_time": "2023-05-06T11:03:22.104Z"
   },
   {
    "duration": 17,
    "start_time": "2023-05-06T11:03:22.132Z"
   },
   {
    "duration": 11,
    "start_time": "2023-05-06T11:03:22.151Z"
   },
   {
    "duration": 6,
    "start_time": "2023-05-06T11:03:22.164Z"
   },
   {
    "duration": 38,
    "start_time": "2023-05-06T11:03:22.171Z"
   },
   {
    "duration": 9,
    "start_time": "2023-05-06T11:03:22.211Z"
   },
   {
    "duration": 8,
    "start_time": "2023-05-06T11:03:22.221Z"
   },
   {
    "duration": 226,
    "start_time": "2023-05-06T11:03:22.234Z"
   },
   {
    "duration": 8,
    "start_time": "2023-05-06T11:03:22.462Z"
   },
   {
    "duration": 129,
    "start_time": "2023-05-06T11:03:22.485Z"
   },
   {
    "duration": 0,
    "start_time": "2023-05-06T11:03:22.616Z"
   },
   {
    "duration": 0,
    "start_time": "2023-05-06T11:03:22.617Z"
   },
   {
    "duration": 0,
    "start_time": "2023-05-06T11:03:22.618Z"
   },
   {
    "duration": 0,
    "start_time": "2023-05-06T11:03:22.620Z"
   },
   {
    "duration": 0,
    "start_time": "2023-05-06T11:03:22.620Z"
   },
   {
    "duration": 0,
    "start_time": "2023-05-06T11:03:22.622Z"
   },
   {
    "duration": 0,
    "start_time": "2023-05-06T11:03:22.622Z"
   },
   {
    "duration": 0,
    "start_time": "2023-05-06T11:03:22.623Z"
   },
   {
    "duration": 0,
    "start_time": "2023-05-06T11:03:22.624Z"
   },
   {
    "duration": 0,
    "start_time": "2023-05-06T11:03:22.625Z"
   },
   {
    "duration": 0,
    "start_time": "2023-05-06T11:03:22.626Z"
   },
   {
    "duration": 0,
    "start_time": "2023-05-06T11:03:22.627Z"
   },
   {
    "duration": 0,
    "start_time": "2023-05-06T11:03:22.628Z"
   },
   {
    "duration": 0,
    "start_time": "2023-05-06T11:03:22.629Z"
   },
   {
    "duration": 0,
    "start_time": "2023-05-06T11:03:22.630Z"
   },
   {
    "duration": 17,
    "start_time": "2023-05-06T11:30:34.427Z"
   },
   {
    "duration": 1402,
    "start_time": "2023-05-06T11:33:25.687Z"
   },
   {
    "duration": 25,
    "start_time": "2023-05-06T11:33:27.092Z"
   },
   {
    "duration": 39,
    "start_time": "2023-05-06T11:33:27.119Z"
   },
   {
    "duration": 10,
    "start_time": "2023-05-06T11:33:27.161Z"
   },
   {
    "duration": 18,
    "start_time": "2023-05-06T11:33:27.173Z"
   },
   {
    "duration": 23,
    "start_time": "2023-05-06T11:33:27.197Z"
   },
   {
    "duration": 6,
    "start_time": "2023-05-06T11:33:27.222Z"
   },
   {
    "duration": 27,
    "start_time": "2023-05-06T11:33:27.229Z"
   },
   {
    "duration": 15,
    "start_time": "2023-05-06T11:33:27.258Z"
   },
   {
    "duration": 12,
    "start_time": "2023-05-06T11:33:27.276Z"
   },
   {
    "duration": 33,
    "start_time": "2023-05-06T11:33:27.290Z"
   },
   {
    "duration": 5,
    "start_time": "2023-05-06T11:33:27.325Z"
   },
   {
    "duration": 18,
    "start_time": "2023-05-06T11:33:27.332Z"
   },
   {
    "duration": 4,
    "start_time": "2023-05-06T11:33:27.352Z"
   },
   {
    "duration": 13,
    "start_time": "2023-05-06T11:33:27.358Z"
   },
   {
    "duration": 25,
    "start_time": "2023-05-06T11:33:27.373Z"
   },
   {
    "duration": 14,
    "start_time": "2023-05-06T11:33:27.400Z"
   },
   {
    "duration": 15,
    "start_time": "2023-05-06T11:33:27.416Z"
   },
   {
    "duration": 16,
    "start_time": "2023-05-06T11:33:27.432Z"
   },
   {
    "duration": 5,
    "start_time": "2023-05-06T11:33:27.449Z"
   },
   {
    "duration": 6,
    "start_time": "2023-05-06T11:33:27.455Z"
   },
   {
    "duration": 11,
    "start_time": "2023-05-06T11:33:27.462Z"
   },
   {
    "duration": 37,
    "start_time": "2023-05-06T11:33:27.487Z"
   },
   {
    "duration": 7,
    "start_time": "2023-05-06T11:33:27.525Z"
   },
   {
    "duration": 10,
    "start_time": "2023-05-06T11:33:27.534Z"
   },
   {
    "duration": 22,
    "start_time": "2023-05-06T11:33:27.545Z"
   },
   {
    "duration": 13,
    "start_time": "2023-05-06T11:33:27.591Z"
   },
   {
    "duration": 24,
    "start_time": "2023-05-06T11:33:27.611Z"
   },
   {
    "duration": 20,
    "start_time": "2023-05-06T11:33:27.637Z"
   },
   {
    "duration": 10,
    "start_time": "2023-05-06T11:33:27.658Z"
   },
   {
    "duration": 24,
    "start_time": "2023-05-06T11:33:27.669Z"
   },
   {
    "duration": 31,
    "start_time": "2023-05-06T11:33:27.696Z"
   },
   {
    "duration": 12,
    "start_time": "2023-05-06T11:33:27.729Z"
   },
   {
    "duration": 12,
    "start_time": "2023-05-06T11:33:27.743Z"
   },
   {
    "duration": 282,
    "start_time": "2023-05-06T11:33:27.757Z"
   },
   {
    "duration": 6,
    "start_time": "2023-05-06T11:33:28.041Z"
   },
   {
    "duration": 289,
    "start_time": "2023-05-06T11:33:28.049Z"
   },
   {
    "duration": 4,
    "start_time": "2023-05-06T11:33:28.340Z"
   },
   {
    "duration": 8,
    "start_time": "2023-05-06T11:33:28.345Z"
   },
   {
    "duration": 9,
    "start_time": "2023-05-06T11:33:28.355Z"
   },
   {
    "duration": 323,
    "start_time": "2023-05-06T11:33:28.366Z"
   },
   {
    "duration": 7,
    "start_time": "2023-05-06T11:33:28.691Z"
   },
   {
    "duration": 303,
    "start_time": "2023-05-06T11:33:28.700Z"
   },
   {
    "duration": 6,
    "start_time": "2023-05-06T11:33:29.005Z"
   },
   {
    "duration": 9,
    "start_time": "2023-05-06T11:33:29.013Z"
   },
   {
    "duration": 8,
    "start_time": "2023-05-06T11:33:29.024Z"
   },
   {
    "duration": 394,
    "start_time": "2023-05-06T11:33:29.034Z"
   },
   {
    "duration": 6,
    "start_time": "2023-05-06T11:33:29.430Z"
   },
   {
    "duration": 276,
    "start_time": "2023-05-06T11:33:29.438Z"
   },
   {
    "duration": 4,
    "start_time": "2023-05-06T11:33:29.716Z"
   },
   {
    "duration": 9,
    "start_time": "2023-05-06T11:33:29.722Z"
   },
   {
    "duration": 11,
    "start_time": "2023-05-06T11:33:29.732Z"
   },
   {
    "duration": 328,
    "start_time": "2023-05-06T11:33:29.745Z"
   },
   {
    "duration": 21,
    "start_time": "2023-05-06T11:33:30.075Z"
   },
   {
    "duration": 287,
    "start_time": "2023-05-06T11:33:30.099Z"
   },
   {
    "duration": 10,
    "start_time": "2023-05-06T11:33:30.388Z"
   },
   {
    "duration": 56,
    "start_time": "2023-05-06T11:33:30.400Z"
   },
   {
    "duration": 60,
    "start_time": "2023-05-06T11:33:30.458Z"
   },
   {
    "duration": 37,
    "start_time": "2023-05-06T11:33:30.520Z"
   },
   {
    "duration": 52,
    "start_time": "2023-05-06T11:33:30.559Z"
   },
   {
    "duration": 29,
    "start_time": "2023-05-06T11:33:30.613Z"
   },
   {
    "duration": 73,
    "start_time": "2023-05-06T11:33:30.644Z"
   },
   {
    "duration": 39,
    "start_time": "2023-05-06T11:33:30.719Z"
   },
   {
    "duration": 66,
    "start_time": "2023-05-06T11:33:30.760Z"
   },
   {
    "duration": 203,
    "start_time": "2023-05-06T11:33:30.827Z"
   },
   {
    "duration": 15,
    "start_time": "2023-05-06T11:33:31.032Z"
   },
   {
    "duration": 202,
    "start_time": "2023-05-06T11:33:31.049Z"
   },
   {
    "duration": 21,
    "start_time": "2023-05-06T11:33:31.253Z"
   },
   {
    "duration": 38,
    "start_time": "2023-05-06T11:33:31.283Z"
   },
   {
    "duration": 39,
    "start_time": "2023-05-06T11:33:31.322Z"
   },
   {
    "duration": 45,
    "start_time": "2023-05-06T11:33:31.363Z"
   },
   {
    "duration": 286,
    "start_time": "2023-05-06T11:33:31.410Z"
   },
   {
    "duration": 395,
    "start_time": "2023-05-06T11:33:31.700Z"
   },
   {
    "duration": 15,
    "start_time": "2023-05-06T11:33:32.099Z"
   },
   {
    "duration": 19,
    "start_time": "2023-05-06T11:33:32.116Z"
   },
   {
    "duration": 45,
    "start_time": "2023-05-06T11:33:32.137Z"
   },
   {
    "duration": 52,
    "start_time": "2023-05-06T11:33:32.185Z"
   },
   {
    "duration": 23,
    "start_time": "2023-05-06T11:33:32.239Z"
   },
   {
    "duration": 61,
    "start_time": "2023-05-06T11:33:32.264Z"
   },
   {
    "duration": 22,
    "start_time": "2023-05-06T11:33:32.327Z"
   },
   {
    "duration": 11,
    "start_time": "2023-05-06T11:33:32.351Z"
   },
   {
    "duration": 284,
    "start_time": "2023-05-06T11:33:32.368Z"
   },
   {
    "duration": 7,
    "start_time": "2023-05-06T11:33:32.654Z"
   },
   {
    "duration": 170,
    "start_time": "2023-05-06T11:33:32.663Z"
   },
   {
    "duration": 0,
    "start_time": "2023-05-06T11:33:32.834Z"
   },
   {
    "duration": 0,
    "start_time": "2023-05-06T11:33:32.835Z"
   },
   {
    "duration": 0,
    "start_time": "2023-05-06T11:33:32.836Z"
   },
   {
    "duration": 0,
    "start_time": "2023-05-06T11:33:32.837Z"
   },
   {
    "duration": 0,
    "start_time": "2023-05-06T11:33:32.838Z"
   },
   {
    "duration": 0,
    "start_time": "2023-05-06T11:33:32.840Z"
   },
   {
    "duration": 0,
    "start_time": "2023-05-06T11:33:32.841Z"
   },
   {
    "duration": 0,
    "start_time": "2023-05-06T11:33:32.842Z"
   },
   {
    "duration": 0,
    "start_time": "2023-05-06T11:33:32.843Z"
   },
   {
    "duration": 0,
    "start_time": "2023-05-06T11:33:32.844Z"
   },
   {
    "duration": 0,
    "start_time": "2023-05-06T11:33:32.844Z"
   },
   {
    "duration": 0,
    "start_time": "2023-05-06T11:33:32.845Z"
   },
   {
    "duration": 0,
    "start_time": "2023-05-06T11:33:32.846Z"
   },
   {
    "duration": 0,
    "start_time": "2023-05-06T11:33:32.847Z"
   },
   {
    "duration": 0,
    "start_time": "2023-05-06T11:33:32.848Z"
   },
   {
    "duration": 11,
    "start_time": "2023-05-06T11:36:00.972Z"
   },
   {
    "duration": 1361,
    "start_time": "2023-05-06T11:36:15.649Z"
   },
   {
    "duration": 20,
    "start_time": "2023-05-06T11:36:17.013Z"
   },
   {
    "duration": 40,
    "start_time": "2023-05-06T11:36:17.035Z"
   },
   {
    "duration": 14,
    "start_time": "2023-05-06T11:36:17.077Z"
   },
   {
    "duration": 17,
    "start_time": "2023-05-06T11:36:17.093Z"
   },
   {
    "duration": 9,
    "start_time": "2023-05-06T11:36:17.112Z"
   },
   {
    "duration": 5,
    "start_time": "2023-05-06T11:36:17.123Z"
   },
   {
    "duration": 27,
    "start_time": "2023-05-06T11:36:17.130Z"
   },
   {
    "duration": 35,
    "start_time": "2023-05-06T11:36:17.159Z"
   },
   {
    "duration": 5,
    "start_time": "2023-05-06T11:36:17.196Z"
   },
   {
    "duration": 21,
    "start_time": "2023-05-06T11:36:17.203Z"
   },
   {
    "duration": 6,
    "start_time": "2023-05-06T11:36:17.226Z"
   },
   {
    "duration": 20,
    "start_time": "2023-05-06T11:36:17.234Z"
   },
   {
    "duration": 7,
    "start_time": "2023-05-06T11:36:17.255Z"
   },
   {
    "duration": 11,
    "start_time": "2023-05-06T11:36:17.282Z"
   },
   {
    "duration": 15,
    "start_time": "2023-05-06T11:36:17.295Z"
   },
   {
    "duration": 15,
    "start_time": "2023-05-06T11:36:17.312Z"
   },
   {
    "duration": 10,
    "start_time": "2023-05-06T11:36:17.329Z"
   },
   {
    "duration": 17,
    "start_time": "2023-05-06T11:36:17.341Z"
   },
   {
    "duration": 5,
    "start_time": "2023-05-06T11:36:17.360Z"
   },
   {
    "duration": 4,
    "start_time": "2023-05-06T11:36:17.383Z"
   },
   {
    "duration": 16,
    "start_time": "2023-05-06T11:36:17.389Z"
   },
   {
    "duration": 35,
    "start_time": "2023-05-06T11:36:17.406Z"
   },
   {
    "duration": 5,
    "start_time": "2023-05-06T11:36:17.443Z"
   },
   {
    "duration": 15,
    "start_time": "2023-05-06T11:36:17.449Z"
   },
   {
    "duration": 27,
    "start_time": "2023-05-06T11:36:17.465Z"
   },
   {
    "duration": 24,
    "start_time": "2023-05-06T11:36:17.494Z"
   },
   {
    "duration": 16,
    "start_time": "2023-05-06T11:36:17.523Z"
   },
   {
    "duration": 10,
    "start_time": "2023-05-06T11:36:17.541Z"
   },
   {
    "duration": 7,
    "start_time": "2023-05-06T11:36:17.552Z"
   },
   {
    "duration": 9,
    "start_time": "2023-05-06T11:36:17.561Z"
   },
   {
    "duration": 12,
    "start_time": "2023-05-06T11:36:17.572Z"
   },
   {
    "duration": 20,
    "start_time": "2023-05-06T11:36:17.586Z"
   },
   {
    "duration": 26,
    "start_time": "2023-05-06T11:36:17.608Z"
   },
   {
    "duration": 282,
    "start_time": "2023-05-06T11:36:17.636Z"
   },
   {
    "duration": 6,
    "start_time": "2023-05-06T11:36:17.920Z"
   },
   {
    "duration": 296,
    "start_time": "2023-05-06T11:36:17.928Z"
   },
   {
    "duration": 4,
    "start_time": "2023-05-06T11:36:18.227Z"
   },
   {
    "duration": 18,
    "start_time": "2023-05-06T11:36:18.233Z"
   },
   {
    "duration": 19,
    "start_time": "2023-05-06T11:36:18.253Z"
   },
   {
    "duration": 302,
    "start_time": "2023-05-06T11:36:18.274Z"
   },
   {
    "duration": 7,
    "start_time": "2023-05-06T11:36:18.583Z"
   },
   {
    "duration": 293,
    "start_time": "2023-05-06T11:36:18.592Z"
   },
   {
    "duration": 5,
    "start_time": "2023-05-06T11:36:18.887Z"
   },
   {
    "duration": 18,
    "start_time": "2023-05-06T11:36:18.894Z"
   },
   {
    "duration": 14,
    "start_time": "2023-05-06T11:36:18.914Z"
   },
   {
    "duration": 325,
    "start_time": "2023-05-06T11:36:18.930Z"
   },
   {
    "duration": 7,
    "start_time": "2023-05-06T11:36:19.257Z"
   },
   {
    "duration": 235,
    "start_time": "2023-05-06T11:36:19.266Z"
   },
   {
    "duration": 5,
    "start_time": "2023-05-06T11:36:19.502Z"
   },
   {
    "duration": 7,
    "start_time": "2023-05-06T11:36:19.509Z"
   },
   {
    "duration": 10,
    "start_time": "2023-05-06T11:36:19.518Z"
   },
   {
    "duration": 275,
    "start_time": "2023-05-06T11:36:19.530Z"
   },
   {
    "duration": 8,
    "start_time": "2023-05-06T11:36:19.808Z"
   },
   {
    "duration": 268,
    "start_time": "2023-05-06T11:36:19.818Z"
   },
   {
    "duration": 8,
    "start_time": "2023-05-06T11:36:20.088Z"
   },
   {
    "duration": 11,
    "start_time": "2023-05-06T11:36:20.098Z"
   },
   {
    "duration": 12,
    "start_time": "2023-05-06T11:36:20.111Z"
   },
   {
    "duration": 15,
    "start_time": "2023-05-06T11:36:20.125Z"
   },
   {
    "duration": 21,
    "start_time": "2023-05-06T11:36:20.142Z"
   },
   {
    "duration": 21,
    "start_time": "2023-05-06T11:36:20.165Z"
   },
   {
    "duration": 21,
    "start_time": "2023-05-06T11:36:20.188Z"
   },
   {
    "duration": 33,
    "start_time": "2023-05-06T11:36:20.210Z"
   },
   {
    "duration": 23,
    "start_time": "2023-05-06T11:36:20.245Z"
   },
   {
    "duration": 181,
    "start_time": "2023-05-06T11:36:20.270Z"
   },
   {
    "duration": 16,
    "start_time": "2023-05-06T11:36:20.453Z"
   },
   {
    "duration": 159,
    "start_time": "2023-05-06T11:36:20.484Z"
   },
   {
    "duration": 23,
    "start_time": "2023-05-06T11:36:20.645Z"
   },
   {
    "duration": 29,
    "start_time": "2023-05-06T11:36:20.670Z"
   },
   {
    "duration": 31,
    "start_time": "2023-05-06T11:36:20.700Z"
   },
   {
    "duration": 20,
    "start_time": "2023-05-06T11:36:20.732Z"
   },
   {
    "duration": 257,
    "start_time": "2023-05-06T11:36:20.754Z"
   },
   {
    "duration": 352,
    "start_time": "2023-05-06T11:36:21.013Z"
   },
   {
    "duration": 5,
    "start_time": "2023-05-06T11:36:21.367Z"
   },
   {
    "duration": 20,
    "start_time": "2023-05-06T11:36:21.374Z"
   },
   {
    "duration": 25,
    "start_time": "2023-05-06T11:36:21.397Z"
   },
   {
    "duration": 12,
    "start_time": "2023-05-06T11:36:21.424Z"
   },
   {
    "duration": 22,
    "start_time": "2023-05-06T11:36:21.438Z"
   },
   {
    "duration": 36,
    "start_time": "2023-05-06T11:36:21.462Z"
   },
   {
    "duration": 6,
    "start_time": "2023-05-06T11:36:21.500Z"
   },
   {
    "duration": 27,
    "start_time": "2023-05-06T11:36:21.507Z"
   },
   {
    "duration": 230,
    "start_time": "2023-05-06T11:36:21.540Z"
   },
   {
    "duration": 15,
    "start_time": "2023-05-06T11:36:21.772Z"
   },
   {
    "duration": 9,
    "start_time": "2023-05-06T11:36:21.789Z"
   },
   {
    "duration": 35,
    "start_time": "2023-05-06T11:36:21.799Z"
   },
   {
    "duration": 23,
    "start_time": "2023-05-06T11:36:21.836Z"
   },
   {
    "duration": 8,
    "start_time": "2023-05-06T11:36:21.861Z"
   },
   {
    "duration": 250,
    "start_time": "2023-05-06T11:36:21.870Z"
   },
   {
    "duration": 6,
    "start_time": "2023-05-06T11:36:22.122Z"
   },
   {
    "duration": 13,
    "start_time": "2023-05-06T11:36:22.130Z"
   },
   {
    "duration": 10,
    "start_time": "2023-05-06T11:36:22.144Z"
   },
   {
    "duration": 363,
    "start_time": "2023-05-06T11:36:22.156Z"
   },
   {
    "duration": 18,
    "start_time": "2023-05-06T11:36:22.521Z"
   },
   {
    "duration": 26,
    "start_time": "2023-05-06T11:36:22.540Z"
   },
   {
    "duration": 51,
    "start_time": "2023-05-06T11:36:22.568Z"
   },
   {
    "duration": 33,
    "start_time": "2023-05-06T11:36:22.621Z"
   },
   {
    "duration": 409,
    "start_time": "2023-05-06T11:36:22.656Z"
   },
   {
    "duration": 165,
    "start_time": "2023-05-06T11:36:23.067Z"
   },
   {
    "duration": 187,
    "start_time": "2023-05-06T11:36:23.234Z"
   },
   {
    "duration": 48,
    "start_time": "2023-05-10T14:42:41.267Z"
   },
   {
    "duration": 1614,
    "start_time": "2023-05-10T14:43:13.188Z"
   },
   {
    "duration": 16,
    "start_time": "2023-05-10T14:43:14.805Z"
   },
   {
    "duration": 54,
    "start_time": "2023-05-10T14:43:14.823Z"
   },
   {
    "duration": 13,
    "start_time": "2023-05-10T14:43:14.880Z"
   },
   {
    "duration": 19,
    "start_time": "2023-05-10T14:43:14.895Z"
   },
   {
    "duration": 9,
    "start_time": "2023-05-10T14:43:14.915Z"
   },
   {
    "duration": 19,
    "start_time": "2023-05-10T14:43:14.925Z"
   },
   {
    "duration": 28,
    "start_time": "2023-05-10T14:43:14.947Z"
   },
   {
    "duration": 22,
    "start_time": "2023-05-10T14:43:14.977Z"
   },
   {
    "duration": 6,
    "start_time": "2023-05-10T14:43:15.001Z"
   },
   {
    "duration": 33,
    "start_time": "2023-05-10T14:43:15.009Z"
   },
   {
    "duration": 20,
    "start_time": "2023-05-10T14:43:15.044Z"
   },
   {
    "duration": 16,
    "start_time": "2023-05-10T14:43:15.066Z"
   },
   {
    "duration": 4,
    "start_time": "2023-05-10T14:43:15.084Z"
   },
   {
    "duration": 26,
    "start_time": "2023-05-10T14:43:15.090Z"
   },
   {
    "duration": 5,
    "start_time": "2023-05-10T14:43:15.117Z"
   },
   {
    "duration": 10,
    "start_time": "2023-05-10T14:43:15.124Z"
   },
   {
    "duration": 26,
    "start_time": "2023-05-10T14:43:15.136Z"
   },
   {
    "duration": 14,
    "start_time": "2023-05-10T14:43:15.163Z"
   },
   {
    "duration": 7,
    "start_time": "2023-05-10T14:43:15.179Z"
   },
   {
    "duration": 9,
    "start_time": "2023-05-10T14:43:15.189Z"
   },
   {
    "duration": 16,
    "start_time": "2023-05-10T14:43:15.200Z"
   },
   {
    "duration": 57,
    "start_time": "2023-05-10T14:43:15.218Z"
   },
   {
    "duration": 5,
    "start_time": "2023-05-10T14:43:15.277Z"
   },
   {
    "duration": 11,
    "start_time": "2023-05-10T14:43:15.284Z"
   },
   {
    "duration": 19,
    "start_time": "2023-05-10T14:43:15.297Z"
   },
   {
    "duration": 37,
    "start_time": "2023-05-10T14:43:15.318Z"
   },
   {
    "duration": 15,
    "start_time": "2023-05-10T14:43:15.361Z"
   },
   {
    "duration": 10,
    "start_time": "2023-05-10T14:43:15.378Z"
   },
   {
    "duration": 7,
    "start_time": "2023-05-10T14:43:15.389Z"
   },
   {
    "duration": 12,
    "start_time": "2023-05-10T14:43:15.398Z"
   },
   {
    "duration": 7,
    "start_time": "2023-05-10T14:43:15.412Z"
   },
   {
    "duration": 4,
    "start_time": "2023-05-10T14:43:15.456Z"
   },
   {
    "duration": 15,
    "start_time": "2023-05-10T14:43:15.461Z"
   },
   {
    "duration": 240,
    "start_time": "2023-05-10T14:43:15.478Z"
   },
   {
    "duration": 7,
    "start_time": "2023-05-10T14:43:15.720Z"
   },
   {
    "duration": 290,
    "start_time": "2023-05-10T14:43:15.728Z"
   },
   {
    "duration": 5,
    "start_time": "2023-05-10T14:43:16.019Z"
   },
   {
    "duration": 5,
    "start_time": "2023-05-10T14:43:16.026Z"
   },
   {
    "duration": 24,
    "start_time": "2023-05-10T14:43:16.033Z"
   },
   {
    "duration": 294,
    "start_time": "2023-05-10T14:43:16.059Z"
   },
   {
    "duration": 5,
    "start_time": "2023-05-10T14:43:16.356Z"
   },
   {
    "duration": 273,
    "start_time": "2023-05-10T14:43:16.363Z"
   },
   {
    "duration": 4,
    "start_time": "2023-05-10T14:43:16.638Z"
   },
   {
    "duration": 15,
    "start_time": "2023-05-10T14:43:16.644Z"
   },
   {
    "duration": 8,
    "start_time": "2023-05-10T14:43:16.660Z"
   },
   {
    "duration": 330,
    "start_time": "2023-05-10T14:43:16.670Z"
   },
   {
    "duration": 5,
    "start_time": "2023-05-10T14:43:17.002Z"
   },
   {
    "duration": 244,
    "start_time": "2023-05-10T14:43:17.009Z"
   },
   {
    "duration": 4,
    "start_time": "2023-05-10T14:43:17.259Z"
   },
   {
    "duration": 8,
    "start_time": "2023-05-10T14:43:17.265Z"
   },
   {
    "duration": 12,
    "start_time": "2023-05-10T14:43:17.275Z"
   },
   {
    "duration": 236,
    "start_time": "2023-05-10T14:43:17.289Z"
   },
   {
    "duration": 6,
    "start_time": "2023-05-10T14:43:17.527Z"
   },
   {
    "duration": 268,
    "start_time": "2023-05-10T14:43:17.535Z"
   },
   {
    "duration": 6,
    "start_time": "2023-05-10T14:43:17.805Z"
   },
   {
    "duration": 10,
    "start_time": "2023-05-10T14:43:17.813Z"
   },
   {
    "duration": 31,
    "start_time": "2023-05-10T14:43:17.825Z"
   },
   {
    "duration": 5,
    "start_time": "2023-05-10T14:43:17.858Z"
   },
   {
    "duration": 26,
    "start_time": "2023-05-10T14:43:17.865Z"
   },
   {
    "duration": 9,
    "start_time": "2023-05-10T14:43:17.893Z"
   },
   {
    "duration": 18,
    "start_time": "2023-05-10T14:43:17.903Z"
   },
   {
    "duration": 38,
    "start_time": "2023-05-10T14:43:17.923Z"
   },
   {
    "duration": 127,
    "start_time": "2023-05-10T14:43:17.963Z"
   },
   {
    "duration": 0,
    "start_time": "2023-05-10T14:43:18.092Z"
   },
   {
    "duration": 0,
    "start_time": "2023-05-10T14:43:18.094Z"
   },
   {
    "duration": 0,
    "start_time": "2023-05-10T14:43:18.096Z"
   },
   {
    "duration": 0,
    "start_time": "2023-05-10T14:43:18.097Z"
   },
   {
    "duration": 0,
    "start_time": "2023-05-10T14:43:18.098Z"
   },
   {
    "duration": 0,
    "start_time": "2023-05-10T14:43:18.099Z"
   },
   {
    "duration": 0,
    "start_time": "2023-05-10T14:43:18.100Z"
   },
   {
    "duration": 0,
    "start_time": "2023-05-10T14:43:18.101Z"
   },
   {
    "duration": 0,
    "start_time": "2023-05-10T14:43:18.103Z"
   },
   {
    "duration": 0,
    "start_time": "2023-05-10T14:43:18.104Z"
   },
   {
    "duration": 0,
    "start_time": "2023-05-10T14:43:18.105Z"
   },
   {
    "duration": 0,
    "start_time": "2023-05-10T14:43:18.106Z"
   },
   {
    "duration": 0,
    "start_time": "2023-05-10T14:43:18.107Z"
   },
   {
    "duration": 0,
    "start_time": "2023-05-10T14:43:18.108Z"
   },
   {
    "duration": 0,
    "start_time": "2023-05-10T14:43:18.110Z"
   },
   {
    "duration": 0,
    "start_time": "2023-05-10T14:43:18.111Z"
   },
   {
    "duration": 0,
    "start_time": "2023-05-10T14:43:18.113Z"
   },
   {
    "duration": 0,
    "start_time": "2023-05-10T14:43:18.114Z"
   },
   {
    "duration": 0,
    "start_time": "2023-05-10T14:43:18.115Z"
   },
   {
    "duration": 0,
    "start_time": "2023-05-10T14:43:18.116Z"
   },
   {
    "duration": 1,
    "start_time": "2023-05-10T14:43:18.117Z"
   },
   {
    "duration": 0,
    "start_time": "2023-05-10T14:43:18.156Z"
   },
   {
    "duration": 0,
    "start_time": "2023-05-10T14:43:18.157Z"
   },
   {
    "duration": 0,
    "start_time": "2023-05-10T14:43:18.158Z"
   },
   {
    "duration": 0,
    "start_time": "2023-05-10T14:43:18.159Z"
   },
   {
    "duration": 0,
    "start_time": "2023-05-10T14:43:18.160Z"
   },
   {
    "duration": 0,
    "start_time": "2023-05-10T14:43:18.161Z"
   },
   {
    "duration": 0,
    "start_time": "2023-05-10T14:43:18.161Z"
   },
   {
    "duration": 0,
    "start_time": "2023-05-10T14:43:18.162Z"
   },
   {
    "duration": 0,
    "start_time": "2023-05-10T14:43:18.163Z"
   },
   {
    "duration": 0,
    "start_time": "2023-05-10T14:43:18.164Z"
   },
   {
    "duration": 0,
    "start_time": "2023-05-10T14:43:18.165Z"
   },
   {
    "duration": 0,
    "start_time": "2023-05-10T14:43:18.167Z"
   },
   {
    "duration": 0,
    "start_time": "2023-05-10T14:43:18.168Z"
   },
   {
    "duration": 0,
    "start_time": "2023-05-10T14:43:18.169Z"
   },
   {
    "duration": 16,
    "start_time": "2023-05-10T14:44:05.938Z"
   },
   {
    "duration": 1368,
    "start_time": "2023-05-10T14:44:24.323Z"
   },
   {
    "duration": 16,
    "start_time": "2023-05-10T14:44:25.693Z"
   },
   {
    "duration": 56,
    "start_time": "2023-05-10T14:44:25.711Z"
   },
   {
    "duration": 12,
    "start_time": "2023-05-10T14:44:25.770Z"
   },
   {
    "duration": 19,
    "start_time": "2023-05-10T14:44:25.784Z"
   },
   {
    "duration": 10,
    "start_time": "2023-05-10T14:44:25.805Z"
   },
   {
    "duration": 6,
    "start_time": "2023-05-10T14:44:25.817Z"
   },
   {
    "duration": 42,
    "start_time": "2023-05-10T14:44:25.824Z"
   },
   {
    "duration": 15,
    "start_time": "2023-05-10T14:44:25.868Z"
   },
   {
    "duration": 10,
    "start_time": "2023-05-10T14:44:25.886Z"
   },
   {
    "duration": 14,
    "start_time": "2023-05-10T14:44:25.898Z"
   },
   {
    "duration": 9,
    "start_time": "2023-05-10T14:44:25.914Z"
   },
   {
    "duration": 40,
    "start_time": "2023-05-10T14:44:25.924Z"
   },
   {
    "duration": 8,
    "start_time": "2023-05-10T14:44:25.966Z"
   },
   {
    "duration": 17,
    "start_time": "2023-05-10T14:44:25.976Z"
   },
   {
    "duration": 24,
    "start_time": "2023-05-10T14:44:25.994Z"
   },
   {
    "duration": 14,
    "start_time": "2023-05-10T14:44:26.020Z"
   },
   {
    "duration": 6,
    "start_time": "2023-05-10T14:44:26.036Z"
   },
   {
    "duration": 15,
    "start_time": "2023-05-10T14:44:26.043Z"
   },
   {
    "duration": 5,
    "start_time": "2023-05-10T14:44:26.060Z"
   },
   {
    "duration": 11,
    "start_time": "2023-05-10T14:44:26.067Z"
   },
   {
    "duration": 11,
    "start_time": "2023-05-10T14:44:26.079Z"
   },
   {
    "duration": 26,
    "start_time": "2023-05-10T14:44:26.092Z"
   },
   {
    "duration": 5,
    "start_time": "2023-05-10T14:44:26.120Z"
   },
   {
    "duration": 38,
    "start_time": "2023-05-10T14:44:26.127Z"
   },
   {
    "duration": 20,
    "start_time": "2023-05-10T14:44:26.166Z"
   },
   {
    "duration": 21,
    "start_time": "2023-05-10T14:44:26.188Z"
   },
   {
    "duration": 16,
    "start_time": "2023-05-10T14:44:26.214Z"
   },
   {
    "duration": 6,
    "start_time": "2023-05-10T14:44:26.231Z"
   },
   {
    "duration": 18,
    "start_time": "2023-05-10T14:44:26.239Z"
   },
   {
    "duration": 26,
    "start_time": "2023-05-10T14:44:26.258Z"
   },
   {
    "duration": 9,
    "start_time": "2023-05-10T14:44:26.285Z"
   },
   {
    "duration": 6,
    "start_time": "2023-05-10T14:44:26.296Z"
   },
   {
    "duration": 19,
    "start_time": "2023-05-10T14:44:26.303Z"
   },
   {
    "duration": 282,
    "start_time": "2023-05-10T14:44:26.324Z"
   },
   {
    "duration": 7,
    "start_time": "2023-05-10T14:44:26.608Z"
   },
   {
    "duration": 273,
    "start_time": "2023-05-10T14:44:26.617Z"
   },
   {
    "duration": 5,
    "start_time": "2023-05-10T14:44:26.893Z"
   },
   {
    "duration": 7,
    "start_time": "2023-05-10T14:44:26.900Z"
   },
   {
    "duration": 10,
    "start_time": "2023-05-10T14:44:26.909Z"
   },
   {
    "duration": 305,
    "start_time": "2023-05-10T14:44:26.921Z"
   },
   {
    "duration": 6,
    "start_time": "2023-05-10T14:44:27.227Z"
   },
   {
    "duration": 315,
    "start_time": "2023-05-10T14:44:27.235Z"
   },
   {
    "duration": 6,
    "start_time": "2023-05-10T14:44:27.552Z"
   },
   {
    "duration": 13,
    "start_time": "2023-05-10T14:44:27.559Z"
   },
   {
    "duration": 12,
    "start_time": "2023-05-10T14:44:27.574Z"
   },
   {
    "duration": 374,
    "start_time": "2023-05-10T14:44:27.588Z"
   },
   {
    "duration": 6,
    "start_time": "2023-05-10T14:44:27.964Z"
   },
   {
    "duration": 253,
    "start_time": "2023-05-10T14:44:27.971Z"
   },
   {
    "duration": 4,
    "start_time": "2023-05-10T14:44:28.226Z"
   },
   {
    "duration": 10,
    "start_time": "2023-05-10T14:44:28.232Z"
   },
   {
    "duration": 19,
    "start_time": "2023-05-10T14:44:28.244Z"
   },
   {
    "duration": 240,
    "start_time": "2023-05-10T14:44:28.265Z"
   },
   {
    "duration": 5,
    "start_time": "2023-05-10T14:44:28.507Z"
   },
   {
    "duration": 232,
    "start_time": "2023-05-10T14:44:28.514Z"
   },
   {
    "duration": 9,
    "start_time": "2023-05-10T14:44:28.747Z"
   },
   {
    "duration": 5,
    "start_time": "2023-05-10T14:44:28.758Z"
   },
   {
    "duration": 10,
    "start_time": "2023-05-10T14:44:28.765Z"
   },
   {
    "duration": 13,
    "start_time": "2023-05-10T14:44:28.777Z"
   },
   {
    "duration": 16,
    "start_time": "2023-05-10T14:44:28.792Z"
   },
   {
    "duration": 16,
    "start_time": "2023-05-10T14:44:28.810Z"
   },
   {
    "duration": 25,
    "start_time": "2023-05-10T14:44:28.827Z"
   },
   {
    "duration": 21,
    "start_time": "2023-05-10T14:44:28.854Z"
   },
   {
    "duration": 18,
    "start_time": "2023-05-10T14:44:28.876Z"
   },
   {
    "duration": 171,
    "start_time": "2023-05-10T14:44:28.895Z"
   },
   {
    "duration": 15,
    "start_time": "2023-05-10T14:44:29.068Z"
   },
   {
    "duration": 186,
    "start_time": "2023-05-10T14:44:29.085Z"
   },
   {
    "duration": 21,
    "start_time": "2023-05-10T14:44:29.273Z"
   },
   {
    "duration": 5,
    "start_time": "2023-05-10T14:44:29.295Z"
   },
   {
    "duration": 21,
    "start_time": "2023-05-10T14:44:29.302Z"
   },
   {
    "duration": 46,
    "start_time": "2023-05-10T14:44:29.325Z"
   },
   {
    "duration": 239,
    "start_time": "2023-05-10T14:44:29.373Z"
   },
   {
    "duration": 313,
    "start_time": "2023-05-10T14:44:29.614Z"
   },
   {
    "duration": 5,
    "start_time": "2023-05-10T14:44:29.929Z"
   },
   {
    "duration": 22,
    "start_time": "2023-05-10T14:44:29.935Z"
   },
   {
    "duration": 41,
    "start_time": "2023-05-10T14:44:29.958Z"
   },
   {
    "duration": 14,
    "start_time": "2023-05-10T14:44:30.001Z"
   },
   {
    "duration": 28,
    "start_time": "2023-05-10T14:44:30.017Z"
   },
   {
    "duration": 38,
    "start_time": "2023-05-10T14:44:30.046Z"
   },
   {
    "duration": 8,
    "start_time": "2023-05-10T14:44:30.086Z"
   },
   {
    "duration": 20,
    "start_time": "2023-05-10T14:44:30.095Z"
   },
   {
    "duration": 224,
    "start_time": "2023-05-10T14:44:30.121Z"
   },
   {
    "duration": 13,
    "start_time": "2023-05-10T14:44:30.346Z"
   },
   {
    "duration": 52,
    "start_time": "2023-05-10T14:44:30.361Z"
   },
   {
    "duration": 49,
    "start_time": "2023-05-10T14:44:30.414Z"
   },
   {
    "duration": 33,
    "start_time": "2023-05-10T14:44:30.465Z"
   },
   {
    "duration": 54,
    "start_time": "2023-05-10T14:44:30.500Z"
   },
   {
    "duration": 288,
    "start_time": "2023-05-10T14:44:30.555Z"
   },
   {
    "duration": 15,
    "start_time": "2023-05-10T14:44:30.846Z"
   },
   {
    "duration": 54,
    "start_time": "2023-05-10T14:44:30.863Z"
   },
   {
    "duration": 45,
    "start_time": "2023-05-10T14:44:30.919Z"
   },
   {
    "duration": 401,
    "start_time": "2023-05-10T14:44:30.966Z"
   },
   {
    "duration": 16,
    "start_time": "2023-05-10T14:44:31.369Z"
   },
   {
    "duration": 65,
    "start_time": "2023-05-10T14:44:31.387Z"
   },
   {
    "duration": 44,
    "start_time": "2023-05-10T14:44:31.454Z"
   },
   {
    "duration": 33,
    "start_time": "2023-05-10T14:44:31.500Z"
   },
   {
    "duration": 425,
    "start_time": "2023-05-10T14:44:31.535Z"
   },
   {
    "duration": 181,
    "start_time": "2023-05-10T14:44:31.962Z"
   },
   {
    "duration": 205,
    "start_time": "2023-05-10T14:44:32.145Z"
   },
   {
    "duration": 48,
    "start_time": "2023-06-16T07:54:47.736Z"
   },
   {
    "duration": 6,
    "start_time": "2023-06-16T07:54:55.396Z"
   },
   {
    "duration": 9,
    "start_time": "2023-06-16T07:55:04.166Z"
   },
   {
    "duration": 1764,
    "start_time": "2023-06-16T07:55:13.289Z"
   },
   {
    "duration": 16,
    "start_time": "2023-06-16T07:55:15.055Z"
   },
   {
    "duration": 133,
    "start_time": "2023-06-16T07:55:15.073Z"
   },
   {
    "duration": 12,
    "start_time": "2023-06-16T07:55:15.208Z"
   },
   {
    "duration": 17,
    "start_time": "2023-06-16T07:55:15.223Z"
   },
   {
    "duration": 9,
    "start_time": "2023-06-16T07:55:15.248Z"
   },
   {
    "duration": 10,
    "start_time": "2023-06-16T07:55:15.259Z"
   },
   {
    "duration": 31,
    "start_time": "2023-06-16T07:55:15.270Z"
   },
   {
    "duration": 34,
    "start_time": "2023-06-16T07:55:15.304Z"
   },
   {
    "duration": 5,
    "start_time": "2023-06-16T07:55:15.344Z"
   },
   {
    "duration": 14,
    "start_time": "2023-06-16T07:55:15.351Z"
   },
   {
    "duration": 59,
    "start_time": "2023-06-16T07:55:15.367Z"
   },
   {
    "duration": 59,
    "start_time": "2023-06-16T07:55:15.427Z"
   },
   {
    "duration": 39,
    "start_time": "2023-06-16T07:55:15.490Z"
   },
   {
    "duration": 23,
    "start_time": "2023-06-16T07:55:15.533Z"
   },
   {
    "duration": 10,
    "start_time": "2023-06-16T07:55:15.557Z"
   },
   {
    "duration": 6,
    "start_time": "2023-06-16T07:55:15.569Z"
   },
   {
    "duration": 12,
    "start_time": "2023-06-16T07:55:15.576Z"
   },
   {
    "duration": 12,
    "start_time": "2023-06-16T07:55:15.589Z"
   },
   {
    "duration": 40,
    "start_time": "2023-06-16T07:55:15.602Z"
   },
   {
    "duration": 22,
    "start_time": "2023-06-16T07:55:15.643Z"
   },
   {
    "duration": 21,
    "start_time": "2023-06-16T07:55:15.667Z"
   },
   {
    "duration": 43,
    "start_time": "2023-06-16T07:55:15.689Z"
   },
   {
    "duration": 12,
    "start_time": "2023-06-16T07:55:15.734Z"
   },
   {
    "duration": 42,
    "start_time": "2023-06-16T07:55:15.749Z"
   },
   {
    "duration": 28,
    "start_time": "2023-06-16T07:55:15.793Z"
   },
   {
    "duration": 81,
    "start_time": "2023-06-16T07:55:15.822Z"
   },
   {
    "duration": 52,
    "start_time": "2023-06-16T07:55:15.907Z"
   },
   {
    "duration": 28,
    "start_time": "2023-06-16T07:55:15.961Z"
   },
   {
    "duration": 29,
    "start_time": "2023-06-16T07:55:15.991Z"
   },
   {
    "duration": 32,
    "start_time": "2023-06-16T07:55:16.021Z"
   },
   {
    "duration": 23,
    "start_time": "2023-06-16T07:55:16.055Z"
   },
   {
    "duration": 13,
    "start_time": "2023-06-16T07:55:16.106Z"
   },
   {
    "duration": 21,
    "start_time": "2023-06-16T07:55:16.121Z"
   },
   {
    "duration": 507,
    "start_time": "2023-06-16T07:55:16.144Z"
   },
   {
    "duration": 9,
    "start_time": "2023-06-16T07:55:16.653Z"
   },
   {
    "duration": 272,
    "start_time": "2023-06-16T07:55:16.663Z"
   },
   {
    "duration": 5,
    "start_time": "2023-06-16T07:55:16.936Z"
   },
   {
    "duration": 7,
    "start_time": "2023-06-16T07:55:16.942Z"
   },
   {
    "duration": 12,
    "start_time": "2023-06-16T07:55:16.950Z"
   },
   {
    "duration": 277,
    "start_time": "2023-06-16T07:55:16.966Z"
   },
   {
    "duration": 7,
    "start_time": "2023-06-16T07:55:17.244Z"
   },
   {
    "duration": 274,
    "start_time": "2023-06-16T07:55:17.253Z"
   },
   {
    "duration": 5,
    "start_time": "2023-06-16T07:55:17.528Z"
   },
   {
    "duration": 18,
    "start_time": "2023-06-16T07:55:17.534Z"
   },
   {
    "duration": 16,
    "start_time": "2023-06-16T07:55:17.553Z"
   },
   {
    "duration": 321,
    "start_time": "2023-06-16T07:55:17.571Z"
   },
   {
    "duration": 5,
    "start_time": "2023-06-16T07:55:17.894Z"
   },
   {
    "duration": 243,
    "start_time": "2023-06-16T07:55:17.907Z"
   },
   {
    "duration": 4,
    "start_time": "2023-06-16T07:55:18.152Z"
   },
   {
    "duration": 5,
    "start_time": "2023-06-16T07:55:18.158Z"
   },
   {
    "duration": 15,
    "start_time": "2023-06-16T07:55:18.164Z"
   },
   {
    "duration": 246,
    "start_time": "2023-06-16T07:55:18.180Z"
   },
   {
    "duration": 10,
    "start_time": "2023-06-16T07:55:18.431Z"
   },
   {
    "duration": 308,
    "start_time": "2023-06-16T07:55:18.442Z"
   },
   {
    "duration": 15,
    "start_time": "2023-06-16T07:55:18.754Z"
   },
   {
    "duration": 8,
    "start_time": "2023-06-16T07:55:18.771Z"
   },
   {
    "duration": 12,
    "start_time": "2023-06-16T07:55:18.780Z"
   },
   {
    "duration": 12,
    "start_time": "2023-06-16T07:55:18.794Z"
   },
   {
    "duration": 26,
    "start_time": "2023-06-16T07:55:18.807Z"
   },
   {
    "duration": 13,
    "start_time": "2023-06-16T07:55:18.834Z"
   },
   {
    "duration": 32,
    "start_time": "2023-06-16T07:55:18.848Z"
   },
   {
    "duration": 40,
    "start_time": "2023-06-16T07:55:18.882Z"
   },
   {
    "duration": 29,
    "start_time": "2023-06-16T07:55:18.923Z"
   },
   {
    "duration": 188,
    "start_time": "2023-06-16T07:55:18.955Z"
   },
   {
    "duration": 16,
    "start_time": "2023-06-16T07:55:19.147Z"
   },
   {
    "duration": 168,
    "start_time": "2023-06-16T07:55:19.165Z"
   },
   {
    "duration": 26,
    "start_time": "2023-06-16T07:55:19.344Z"
   },
   {
    "duration": 7,
    "start_time": "2023-06-16T07:55:19.373Z"
   },
   {
    "duration": 22,
    "start_time": "2023-06-16T07:55:19.382Z"
   },
   {
    "duration": 28,
    "start_time": "2023-06-16T07:55:19.408Z"
   },
   {
    "duration": 218,
    "start_time": "2023-06-16T07:55:19.438Z"
   },
   {
    "duration": 313,
    "start_time": "2023-06-16T07:55:19.657Z"
   },
   {
    "duration": 5,
    "start_time": "2023-06-16T07:55:19.972Z"
   },
   {
    "duration": 25,
    "start_time": "2023-06-16T07:55:19.978Z"
   },
   {
    "duration": 20,
    "start_time": "2023-06-16T07:55:20.005Z"
   },
   {
    "duration": 25,
    "start_time": "2023-06-16T07:55:20.031Z"
   },
   {
    "duration": 36,
    "start_time": "2023-06-16T07:55:20.058Z"
   },
   {
    "duration": 46,
    "start_time": "2023-06-16T07:55:20.096Z"
   },
   {
    "duration": 70,
    "start_time": "2023-06-16T07:55:20.144Z"
   },
   {
    "duration": 29,
    "start_time": "2023-06-16T07:55:20.216Z"
   },
   {
    "duration": 228,
    "start_time": "2023-06-16T07:55:20.247Z"
   },
   {
    "duration": 7,
    "start_time": "2023-06-16T07:55:20.477Z"
   },
   {
    "duration": 37,
    "start_time": "2023-06-16T07:55:20.485Z"
   },
   {
    "duration": 47,
    "start_time": "2023-06-16T07:55:20.523Z"
   },
   {
    "duration": 22,
    "start_time": "2023-06-16T07:55:20.572Z"
   },
   {
    "duration": 19,
    "start_time": "2023-06-16T07:55:20.597Z"
   },
   {
    "duration": 239,
    "start_time": "2023-06-16T07:55:20.618Z"
   },
   {
    "duration": 6,
    "start_time": "2023-06-16T07:55:20.858Z"
   },
   {
    "duration": 37,
    "start_time": "2023-06-16T07:55:20.866Z"
   },
   {
    "duration": 22,
    "start_time": "2023-06-16T07:55:20.904Z"
   },
   {
    "duration": 417,
    "start_time": "2023-06-16T07:55:20.927Z"
   },
   {
    "duration": 15,
    "start_time": "2023-06-16T07:55:21.345Z"
   },
   {
    "duration": 27,
    "start_time": "2023-06-16T07:55:21.362Z"
   },
   {
    "duration": 62,
    "start_time": "2023-06-16T07:55:21.390Z"
   },
   {
    "duration": 15,
    "start_time": "2023-06-16T07:55:21.454Z"
   },
   {
    "duration": 408,
    "start_time": "2023-06-16T07:55:21.471Z"
   },
   {
    "duration": 186,
    "start_time": "2023-06-16T07:55:21.880Z"
   },
   {
    "duration": 181,
    "start_time": "2023-06-16T07:55:22.068Z"
   },
   {
    "duration": 836,
    "start_time": "2023-06-16T07:57:24.723Z"
   },
   {
    "duration": 81,
    "start_time": "2023-08-09T06:34:47.758Z"
   },
   {
    "duration": 10,
    "start_time": "2023-08-09T06:35:38.983Z"
   },
   {
    "duration": 1878,
    "start_time": "2023-08-09T06:37:36.078Z"
   },
   {
    "duration": 25,
    "start_time": "2023-08-09T06:37:37.959Z"
   },
   {
    "duration": 113,
    "start_time": "2023-08-09T06:37:37.987Z"
   },
   {
    "duration": 12,
    "start_time": "2023-08-09T06:37:38.104Z"
   },
   {
    "duration": 36,
    "start_time": "2023-08-09T06:37:38.119Z"
   },
   {
    "duration": 16,
    "start_time": "2023-08-09T06:37:38.158Z"
   },
   {
    "duration": 8,
    "start_time": "2023-08-09T06:37:38.176Z"
   },
   {
    "duration": 36,
    "start_time": "2023-08-09T06:37:38.186Z"
   },
   {
    "duration": 17,
    "start_time": "2023-08-09T06:37:38.225Z"
   },
   {
    "duration": 8,
    "start_time": "2023-08-09T06:37:38.246Z"
   },
   {
    "duration": 20,
    "start_time": "2023-08-09T06:37:38.256Z"
   },
   {
    "duration": 33,
    "start_time": "2023-08-09T06:37:38.278Z"
   },
   {
    "duration": 38,
    "start_time": "2023-08-09T06:37:38.314Z"
   },
   {
    "duration": 9,
    "start_time": "2023-08-09T06:37:38.355Z"
   },
   {
    "duration": 19,
    "start_time": "2023-08-09T06:37:38.366Z"
   },
   {
    "duration": 24,
    "start_time": "2023-08-09T06:37:38.387Z"
   },
   {
    "duration": 14,
    "start_time": "2023-08-09T06:37:38.413Z"
   },
   {
    "duration": 16,
    "start_time": "2023-08-09T06:37:38.429Z"
   },
   {
    "duration": 88,
    "start_time": "2023-08-09T06:37:38.446Z"
   },
   {
    "duration": 5,
    "start_time": "2023-08-09T06:37:38.537Z"
   },
   {
    "duration": 17,
    "start_time": "2023-08-09T06:37:38.544Z"
   },
   {
    "duration": 36,
    "start_time": "2023-08-09T06:37:38.563Z"
   },
   {
    "duration": 66,
    "start_time": "2023-08-09T06:37:38.602Z"
   },
   {
    "duration": 8,
    "start_time": "2023-08-09T06:37:38.671Z"
   },
   {
    "duration": 30,
    "start_time": "2023-08-09T06:37:38.682Z"
   },
   {
    "duration": 46,
    "start_time": "2023-08-09T06:37:38.714Z"
   },
   {
    "duration": 26,
    "start_time": "2023-08-09T06:37:38.762Z"
   },
   {
    "duration": 60,
    "start_time": "2023-08-09T06:37:38.793Z"
   },
   {
    "duration": 12,
    "start_time": "2023-08-09T06:37:38.856Z"
   },
   {
    "duration": 22,
    "start_time": "2023-08-09T06:37:38.870Z"
   },
   {
    "duration": 18,
    "start_time": "2023-08-09T06:37:38.895Z"
   },
   {
    "duration": 12,
    "start_time": "2023-08-09T06:37:38.915Z"
   },
   {
    "duration": 9,
    "start_time": "2023-08-09T06:37:38.929Z"
   },
   {
    "duration": 18,
    "start_time": "2023-08-09T06:37:38.940Z"
   },
   {
    "duration": 302,
    "start_time": "2023-08-09T06:37:38.962Z"
   },
   {
    "duration": 9,
    "start_time": "2023-08-09T06:37:39.267Z"
   },
   {
    "duration": 388,
    "start_time": "2023-08-09T06:37:39.278Z"
   },
   {
    "duration": 7,
    "start_time": "2023-08-09T06:37:39.668Z"
   },
   {
    "duration": 30,
    "start_time": "2023-08-09T06:37:39.677Z"
   },
   {
    "duration": 24,
    "start_time": "2023-08-09T06:37:39.708Z"
   },
   {
    "duration": 294,
    "start_time": "2023-08-09T06:37:39.733Z"
   },
   {
    "duration": 8,
    "start_time": "2023-08-09T06:37:40.029Z"
   },
   {
    "duration": 295,
    "start_time": "2023-08-09T06:37:40.041Z"
   },
   {
    "duration": 6,
    "start_time": "2023-08-09T06:37:40.338Z"
   },
   {
    "duration": 36,
    "start_time": "2023-08-09T06:37:40.346Z"
   },
   {
    "duration": 59,
    "start_time": "2023-08-09T06:37:40.384Z"
   },
   {
    "duration": 366,
    "start_time": "2023-08-09T06:37:40.445Z"
   },
   {
    "duration": 8,
    "start_time": "2023-08-09T06:37:40.813Z"
   },
   {
    "duration": 343,
    "start_time": "2023-08-09T06:37:40.822Z"
   },
   {
    "duration": 6,
    "start_time": "2023-08-09T06:37:41.168Z"
   },
   {
    "duration": 44,
    "start_time": "2023-08-09T06:37:41.177Z"
   },
   {
    "duration": 51,
    "start_time": "2023-08-09T06:37:41.224Z"
   },
   {
    "duration": 393,
    "start_time": "2023-08-09T06:37:41.277Z"
   },
   {
    "duration": 8,
    "start_time": "2023-08-09T06:37:41.673Z"
   },
   {
    "duration": 297,
    "start_time": "2023-08-09T06:37:41.684Z"
   },
   {
    "duration": 9,
    "start_time": "2023-08-09T06:37:41.984Z"
   },
   {
    "duration": 13,
    "start_time": "2023-08-09T06:37:42.011Z"
   },
   {
    "duration": 50,
    "start_time": "2023-08-09T06:37:42.026Z"
   },
   {
    "duration": 32,
    "start_time": "2023-08-09T06:37:42.078Z"
   },
   {
    "duration": 66,
    "start_time": "2023-08-09T06:37:42.115Z"
   },
   {
    "duration": 60,
    "start_time": "2023-08-09T06:37:42.183Z"
   },
   {
    "duration": 59,
    "start_time": "2023-08-09T06:37:42.245Z"
   },
   {
    "duration": 51,
    "start_time": "2023-08-09T06:37:42.306Z"
   },
   {
    "duration": 42,
    "start_time": "2023-08-09T06:37:42.359Z"
   },
   {
    "duration": 179,
    "start_time": "2023-08-09T06:37:42.403Z"
   },
   {
    "duration": 26,
    "start_time": "2023-08-09T06:37:42.584Z"
   },
   {
    "duration": 209,
    "start_time": "2023-08-09T06:37:42.613Z"
   },
   {
    "duration": 36,
    "start_time": "2023-08-09T06:37:42.824Z"
   },
   {
    "duration": 7,
    "start_time": "2023-08-09T06:37:42.862Z"
   },
   {
    "duration": 57,
    "start_time": "2023-08-09T06:37:42.870Z"
   },
   {
    "duration": 58,
    "start_time": "2023-08-09T06:37:42.929Z"
   },
   {
    "duration": 263,
    "start_time": "2023-08-09T06:37:42.990Z"
   },
   {
    "duration": 383,
    "start_time": "2023-08-09T06:37:43.255Z"
   },
   {
    "duration": 7,
    "start_time": "2023-08-09T06:37:43.639Z"
   },
   {
    "duration": 28,
    "start_time": "2023-08-09T06:37:43.648Z"
   },
   {
    "duration": 37,
    "start_time": "2023-08-09T06:37:43.678Z"
   },
   {
    "duration": 24,
    "start_time": "2023-08-09T06:37:43.718Z"
   },
   {
    "duration": 18,
    "start_time": "2023-08-09T06:37:43.744Z"
   },
   {
    "duration": 59,
    "start_time": "2023-08-09T06:37:43.764Z"
   },
   {
    "duration": 9,
    "start_time": "2023-08-09T06:37:43.826Z"
   },
   {
    "duration": 25,
    "start_time": "2023-08-09T06:37:43.837Z"
   },
   {
    "duration": 317,
    "start_time": "2023-08-09T06:37:43.871Z"
   },
   {
    "duration": 21,
    "start_time": "2023-08-09T06:37:44.190Z"
   },
   {
    "duration": 51,
    "start_time": "2023-08-09T06:37:44.212Z"
   },
   {
    "duration": 50,
    "start_time": "2023-08-09T06:37:44.266Z"
   },
   {
    "duration": 37,
    "start_time": "2023-08-09T06:37:44.321Z"
   },
   {
    "duration": 25,
    "start_time": "2023-08-09T06:37:44.361Z"
   },
   {
    "duration": 301,
    "start_time": "2023-08-09T06:37:44.388Z"
   },
   {
    "duration": 18,
    "start_time": "2023-08-09T06:37:44.691Z"
   },
   {
    "duration": 33,
    "start_time": "2023-08-09T06:37:44.711Z"
   },
   {
    "duration": 60,
    "start_time": "2023-08-09T06:37:44.746Z"
   },
   {
    "duration": 486,
    "start_time": "2023-08-09T06:37:44.810Z"
   },
   {
    "duration": 30,
    "start_time": "2023-08-09T06:37:45.300Z"
   },
   {
    "duration": 41,
    "start_time": "2023-08-09T06:37:45.333Z"
   },
   {
    "duration": 53,
    "start_time": "2023-08-09T06:37:45.377Z"
   },
   {
    "duration": 90,
    "start_time": "2023-08-09T06:37:45.432Z"
   },
   {
    "duration": 1003,
    "start_time": "2023-08-09T06:37:45.524Z"
   },
   {
    "duration": 184,
    "start_time": "2023-08-09T06:37:46.529Z"
   },
   {
    "duration": 324,
    "start_time": "2023-08-09T06:37:46.716Z"
   }
  ],
  "colab": {
   "name": "DA+. Сборный проект 1. Шаблон (1).ipynb",
   "provenance": []
  },
  "kernelspec": {
   "display_name": "Python 3 (ipykernel)",
   "language": "python",
   "name": "python3"
  },
  "language_info": {
   "codemirror_mode": {
    "name": "ipython",
    "version": 3
   },
   "file_extension": ".py",
   "mimetype": "text/x-python",
   "name": "python",
   "nbconvert_exporter": "python",
   "pygments_lexer": "ipython3",
   "version": "3.9.5"
  },
  "toc": {
   "base_numbering": 1,
   "nav_menu": {},
   "number_sections": true,
   "sideBar": true,
   "skip_h1_title": true,
   "title_cell": "Table of Contents",
   "title_sidebar": "Contents",
   "toc_cell": false,
   "toc_position": {
    "height": "calc(100% - 180px)",
    "left": "10px",
    "top": "150px",
    "width": "213px"
   },
   "toc_section_display": true,
   "toc_window_display": false
  }
 },
 "nbformat": 4,
 "nbformat_minor": 1
}
